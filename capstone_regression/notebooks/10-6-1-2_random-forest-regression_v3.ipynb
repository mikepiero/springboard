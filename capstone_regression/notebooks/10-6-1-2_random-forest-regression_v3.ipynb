{
 "cells": [
  {
   "cell_type": "markdown",
   "metadata": {},
   "source": [
    "# Capstone 1:  Exercise 10.6.1:  Part II:  v3"
   ]
  },
  {
   "cell_type": "markdown",
   "metadata": {},
   "source": [
    "# Random forest regression on Ames Housing Data"
   ]
  },
  {
   "cell_type": "markdown",
   "metadata": {},
   "source": [
    "I am continuing my work to predict the sales prices of residential homes from the Ames housing data set.  In this notebook, I will explore random forest regression and see if it beats my best prior linear regression model.\n",
    "\n",
    "Here's my approach to random forest regression\n",
    "\n",
    "* Reuse my prior cleaning, test splits, etc\n",
    "* Score a plain-vanilla baseline model\n",
    "* Tune key parameters for a best model\n",
    "* Tune off feature importance\n",
    "* Compare results of random feature models after parameter and feature tuning\n",
    "* Compare the best random forest model to my best linear regression model\n",
    "\n",
    "I will evaluate my random forest models with:\n",
    "\n",
    "* OOB:  This is an accuracy score using the out of bag samples and is comparable to R2 for linear models\n",
    "* RMSE:  This is the standard standard deviation of predicted v. observed and is more sensitive to outliers\n",
    "* MAE:  This is the mean of the absolute difference of predicted v. observed and is less sensitive to outliers\n",
    "* R2:  This indicates how well my predictors are explaining my target"
   ]
  },
  {
   "cell_type": "markdown",
   "metadata": {},
   "source": [
    "#### History\n",
    "\n",
    "* v1:  Wrote baseline notebook \n",
    "* v2:  Removed comparisons to training set.  Discussed how different params might have impacted results.  Moved the tuning estimators using OOB to appendix.  Created a prediction interval.  Compared prediction intervals across linear and rf.\n",
    "* v3:  Fixed some typos."
   ]
  },
  {
   "cell_type": "markdown",
   "metadata": {},
   "source": [
    "## Get ready"
   ]
  },
  {
   "cell_type": "markdown",
   "metadata": {},
   "source": [
    "### Set up"
   ]
  },
  {
   "cell_type": "code",
   "execution_count": 1,
   "metadata": {},
   "outputs": [],
   "source": [
    "# Import basic libraries, set some defaults\n",
    "\n",
    "import numpy as np\n",
    "from numpy.random import seed\n",
    "from numpy.random import randint\n",
    "\n",
    "import pandas as pd\n",
    "\n",
    "import matplotlib.pyplot as plt\n",
    "from matplotlib.pyplot import figure\n",
    "plt.style.use('ggplot')\n",
    "\n",
    "import seaborn as sns"
   ]
  },
  {
   "cell_type": "code",
   "execution_count": 2,
   "metadata": {},
   "outputs": [],
   "source": [
    "# Import from scikit learn\n",
    "\n",
    "# Import from tools\n",
    "from sklearn.model_selection import train_test_split\n",
    "from sklearn.model_selection import GridSearchCV\n",
    "\n",
    "# Import models\n",
    "from sklearn.ensemble import RandomForestRegressor\n",
    "\n",
    "# Import metrics\n",
    "from sklearn.metrics import r2_score\n",
    "from sklearn.metrics import mean_squared_error\n",
    "from sklearn.metrics import mean_absolute_error"
   ]
  },
  {
   "cell_type": "markdown",
   "metadata": {},
   "source": [
    "### Load data"
   ]
  },
  {
   "cell_type": "code",
   "execution_count": 3,
   "metadata": {},
   "outputs": [],
   "source": [
    "# Load the ready-for-ML data from my last notebook\n",
    "\n",
    "df_X = pd.read_pickle(\"../sb_cap1_data/df_X_prepped.pickle\")\n",
    "df_y = pd.read_pickle(\"../sb_cap1_data/df_y_prepped.pickle\")\n",
    "\n",
    "# # Check\n",
    "# df_X.head()\n",
    "# df_y.head()"
   ]
  },
  {
   "cell_type": "markdown",
   "metadata": {},
   "source": [
    "### Build scoring function"
   ]
  },
  {
   "cell_type": "code",
   "execution_count": 4,
   "metadata": {},
   "outputs": [],
   "source": [
    "# Stand up a dataframe for my results\n",
    "results_df = pd.DataFrame(columns=['model', 'y_set', 'r2', 'mse', 'rmse', 'mae', 'oob'])\n",
    "\n",
    "# Note that I also need to clear the dataframe when I debug and rerun the notebook\n",
    "results_df.drop(results_df.index, inplace=True)\n",
    "\n",
    "# # Check\n",
    "# results_df"
   ]
  },
  {
   "cell_type": "code",
   "execution_count": 5,
   "metadata": {},
   "outputs": [],
   "source": [
    "# Create a scoring function\n",
    "def score_model(results_ptr, model_str, y_comp_ptr, y_comp_str, model_ptr):\n",
    "    \n",
    "    # Point to the correct model and get name a string\n",
    "    results = results_ptr\n",
    "    results_str = model_str\n",
    "\n",
    "    # Point to the correct result set and get name a string\n",
    "    y_comp = y_comp_ptr\n",
    "    y_comp_str = y_comp_str\n",
    "\n",
    "    ## Point to the model\n",
    "    model = model_ptr\n",
    "\n",
    "    # Built the results list\n",
    "    results_list = [results_str, y_comp_str]\n",
    "\n",
    "    # Calc r-squared\n",
    "    results_r2 = r2_score(y_comp, results)\n",
    "    results_list.append(results_r2)\n",
    "\n",
    "    # Calc MSE\n",
    "    results_mse = mean_squared_error(y_comp, results)\n",
    "    results_list.append(results_mse)\n",
    "\n",
    "    # Calc RMSE\n",
    "    results_rmse = np.sqrt(results_mse)\n",
    "    results_list.append(results_rmse)\n",
    "\n",
    "    # Calc MAE\n",
    "    results_mae = mean_absolute_error(y_comp, results)\n",
    "    results_list.append(results_mae)\n",
    "\n",
    "    # Calc OOB\n",
    "    if model.oob_score:\n",
    "        results_oob = model.oob_score_\n",
    "    else:\n",
    "        results_oob = None\n",
    "    results_list.append(results_oob)\n",
    "\n",
    "    # Add to master dataframe\n",
    "    results_df.loc[len(results_df)] = results_list\n",
    "\n",
    "    return"
   ]
  },
  {
   "cell_type": "markdown",
   "metadata": {},
   "source": [
    "###  Split data with same split from linear modeling"
   ]
  },
  {
   "cell_type": "code",
   "execution_count": 6,
   "metadata": {},
   "outputs": [],
   "source": [
    "# Split into training and test sets\n",
    "X_train, X_test, y_train, y_test = train_test_split(df_X, df_y, test_size=0.25, random_state=42)"
   ]
  },
  {
   "cell_type": "markdown",
   "metadata": {},
   "source": [
    "## Build baseline model"
   ]
  },
  {
   "cell_type": "markdown",
   "metadata": {},
   "source": [
    "I will start with a most-basic random forest regressor.  \n",
    "\n",
    "In fact, I will use only two non-default parameters.\n",
    "\n",
    "* I will turn on bootstrapping in order to generate an out-of-bag score.\n",
    "* I will change the n_estimators to 1 above the mininum default of 20 to disable an annoying warning."
   ]
  },
  {
   "cell_type": "code",
   "execution_count": 7,
   "metadata": {},
   "outputs": [
    {
     "data": {
      "text/plain": [
       "RandomForestRegressor(bootstrap=True, criterion='mse', max_depth=None,\n",
       "                      max_features='auto', max_leaf_nodes=None,\n",
       "                      min_impurity_decrease=0.0, min_impurity_split=None,\n",
       "                      min_samples_leaf=1, min_samples_split=2,\n",
       "                      min_weight_fraction_leaf=0.0, n_estimators=21,\n",
       "                      n_jobs=None, oob_score=True, random_state=42, verbose=0,\n",
       "                      warm_start=False)"
      ]
     },
     "execution_count": 7,
     "metadata": {},
     "output_type": "execute_result"
    }
   ],
   "source": [
    "# Instantiate the model\n",
    "rf_bse = RandomForestRegressor(bootstrap=True,\n",
    "                               n_estimators = 21, \n",
    "                               oob_score=True,\n",
    "                               random_state = 42)\n",
    "\n",
    "# Train the model\n",
    "rf_bse.fit(X_train, y_train.values.ravel())\n",
    "\n",
    "# NOTE:  I add to add '.value.ravel()' to end of labels_train to eliminate a warning"
   ]
  },
  {
   "cell_type": "code",
   "execution_count": 8,
   "metadata": {},
   "outputs": [],
   "source": [
    "# Predict\n",
    "rf_bse_pred_test = rf_bse.predict(X_test)"
   ]
  },
  {
   "cell_type": "code",
   "execution_count": 9,
   "metadata": {},
   "outputs": [],
   "source": [
    "# Score\n",
    "score_model(rf_bse_pred_test, 'rf_bse_pred_test', y_test, 'y_test', rf_bse)"
   ]
  },
  {
   "cell_type": "code",
   "execution_count": 10,
   "metadata": {},
   "outputs": [
    {
     "data": {
      "text/html": [
       "<div>\n",
       "<style scoped>\n",
       "    .dataframe tbody tr th:only-of-type {\n",
       "        vertical-align: middle;\n",
       "    }\n",
       "\n",
       "    .dataframe tbody tr th {\n",
       "        vertical-align: top;\n",
       "    }\n",
       "\n",
       "    .dataframe thead th {\n",
       "        text-align: right;\n",
       "    }\n",
       "</style>\n",
       "<table border=\"1\" class=\"dataframe\">\n",
       "  <thead>\n",
       "    <tr style=\"text-align: right;\">\n",
       "      <th></th>\n",
       "      <th>model</th>\n",
       "      <th>y_set</th>\n",
       "      <th>r2</th>\n",
       "      <th>mse</th>\n",
       "      <th>rmse</th>\n",
       "      <th>mae</th>\n",
       "      <th>oob</th>\n",
       "    </tr>\n",
       "  </thead>\n",
       "  <tbody>\n",
       "    <tr>\n",
       "      <td>0</td>\n",
       "      <td>rf_bse_pred_test</td>\n",
       "      <td>y_test</td>\n",
       "      <td>0.835236</td>\n",
       "      <td>0.026399</td>\n",
       "      <td>0.162477</td>\n",
       "      <td>0.11504</td>\n",
       "      <td>0.802986</td>\n",
       "    </tr>\n",
       "  </tbody>\n",
       "</table>\n",
       "</div>"
      ],
      "text/plain": [
       "              model   y_set        r2       mse      rmse      mae       oob\n",
       "0  rf_bse_pred_test  y_test  0.835236  0.026399  0.162477  0.11504  0.802986"
      ]
     },
     "execution_count": 10,
     "metadata": {},
     "output_type": "execute_result"
    }
   ],
   "source": [
    "## Look at results table\n",
    "results_df[results_df['model'].str.contains('rf_bse_pred')] "
   ]
  },
  {
   "cell_type": "markdown",
   "metadata": {},
   "source": [
    "**Takeaways:** \n",
    "\n",
    "The baseline model has good performance\n",
    "\n",
    "* With OOB at 80%, it's decently accurate on out-of-bag samples\n",
    "* MAE is about .1, and RMSE is about .16, which doesn't seem too bad. And it's not surprising that RMSE is higher than MAE as the data has outliers at higher prices\n",
    "* With R2 at 83%, it's got good explanatory power"
   ]
  },
  {
   "cell_type": "code",
   "execution_count": null,
   "metadata": {},
   "outputs": [],
   "source": []
  },
  {
   "cell_type": "markdown",
   "metadata": {},
   "source": [
    "## Tune parameters"
   ]
  },
  {
   "cell_type": "markdown",
   "metadata": {},
   "source": [
    "Let's see if I can improve performance and reduce errors by tuning some parameters.\n",
    "\n",
    "Also, I'm going to tune in steps, not all at once.  Here's why.  When I first set up my grid search across my top-of-mind parameters, I got terrible computer performance.  Even after 30 minutes of compute, the notebook was still spinning.  With a bit of trial and error, I realized that tuning off the number of estimators consumed the most CPU cycles.\n",
    "\n",
    "So, now I'm going to:\n",
    "\n",
    "* First, tune the number of estimators\n",
    "* Second, tune all remaining parameters\n",
    "\n",
    "Also, I'm going to comment out some of the tuning code after it successfully completes.  This will allow me to grow (and debug!) this notebook more quickly."
   ]
  },
  {
   "cell_type": "markdown",
   "metadata": {},
   "source": [
    "### Tune on number of estimators"
   ]
  },
  {
   "cell_type": "code",
   "execution_count": 11,
   "metadata": {},
   "outputs": [],
   "source": [
    "# # Instantiate the model\n",
    "# rf_tune_1 = RandomForestRegressor(random_state = 42)\n",
    "\n",
    "# # Set up my grid of parameters\n",
    "\n",
    "# parameters = {'n_estimators': [10, 100, 1000, 10000]}\n",
    "\n",
    "# # Instantiate the gridsearch\n",
    "# rf_cv = GridSearchCV(rf_tune_1, parameters, cv=5)\n",
    "\n",
    "# # Fit the gridsearch to the test data\n",
    "# rf_cv.fit(X_train, y_train.values.ravel())\n",
    "\n",
    "# # Print results\n",
    "# print('The best parameters are {}'.format(rf_cv.best_params_))\n",
    "# print('The best score is {}'.format(rf_cv.best_score_))"
   ]
  },
  {
   "cell_type": "markdown",
   "metadata": {},
   "source": [
    "**Takeaways:**\n",
    "    \n",
    "Here are the results I got:\n",
    "\n",
    "* The best parameters are {'n_estimators': 10000}\n",
    "* The best score is 0.8249320882060633\n",
    "\n",
    "\n",
    "This leads me to conclude:\n",
    "\n",
    "* This model does better with more estimators.\n",
    "* But I'm looking for a compromise between score and performance\n",
    "* So, rather than 10,000 estimators, I'm going to use 1,000 in my best model"
   ]
  },
  {
   "cell_type": "markdown",
   "metadata": {},
   "source": [
    "### Tune on other parameters"
   ]
  },
  {
   "cell_type": "code",
   "execution_count": 12,
   "metadata": {},
   "outputs": [],
   "source": [
    "# # Instantiate the model\n",
    "# rf_tune = RandomForestRegressor(n_estimators=150,\n",
    "#                                 random_state = 42)\n",
    "\n",
    "# # Set up my grid of parameters\n",
    "# parameters = {'bootstrap': [True, False],\n",
    "#               'max_depth': [2, 25, 50],\n",
    "#               'min_samples_leaf': [2, 3, 4],\n",
    "#               'max_features' : ['log2', 'sqrt', 8, 10, 15],\n",
    "#               'min_samples_split': [2, 3, 4]\n",
    "#              }\n",
    "\n",
    "# # Instantiate the gridsearch\n",
    "# rf_cv = GridSearchCV(rf_tune, parameters, cv=5)\n",
    "\n",
    "# # Fit the gridsearch to the test data\n",
    "# rf_cv.fit(X_train, y_train.values.ravel())\n",
    "\n",
    "# # Print results\n",
    "# print('The best parameters are {}'.format(rf_cv.best_params_))\n",
    "# print('The best score is {}'.format(rf_cv.best_score_))"
   ]
  },
  {
   "cell_type": "markdown",
   "metadata": {},
   "source": [
    "**Takeaways:**\n",
    "\n",
    "Here are the results:\n",
    "\n",
    "* The best parameters are {'bootstrap': False, 'max_depth': 25, 'max_features': 10, 'min_samples_leaf': 2, 'min_samples_split': 2}\n",
    "* The best score is 0.8424799308498343\n",
    "\n",
    "This leads me to conclude:\n",
    "\n",
    "* I'll use most of these parameters in my best model.\n",
    "* It's interesting that bootstrapping costs some performance.  Aka, bootstrap=False is part of the best-performing model in this grid search.  Stil, I want to use oob_score to evaluate performance"
   ]
  },
  {
   "cell_type": "markdown",
   "metadata": {},
   "source": [
    "### Define best model"
   ]
  },
  {
   "cell_type": "code",
   "execution_count": 13,
   "metadata": {},
   "outputs": [],
   "source": [
    "# Set parameters for by best model\n",
    "BS = True\n",
    "NE = 1000\n",
    "MD = 25\n",
    "MF = 10\n",
    "MSL = 2\n",
    "MSS = 2\n",
    "OS = True\n",
    "RS = 42"
   ]
  },
  {
   "cell_type": "markdown",
   "metadata": {},
   "source": [
    "**Takeways:**\n",
    "\n",
    "To define my best model, I'm using:\n",
    "\n",
    "* bootrapping\n",
    "* 1,000 estimators (as a compromise on performance)\n",
    "* All the other best performing features\n",
    "\n",
    "Here's what I am thinking about those features:\n",
    "\n",
    "* bootstrapping:  We're giving up a bit of model performance for easier model 'management' (aka, the ability to have a score that I know and understand)\n",
    "* number of estimators:  I'm a bit surprised that more trees is better performance.  I'd have thought that all 'information' in the trees caps out after some high-number of trees.\n",
    "* max depth:  I was expecting more stump-like trees.  So, 25 seemed rather deep to me.  But maybe not give there are only 10 features.\n",
    "* max features:  I was surprised here that the answer was not 'the basic rule' of square root of total features.  And the recommended number at 2x that.\n",
    "* min leaf size:  This isn't surprising as it's as small as I permitted.\n",
    "* min sample split:  Same as min leaf size"
   ]
  },
  {
   "cell_type": "markdown",
   "metadata": {},
   "source": [
    "## Create best model"
   ]
  },
  {
   "cell_type": "code",
   "execution_count": 14,
   "metadata": {},
   "outputs": [
    {
     "data": {
      "text/plain": [
       "RandomForestRegressor(bootstrap=True, criterion='mse', max_depth=25,\n",
       "                      max_features=10, max_leaf_nodes=None,\n",
       "                      min_impurity_decrease=0.0, min_impurity_split=None,\n",
       "                      min_samples_leaf=2, min_samples_split=2,\n",
       "                      min_weight_fraction_leaf=0.0, n_estimators=1000,\n",
       "                      n_jobs=None, oob_score=True, random_state=42, verbose=0,\n",
       "                      warm_start=False)"
      ]
     },
     "execution_count": 14,
     "metadata": {},
     "output_type": "execute_result"
    }
   ],
   "source": [
    "# Instantiate the model\n",
    "rf_best = RandomForestRegressor(bootstrap=BS, \n",
    "                                max_depth=MD, \n",
    "                                max_features=MF, \n",
    "                                min_samples_leaf=MSL, \n",
    "                                min_samples_split=MSS, \n",
    "                                n_estimators=NE,\n",
    "                                oob_score=OS,\n",
    "                                random_state=RS)\n",
    "\n",
    "# Train the model\n",
    "rf_best.fit(X_train, y_train.values.ravel())                                                                                                                                       "
   ]
  },
  {
   "cell_type": "code",
   "execution_count": 15,
   "metadata": {},
   "outputs": [],
   "source": [
    "# Predict\n",
    "rf_best_pred_test = rf_best.predict(X_test)\n",
    "\n",
    "# Score\n",
    "score_model(rf_best_pred_test, 'rf_best_pred_test', y_test, 'y_test', rf_best)\n",
    "\n",
    "# # Check\n",
    "# results_df"
   ]
  },
  {
   "cell_type": "markdown",
   "metadata": {},
   "source": [
    "## Compare baseline and best"
   ]
  },
  {
   "cell_type": "code",
   "execution_count": 16,
   "metadata": {},
   "outputs": [
    {
     "data": {
      "text/html": [
       "<div>\n",
       "<style scoped>\n",
       "    .dataframe tbody tr th:only-of-type {\n",
       "        vertical-align: middle;\n",
       "    }\n",
       "\n",
       "    .dataframe tbody tr th {\n",
       "        vertical-align: top;\n",
       "    }\n",
       "\n",
       "    .dataframe thead th {\n",
       "        text-align: right;\n",
       "    }\n",
       "</style>\n",
       "<table border=\"1\" class=\"dataframe\">\n",
       "  <thead>\n",
       "    <tr style=\"text-align: right;\">\n",
       "      <th></th>\n",
       "      <th>model</th>\n",
       "      <th>y_set</th>\n",
       "      <th>r2</th>\n",
       "      <th>mse</th>\n",
       "      <th>rmse</th>\n",
       "      <th>mae</th>\n",
       "      <th>oob</th>\n",
       "    </tr>\n",
       "  </thead>\n",
       "  <tbody>\n",
       "    <tr>\n",
       "      <td>0</td>\n",
       "      <td>rf_bse_pred_test</td>\n",
       "      <td>y_test</td>\n",
       "      <td>0.835236</td>\n",
       "      <td>0.026399</td>\n",
       "      <td>0.162477</td>\n",
       "      <td>0.115040</td>\n",
       "      <td>0.802986</td>\n",
       "    </tr>\n",
       "    <tr>\n",
       "      <td>1</td>\n",
       "      <td>rf_best_pred_test</td>\n",
       "      <td>y_test</td>\n",
       "      <td>0.851354</td>\n",
       "      <td>0.023816</td>\n",
       "      <td>0.154326</td>\n",
       "      <td>0.108397</td>\n",
       "      <td>0.835432</td>\n",
       "    </tr>\n",
       "  </tbody>\n",
       "</table>\n",
       "</div>"
      ],
      "text/plain": [
       "               model   y_set        r2       mse      rmse       mae       oob\n",
       "0   rf_bse_pred_test  y_test  0.835236  0.026399  0.162477  0.115040  0.802986\n",
       "1  rf_best_pred_test  y_test  0.851354  0.023816  0.154326  0.108397  0.835432"
      ]
     },
     "execution_count": 16,
     "metadata": {},
     "output_type": "execute_result"
    }
   ],
   "source": [
    "# Look at results\n",
    "results_df"
   ]
  },
  {
   "cell_type": "markdown",
   "metadata": {},
   "source": [
    "**Takeaways:**\n",
    "\n",
    "The best model (aka, the model after my tuning above) is better than the baseline model\n",
    "\n",
    "* It's OOB score is 3% higher, at about 83%.\n",
    "* It's got lower error--with a smaller RMSE.\n",
    "* It's got more explanatory power--with higher R2 of about 2% more.\n",
    "* This isn't all that surprising; tuning made a difference!"
   ]
  },
  {
   "cell_type": "markdown",
   "metadata": {},
   "source": [
    "### Think about why these parameters might have impacted performance"
   ]
  },
  {
   "cell_type": "code",
   "execution_count": 17,
   "metadata": {},
   "outputs": [
    {
     "data": {
      "text/html": [
       "<div>\n",
       "<style scoped>\n",
       "    .dataframe tbody tr th:only-of-type {\n",
       "        vertical-align: middle;\n",
       "    }\n",
       "\n",
       "    .dataframe tbody tr th {\n",
       "        vertical-align: top;\n",
       "    }\n",
       "\n",
       "    .dataframe thead th {\n",
       "        text-align: right;\n",
       "    }\n",
       "</style>\n",
       "<table border=\"1\" class=\"dataframe\">\n",
       "  <thead>\n",
       "    <tr style=\"text-align: right;\">\n",
       "      <th></th>\n",
       "      <th>rf_bse</th>\n",
       "      <th>rf_best</th>\n",
       "    </tr>\n",
       "  </thead>\n",
       "  <tbody>\n",
       "    <tr>\n",
       "      <td>bootstrap</td>\n",
       "      <td>True</td>\n",
       "      <td>True</td>\n",
       "    </tr>\n",
       "    <tr>\n",
       "      <td>criterion</td>\n",
       "      <td>mse</td>\n",
       "      <td>mse</td>\n",
       "    </tr>\n",
       "    <tr>\n",
       "      <td>max_depth</td>\n",
       "      <td>NaN</td>\n",
       "      <td>25</td>\n",
       "    </tr>\n",
       "    <tr>\n",
       "      <td>max_features</td>\n",
       "      <td>auto</td>\n",
       "      <td>10</td>\n",
       "    </tr>\n",
       "    <tr>\n",
       "      <td>max_leaf_nodes</td>\n",
       "      <td>None</td>\n",
       "      <td>None</td>\n",
       "    </tr>\n",
       "    <tr>\n",
       "      <td>min_impurity_decrease</td>\n",
       "      <td>0</td>\n",
       "      <td>0</td>\n",
       "    </tr>\n",
       "    <tr>\n",
       "      <td>min_impurity_split</td>\n",
       "      <td>None</td>\n",
       "      <td>None</td>\n",
       "    </tr>\n",
       "    <tr>\n",
       "      <td>min_samples_leaf</td>\n",
       "      <td>1</td>\n",
       "      <td>2</td>\n",
       "    </tr>\n",
       "    <tr>\n",
       "      <td>min_samples_split</td>\n",
       "      <td>2</td>\n",
       "      <td>2</td>\n",
       "    </tr>\n",
       "    <tr>\n",
       "      <td>min_weight_fraction_leaf</td>\n",
       "      <td>0</td>\n",
       "      <td>0</td>\n",
       "    </tr>\n",
       "    <tr>\n",
       "      <td>n_estimators</td>\n",
       "      <td>21</td>\n",
       "      <td>1000</td>\n",
       "    </tr>\n",
       "    <tr>\n",
       "      <td>n_jobs</td>\n",
       "      <td>None</td>\n",
       "      <td>None</td>\n",
       "    </tr>\n",
       "    <tr>\n",
       "      <td>oob_score</td>\n",
       "      <td>True</td>\n",
       "      <td>True</td>\n",
       "    </tr>\n",
       "    <tr>\n",
       "      <td>random_state</td>\n",
       "      <td>42</td>\n",
       "      <td>42</td>\n",
       "    </tr>\n",
       "    <tr>\n",
       "      <td>verbose</td>\n",
       "      <td>0</td>\n",
       "      <td>0</td>\n",
       "    </tr>\n",
       "    <tr>\n",
       "      <td>warm_start</td>\n",
       "      <td>False</td>\n",
       "      <td>False</td>\n",
       "    </tr>\n",
       "  </tbody>\n",
       "</table>\n",
       "</div>"
      ],
      "text/plain": [
       "                         rf_bse rf_best\n",
       "bootstrap                  True    True\n",
       "criterion                   mse     mse\n",
       "max_depth                   NaN      25\n",
       "max_features               auto      10\n",
       "max_leaf_nodes             None    None\n",
       "min_impurity_decrease         0       0\n",
       "min_impurity_split         None    None\n",
       "min_samples_leaf              1       2\n",
       "min_samples_split             2       2\n",
       "min_weight_fraction_leaf      0       0\n",
       "n_estimators                 21    1000\n",
       "n_jobs                     None    None\n",
       "oob_score                  True    True\n",
       "random_state                 42      42\n",
       "verbose                       0       0\n",
       "warm_start                False   False"
      ]
     },
     "execution_count": 17,
     "metadata": {},
     "output_type": "execute_result"
    }
   ],
   "source": [
    "# List parameters of my baseline and tuned model\n",
    "rf_bse_params = rf_bse.get_params()\n",
    "rf_best_params = rf_best.get_params()\n",
    "params_df = pd.DataFrame([rf_bse_params, rf_best_params], index=['rf_bse', 'rf_best'])\n",
    "params_df.transpose()"
   ]
  },
  {
   "cell_type": "markdown",
   "metadata": {},
   "source": [
    "**Takeaways:**\n",
    "\n",
    "Here's my take on why the best parameters might have resulted in the improved performance.\n",
    "\n",
    "* The number of estimators went way up.  From about 20 to 10,000 (aka, 500x).  With a lot more trees, we're ensembling a whole different magnitude of information.\n",
    "* The number of features when down. From about 40 to 10 (aka, 1/4th).  We added (and gained from) all that variability in our trees.\n",
    "* The depth of trees and the size of leaves when down.  From unlimited depth and 1-sample leaf.  To 25-level depth and 2-sample leaves.  Our best model used more simplified trees.\n",
    "\n",
    "As I see, I magnified the 'wisdom of the crowds' aspect of this ensemble.  \n",
    "\n",
    "* I sampled a much bigger crowd (aka, estimators)\n",
    "* I ensured that they were 'less expert' (aka, constrained the three complexity)\n",
    "* (Which is where random forests get their strength's from)"
   ]
  },
  {
   "cell_type": "markdown",
   "metadata": {},
   "source": [
    "## Assess feature importance"
   ]
  },
  {
   "cell_type": "markdown",
   "metadata": {},
   "source": [
    "### Inspect feature importance scores"
   ]
  },
  {
   "cell_type": "code",
   "execution_count": 18,
   "metadata": {},
   "outputs": [],
   "source": [
    "# Create a dataframe of feature importance\n",
    "feat_df = pd.DataFrame(rf_best.feature_importances_, \n",
    "                       columns = ['importance'],\n",
    "                       index = X_train.columns\n",
    "                      )\n",
    "feat_df.sort_values(by='importance', ascending=False, inplace=True)"
   ]
  },
  {
   "cell_type": "code",
   "execution_count": 19,
   "metadata": {},
   "outputs": [
    {
     "data": {
      "image/png": "[encoded data removed]",
      "text/plain": [
       "<Figure size 864x216 with 1 Axes>"
      ]
     },
     "metadata": {
      "needs_background": "light"
     },
     "output_type": "display_data"
    }
   ],
   "source": [
    "# Graph feature importance\n",
    "g = plt.figure(figsize=(12, 3))\n",
    "g = sns.barplot(x=feat_df.index, y=feat_df['importance'])\n",
    "g = plt.xlabel(\"Features\")\n",
    "g = plt.xticks(rotation=90)\n",
    "g = plt.ylabel('Feature importance')\n",
    "g = plt.title('Features as ranked by importance')"
   ]
  },
  {
   "cell_type": "code",
   "execution_count": 20,
   "metadata": {},
   "outputs": [],
   "source": [
    "# # Look at bins with cut\n",
    "# pd.cut(feat_df['importance'], bins=4).value_counts()"
   ]
  },
  {
   "cell_type": "markdown",
   "metadata": {},
   "source": [
    "### Sort features by importance"
   ]
  },
  {
   "cell_type": "code",
   "execution_count": 21,
   "metadata": {},
   "outputs": [
    {
     "name": "stderr",
     "output_type": "stream",
     "text": [
      "/opt/anaconda3/lib/python3.7/site-packages/ipykernel_launcher.py:3: SettingWithCopyWarning: \n",
      "A value is trying to be set on a copy of a slice from a DataFrame\n",
      "\n",
      "See the caveats in the documentation: http://pandas.pydata.org/pandas-docs/stable/user_guide/indexing.html#returning-a-view-versus-a-copy\n",
      "  This is separate from the ipykernel package so we can avoid doing imports until\n",
      "/opt/anaconda3/lib/python3.7/site-packages/ipykernel_launcher.py:4: SettingWithCopyWarning: \n",
      "A value is trying to be set on a copy of a slice from a DataFrame\n",
      "\n",
      "See the caveats in the documentation: http://pandas.pydata.org/pandas-docs/stable/user_guide/indexing.html#returning-a-view-versus-a-copy\n",
      "  after removing the cwd from sys.path.\n",
      "/opt/anaconda3/lib/python3.7/site-packages/ipykernel_launcher.py:5: SettingWithCopyWarning: \n",
      "A value is trying to be set on a copy of a slice from a DataFrame\n",
      "\n",
      "See the caveats in the documentation: http://pandas.pydata.org/pandas-docs/stable/user_guide/indexing.html#returning-a-view-versus-a-copy\n",
      "  \"\"\"\n"
     ]
    }
   ],
   "source": [
    "# Adding some categories from eyeballing the graph\n",
    "feat_df['category'] = 'very_low'\n",
    "feat_df.category[feat_df['importance'] >= .001] = 'low'\n",
    "feat_df.category[feat_df['importance'] >= .05] = 'med'\n",
    "feat_df.category[feat_df['importance'] >= .1] = 'hi'"
   ]
  },
  {
   "cell_type": "code",
   "execution_count": 22,
   "metadata": {},
   "outputs": [
    {
     "data": {
      "text/html": [
       "<div>\n",
       "<style scoped>\n",
       "    .dataframe tbody tr th:only-of-type {\n",
       "        vertical-align: middle;\n",
       "    }\n",
       "\n",
       "    .dataframe tbody tr th {\n",
       "        vertical-align: top;\n",
       "    }\n",
       "\n",
       "    .dataframe thead th {\n",
       "        text-align: right;\n",
       "    }\n",
       "</style>\n",
       "<table border=\"1\" class=\"dataframe\">\n",
       "  <thead>\n",
       "    <tr style=\"text-align: right;\">\n",
       "      <th></th>\n",
       "      <th>importance</th>\n",
       "      <th>category</th>\n",
       "    </tr>\n",
       "  </thead>\n",
       "  <tbody>\n",
       "    <tr>\n",
       "      <td>OverallQual</td>\n",
       "      <td>0.329905</td>\n",
       "      <td>hi</td>\n",
       "    </tr>\n",
       "    <tr>\n",
       "      <td>1stFlrSF</td>\n",
       "      <td>0.141266</td>\n",
       "      <td>hi</td>\n",
       "    </tr>\n",
       "    <tr>\n",
       "      <td>FireplaceQu</td>\n",
       "      <td>0.112255</td>\n",
       "      <td>hi</td>\n",
       "    </tr>\n",
       "    <tr>\n",
       "      <td>BsmtFinSF1</td>\n",
       "      <td>0.072241</td>\n",
       "      <td>med</td>\n",
       "    </tr>\n",
       "    <tr>\n",
       "      <td>TotRmsAbvGrd</td>\n",
       "      <td>0.068544</td>\n",
       "      <td>med</td>\n",
       "    </tr>\n",
       "    <tr>\n",
       "      <td>OpenPorchSF</td>\n",
       "      <td>0.061950</td>\n",
       "      <td>med</td>\n",
       "    </tr>\n",
       "    <tr>\n",
       "      <td>HeatingQC</td>\n",
       "      <td>0.050300</td>\n",
       "      <td>med</td>\n",
       "    </tr>\n",
       "    <tr>\n",
       "      <td>MasVnrArea</td>\n",
       "      <td>0.032433</td>\n",
       "      <td>low</td>\n",
       "    </tr>\n",
       "    <tr>\n",
       "      <td>WoodDeckSF</td>\n",
       "      <td>0.021569</td>\n",
       "      <td>low</td>\n",
       "    </tr>\n",
       "    <tr>\n",
       "      <td>No</td>\n",
       "      <td>0.018195</td>\n",
       "      <td>low</td>\n",
       "    </tr>\n",
       "    <tr>\n",
       "      <td>Fin</td>\n",
       "      <td>0.015493</td>\n",
       "      <td>low</td>\n",
       "    </tr>\n",
       "    <tr>\n",
       "      <td>RFn</td>\n",
       "      <td>0.012836</td>\n",
       "      <td>low</td>\n",
       "    </tr>\n",
       "    <tr>\n",
       "      <td>BsmtExposure</td>\n",
       "      <td>0.012533</td>\n",
       "      <td>low</td>\n",
       "    </tr>\n",
       "    <tr>\n",
       "      <td>OldTown</td>\n",
       "      <td>0.007077</td>\n",
       "      <td>low</td>\n",
       "    </tr>\n",
       "    <tr>\n",
       "      <td>Edwards</td>\n",
       "      <td>0.005891</td>\n",
       "      <td>low</td>\n",
       "    </tr>\n",
       "    <tr>\n",
       "      <td>IDOTRR</td>\n",
       "      <td>0.005530</td>\n",
       "      <td>low</td>\n",
       "    </tr>\n",
       "    <tr>\n",
       "      <td>NoRidge</td>\n",
       "      <td>0.004691</td>\n",
       "      <td>low</td>\n",
       "    </tr>\n",
       "    <tr>\n",
       "      <td>NridgHt</td>\n",
       "      <td>0.004412</td>\n",
       "      <td>low</td>\n",
       "    </tr>\n",
       "    <tr>\n",
       "      <td>NAmes</td>\n",
       "      <td>0.004383</td>\n",
       "      <td>low</td>\n",
       "    </tr>\n",
       "    <tr>\n",
       "      <td>Somerst</td>\n",
       "      <td>0.002813</td>\n",
       "      <td>low</td>\n",
       "    </tr>\n",
       "    <tr>\n",
       "      <td>Crawfor</td>\n",
       "      <td>0.002366</td>\n",
       "      <td>low</td>\n",
       "    </tr>\n",
       "    <tr>\n",
       "      <td>CollgCr</td>\n",
       "      <td>0.001928</td>\n",
       "      <td>low</td>\n",
       "    </tr>\n",
       "    <tr>\n",
       "      <td>Gilbert</td>\n",
       "      <td>0.001724</td>\n",
       "      <td>low</td>\n",
       "    </tr>\n",
       "    <tr>\n",
       "      <td>NWAmes</td>\n",
       "      <td>0.001574</td>\n",
       "      <td>low</td>\n",
       "    </tr>\n",
       "    <tr>\n",
       "      <td>ClearCr</td>\n",
       "      <td>0.001397</td>\n",
       "      <td>low</td>\n",
       "    </tr>\n",
       "    <tr>\n",
       "      <td>BrkSide</td>\n",
       "      <td>0.001308</td>\n",
       "      <td>low</td>\n",
       "    </tr>\n",
       "    <tr>\n",
       "      <td>BrDale</td>\n",
       "      <td>0.001237</td>\n",
       "      <td>low</td>\n",
       "    </tr>\n",
       "    <tr>\n",
       "      <td>Sawyer</td>\n",
       "      <td>0.000928</td>\n",
       "      <td>very_low</td>\n",
       "    </tr>\n",
       "    <tr>\n",
       "      <td>StoneBr</td>\n",
       "      <td>0.000629</td>\n",
       "      <td>very_low</td>\n",
       "    </tr>\n",
       "    <tr>\n",
       "      <td>SWISU</td>\n",
       "      <td>0.000544</td>\n",
       "      <td>very_low</td>\n",
       "    </tr>\n",
       "    <tr>\n",
       "      <td>Timber</td>\n",
       "      <td>0.000502</td>\n",
       "      <td>very_low</td>\n",
       "    </tr>\n",
       "    <tr>\n",
       "      <td>Mitchel</td>\n",
       "      <td>0.000470</td>\n",
       "      <td>very_low</td>\n",
       "    </tr>\n",
       "    <tr>\n",
       "      <td>SawyerW</td>\n",
       "      <td>0.000432</td>\n",
       "      <td>very_low</td>\n",
       "    </tr>\n",
       "    <tr>\n",
       "      <td>MeadowV</td>\n",
       "      <td>0.000385</td>\n",
       "      <td>very_low</td>\n",
       "    </tr>\n",
       "    <tr>\n",
       "      <td>Blmngtn</td>\n",
       "      <td>0.000143</td>\n",
       "      <td>very_low</td>\n",
       "    </tr>\n",
       "    <tr>\n",
       "      <td>NPkVill</td>\n",
       "      <td>0.000115</td>\n",
       "      <td>very_low</td>\n",
       "    </tr>\n",
       "    <tr>\n",
       "      <td>Blueste</td>\n",
       "      <td>0.000000</td>\n",
       "      <td>very_low</td>\n",
       "    </tr>\n",
       "  </tbody>\n",
       "</table>\n",
       "</div>"
      ],
      "text/plain": [
       "              importance  category\n",
       "OverallQual     0.329905        hi\n",
       "1stFlrSF        0.141266        hi\n",
       "FireplaceQu     0.112255        hi\n",
       "BsmtFinSF1      0.072241       med\n",
       "TotRmsAbvGrd    0.068544       med\n",
       "OpenPorchSF     0.061950       med\n",
       "HeatingQC       0.050300       med\n",
       "MasVnrArea      0.032433       low\n",
       "WoodDeckSF      0.021569       low\n",
       "No              0.018195       low\n",
       "Fin             0.015493       low\n",
       "RFn             0.012836       low\n",
       "BsmtExposure    0.012533       low\n",
       "OldTown         0.007077       low\n",
       "Edwards         0.005891       low\n",
       "IDOTRR          0.005530       low\n",
       "NoRidge         0.004691       low\n",
       "NridgHt         0.004412       low\n",
       "NAmes           0.004383       low\n",
       "Somerst         0.002813       low\n",
       "Crawfor         0.002366       low\n",
       "CollgCr         0.001928       low\n",
       "Gilbert         0.001724       low\n",
       "NWAmes          0.001574       low\n",
       "ClearCr         0.001397       low\n",
       "BrkSide         0.001308       low\n",
       "BrDale          0.001237       low\n",
       "Sawyer          0.000928  very_low\n",
       "StoneBr         0.000629  very_low\n",
       "SWISU           0.000544  very_low\n",
       "Timber          0.000502  very_low\n",
       "Mitchel         0.000470  very_low\n",
       "SawyerW         0.000432  very_low\n",
       "MeadowV         0.000385  very_low\n",
       "Blmngtn         0.000143  very_low\n",
       "NPkVill         0.000115  very_low\n",
       "Blueste         0.000000  very_low"
      ]
     },
     "execution_count": 22,
     "metadata": {},
     "output_type": "execute_result"
    }
   ],
   "source": [
    "# Look at the table of scores\n",
    "feat_df"
   ]
  },
  {
   "cell_type": "markdown",
   "metadata": {},
   "source": [
    "**Takeways:**\n",
    "\n",
    "Here's how I sort the features:\n",
    "\n",
    "* A group of high-importance features.  The 3 above .1\n",
    "* A group of medium-importance features.  The 4 above .05\n",
    "* A group of low-importance features.  Those above .001\n",
    "* Some very-low-importance features.  Those remaining features."
   ]
  },
  {
   "cell_type": "markdown",
   "metadata": {},
   "source": [
    "### Interpret feature importance"
   ]
  },
  {
   "cell_type": "markdown",
   "metadata": {},
   "source": [
    "My high- and medium- importance features--aka, the top 7 features--are pretty much the same non-categorical features identified in my earlier analysis.\n",
    "\n",
    "* These features are 7 of the 9 non-categorical feature that I used in the analysis.\n",
    "* These features are ordered in almost the same order as their ranking by univariate R2.\n",
    "* (But they have a different order than when I looked at their Lasso coefficient).\n",
    "\n",
    "The low-importance feature are mostly the enumerated types from my non-categorical variables.\n",
    "\n",
    "* Of the 20 low-importance features, \n",
    "* Most (14) are specific neighborhoods, presumably those which led to the most information gain\n",
    "* Some (4) are categories of garage finish--the other categorical variable. \n",
    "* Again, the random forest's importance measures don't see to match the ranking by the Lasso model's coefficient.\n",
    "\n",
    "The 10 very-low important features are all of the same type.\n",
    "\n",
    "* All are one-hot-encoded neighborhoods.\n",
    "* Presumably, they all lack a lot of unique information that contributes to price.\n"
   ]
  },
  {
   "cell_type": "markdown",
   "metadata": {},
   "source": [
    "## Score best model with different sets of features\n",
    "\n",
    "Here I will score the best random forest model when using different sets of features.  I will compare a model trained on:\n",
    "\n",
    "* Only high-importance features.\n",
    "* Only high- and medium-importance features\n",
    "* Only high-, medium- and low-importance features (but not very-low importance features)\n",
    "* All features (which has already been done above)\n",
    "\n",
    "Note:  I bet there's a sklearn pipelines way to better automate this."
   ]
  },
  {
   "cell_type": "markdown",
   "metadata": {},
   "source": [
    "### Split up different combinations"
   ]
  },
  {
   "cell_type": "code",
   "execution_count": 23,
   "metadata": {},
   "outputs": [],
   "source": [
    "# Make lists of features by category\n",
    "feat_hi_ls = feat_df[feat_df['category'] == 'hi'].index.to_list()\n",
    "feat_med_ls = feat_df[feat_df['category'] == 'med'].index.to_list()\n",
    "feat_low_ls = feat_df[feat_df['category'] == 'low'].index.to_list()\n",
    "feat_vlow_ls = feat_df[feat_df['category'] == 'very_low'].index.to_list()\n",
    "\n",
    "# # Check\n",
    "# print(feat_hi_ls)\n",
    "# print(feat_med_ls)\n",
    "# print(feat_low_ls)\n",
    "# print(feat_vlow_ls)\n",
    "\n",
    "# Create training sets with only high features by dropping med, low and very low\n",
    "drop_ls = []\n",
    "drop_ls = feat_med_ls + feat_low_ls + feat_vlow_ls\n",
    "X_train_h = X_train.copy()\n",
    "X_train_h.drop(drop_ls, axis=1, inplace=True)\n",
    "X_test_h = X_test.copy()\n",
    "X_test_h.drop(drop_ls, axis=1, inplace=True)\n",
    "\n",
    "# # Check\n",
    "# print(X_train_h.columns)\n",
    "# print(X_test_h.columns)\n",
    "\n",
    "# Create training sets with high + medium features by dropping low and very low\n",
    "drop_ls = []\n",
    "drop_ls = feat_low_ls + feat_vlow_ls\n",
    "X_train_hm = X_train.copy()\n",
    "X_train_hm.drop(drop_ls, axis=1, inplace=True)\n",
    "X_test_hm = X_test.copy()\n",
    "X_test_hm.drop(drop_ls, axis=1, inplace=True)\n",
    "\n",
    "# # Check\n",
    "# print(X_train_hm.columns)\n",
    "# print(X_test_hm.columns)\n",
    "\n",
    "# Create training sets with high + medium + low features by dropping very low\n",
    "drop_ls = []\n",
    "drop_ls = feat_vlow_ls\n",
    "X_train_hml = X_train.copy()\n",
    "X_train_hml.drop(drop_ls, axis=1, inplace=True)\n",
    "X_test_hml = X_test.copy()\n",
    "X_test_hml.drop(drop_ls, axis=1, inplace=True)\n",
    "\n",
    "# # Check\n",
    "# print(X_train_hml.columns)\n",
    "# print(X_test_hml.columns)"
   ]
  },
  {
   "cell_type": "markdown",
   "metadata": {},
   "source": [
    "### Score high-importance features only"
   ]
  },
  {
   "cell_type": "code",
   "execution_count": 24,
   "metadata": {},
   "outputs": [],
   "source": [
    "# Get create, fit, score model\n",
    "\n",
    "# Instantiate the model\n",
    "rf_best_h = RandomForestRegressor(bootstrap=BS, \n",
    "                                max_depth=MD, \n",
    "                                max_features=None, \n",
    "                                min_samples_leaf=MSL, \n",
    "                                min_samples_split=MSS, \n",
    "                                n_estimators=NE,\n",
    "                                oob_score=OS,\n",
    "                                random_state=RS)\n",
    "\n",
    "# NOTE:  I chnaged max features to none (aka, total number of features)\n",
    "# as I've got less than 10 features\n",
    "\n",
    "# Train the model\n",
    "rf_best_h.fit(X_train_h, y_train.values.ravel())  \n",
    "\n",
    "# Predict with test\n",
    "rf_best_h_pred_test = rf_best_h.predict(X_test_h)\n",
    "\n",
    "# Score off test\n",
    "score_model(rf_best_h_pred_test, 'rf_best_h_pred_test', y_test, 'y_test', rf_best_h)\n",
    "\n",
    "# # Check\n",
    "# results_df"
   ]
  },
  {
   "cell_type": "markdown",
   "metadata": {},
   "source": [
    "### Sore high and medium-importance features"
   ]
  },
  {
   "cell_type": "code",
   "execution_count": 25,
   "metadata": {},
   "outputs": [],
   "source": [
    "# Get create, fit, score model\n",
    "\n",
    "# Instantiate the model\n",
    "rf_best_hm = RandomForestRegressor(bootstrap=BS, \n",
    "                                max_depth=MD, \n",
    "                                max_features=None, \n",
    "                                min_samples_leaf=MSL, \n",
    "                                min_samples_split=MSS, \n",
    "                                n_estimators=NE,\n",
    "                                oob_score=OS,\n",
    "                                random_state=RS)\n",
    "\n",
    "# NOTE:  I chnaged max features to none (aka, total number of features)\n",
    "# as I've got less than 10 features\n",
    "\n",
    "# Train the model\n",
    "rf_best_hm.fit(X_train_hm, y_train.values.ravel()) \n",
    "# Predict with test\n",
    "rf_best_hm_pred_test = rf_best_hm.predict(X_test_hm)\n",
    "\n",
    "# Score off test\n",
    "score_model(rf_best_hm_pred_test, 'rf_best_hm_pred_test', y_test, 'y_test', rf_best_hm)\n",
    "\n",
    "# # Check\n",
    "# results_df"
   ]
  },
  {
   "cell_type": "markdown",
   "metadata": {},
   "source": [
    "### Score high-, medium- and low-importance features"
   ]
  },
  {
   "cell_type": "code",
   "execution_count": 26,
   "metadata": {},
   "outputs": [],
   "source": [
    "# Get create, fit, score model with hi, med- and low- improtance fatures\n",
    "\n",
    "# Instantiate the model\n",
    "rf_best_hml = RandomForestRegressor(bootstrap=BS, \n",
    "                                max_depth=MD, \n",
    "                                max_features=MF, \n",
    "                                min_samples_leaf=MSL, \n",
    "                                min_samples_split=MSS, \n",
    "                                n_estimators=NE,\n",
    "                                oob_score=OS,\n",
    "                                random_state=RS)\n",
    "\n",
    "# NOTE:  I added back max_features=10\n",
    "# as I've got more than 10 features in total\n",
    "\n",
    "# Train the model\n",
    "rf_best_hml.fit(X_train_hml, y_train.values.ravel())\n",
    "\n",
    "# Predict with test\n",
    "rf_best_hml_pred_test = rf_best_hml.predict(X_test_hml)\n",
    "\n",
    "# Score off test\n",
    "score_model(rf_best_hml_pred_test, 'rf_best_hml_pred_test', y_test, 'y_test', rf_best_hml)\n",
    "\n",
    "# # Check\n",
    "# results_df"
   ]
  },
  {
   "cell_type": "markdown",
   "metadata": {},
   "source": [
    "### Evaluate"
   ]
  },
  {
   "cell_type": "code",
   "execution_count": 27,
   "metadata": {},
   "outputs": [
    {
     "data": {
      "text/html": [
       "<div>\n",
       "<style scoped>\n",
       "    .dataframe tbody tr th:only-of-type {\n",
       "        vertical-align: middle;\n",
       "    }\n",
       "\n",
       "    .dataframe tbody tr th {\n",
       "        vertical-align: top;\n",
       "    }\n",
       "\n",
       "    .dataframe thead th {\n",
       "        text-align: right;\n",
       "    }\n",
       "</style>\n",
       "<table border=\"1\" class=\"dataframe\">\n",
       "  <thead>\n",
       "    <tr style=\"text-align: right;\">\n",
       "      <th></th>\n",
       "      <th>model</th>\n",
       "      <th>y_set</th>\n",
       "      <th>r2</th>\n",
       "      <th>mse</th>\n",
       "      <th>rmse</th>\n",
       "      <th>mae</th>\n",
       "      <th>oob</th>\n",
       "    </tr>\n",
       "  </thead>\n",
       "  <tbody>\n",
       "    <tr>\n",
       "      <td>1</td>\n",
       "      <td>rf_best_pred_test</td>\n",
       "      <td>y_test</td>\n",
       "      <td>0.851354</td>\n",
       "      <td>0.023816</td>\n",
       "      <td>0.154326</td>\n",
       "      <td>0.108397</td>\n",
       "      <td>0.835432</td>\n",
       "    </tr>\n",
       "    <tr>\n",
       "      <td>4</td>\n",
       "      <td>rf_best_hml_pred_test</td>\n",
       "      <td>y_test</td>\n",
       "      <td>0.852903</td>\n",
       "      <td>0.023568</td>\n",
       "      <td>0.153519</td>\n",
       "      <td>0.107865</td>\n",
       "      <td>0.834815</td>\n",
       "    </tr>\n",
       "    <tr>\n",
       "      <td>3</td>\n",
       "      <td>rf_best_hm_pred_test</td>\n",
       "      <td>y_test</td>\n",
       "      <td>0.824770</td>\n",
       "      <td>0.028076</td>\n",
       "      <td>0.167558</td>\n",
       "      <td>0.120342</td>\n",
       "      <td>0.800570</td>\n",
       "    </tr>\n",
       "    <tr>\n",
       "      <td>2</td>\n",
       "      <td>rf_best_h_pred_test</td>\n",
       "      <td>y_test</td>\n",
       "      <td>0.781045</td>\n",
       "      <td>0.035081</td>\n",
       "      <td>0.187300</td>\n",
       "      <td>0.138964</td>\n",
       "      <td>0.696062</td>\n",
       "    </tr>\n",
       "  </tbody>\n",
       "</table>\n",
       "</div>"
      ],
      "text/plain": [
       "                   model   y_set        r2       mse      rmse       mae  \\\n",
       "1      rf_best_pred_test  y_test  0.851354  0.023816  0.154326  0.108397   \n",
       "4  rf_best_hml_pred_test  y_test  0.852903  0.023568  0.153519  0.107865   \n",
       "3   rf_best_hm_pred_test  y_test  0.824770  0.028076  0.167558  0.120342   \n",
       "2    rf_best_h_pred_test  y_test  0.781045  0.035081  0.187300  0.138964   \n",
       "\n",
       "        oob  \n",
       "1  0.835432  \n",
       "4  0.834815  \n",
       "3  0.800570  \n",
       "2  0.696062  "
      ]
     },
     "execution_count": 27,
     "metadata": {},
     "output_type": "execute_result"
    }
   ],
   "source": [
    "# Look at relevant part of results table\n",
    "results_df[~results_df['model'].str.contains('rf_bse_pred')].sort_values(by='oob', ascending=False)\n",
    "# results_df[~results_df['model'].str.contains('rf_bse_pred')].sort_values(by='rmse', ascending=True)\n",
    "# results_df[~results_df['model'].str.contains('rf_bse_pred')].sort_values(by='r2', ascending=False)\n",
    "# results_df[~results_df['model'].str.contains('rf_bse_pred')]"
   ]
  },
  {
   "cell_type": "markdown",
   "metadata": {},
   "source": [
    "**Takeaways:**\n",
    "\n",
    "Here's how I read the results:\n",
    "\n",
    "* The models with all features and with high-medium-low-importance features are better than the models with only high importance features and only high-and-medium-importance features.\n",
    "* The model with all features has the highest OOB score, followed closely by the model with high-medium-low features.\n",
    "* The model with high-medium-low features has the lowest RMSE and MAE, followed closely by the model with all features.\n",
    "* The model with high-medium-low features has the most explanatory power (R2), followed closely by the  model with all-features.\n",
    "\n",
    "I conclude that the best model is my model with high-medium-low-importance features.  \n",
    "\n",
    "* Basically, I'm trading a small loss on OOB score for small gain on accuracy and explanatory power, as compared to the model with all features."
   ]
  },
  {
   "cell_type": "markdown",
   "metadata": {},
   "source": [
    "#### Bottom line, I'm recommending my \"rf_best_hml\" model"
   ]
  },
  {
   "cell_type": "markdown",
   "metadata": {},
   "source": [
    "## Calc a prediction interval with best_hml model"
   ]
  },
  {
   "cell_type": "markdown",
   "metadata": {},
   "source": [
    "I want to use this model to help clients predict sales price.  To do this, I will predict a value and create a prediction interval.  I will use the same observation that I randomly picked when doing the same exercise for the linear model."
   ]
  },
  {
   "cell_type": "code",
   "execution_count": 28,
   "metadata": {},
   "outputs": [],
   "source": [
    "# Assign the index number of the observation randomly chosen in last notebook\n",
    "TEST_RAND = 215\n",
    "\n",
    "# # Check\n",
    "# X_test.iloc[TEST_RAND]"
   ]
  },
  {
   "cell_type": "code",
   "execution_count": 29,
   "metadata": {},
   "outputs": [],
   "source": [
    "# Get predicted price\n",
    "this_rf_best_hml_pred_test = rf_best_hml_pred_test[TEST_RAND]\n",
    "\n",
    "# # Check\n",
    "# this_rf_best_hml_pred_test"
   ]
  },
  {
   "cell_type": "code",
   "execution_count": 30,
   "metadata": {},
   "outputs": [],
   "source": [
    "# Get the actual sales price\n",
    "this_actual = y_test.iloc[TEST_RAND]"
   ]
  },
  {
   "cell_type": "code",
   "execution_count": 31,
   "metadata": {},
   "outputs": [],
   "source": [
    "# Get residuals\n",
    "resid = rf_best_hml_pred_test - y_test.values.ravel()\n",
    "\n",
    "# # Check\n",
    "# resid"
   ]
  },
  {
   "cell_type": "code",
   "execution_count": 32,
   "metadata": {},
   "outputs": [
    {
     "data": {
      "image/png": "[encoded data removed]",
      "text/plain": [
       "<Figure size 432x288 with 1 Axes>"
      ]
     },
     "metadata": {
      "needs_background": "light"
     },
     "output_type": "display_data"
    }
   ],
   "source": [
    "# Visualze the residuals\n",
    "sns.distplot(resid)\n",
    "plt.show()"
   ]
  },
  {
   "cell_type": "code",
   "execution_count": 33,
   "metadata": {},
   "outputs": [],
   "source": [
    "# Get quantiles\n",
    "lower_ci_quant = np.quantile(resid, 0.025)\n",
    "upper_ci_quant = np.quantile(resid, 0.975)\n",
    "\n",
    "# Convert to absolute values\n",
    "lower_ci = np.absolute(lower_ci_quant)\n",
    "upper_ci = np.absolute(upper_ci_quant)\n",
    "\n",
    "# # Check\n",
    "# print(lower_ci)\n",
    "# print(upper_ci)\n",
    "\n",
    "# Calc interval\n",
    "lower_a1 = this_rf_best_hml_pred_test - lower_ci\n",
    "upper_a1 = this_rf_best_hml_pred_test + upper_ci\n",
    "\n",
    "# # Check\n",
    "# print(lower_a1)\n",
    "# print(upper_a1)"
   ]
  },
  {
   "cell_type": "code",
   "execution_count": 34,
   "metadata": {},
   "outputs": [],
   "source": [
    "# Create dataframe with this prediction interval\n",
    "interpret_dict_1 = {'model': 'rf_best_hml',\n",
    "                    'y_test_iloc': [TEST_RAND],\n",
    "                  'pred_log_lower_ci': [lower_a1],\n",
    "                  'pred_log': [this_rf_best_hml_pred_test],\n",
    "                  'pred_log_upper_ci': [upper_a1],\n",
    "                  'pred_dollar_lower': [np.exp(lower_a1)],\n",
    "                  'pred_dollar': [np.exp(this_rf_best_hml_pred_test)],\n",
    "                  'pred_dollar_upper': [np.exp(upper_a1)],\n",
    "                  'actual_log': [this_actual[0]],\n",
    "                  'actual_dollar': [np.exp(this_actual[0])]\n",
    "                 }\n",
    "interpret_df_1 = pd.DataFrame(interpret_dict_1)\n",
    "\n",
    "# # Check\n",
    "# interpret_dict_1\n",
    "# interpret_df_1"
   ]
  },
  {
   "cell_type": "code",
   "execution_count": 35,
   "metadata": {},
   "outputs": [
    {
     "name": "stdout",
     "output_type": "stream",
     "text": [
      "The predicted price written as a natural log is 11.689\n",
      "With a 95% confidence interval between 11.402 and 11.968\n",
      "And the actual sales price as a natural log was 11.76756768334381\n",
      "\n",
      "The predicted price in dollars is 119227.10683613854\n",
      "With a 95% confidence interval between 89496.411 and 157640.641\n",
      "And the actual sales price was 129000.00000000006\n"
     ]
    }
   ],
   "source": [
    "# Print values\n",
    "print('The predicted price written as a natural log is {:.3f}'.format(this_rf_best_hml_pred_test))\n",
    "print('With a 95% confidence interval between {:.3f} and {:.3f}'.format(lower_a1, upper_a1))\n",
    "print('And the actual sales price as a natural log was {}'.format(this_actual[0]))\n",
    "print()\n",
    "print('The predicted price in dollars is {:}'.format(np.exp(this_rf_best_hml_pred_test)))\n",
    "print('With a 95% confidence interval between {:.3f} and {:.3f}'.format(np.exp(lower_a1), np.exp(upper_a1)))\n",
    "print('And the actual sales price was {}'.format(np.exp(this_actual[0])))"
   ]
  },
  {
   "cell_type": "markdown",
   "metadata": {},
   "source": [
    "**Takeaways:**\n",
    "\n",
    "In this example, our model predicted:\n",
    "\n",
    "* A value of about \\\\$120,0000 (which turned about to be within about \\\\$10,000 of the sales price).\n",
    "* A 95% confidence interval that ranged from about \\\\$90,000 to \\\\$160,000."
   ]
  },
  {
   "cell_type": "markdown",
   "metadata": {},
   "source": [
    "## Compare linear regression and random forest regression"
   ]
  },
  {
   "cell_type": "markdown",
   "metadata": {},
   "source": [
    "### Make dataframe with performance values from two models"
   ]
  },
  {
   "cell_type": "code",
   "execution_count": 36,
   "metadata": {},
   "outputs": [],
   "source": [
    "# Make a dataframe to compare final rf model and final lr model\n",
    "results_rf_final = results_df[results_df['model'].str.contains('rf_best_hml_pred')].copy()\n",
    "\n",
    "# # Check\n",
    "# results_rf_final"
   ]
  },
  {
   "cell_type": "code",
   "execution_count": 37,
   "metadata": {},
   "outputs": [],
   "source": [
    "# Load the results of my linear model\n",
    "results_lr_final = pd.read_pickle(\"../sb_cap1_data/results_lr.pickle\")\n",
    "\n",
    "# Drop the training results\n",
    "results_lr_final.drop(0, axis=0, inplace=True)\n",
    "\n",
    "# # Check\n",
    "# results_lr_final"
   ]
  },
  {
   "cell_type": "code",
   "execution_count": 38,
   "metadata": {},
   "outputs": [],
   "source": [
    "# Concat the two data frames\n",
    "results_final = pd.concat([results_lr_final, results_rf_final])\n",
    "\n",
    "# # Check\n",
    "# results_final"
   ]
  },
  {
   "cell_type": "code",
   "execution_count": 39,
   "metadata": {},
   "outputs": [],
   "source": [
    "# Calc differences\n",
    "results_diff_ls = ['difference_lin_minus_rf', 'None']\n",
    "for i in range(2, 6):\n",
    "    results_diff = results_final.iloc[0, i] - results_final.iloc[1, i]\n",
    "    results_diff_ls.append(results_diff)\n",
    "results_diff_ls.append('None')\n",
    "# results_diff_ls\n",
    "\n",
    "# Add as last row to dataframe\n",
    "results_row = len(results_final)\n",
    "results_final.loc[99] = results_diff_ls\n",
    "\n",
    "# Check\n",
    "# results_final"
   ]
  },
  {
   "cell_type": "markdown",
   "metadata": {},
   "source": [
    "### Compare performance results of two models"
   ]
  },
  {
   "cell_type": "code",
   "execution_count": 40,
   "metadata": {},
   "outputs": [
    {
     "data": {
      "text/html": [
       "<div>\n",
       "<style scoped>\n",
       "    .dataframe tbody tr th:only-of-type {\n",
       "        vertical-align: middle;\n",
       "    }\n",
       "\n",
       "    .dataframe tbody tr th {\n",
       "        vertical-align: top;\n",
       "    }\n",
       "\n",
       "    .dataframe thead th {\n",
       "        text-align: right;\n",
       "    }\n",
       "</style>\n",
       "<table border=\"1\" class=\"dataframe\">\n",
       "  <thead>\n",
       "    <tr style=\"text-align: right;\">\n",
       "      <th></th>\n",
       "      <th>model</th>\n",
       "      <th>y_set</th>\n",
       "      <th>r2</th>\n",
       "      <th>mse</th>\n",
       "      <th>rmse</th>\n",
       "      <th>mae</th>\n",
       "      <th>oob</th>\n",
       "    </tr>\n",
       "  </thead>\n",
       "  <tbody>\n",
       "    <tr>\n",
       "      <td>1</td>\n",
       "      <td>lin_norm_test</td>\n",
       "      <td>y_test</td>\n",
       "      <td>0.857840</td>\n",
       "      <td>0.022777</td>\n",
       "      <td>0.150921</td>\n",
       "      <td>0.109485</td>\n",
       "      <td>None</td>\n",
       "    </tr>\n",
       "    <tr>\n",
       "      <td>4</td>\n",
       "      <td>rf_best_hml_pred_test</td>\n",
       "      <td>y_test</td>\n",
       "      <td>0.852903</td>\n",
       "      <td>0.023568</td>\n",
       "      <td>0.153519</td>\n",
       "      <td>0.107865</td>\n",
       "      <td>0.834815</td>\n",
       "    </tr>\n",
       "    <tr>\n",
       "      <td>99</td>\n",
       "      <td>difference_lin_minus_rf</td>\n",
       "      <td>None</td>\n",
       "      <td>0.004937</td>\n",
       "      <td>-0.000791</td>\n",
       "      <td>-0.002598</td>\n",
       "      <td>0.001621</td>\n",
       "      <td>None</td>\n",
       "    </tr>\n",
       "  </tbody>\n",
       "</table>\n",
       "</div>"
      ],
      "text/plain": [
       "                      model   y_set        r2       mse      rmse       mae  \\\n",
       "1             lin_norm_test  y_test  0.857840  0.022777  0.150921  0.109485   \n",
       "4     rf_best_hml_pred_test  y_test  0.852903  0.023568  0.153519  0.107865   \n",
       "99  difference_lin_minus_rf    None  0.004937 -0.000791 -0.002598  0.001621   \n",
       "\n",
       "         oob  \n",
       "1       None  \n",
       "4   0.834815  \n",
       "99      None  "
      ]
     },
     "execution_count": 40,
     "metadata": {},
     "output_type": "execute_result"
    }
   ],
   "source": [
    "# Look at label of results\n",
    "results_final\n",
    "\n",
    "# # Look at sorted lists\n",
    "# results_final.sort_values(by='r2', ascending=False)\n",
    "# results_final.sort_values(by='rmse', ascending=True)\n",
    "# results_final.sort_values(by='mae', ascending=True)"
   ]
  },
  {
   "cell_type": "markdown",
   "metadata": {},
   "source": [
    "**Takeaways:**\n",
    "\n",
    "Here's what I see in the results:\n",
    "\n",
    "* There's no direct comparison for OOB.\n",
    "* The models are split on their errors.  Random forest (rf) has a bit better RMSE.  Linear regression (lin) has a bit better MAE.\n",
    "* Lin is a bit petter on R2.\n",
    "\n",
    "I conclude that linear regression is my best model for the bit of improvement on R2."
   ]
  },
  {
   "cell_type": "markdown",
   "metadata": {},
   "source": [
    "### Make dataframe with prediction intervals from two models"
   ]
  },
  {
   "cell_type": "code",
   "execution_count": 41,
   "metadata": {},
   "outputs": [],
   "source": [
    "# Rename dataframe with predicted values\n",
    "pred_example_rf_df = interpret_df_1\n",
    "\n",
    "# # Check\n",
    "# pred_example_rf_df"
   ]
  },
  {
   "cell_type": "code",
   "execution_count": 42,
   "metadata": {},
   "outputs": [],
   "source": [
    "# Load the prediction example from the linear model\n",
    "pred_example_lin_df = pd.read_pickle(\"../sb_cap1_data/pred_example_lin_df\")\n",
    "\n",
    "# # Check\n",
    "# pred_example_lin_df"
   ]
  },
  {
   "cell_type": "code",
   "execution_count": 43,
   "metadata": {},
   "outputs": [],
   "source": [
    "# Concat the two data frames\n",
    "pred_example_df = pd.concat([pred_example_rf_df, pred_example_lin_df])\n",
    "\n",
    "# # Check\n",
    "# pred_example_df"
   ]
  },
  {
   "cell_type": "code",
   "execution_count": 44,
   "metadata": {},
   "outputs": [],
   "source": [
    "# Calc differences between random forest adn linear\n",
    "pred_example_ls = ['diff_rf_minus_lin', '']\n",
    "for i in range(2, 8):\n",
    "    pred_example = pred_example_df.iloc[0, i] - pred_example_df.iloc[1, i]\n",
    "    pred_example_ls.append(pred_example)\n",
    "pred_example_ls.append('')\n",
    "pred_example_ls.append('')\n",
    "\n",
    "# # Check\n",
    "# pred_example_ls\n",
    "\n",
    "# Add as last row to dataframe\n",
    "pred_example_row = len(pred_example_df)\n",
    "pred_example_df.loc[99] = pred_example_ls"
   ]
  },
  {
   "cell_type": "markdown",
   "metadata": {},
   "source": [
    "### Compare prediction intervals from two models"
   ]
  },
  {
   "cell_type": "code",
   "execution_count": 45,
   "metadata": {},
   "outputs": [
    {
     "data": {
      "text/html": [
       "<div>\n",
       "<style scoped>\n",
       "    .dataframe tbody tr th:only-of-type {\n",
       "        vertical-align: middle;\n",
       "    }\n",
       "\n",
       "    .dataframe tbody tr th {\n",
       "        vertical-align: top;\n",
       "    }\n",
       "\n",
       "    .dataframe thead th {\n",
       "        text-align: right;\n",
       "    }\n",
       "</style>\n",
       "<table border=\"1\" class=\"dataframe\">\n",
       "  <thead>\n",
       "    <tr style=\"text-align: right;\">\n",
       "      <th></th>\n",
       "      <th>model</th>\n",
       "      <th>y_test_iloc</th>\n",
       "      <th>pred_log_lower_ci</th>\n",
       "      <th>pred_log</th>\n",
       "      <th>pred_log_upper_ci</th>\n",
       "      <th>pred_dollar_lower</th>\n",
       "      <th>pred_dollar</th>\n",
       "      <th>pred_dollar_upper</th>\n",
       "      <th>actual_log</th>\n",
       "      <th>actual_dollar</th>\n",
       "    </tr>\n",
       "  </thead>\n",
       "  <tbody>\n",
       "    <tr>\n",
       "      <td>0</td>\n",
       "      <td>rf_best_hml</td>\n",
       "      <td>215</td>\n",
       "      <td>11.401954</td>\n",
       "      <td>11.688785</td>\n",
       "      <td>11.968073</td>\n",
       "      <td>89496.410570</td>\n",
       "      <td>119227.106836</td>\n",
       "      <td>157640.641244</td>\n",
       "      <td>11.7676</td>\n",
       "      <td>129000</td>\n",
       "    </tr>\n",
       "    <tr>\n",
       "      <td>0</td>\n",
       "      <td>lin_norm</td>\n",
       "      <td>215</td>\n",
       "      <td>11.466699</td>\n",
       "      <td>11.725088</td>\n",
       "      <td>12.038726</td>\n",
       "      <td>95482.579935</td>\n",
       "      <td>123634.903490</td>\n",
       "      <td>169181.279259</td>\n",
       "      <td>11.7676</td>\n",
       "      <td>129000</td>\n",
       "    </tr>\n",
       "    <tr>\n",
       "      <td>99</td>\n",
       "      <td>diff_rf_minus_lin</td>\n",
       "      <td></td>\n",
       "      <td>-0.064745</td>\n",
       "      <td>-0.036303</td>\n",
       "      <td>-0.070653</td>\n",
       "      <td>-5986.169365</td>\n",
       "      <td>-4407.796653</td>\n",
       "      <td>-11540.638015</td>\n",
       "      <td></td>\n",
       "      <td></td>\n",
       "    </tr>\n",
       "  </tbody>\n",
       "</table>\n",
       "</div>"
      ],
      "text/plain": [
       "                model y_test_iloc  pred_log_lower_ci   pred_log  \\\n",
       "0         rf_best_hml         215          11.401954  11.688785   \n",
       "0            lin_norm         215          11.466699  11.725088   \n",
       "99  diff_rf_minus_lin                      -0.064745  -0.036303   \n",
       "\n",
       "    pred_log_upper_ci  pred_dollar_lower    pred_dollar  pred_dollar_upper  \\\n",
       "0           11.968073       89496.410570  119227.106836      157640.641244   \n",
       "0           12.038726       95482.579935  123634.903490      169181.279259   \n",
       "99          -0.070653       -5986.169365   -4407.796653      -11540.638015   \n",
       "\n",
       "   actual_log actual_dollar  \n",
       "0     11.7676        129000  \n",
       "0     11.7676        129000  \n",
       "99                           "
      ]
     },
     "execution_count": 45,
     "metadata": {},
     "output_type": "execute_result"
    }
   ],
   "source": [
    "# Print dataframe with prediction intervals\n",
    "pred_example_df"
   ]
  },
  {
   "cell_type": "markdown",
   "metadata": {},
   "source": [
    "**Takeaways:**\n",
    "\n",
    "The two models don't give the same prediction.  \n",
    "\n",
    "* There's a difference of about \\\\$5,000 or 4\\% between the two prediction.\n",
    "* The linear model's prediction is a bit closer to the actual value.\n",
    "\n",
    "The two models don't have the same prediction intervals.\n",
    "\n",
    "* The linear model's interval is wider.\n",
    "* The range of the linear model interval is:  \\\\$74,000.\n",
    "* The range of the random forest's interval is  about \\\\$68,000.\n",
    "\n",
    "In this specific case, neither prediction seems particularly stronger.\n",
    "\n",
    "Most importantly, this exercise of comparing one individual prediction from each model isn't all that informative.  Mainly, it's for a bit of context."
   ]
  },
  {
   "cell_type": "markdown",
   "metadata": {},
   "source": [
    "# Appendices"
   ]
  },
  {
   "cell_type": "markdown",
   "metadata": {},
   "source": [
    "## A:  Explore max features and estimators using OOB error"
   ]
  },
  {
   "cell_type": "markdown",
   "metadata": {},
   "source": [
    "In this appendix, I'm going to look at how different settings for max_features parameter and n_estimators impact OOB error.\n",
    "\n",
    "Note that this appendix is looking at a different score than that used in the grid search above.\n",
    "\n",
    "* In the section above, I used the GridSearchCV's default accuracy score.  As in the case of all regression models, this is R2.\n",
    "* In this appendix, I'm using OOB error.\n",
    "\n",
    "Also, for this section, I'm following the example in \"OOB Errors for Random Forests\" in sklearn docs."
   ]
  },
  {
   "cell_type": "markdown",
   "metadata": {},
   "source": [
    "### A1:  Collect OOB score for different max features across different number of estimators "
   ]
  },
  {
   "cell_type": "code",
   "execution_count": 46,
   "metadata": {},
   "outputs": [],
   "source": [
    "# Import a data structure\n",
    "from collections import OrderedDict\n",
    "\n",
    "# Set random state\n",
    "RANDOM_STATE = 42\n",
    "\n",
    "# Generate a binary classification dataset.\n",
    "X, y = X_train, y_train.values.ravel()\n",
    "\n",
    "# NOTE: Setting the `warm_start` construction parameter to `True` disables\n",
    "# support for parallelized ensembles but is necessary for tracking the OOB\n",
    "# error trajectory during training.\n",
    "ensemble_clfs = [\n",
    "    (\"max_features='log2'\",\n",
    "        RandomForestRegressor(warm_start=True, \n",
    "                              bootstrap=True,\n",
    "                              max_features='log2',\n",
    "                              oob_score=True,\n",
    "                              random_state=RANDOM_STATE)),\n",
    "    (\"max_features='sqrt'\",\n",
    "        RandomForestRegressor(warm_start=True, \n",
    "                              bootstrap=True,\n",
    "                              oob_score=True,\n",
    "                              max_features=\"sqrt\",\n",
    "                              random_state=RANDOM_STATE)),\n",
    "    (\"max_features='10'\",\n",
    "        RandomForestRegressor(bootstrap=True,\n",
    "                              max_features=10,\n",
    "                              oob_score=True,\n",
    "                              random_state=RANDOM_STATE,\n",
    "                              warm_start=True)),\n",
    "    (\"max_features='None'\",\n",
    "        RandomForestRegressor(warm_start=True,\n",
    "                              bootstrap=True,\n",
    "                              max_features=None,\n",
    "                              oob_score=True,\n",
    "                              random_state=RANDOM_STATE))\n",
    "]\n",
    "\n",
    "# Map a classifier name to a list of (<n_estimators>, <error rate>) pairs.\n",
    "error_rate = OrderedDict((label, []) for label, _ in ensemble_clfs)\n",
    "\n",
    "# Range of `n_estimators` values to explore.\n",
    "min_estimators = 21\n",
    "max_estimators = 150\n",
    "\n",
    "for label, clf in ensemble_clfs:\n",
    "    for i in range(min_estimators, max_estimators + 1):\n",
    "        clf.set_params(n_estimators=i)\n",
    "        clf.fit(X, y)\n",
    "\n",
    "        # Record the OOB error for each `n_estimators=i` setting.\n",
    "        oob_error = 1 - clf.oob_score_\n",
    "        error_rate[label].append((i, oob_error))"
   ]
  },
  {
   "cell_type": "markdown",
   "metadata": {},
   "source": [
    "### A2:  Visualize results"
   ]
  },
  {
   "cell_type": "code",
   "execution_count": 47,
   "metadata": {},
   "outputs": [
    {
     "data": {
      "image/png": "[encoded data removed]",
      "text/plain": [
       "<Figure size 864x216 with 1 Axes>"
      ]
     },
     "metadata": {
      "needs_background": "light"
     },
     "output_type": "display_data"
    }
   ],
   "source": [
    "# Generate the \"OOB error rate\" vs. \"n_estimators\" plot.\n",
    "_ = plt.figure(figsize=(12, 3))\n",
    "for label, clf_err in error_rate.items():\n",
    "    xs, ys = zip(*clf_err)\n",
    "    _ = plt.plot(xs, ys, label=label)\n",
    "_ = plt.xlim(min_estimators, max_estimators)\n",
    "_ = plt.xlabel(\"n_estimators\")\n",
    "_ = plt.ylabel(\"OOB error rate\")\n",
    "_ = plt.legend(loc=\"upper right\")\n",
    "plt.show()"
   ]
  },
  {
   "cell_type": "markdown",
   "metadata": {},
   "source": [
    "### A3:  Conclude"
   ]
  },
  {
   "cell_type": "code",
   "execution_count": 48,
   "metadata": {},
   "outputs": [
    {
     "name": "stdout",
     "output_type": "stream",
     "text": [
      "The max number of features is 37\n",
      "The sqrt of number of features is 6.082762530298219\n",
      "The log2 of number of features is 5.20945336562895\n"
     ]
    }
   ],
   "source": [
    "# Get a sense of key values\n",
    "z = len(X_train.columns.to_list())\n",
    "print('The max number of features is {}'.format(z))\n",
    "print('The sqrt of number of features is {}'.format(np.sqrt(z)))\n",
    "print('The log2 of number of features is {}'.format(np.log2(z)))"
   ]
  },
  {
   "cell_type": "markdown",
   "metadata": {},
   "source": [
    "**Takeaways:**\n",
    "\n",
    "This graphs shows oob error going down as the number of estimators goes up when there a limit on the number of features.  In the case of no limit on max features, the OOB error rate is higher and seems to flatten out.\n",
    "\n",
    "The results don't quite reconcile with my tuning via grid search.\n",
    "\n",
    "* Grid search is saying the accuracy score (aka, R2) is better with 10 features at 150 estimators.\n",
    "* This is saying that that OOB score is better (aka, error is less) with about 5 features (aka, sqrt) at 150 estimators.\n",
    "\n",
    "But this is consistent with the fact that R2 hasn't been the same as OOB throughout out my testing."
   ]
  },
  {
   "cell_type": "markdown",
   "metadata": {},
   "source": [
    "## B: Visualize a single tree"
   ]
  },
  {
   "cell_type": "markdown",
   "metadata": {},
   "source": [
    "I wanted to look at an example tree.  So, I found an example in a blog and got it working.  \n",
    "\n",
    "But after further expanding my main analysis, the example below stopped working.  \n",
    "\n",
    "* I assume the problem has to do with versioning of the visualization package--pydot v. pydotplus.\n",
    "* Plus this intersects with my python package management.  Aka, some are loaded by conda, some by pip.\n",
    "* Since I'd saved my results, I got what I wanted out of this appendix.  \n",
    "* And I don't see much value in solving the installation problems.  \n",
    "* In the future, I'll have to get a handle on conda environments so I can easily add (and roll back) different imports\n",
    "\n",
    "Bottom line, I'll keep my (buggy) code in place and link to my visualizations."
   ]
  },
  {
   "cell_type": "code",
   "execution_count": 49,
   "metadata": {},
   "outputs": [],
   "source": [
    "# # Import tools needed for visualization\n",
    "# from sklearn.tree import export_graphviz\n",
    "# import pydotplus"
   ]
  },
  {
   "cell_type": "code",
   "execution_count": 50,
   "metadata": {},
   "outputs": [],
   "source": [
    "# # Point towards a model\n",
    "# this_model = rf_best\n",
    "# this_model_feat_name = X_train.columns\n",
    "\n",
    "# # Get one of this model's 1000 estimators at random\n",
    "# seed(42)\n",
    "# est_rand = randint(0, 999, 1)[0]\n",
    "\n",
    "# # # Check\n",
    "# # est_rand"
   ]
  },
  {
   "cell_type": "code",
   "execution_count": 51,
   "metadata": {},
   "outputs": [],
   "source": [
    "# # Pull out one tree from the forest\n",
    "# tree = this_model.estimators_[est_rand]\n",
    "\n",
    "# # Export the image to a dot file\n",
    "# export_graphviz(tree, out_file = 'tree_all.dot', \n",
    "#                 feature_names = this_model_feat_name, \n",
    "#                 rounded = True, \n",
    "#                 precision = 1\n",
    "#                )\n",
    "\n",
    "# # Use dot file to create a graph\n",
    "# (graph, ) = pydotplus.graph_from_dot_file('tree_all.dot')\n",
    "\n",
    "# # Write graph to a png file\n",
    "# graph.write_png('../sb_cap1_data/tree_all.png')"
   ]
  },
  {
   "cell_type": "markdown",
   "metadata": {},
   "source": [
    "A full image of one tree is located in my 'data' folder as 'tree_all.png'.\n",
    "\n",
    "Here's a link to the image, which is displaying successfully on my local notebook, but not in github:\n",
    "\n",
    "![Full image of one tree](./data/tree_all.png)"
   ]
  },
  {
   "cell_type": "markdown",
   "metadata": {},
   "source": [
    "A close up of the first few nodes on that tree is located in my 'data' folder as 'tree_all_close-up.png'.\n",
    "\n",
    "Here's a link to the image, which is displaying successfully on my local notebook, but not in github:\n",
    "\n",
    "![Close up of top of earlier tree](./data/tree_all_close-up.png)"
   ]
  },
  {
   "cell_type": "markdown",
   "metadata": {},
   "source": [
    "## C: Confirm that OOB score depends on boostrap = True\n",
    "\n",
    "I don't see anything in the sk-learn documents that says I need boostrap = True to get an OOB score.\n",
    "\n",
    "But to confirm this, I will run a model with \n",
    "\n",
    "* boostrap=False\n",
    "* oob_score=True\n",
    "\n",
    "Does it work?"
   ]
  },
  {
   "cell_type": "code",
   "execution_count": 52,
   "metadata": {},
   "outputs": [],
   "source": [
    "# # Instantiate the model\n",
    "# rf_bse_append = RandomForestRegressor(bootstrap=False,\n",
    "#                                n_estimators = 21, \n",
    "#                                oob_score=True,\n",
    "#                                random_state = 42)\n",
    "\n",
    "# # Train the model\n",
    "# rf_bse_append.fit(X_train, y_train.values.ravel())\n",
    "\n",
    "\n",
    "# # Predict\n",
    "# rf_bse_append_pred_test = rf_bse.predict(X_test)\n",
    "\n",
    "\n",
    "# # Score\n",
    "# score_model(rf_bse_append_pred_test, 'rf_bse_append_pred_test', y_test, 'y_test', rf_bse_append)\n",
    "\n",
    "# ## Look at results table\n",
    "# results_df[results_df['model'].str.contains('rf_bse_pred')] "
   ]
  },
  {
   "cell_type": "markdown",
   "metadata": {},
   "source": [
    "No, it does not work.  I get this error:\n",
    "\n",
    "* ValueError: Out of bag estimation only available if bootstrap=True"
   ]
  },
  {
   "cell_type": "code",
   "execution_count": null,
   "metadata": {},
   "outputs": [],
   "source": []
  }
 ],
 "metadata": {
  "kernelspec": {
   "display_name": "Python 3",
   "language": "python",
   "name": "python3"
  },
  "language_info": {
   "codemirror_mode": {
    "name": "ipython",
    "version": 3
   },
   "file_extension": ".py",
   "mimetype": "text/x-python",
   "name": "python",
   "nbconvert_exporter": "python",
   "pygments_lexer": "ipython3",
   "version": "3.7.4"
  }
 },
 "nbformat": 4,
 "nbformat_minor": 2
}
