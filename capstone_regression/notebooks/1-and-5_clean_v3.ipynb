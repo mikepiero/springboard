{
 "cells": [
  {
   "cell_type": "markdown",
   "metadata": {},
   "source": [
    "# Capstone 1:  Exercise 5.4.5:  v3"
   ]
  },
  {
   "cell_type": "markdown",
   "metadata": {},
   "source": [
    "# Wrangle\n",
    "\n",
    "This notebook is my first look at the Ames data set.  \n",
    "\n",
    "In this notebook, I'm looking to:\n",
    "\n",
    "* Get a feel for how 'clean' the data set is\n",
    "* Do any cleaning that seems that's needed right now\n",
    "    * Fix index\n",
    "    * Fix a few dates\n",
    "* Get a handle on nulls\n",
    "    * ID them\n",
    "    * Decide if cleaning seems necessary\n",
    "    * Clean where needed"
   ]
  },
  {
   "cell_type": "markdown",
   "metadata": {},
   "source": [
    "## History\n",
    "\n",
    "* v1:  Wrote first draft\n",
    "* v2.1:  Separated out the cleaning from the analysis\n",
    "* v2.2:  Added more cleaning.  Cleaned up as per AJ suggestions\n",
    "* v3:  Did cleaning for modeling"
   ]
  },
  {
   "cell_type": "markdown",
   "metadata": {},
   "source": [
    "## Step:  Set up"
   ]
  },
  {
   "cell_type": "code",
   "execution_count": 1,
   "metadata": {},
   "outputs": [],
   "source": [
    "# Import key libraries\n",
    "import numpy as np\n",
    "import pandas as pd\n",
    "import matplotlib.pyplot as plt\n",
    "import seaborn as sns"
   ]
  },
  {
   "cell_type": "code",
   "execution_count": 2,
   "metadata": {},
   "outputs": [],
   "source": [
    "# Set default seaborn style\n",
    "sns.set()"
   ]
  },
  {
   "cell_type": "markdown",
   "metadata": {},
   "source": [
    "## Step:  Load the data"
   ]
  },
  {
   "cell_type": "code",
   "execution_count": 3,
   "metadata": {},
   "outputs": [],
   "source": [
    "df_org = pd.read_csv('data/train.csv')"
   ]
  },
  {
   "cell_type": "markdown",
   "metadata": {},
   "source": [
    "## Step:  Inspect the data"
   ]
  },
  {
   "cell_type": "code",
   "execution_count": 4,
   "metadata": {},
   "outputs": [
    {
     "data": {
      "text/plain": [
       "(1460, 81)"
      ]
     },
     "execution_count": 4,
     "metadata": {},
     "output_type": "execute_result"
    }
   ],
   "source": [
    "# Question:  What shape is the frame?\n",
    "df_org.shape"
   ]
  },
  {
   "cell_type": "code",
   "execution_count": 5,
   "metadata": {},
   "outputs": [
    {
     "data": {
      "text/html": [
       "<div>\n",
       "<style scoped>\n",
       "    .dataframe tbody tr th:only-of-type {\n",
       "        vertical-align: middle;\n",
       "    }\n",
       "\n",
       "    .dataframe tbody tr th {\n",
       "        vertical-align: top;\n",
       "    }\n",
       "\n",
       "    .dataframe thead th {\n",
       "        text-align: right;\n",
       "    }\n",
       "</style>\n",
       "<table border=\"1\" class=\"dataframe\">\n",
       "  <thead>\n",
       "    <tr style=\"text-align: right;\">\n",
       "      <th></th>\n",
       "      <th>Id</th>\n",
       "      <th>MSSubClass</th>\n",
       "      <th>MSZoning</th>\n",
       "      <th>LotFrontage</th>\n",
       "      <th>LotArea</th>\n",
       "      <th>Street</th>\n",
       "      <th>Alley</th>\n",
       "      <th>LotShape</th>\n",
       "      <th>LandContour</th>\n",
       "      <th>Utilities</th>\n",
       "      <th>...</th>\n",
       "      <th>PoolArea</th>\n",
       "      <th>PoolQC</th>\n",
       "      <th>Fence</th>\n",
       "      <th>MiscFeature</th>\n",
       "      <th>MiscVal</th>\n",
       "      <th>MoSold</th>\n",
       "      <th>YrSold</th>\n",
       "      <th>SaleType</th>\n",
       "      <th>SaleCondition</th>\n",
       "      <th>SalePrice</th>\n",
       "    </tr>\n",
       "  </thead>\n",
       "  <tbody>\n",
       "    <tr>\n",
       "      <td>0</td>\n",
       "      <td>1</td>\n",
       "      <td>60</td>\n",
       "      <td>RL</td>\n",
       "      <td>65.0</td>\n",
       "      <td>8450</td>\n",
       "      <td>Pave</td>\n",
       "      <td>NaN</td>\n",
       "      <td>Reg</td>\n",
       "      <td>Lvl</td>\n",
       "      <td>AllPub</td>\n",
       "      <td>...</td>\n",
       "      <td>0</td>\n",
       "      <td>NaN</td>\n",
       "      <td>NaN</td>\n",
       "      <td>NaN</td>\n",
       "      <td>0</td>\n",
       "      <td>2</td>\n",
       "      <td>2008</td>\n",
       "      <td>WD</td>\n",
       "      <td>Normal</td>\n",
       "      <td>208500</td>\n",
       "    </tr>\n",
       "    <tr>\n",
       "      <td>1</td>\n",
       "      <td>2</td>\n",
       "      <td>20</td>\n",
       "      <td>RL</td>\n",
       "      <td>80.0</td>\n",
       "      <td>9600</td>\n",
       "      <td>Pave</td>\n",
       "      <td>NaN</td>\n",
       "      <td>Reg</td>\n",
       "      <td>Lvl</td>\n",
       "      <td>AllPub</td>\n",
       "      <td>...</td>\n",
       "      <td>0</td>\n",
       "      <td>NaN</td>\n",
       "      <td>NaN</td>\n",
       "      <td>NaN</td>\n",
       "      <td>0</td>\n",
       "      <td>5</td>\n",
       "      <td>2007</td>\n",
       "      <td>WD</td>\n",
       "      <td>Normal</td>\n",
       "      <td>181500</td>\n",
       "    </tr>\n",
       "    <tr>\n",
       "      <td>2</td>\n",
       "      <td>3</td>\n",
       "      <td>60</td>\n",
       "      <td>RL</td>\n",
       "      <td>68.0</td>\n",
       "      <td>11250</td>\n",
       "      <td>Pave</td>\n",
       "      <td>NaN</td>\n",
       "      <td>IR1</td>\n",
       "      <td>Lvl</td>\n",
       "      <td>AllPub</td>\n",
       "      <td>...</td>\n",
       "      <td>0</td>\n",
       "      <td>NaN</td>\n",
       "      <td>NaN</td>\n",
       "      <td>NaN</td>\n",
       "      <td>0</td>\n",
       "      <td>9</td>\n",
       "      <td>2008</td>\n",
       "      <td>WD</td>\n",
       "      <td>Normal</td>\n",
       "      <td>223500</td>\n",
       "    </tr>\n",
       "    <tr>\n",
       "      <td>3</td>\n",
       "      <td>4</td>\n",
       "      <td>70</td>\n",
       "      <td>RL</td>\n",
       "      <td>60.0</td>\n",
       "      <td>9550</td>\n",
       "      <td>Pave</td>\n",
       "      <td>NaN</td>\n",
       "      <td>IR1</td>\n",
       "      <td>Lvl</td>\n",
       "      <td>AllPub</td>\n",
       "      <td>...</td>\n",
       "      <td>0</td>\n",
       "      <td>NaN</td>\n",
       "      <td>NaN</td>\n",
       "      <td>NaN</td>\n",
       "      <td>0</td>\n",
       "      <td>2</td>\n",
       "      <td>2006</td>\n",
       "      <td>WD</td>\n",
       "      <td>Abnorml</td>\n",
       "      <td>140000</td>\n",
       "    </tr>\n",
       "    <tr>\n",
       "      <td>4</td>\n",
       "      <td>5</td>\n",
       "      <td>60</td>\n",
       "      <td>RL</td>\n",
       "      <td>84.0</td>\n",
       "      <td>14260</td>\n",
       "      <td>Pave</td>\n",
       "      <td>NaN</td>\n",
       "      <td>IR1</td>\n",
       "      <td>Lvl</td>\n",
       "      <td>AllPub</td>\n",
       "      <td>...</td>\n",
       "      <td>0</td>\n",
       "      <td>NaN</td>\n",
       "      <td>NaN</td>\n",
       "      <td>NaN</td>\n",
       "      <td>0</td>\n",
       "      <td>12</td>\n",
       "      <td>2008</td>\n",
       "      <td>WD</td>\n",
       "      <td>Normal</td>\n",
       "      <td>250000</td>\n",
       "    </tr>\n",
       "  </tbody>\n",
       "</table>\n",
       "<p>5 rows × 81 columns</p>\n",
       "</div>"
      ],
      "text/plain": [
       "   Id  MSSubClass MSZoning  LotFrontage  LotArea Street Alley LotShape  \\\n",
       "0   1          60       RL         65.0     8450   Pave   NaN      Reg   \n",
       "1   2          20       RL         80.0     9600   Pave   NaN      Reg   \n",
       "2   3          60       RL         68.0    11250   Pave   NaN      IR1   \n",
       "3   4          70       RL         60.0     9550   Pave   NaN      IR1   \n",
       "4   5          60       RL         84.0    14260   Pave   NaN      IR1   \n",
       "\n",
       "  LandContour Utilities  ... PoolArea PoolQC Fence MiscFeature MiscVal MoSold  \\\n",
       "0         Lvl    AllPub  ...        0    NaN   NaN         NaN       0      2   \n",
       "1         Lvl    AllPub  ...        0    NaN   NaN         NaN       0      5   \n",
       "2         Lvl    AllPub  ...        0    NaN   NaN         NaN       0      9   \n",
       "3         Lvl    AllPub  ...        0    NaN   NaN         NaN       0      2   \n",
       "4         Lvl    AllPub  ...        0    NaN   NaN         NaN       0     12   \n",
       "\n",
       "  YrSold  SaleType  SaleCondition  SalePrice  \n",
       "0   2008        WD         Normal     208500  \n",
       "1   2007        WD         Normal     181500  \n",
       "2   2008        WD         Normal     223500  \n",
       "3   2006        WD        Abnorml     140000  \n",
       "4   2008        WD         Normal     250000  \n",
       "\n",
       "[5 rows x 81 columns]"
      ]
     },
     "execution_count": 5,
     "metadata": {},
     "output_type": "execute_result"
    }
   ],
   "source": [
    "# Question:  What does the data frame look like?\n",
    "df_org.head()"
   ]
  },
  {
   "cell_type": "code",
   "execution_count": 6,
   "metadata": {},
   "outputs": [
    {
     "name": "stdout",
     "output_type": "stream",
     "text": [
      "<class 'pandas.core.frame.DataFrame'>\n",
      "RangeIndex: 1460 entries, 0 to 1459\n",
      "Data columns (total 81 columns):\n",
      "Id               1460 non-null int64\n",
      "MSSubClass       1460 non-null int64\n",
      "MSZoning         1460 non-null object\n",
      "LotFrontage      1201 non-null float64\n",
      "LotArea          1460 non-null int64\n",
      "Street           1460 non-null object\n",
      "Alley            91 non-null object\n",
      "LotShape         1460 non-null object\n",
      "LandContour      1460 non-null object\n",
      "Utilities        1460 non-null object\n",
      "LotConfig        1460 non-null object\n",
      "LandSlope        1460 non-null object\n",
      "Neighborhood     1460 non-null object\n",
      "Condition1       1460 non-null object\n",
      "Condition2       1460 non-null object\n",
      "BldgType         1460 non-null object\n",
      "HouseStyle       1460 non-null object\n",
      "OverallQual      1460 non-null int64\n",
      "OverallCond      1460 non-null int64\n",
      "YearBuilt        1460 non-null int64\n",
      "YearRemodAdd     1460 non-null int64\n",
      "RoofStyle        1460 non-null object\n",
      "RoofMatl         1460 non-null object\n",
      "Exterior1st      1460 non-null object\n",
      "Exterior2nd      1460 non-null object\n",
      "MasVnrType       1452 non-null object\n",
      "MasVnrArea       1452 non-null float64\n",
      "ExterQual        1460 non-null object\n",
      "ExterCond        1460 non-null object\n",
      "Foundation       1460 non-null object\n",
      "BsmtQual         1423 non-null object\n",
      "BsmtCond         1423 non-null object\n",
      "BsmtExposure     1422 non-null object\n",
      "BsmtFinType1     1423 non-null object\n",
      "BsmtFinSF1       1460 non-null int64\n",
      "BsmtFinType2     1422 non-null object\n",
      "BsmtFinSF2       1460 non-null int64\n",
      "BsmtUnfSF        1460 non-null int64\n",
      "TotalBsmtSF      1460 non-null int64\n",
      "Heating          1460 non-null object\n",
      "HeatingQC        1460 non-null object\n",
      "CentralAir       1460 non-null object\n",
      "Electrical       1459 non-null object\n",
      "1stFlrSF         1460 non-null int64\n",
      "2ndFlrSF         1460 non-null int64\n",
      "LowQualFinSF     1460 non-null int64\n",
      "GrLivArea        1460 non-null int64\n",
      "BsmtFullBath     1460 non-null int64\n",
      "BsmtHalfBath     1460 non-null int64\n",
      "FullBath         1460 non-null int64\n",
      "HalfBath         1460 non-null int64\n",
      "BedroomAbvGr     1460 non-null int64\n",
      "KitchenAbvGr     1460 non-null int64\n",
      "KitchenQual      1460 non-null object\n",
      "TotRmsAbvGrd     1460 non-null int64\n",
      "Functional       1460 non-null object\n",
      "Fireplaces       1460 non-null int64\n",
      "FireplaceQu      770 non-null object\n",
      "GarageType       1379 non-null object\n",
      "GarageYrBlt      1379 non-null float64\n",
      "GarageFinish     1379 non-null object\n",
      "GarageCars       1460 non-null int64\n",
      "GarageArea       1460 non-null int64\n",
      "GarageQual       1379 non-null object\n",
      "GarageCond       1379 non-null object\n",
      "PavedDrive       1460 non-null object\n",
      "WoodDeckSF       1460 non-null int64\n",
      "OpenPorchSF      1460 non-null int64\n",
      "EnclosedPorch    1460 non-null int64\n",
      "3SsnPorch        1460 non-null int64\n",
      "ScreenPorch      1460 non-null int64\n",
      "PoolArea         1460 non-null int64\n",
      "PoolQC           7 non-null object\n",
      "Fence            281 non-null object\n",
      "MiscFeature      54 non-null object\n",
      "MiscVal          1460 non-null int64\n",
      "MoSold           1460 non-null int64\n",
      "YrSold           1460 non-null int64\n",
      "SaleType         1460 non-null object\n",
      "SaleCondition    1460 non-null object\n",
      "SalePrice        1460 non-null int64\n",
      "dtypes: float64(3), int64(35), object(43)\n",
      "memory usage: 924.0+ KB\n"
     ]
    }
   ],
   "source": [
    "# Question:  What are the columns?\n",
    "df_org.info()"
   ]
  },
  {
   "cell_type": "markdown",
   "metadata": {},
   "source": [
    "Takeaways\n",
    "\n",
    "* About 1,500 observations\n",
    "* About 80 variables + price\n",
    "* All of the columns are nicely labeled\n",
    "* There's an ID, starting at 1\n",
    "* The sales info--the dependent variable--is on the far left\n",
    "* Possible clean:  Reset index to ID:  DONE\n",
    "* There are a number of date columns\n",
    "* Possible clean:  Set date types\n",
    "* Possible clean:  Explore and fix nulls\n",
    "* Possible clean - move depdenent variables to column[0]: SKIP"
   ]
  },
  {
   "cell_type": "markdown",
   "metadata": {},
   "source": [
    "## Clean 1:  Reset index"
   ]
  },
  {
   "cell_type": "code",
   "execution_count": 7,
   "metadata": {},
   "outputs": [],
   "source": [
    "# Create a clean dataframe\n",
    "df_cln = df_org.copy()"
   ]
  },
  {
   "cell_type": "code",
   "execution_count": 8,
   "metadata": {},
   "outputs": [],
   "source": [
    "# Create an index off the 'Id' column and then drop the colum\n",
    "df_cln.set_index(df_cln.Id, inplace=True)\n",
    "df_cln.drop(columns=['Id'], inplace=True)"
   ]
  },
  {
   "cell_type": "markdown",
   "metadata": {},
   "source": [
    "## Step:  Explore types"
   ]
  },
  {
   "cell_type": "markdown",
   "metadata": {},
   "source": [
    "### What are the data types, generally? "
   ]
  },
  {
   "cell_type": "code",
   "execution_count": 9,
   "metadata": {},
   "outputs": [
    {
     "data": {
      "text/plain": [
       "[dtype('int64'), dtype('O'), dtype('float64')]"
      ]
     },
     "execution_count": 9,
     "metadata": {},
     "output_type": "execute_result"
    }
   ],
   "source": [
    "# What are the column types?\n",
    "df_org.dtypes.unique().tolist()"
   ]
  },
  {
   "cell_type": "code",
   "execution_count": 10,
   "metadata": {},
   "outputs": [
    {
     "data": {
      "text/plain": [
       "object     43\n",
       "int64      35\n",
       "float64     3\n",
       "dtype: int64"
      ]
     },
     "execution_count": 10,
     "metadata": {},
     "output_type": "execute_result"
    }
   ],
   "source": [
    "# How many of each type?\n",
    "df_org.dtypes.value_counts()"
   ]
  },
  {
   "cell_type": "markdown",
   "metadata": {},
   "source": [
    "Takeaways:\n",
    "\n",
    "* About 1/2 might be non-categorical, aka, ints and floats\n",
    "* About 1/2 might be categorical - columns of mixed types - aka, object types\n"
   ]
  },
  {
   "cell_type": "markdown",
   "metadata": {},
   "source": [
    "## Clean 2:  Dates and times\n",
    "\n",
    "\n",
    "There are a few data and time columns.\n",
    "\n",
    "But right now, they are just ints."
   ]
  },
  {
   "cell_type": "markdown",
   "metadata": {},
   "source": [
    "### Skip this for modeling\n",
    "\n",
    "For modeling, it's better to have the original int values.\n",
    "\n",
    "So skip this whole sectoin"
   ]
  },
  {
   "cell_type": "code",
   "execution_count": 11,
   "metadata": {},
   "outputs": [],
   "source": [
    "# # Get the columns with with year, yr or month in title\n",
    "# col_list = df_org.columns.tolist()\n",
    "# col_list_dates = []\n",
    "# for item in col_list:\n",
    "#     if ('year' in item.lower()) or ('yr' in item.lower()) or ('mo' in item.lower()):\n",
    "#         col_list_dates.append(item)\n",
    "# print('There are {} columns with date-like names.'.format(len(col_list_dates)))\n",
    "# print()\n",
    "# print('These columns are:  {}'.format(col_list_dates))"
   ]
  },
  {
   "cell_type": "markdown",
   "metadata": {},
   "source": [
    "Gameplan:\n",
    "\n",
    "* Convert the first three to 'year aware'\n",
    "* Create a date sold as datetime, plus a column that for year and for month that are dates"
   ]
  },
  {
   "cell_type": "code",
   "execution_count": 12,
   "metadata": {},
   "outputs": [],
   "source": [
    "# # Convert the first three to a datetime-related type\n",
    "# df_cln.YearBuilt = pd.to_datetime(df_cln.YearBuilt, format='%Y').dt.to_period('Y')\n",
    "# df_cln.YearRemodAdd = pd.to_datetime(df_cln.YearRemodAdd, format='%Y').dt.to_period('Y')\n",
    "# df_cln.GarageYrBlt = pd.to_datetime(df_cln.GarageYrBlt, format='%Y').dt.to_period('Y')"
   ]
  },
  {
   "cell_type": "code",
   "execution_count": 13,
   "metadata": {},
   "outputs": [],
   "source": [
    "# # Confirm change\n",
    "# L = ['YearBuilt', 'YearRemodAdd', 'GarageYrBlt']\n",
    "# print('The original types are: ')\n",
    "# print('{}'.format(df_org[L].dtypes))\n",
    "# print()\n",
    "# print('The clean types are: ')\n",
    "# print('{}'.format(df_cln[L].dtypes))"
   ]
  },
  {
   "cell_type": "code",
   "execution_count": 14,
   "metadata": {},
   "outputs": [],
   "source": [
    "# # Convert YrSold, MoSold\n",
    "\n",
    "# # Create a full date column, assuming 1st of month\n",
    "# df_cln['temp'] = df_cln.YrSold.astype(str) + '-' + df_cln.MoSold.astype(str) + '-01'\n",
    "# df_cln['DateSold'] = pd.to_datetime(df_cln.temp)\n",
    "# df_cln.drop(columns=['temp'], axis=1, inplace=True)\n",
    "\n",
    "# # Overwrite the year as a datetime\n",
    "# df_cln['YrSold'] = df_cln.DateSold.dt.to_period('Y')\n",
    "\n",
    "# # Create a new YrMoSold as a datetime\n",
    "# df_cln['YrMoSold'] = df_cln.DateSold.dt.to_period('M')"
   ]
  },
  {
   "cell_type": "code",
   "execution_count": 15,
   "metadata": {},
   "outputs": [],
   "source": [
    "# # Confirm change\n",
    "# L1 = ['YrSold', 'MoSold']\n",
    "# L2 = ['DateSold', 'YrSold', 'YrMoSold', 'MoSold']\n",
    "# print('The original types are: ')\n",
    "# print('{}'.format(df_org[L1].dtypes))\n",
    "# print()\n",
    "# print('The clean types are: ')\n",
    "# print('{}'.format(df_cln[L2].dtypes))\n",
    "\n",
    "# # Note:  There really isn't a'month' not attached to a year as a date."
   ]
  },
  {
   "cell_type": "markdown",
   "metadata": {},
   "source": [
    "## Step:  Explore null values"
   ]
  },
  {
   "cell_type": "markdown",
   "metadata": {},
   "source": [
    "### Are there many nulls, generally?"
   ]
  },
  {
   "cell_type": "code",
   "execution_count": 16,
   "metadata": {},
   "outputs": [
    {
     "data": {
      "text/plain": [
       "PoolQC          1453\n",
       "MiscFeature     1406\n",
       "Alley           1369\n",
       "Fence           1179\n",
       "FireplaceQu      690\n",
       "LotFrontage      259\n",
       "GarageYrBlt       81\n",
       "GarageType        81\n",
       "GarageFinish      81\n",
       "GarageQual        81\n",
       "GarageCond        81\n",
       "BsmtFinType2      38\n",
       "BsmtExposure      38\n",
       "BsmtFinType1      37\n",
       "BsmtCond          37\n",
       "BsmtQual          37\n",
       "MasVnrArea         8\n",
       "MasVnrType         8\n",
       "Electrical         1\n",
       "dtype: int64"
      ]
     },
     "execution_count": 16,
     "metadata": {},
     "output_type": "execute_result"
    }
   ],
   "source": [
    "# What columns have nulls?\n",
    "df_org_null = df_org.isnull().sum()\n",
    "df_org_null[df_org_null > 0].sort_values(ascending=False)"
   ]
  },
  {
   "cell_type": "code",
   "execution_count": 17,
   "metadata": {
    "scrolled": true
   },
   "outputs": [
    {
     "name": "stdout",
     "output_type": "stream",
     "text": [
      "            column_count\n",
      "null_count              \n",
      "0                     62\n",
      "1                      1\n",
      "8                      2\n",
      "37                     3\n",
      "38                     2\n",
      "81                     5\n",
      "259                    1\n",
      "690                    1\n",
      "1179                   1\n",
      "1369                   1\n",
      "1406                   1\n",
      "1453                   1\n"
     ]
    }
   ],
   "source": [
    "# Show the counts of columns by counts of nulls\n",
    "df_org_null_count = df_org.isnull().sum().value_counts().sort_index()\n",
    "df_org_null_count = pd.DataFrame(df_org_null_count)\n",
    "df_org_null_count.columns = ['column_count']\n",
    "df_org_null_count.index.name = 'null_count'\n",
    "print(df_org_null_count)"
   ]
  },
  {
   "cell_type": "code",
   "execution_count": 18,
   "metadata": {},
   "outputs": [
    {
     "name": "stdout",
     "output_type": "stream",
     "text": [
      "There are 81 columns in total\n",
      "\n",
      "There are 19 that have nulls\n",
      "\n",
      "Here are those columns with nulls:\n"
     ]
    },
    {
     "data": {
      "text/html": [
       "<div>\n",
       "<style scoped>\n",
       "    .dataframe tbody tr th:only-of-type {\n",
       "        vertical-align: middle;\n",
       "    }\n",
       "\n",
       "    .dataframe tbody tr th {\n",
       "        vertical-align: top;\n",
       "    }\n",
       "\n",
       "    .dataframe thead th {\n",
       "        text-align: right;\n",
       "    }\n",
       "</style>\n",
       "<table border=\"1\" class=\"dataframe\">\n",
       "  <thead>\n",
       "    <tr style=\"text-align: right;\">\n",
       "      <th></th>\n",
       "      <th>null_count</th>\n",
       "      <th>null_pct</th>\n",
       "    </tr>\n",
       "  </thead>\n",
       "  <tbody>\n",
       "    <tr>\n",
       "      <td>PoolQC</td>\n",
       "      <td>1453</td>\n",
       "      <td>99.52</td>\n",
       "    </tr>\n",
       "    <tr>\n",
       "      <td>MiscFeature</td>\n",
       "      <td>1406</td>\n",
       "      <td>96.30</td>\n",
       "    </tr>\n",
       "    <tr>\n",
       "      <td>Alley</td>\n",
       "      <td>1369</td>\n",
       "      <td>93.77</td>\n",
       "    </tr>\n",
       "    <tr>\n",
       "      <td>Fence</td>\n",
       "      <td>1179</td>\n",
       "      <td>80.75</td>\n",
       "    </tr>\n",
       "    <tr>\n",
       "      <td>FireplaceQu</td>\n",
       "      <td>690</td>\n",
       "      <td>47.26</td>\n",
       "    </tr>\n",
       "    <tr>\n",
       "      <td>LotFrontage</td>\n",
       "      <td>259</td>\n",
       "      <td>17.74</td>\n",
       "    </tr>\n",
       "    <tr>\n",
       "      <td>GarageYrBlt</td>\n",
       "      <td>81</td>\n",
       "      <td>5.55</td>\n",
       "    </tr>\n",
       "    <tr>\n",
       "      <td>GarageCond</td>\n",
       "      <td>81</td>\n",
       "      <td>5.55</td>\n",
       "    </tr>\n",
       "    <tr>\n",
       "      <td>GarageType</td>\n",
       "      <td>81</td>\n",
       "      <td>5.55</td>\n",
       "    </tr>\n",
       "    <tr>\n",
       "      <td>GarageFinish</td>\n",
       "      <td>81</td>\n",
       "      <td>5.55</td>\n",
       "    </tr>\n",
       "    <tr>\n",
       "      <td>GarageQual</td>\n",
       "      <td>81</td>\n",
       "      <td>5.55</td>\n",
       "    </tr>\n",
       "    <tr>\n",
       "      <td>BsmtFinType2</td>\n",
       "      <td>38</td>\n",
       "      <td>2.60</td>\n",
       "    </tr>\n",
       "    <tr>\n",
       "      <td>BsmtExposure</td>\n",
       "      <td>38</td>\n",
       "      <td>2.60</td>\n",
       "    </tr>\n",
       "    <tr>\n",
       "      <td>BsmtQual</td>\n",
       "      <td>37</td>\n",
       "      <td>2.53</td>\n",
       "    </tr>\n",
       "    <tr>\n",
       "      <td>BsmtCond</td>\n",
       "      <td>37</td>\n",
       "      <td>2.53</td>\n",
       "    </tr>\n",
       "    <tr>\n",
       "      <td>BsmtFinType1</td>\n",
       "      <td>37</td>\n",
       "      <td>2.53</td>\n",
       "    </tr>\n",
       "    <tr>\n",
       "      <td>MasVnrArea</td>\n",
       "      <td>8</td>\n",
       "      <td>0.55</td>\n",
       "    </tr>\n",
       "    <tr>\n",
       "      <td>MasVnrType</td>\n",
       "      <td>8</td>\n",
       "      <td>0.55</td>\n",
       "    </tr>\n",
       "    <tr>\n",
       "      <td>Electrical</td>\n",
       "      <td>1</td>\n",
       "      <td>0.07</td>\n",
       "    </tr>\n",
       "  </tbody>\n",
       "</table>\n",
       "</div>"
      ],
      "text/plain": [
       "              null_count  null_pct\n",
       "PoolQC              1453     99.52\n",
       "MiscFeature         1406     96.30\n",
       "Alley               1369     93.77\n",
       "Fence               1179     80.75\n",
       "FireplaceQu          690     47.26\n",
       "LotFrontage          259     17.74\n",
       "GarageYrBlt           81      5.55\n",
       "GarageCond            81      5.55\n",
       "GarageType            81      5.55\n",
       "GarageFinish          81      5.55\n",
       "GarageQual            81      5.55\n",
       "BsmtFinType2          38      2.60\n",
       "BsmtExposure          38      2.60\n",
       "BsmtQual              37      2.53\n",
       "BsmtCond              37      2.53\n",
       "BsmtFinType1          37      2.53\n",
       "MasVnrArea             8      0.55\n",
       "MasVnrType             8      0.55\n",
       "Electrical             1      0.07"
      ]
     },
     "execution_count": 18,
     "metadata": {},
     "output_type": "execute_result"
    }
   ],
   "source": [
    "# Make a table with colums, count of nulls and percent of nulls, dropping all the 0 nulls\n",
    "df_org_all_null = df_org.isnull().sum()\n",
    "df_org_all_null = pd.DataFrame(df_org_all_null)\n",
    "df_org_all_null.columns = ['null_count']\n",
    "df_org_all_null['null_pct'] = np.round((df_org_all_null.null_count / 1460) * 100, 2)\n",
    "df_org_all_null.sort_values(by='null_pct', ascending=False, inplace=True)\n",
    "print('There are {} columns in total'.format(len(df_org_all_null)))\n",
    "print()\n",
    "df_org_all_null_drop_zero = df_org_all_null[df_org_all_null.null_count > 0]\n",
    "print('There are 19 that have nulls'.format(len(df_org_all_null_drop_zero)))\n",
    "print()\n",
    "print('Here are those columns with nulls:')\n",
    "df_org_all_null_drop_zero"
   ]
  },
  {
   "cell_type": "code",
   "execution_count": 19,
   "metadata": {},
   "outputs": [
    {
     "data": {
      "image/png": "[encoded data removed]",
      "text/plain": [
       "<Figure size 432x288 with 1 Axes>"
      ]
     },
     "metadata": {},
     "output_type": "display_data"
    }
   ],
   "source": [
    "# Show a histogram of columns with nulls by count\n",
    "_ = plt.bar(df_org_all_null_drop_zero.index, height=df_org_all_null_drop_zero.null_pct) \n",
    "_ = plt.xlabel('Column name')\n",
    "_ = plt.ylabel('Percent of nulls')\n",
    "_ = plt.title('Perceont of nulls in columns that include nulls')\n",
    "_ = plt.xticks(rotation=90)\n",
    "_ = plt.show()"
   ]
  },
  {
   "cell_type": "markdown",
   "metadata": {},
   "source": [
    "Takeaways:\n",
    "    \n",
    "* Most--about 75%--of the columns have no nulls.  Aka, very clean data\n",
    "* There are 11 columns with more than 3% nulls (aka, 50 nulls)\n",
    "* There are 5 columns with more than 33% null (500 nulls)"
   ]
  },
  {
   "cell_type": "code",
   "execution_count": 20,
   "metadata": {},
   "outputs": [
    {
     "data": {
      "text/plain": [
       "0"
      ]
     },
     "execution_count": 20,
     "metadata": {},
     "output_type": "execute_result"
    }
   ],
   "source": [
    "# Is the dependent variable ever null?\n",
    "df_org.SalePrice.isnull().sum()"
   ]
  },
  {
   "cell_type": "markdown",
   "metadata": {},
   "source": [
    "Takeaway:\n",
    "\n",
    "* The dependent variable is not null!"
   ]
  },
  {
   "cell_type": "markdown",
   "metadata": {},
   "source": [
    "### Look at the nulls by type:  non-categorical"
   ]
  },
  {
   "cell_type": "code",
   "execution_count": 21,
   "metadata": {},
   "outputs": [],
   "source": [
    "# Filter down to non-categorical columns\n",
    "df_org_no_cat = df_org.select_dtypes(include=['int64', 'float64'])"
   ]
  },
  {
   "cell_type": "code",
   "execution_count": 22,
   "metadata": {},
   "outputs": [
    {
     "name": "stdout",
     "output_type": "stream",
     "text": [
      "There are 38 columns that are of type ints or floats\n",
      "\n",
      "There are 3 non-categorical columns that have nulls\n",
      "\n",
      "Here are those columns with nulls:\n"
     ]
    },
    {
     "data": {
      "text/html": [
       "<div>\n",
       "<style scoped>\n",
       "    .dataframe tbody tr th:only-of-type {\n",
       "        vertical-align: middle;\n",
       "    }\n",
       "\n",
       "    .dataframe tbody tr th {\n",
       "        vertical-align: top;\n",
       "    }\n",
       "\n",
       "    .dataframe thead th {\n",
       "        text-align: right;\n",
       "    }\n",
       "</style>\n",
       "<table border=\"1\" class=\"dataframe\">\n",
       "  <thead>\n",
       "    <tr style=\"text-align: right;\">\n",
       "      <th></th>\n",
       "      <th>null_count</th>\n",
       "      <th>null_pct</th>\n",
       "    </tr>\n",
       "  </thead>\n",
       "  <tbody>\n",
       "    <tr>\n",
       "      <td>LotFrontage</td>\n",
       "      <td>259</td>\n",
       "      <td>17.74</td>\n",
       "    </tr>\n",
       "    <tr>\n",
       "      <td>GarageYrBlt</td>\n",
       "      <td>81</td>\n",
       "      <td>5.55</td>\n",
       "    </tr>\n",
       "    <tr>\n",
       "      <td>MasVnrArea</td>\n",
       "      <td>8</td>\n",
       "      <td>0.55</td>\n",
       "    </tr>\n",
       "  </tbody>\n",
       "</table>\n",
       "</div>"
      ],
      "text/plain": [
       "             null_count  null_pct\n",
       "LotFrontage         259     17.74\n",
       "GarageYrBlt          81      5.55\n",
       "MasVnrArea            8      0.55"
      ]
     },
     "execution_count": 22,
     "metadata": {},
     "output_type": "execute_result"
    }
   ],
   "source": [
    "# Make a table with colums, count of nulls and percent of nulls, dropping all the 0 nulls\n",
    "df_org_no_cat_null = df_org_no_cat.isnull().sum()\n",
    "df_org_no_cat_null = pd.DataFrame(df_org_no_cat_null)\n",
    "df_org_no_cat_null.columns = ['null_count']\n",
    "df_org_no_cat_null['null_pct'] = np.round((df_org_no_cat_null.null_count / 1460) * 100, 2)\n",
    "df_org_no_cat_null.sort_values(by='null_pct', ascending=False, inplace=True)\n",
    "print('There are {} columns that are of type ints or floats'.format(len(df_org_no_cat_null)))\n",
    "print()\n",
    "df_org_no_cat_null_drop_zero = df_org_no_cat_null[df_org_no_cat_null.null_count > 0]\n",
    "print('There are {} non-categorical columns that have nulls'.format(len(df_org_no_cat_null_drop_zero)))\n",
    "print()\n",
    "print('Here are those columns with nulls:')\n",
    "df_org_no_cat_null_drop_zero"
   ]
  },
  {
   "cell_type": "markdown",
   "metadata": {},
   "source": [
    "Takeways:\n",
    "    \n",
    "* The 3 non-categorical variables with null values are ['LotFrontage', 'GarageYrBlt', 'MasVnrArea']\n",
    "* The amount of nulls are:  17%, 5% and .5% respectively\n",
    "* LATER:  Figure out how to impute the values"
   ]
  },
  {
   "cell_type": "code",
   "execution_count": 23,
   "metadata": {},
   "outputs": [
    {
     "name": "stdout",
     "output_type": "stream",
     "text": [
      "LotFrontage\n",
      "[nan]\n",
      "\n",
      "GarageYrBlt\n",
      "[nan]\n",
      "\n",
      "MasVnrArea\n",
      "[nan]\n"
     ]
    }
   ],
   "source": [
    "# Look at how the nulls are represented in these three column\n",
    "print('LotFrontage')\n",
    "print(df_org.LotFrontage[df_org.LotFrontage.isnull()].unique())\n",
    "print()\n",
    "print('GarageYrBlt')\n",
    "print(df_org.GarageYrBlt[df_org.GarageYrBlt.isnull()].unique())\n",
    "print()\n",
    "print('MasVnrArea')\n",
    "print(df_org.MasVnrArea[df_org.MasVnrArea.isnull()].unique()) "
   ]
  },
  {
   "cell_type": "markdown",
   "metadata": {},
   "source": [
    "Takeways:\n",
    "\n",
    "* If I'm using isnull, of course, the values are represented as Nan, of course.  \n",
    "* In the raw data, I think they are 'NA' as text."
   ]
  },
  {
   "cell_type": "markdown",
   "metadata": {},
   "source": [
    "### Clean 3:  Address non-categorical nulls"
   ]
  },
  {
   "cell_type": "markdown",
   "metadata": {},
   "source": [
    "#### Clean LotFrontage from null to 0\n",
    "\n",
    "* This is defined as, Linear feet of street connected to property\n",
    "* To me, it make sense to have a nan.  That is, there is no connection to the street\n",
    "* Sure, this would be an odd property.  But it could happen.\n",
    "* ALso, I don't see any 0 values in the column.  The min value is 21\n",
    "* Fix, overwrite with 0"
   ]
  },
  {
   "cell_type": "code",
   "execution_count": 24,
   "metadata": {},
   "outputs": [
    {
     "data": {
      "text/plain": [
       "259"
      ]
     },
     "execution_count": 24,
     "metadata": {},
     "output_type": "execute_result"
    }
   ],
   "source": [
    "# Count the nulls in the original data frame\n",
    "df_org.LotFrontage.isna().sum()"
   ]
  },
  {
   "cell_type": "code",
   "execution_count": 25,
   "metadata": {},
   "outputs": [
    {
     "data": {
      "text/plain": [
       "259"
      ]
     },
     "execution_count": 25,
     "metadata": {},
     "output_type": "execute_result"
    }
   ],
   "source": [
    "# Count the nulls in the original data frame\n",
    "df_cln.LotFrontage.isna().sum()"
   ]
  },
  {
   "cell_type": "code",
   "execution_count": 26,
   "metadata": {},
   "outputs": [],
   "source": [
    "# Get the ID that I'm going to clean\n",
    "check_1 = df_org.LotFrontage[df_org.LotFrontage.isna()].index.tolist()"
   ]
  },
  {
   "cell_type": "code",
   "execution_count": 27,
   "metadata": {},
   "outputs": [],
   "source": [
    "# Fill with 0\n",
    "df_cln.LotFrontage = df_cln.LotFrontage.fillna(0)"
   ]
  },
  {
   "cell_type": "code",
   "execution_count": 28,
   "metadata": {},
   "outputs": [
    {
     "name": "stdout",
     "output_type": "stream",
     "text": [
      "8 nan 0.0\n",
      "13 nan 0.0\n",
      "15 nan 0.0\n",
      "17 nan 0.0\n",
      "25 nan 0.0\n",
      "32 nan 0.0\n",
      "43 nan 0.0\n",
      "44 nan 0.0\n",
      "51 nan 0.0\n",
      "65 nan 0.0\n",
      "67 nan 0.0\n",
      "77 nan 0.0\n",
      "85 nan 0.0\n",
      "96 nan 0.0\n",
      "101 nan 0.0\n",
      "105 nan 0.0\n",
      "112 nan 0.0\n",
      "114 nan 0.0\n",
      "117 nan 0.0\n",
      "121 nan 0.0\n",
      "127 nan 0.0\n",
      "132 nan 0.0\n",
      "134 nan 0.0\n",
      "137 nan 0.0\n",
      "148 nan 0.0\n",
      "150 nan 0.0\n",
      "153 nan 0.0\n",
      "154 nan 0.0\n",
      "161 nan 0.0\n",
      "167 nan 0.0\n",
      "170 nan 0.0\n",
      "171 nan 0.0\n",
      "178 nan 0.0\n",
      "181 nan 0.0\n",
      "187 nan 0.0\n",
      "192 nan 0.0\n",
      "204 nan 0.0\n",
      "208 nan 0.0\n",
      "209 nan 0.0\n",
      "215 nan 0.0\n",
      "219 nan 0.0\n",
      "222 nan 0.0\n",
      "235 nan 0.0\n",
      "238 nan 0.0\n",
      "245 nan 0.0\n",
      "250 nan 0.0\n",
      "270 nan 0.0\n",
      "288 nan 0.0\n",
      "289 nan 0.0\n",
      "294 nan 0.0\n",
      "308 nan 0.0\n",
      "309 nan 0.0\n",
      "311 nan 0.0\n",
      "320 nan 0.0\n",
      "329 nan 0.0\n",
      "331 nan 0.0\n",
      "336 nan 0.0\n",
      "343 nan 0.0\n",
      "347 nan 0.0\n",
      "348 nan 0.0\n",
      "352 nan 0.0\n",
      "357 nan 0.0\n",
      "361 nan 0.0\n",
      "362 nan 0.0\n",
      "365 nan 0.0\n",
      "367 nan 0.0\n",
      "370 nan 0.0\n",
      "371 nan 0.0\n",
      "376 nan 0.0\n",
      "385 nan 0.0\n",
      "393 nan 0.0\n",
      "394 nan 0.0\n",
      "405 nan 0.0\n",
      "406 nan 0.0\n",
      "413 nan 0.0\n",
      "422 nan 0.0\n",
      "427 nan 0.0\n",
      "448 nan 0.0\n",
      "453 nan 0.0\n",
      "458 nan 0.0\n",
      "459 nan 0.0\n",
      "460 nan 0.0\n",
      "466 nan 0.0\n",
      "471 nan 0.0\n",
      "485 nan 0.0\n",
      "491 nan 0.0\n",
      "497 nan 0.0\n",
      "517 nan 0.0\n",
      "519 nan 0.0\n",
      "530 nan 0.0\n",
      "538 nan 0.0\n",
      "539 nan 0.0\n",
      "540 nan 0.0\n",
      "542 nan 0.0\n",
      "546 nan 0.0\n",
      "560 nan 0.0\n",
      "561 nan 0.0\n",
      "565 nan 0.0\n",
      "570 nan 0.0\n",
      "581 nan 0.0\n",
      "594 nan 0.0\n",
      "611 nan 0.0\n",
      "612 nan 0.0\n",
      "613 nan 0.0\n",
      "617 nan 0.0\n",
      "624 nan 0.0\n",
      "627 nan 0.0\n",
      "642 nan 0.0\n",
      "646 nan 0.0\n",
      "661 nan 0.0\n",
      "667 nan 0.0\n",
      "669 nan 0.0\n",
      "673 nan 0.0\n",
      "680 nan 0.0\n",
      "683 nan 0.0\n",
      "686 nan 0.0\n",
      "688 nan 0.0\n",
      "691 nan 0.0\n",
      "707 nan 0.0\n",
      "710 nan 0.0\n",
      "715 nan 0.0\n",
      "721 nan 0.0\n",
      "722 nan 0.0\n",
      "727 nan 0.0\n",
      "735 nan 0.0\n",
      "746 nan 0.0\n",
      "747 nan 0.0\n",
      "752 nan 0.0\n",
      "758 nan 0.0\n",
      "771 nan 0.0\n",
      "784 nan 0.0\n",
      "786 nan 0.0\n",
      "790 nan 0.0\n",
      "792 nan 0.0\n",
      "795 nan 0.0\n",
      "812 nan 0.0\n",
      "817 nan 0.0\n",
      "818 nan 0.0\n",
      "823 nan 0.0\n",
      "829 nan 0.0\n",
      "841 nan 0.0\n",
      "846 nan 0.0\n",
      "852 nan 0.0\n",
      "854 nan 0.0\n",
      "856 nan 0.0\n",
      "857 nan 0.0\n",
      "860 nan 0.0\n",
      "866 nan 0.0\n",
      "869 nan 0.0\n",
      "880 nan 0.0\n",
      "883 nan 0.0\n",
      "894 nan 0.0\n",
      "901 nan 0.0\n",
      "905 nan 0.0\n",
      "909 nan 0.0\n",
      "912 nan 0.0\n",
      "918 nan 0.0\n",
      "926 nan 0.0\n",
      "928 nan 0.0\n",
      "929 nan 0.0\n",
      "930 nan 0.0\n",
      "940 nan 0.0\n",
      "942 nan 0.0\n",
      "945 nan 0.0\n",
      "954 nan 0.0\n",
      "962 nan 0.0\n",
      "968 nan 0.0\n",
      "976 nan 0.0\n",
      "981 nan 0.0\n",
      "984 nan 0.0\n",
      "989 nan 0.0\n",
      "997 nan 0.0\n",
      "998 nan 0.0\n",
      "1004 nan 0.0\n",
      "1007 nan 0.0\n",
      "1018 nan 0.0\n",
      "1019 nan 0.0\n",
      "1025 nan 0.0\n",
      "1031 nan 0.0\n",
      "1033 nan 0.0\n",
      "1034 nan 0.0\n",
      "1036 nan 0.0\n",
      "1038 nan 0.0\n",
      "1042 nan 0.0\n",
      "1046 nan 0.0\n",
      "1058 nan 0.0\n",
      "1060 nan 0.0\n",
      "1065 nan 0.0\n",
      "1078 nan 0.0\n",
      "1085 nan 0.0\n",
      "1087 nan 0.0\n",
      "1098 nan 0.0\n",
      "1109 nan 0.0\n",
      "1111 nan 0.0\n",
      "1117 nan 0.0\n",
      "1123 nan 0.0\n",
      "1125 nan 0.0\n",
      "1139 nan 0.0\n",
      "1142 nan 0.0\n",
      "1144 nan 0.0\n",
      "1147 nan 0.0\n",
      "1149 nan 0.0\n",
      "1154 nan 0.0\n",
      "1155 nan 0.0\n",
      "1162 nan 0.0\n",
      "1165 nan 0.0\n",
      "1178 nan 0.0\n",
      "1181 nan 0.0\n",
      "1191 nan 0.0\n",
      "1194 nan 0.0\n",
      "1207 nan 0.0\n",
      "1214 nan 0.0\n",
      "1231 nan 0.0\n",
      "1234 nan 0.0\n",
      "1245 nan 0.0\n",
      "1248 nan 0.0\n",
      "1252 nan 0.0\n",
      "1254 nan 0.0\n",
      "1261 nan 0.0\n",
      "1263 nan 0.0\n",
      "1269 nan 0.0\n",
      "1271 nan 0.0\n",
      "1272 nan 0.0\n",
      "1273 nan 0.0\n",
      "1277 nan 0.0\n",
      "1278 nan 0.0\n",
      "1287 nan 0.0\n",
      "1288 nan 0.0\n",
      "1291 nan 0.0\n",
      "1301 nan 0.0\n",
      "1302 nan 0.0\n",
      "1310 nan 0.0\n",
      "1313 nan 0.0\n",
      "1319 nan 0.0\n",
      "1322 nan 0.0\n",
      "1343 nan 0.0\n",
      "1347 nan 0.0\n",
      "1349 nan 0.0\n",
      "1355 nan 0.0\n",
      "1357 nan 0.0\n",
      "1358 nan 0.0\n",
      "1359 nan 0.0\n",
      "1363 nan 0.0\n",
      "1366 nan 0.0\n",
      "1369 nan 0.0\n",
      "1374 nan 0.0\n",
      "1382 nan 0.0\n",
      "1384 nan 0.0\n",
      "1397 nan 0.0\n",
      "1408 nan 0.0\n",
      "1418 nan 0.0\n",
      "1420 nan 0.0\n",
      "1424 nan 0.0\n",
      "1425 nan 0.0\n",
      "1430 nan 0.0\n",
      "1432 nan 0.0\n",
      "1442 nan 0.0\n",
      "1444 nan 0.0\n",
      "1447 nan 0.0\n"
     ]
    }
   ],
   "source": [
    "# Look at the values to confirm that cleaned\n",
    "# Adjust for difference between index in origianl and index in clean\n",
    "for index_org in check_1:\n",
    "    index_cln = index_org + 1\n",
    "    print(index_cln, df_org.LotFrontage[index_org], df_cln.LotFrontage[index_cln])"
   ]
  },
  {
   "cell_type": "markdown",
   "metadata": {},
   "source": [
    "NOTE:\n",
    "\n",
    "* The index in the original isn't the same as the index in the cleaned\n",
    "* Aka, the original has index which is -1 (aka, zero based) compared to ID\n",
    "* Aka, the clean has the ID as the index"
   ]
  },
  {
   "cell_type": "markdown",
   "metadata": {},
   "source": [
    "#### Clean MasVnrArea from null to 0\n",
    "\n",
    "* This is, Masonry veneer area in square feet\n",
    "* For those with null, it looks like there's no masonry\n",
    "* But there's also values with zero.\n",
    "* Here, let's place with zero"
   ]
  },
  {
   "cell_type": "code",
   "execution_count": 29,
   "metadata": {},
   "outputs": [
    {
     "name": "stdout",
     "output_type": "stream",
     "text": [
      "235 nan 0.0\n",
      "530 nan 0.0\n",
      "651 nan 0.0\n",
      "937 nan 0.0\n",
      "974 nan 0.0\n",
      "978 nan 0.0\n",
      "1244 nan 0.0\n",
      "1279 nan 0.0\n"
     ]
    }
   ],
   "source": [
    "# Get the ID that I'm going to clean\n",
    "check_2 = df_org.MasVnrArea[df_org.MasVnrArea.isna()].index.tolist()\n",
    "\n",
    "# Fill with 0\n",
    "df_cln.MasVnrArea = df_cln.MasVnrArea.fillna(0)\n",
    "\n",
    "# Look at the values to confirm that cleaned\n",
    "# Adjust for difference between index in origianl and index in clean\n",
    "for index_org in check_2:\n",
    "    index_cln = index_org + 1\n",
    "    print(index_cln, df_org.MasVnrArea[index_org], df_cln.MasVnrArea[index_cln])"
   ]
  },
  {
   "cell_type": "markdown",
   "metadata": {},
   "source": [
    "Don't clean GarageYrBlt, keep as null\n",
    "\n",
    "* This column is, year garage was built\n",
    "* I've already converted this to a date time type\n",
    "* This represents homes without garages\n",
    "* These should be kept as nan\n",
    "* Unless a specific model can't deal with the nan"
   ]
  },
  {
   "cell_type": "markdown",
   "metadata": {},
   "source": [
    "### Look at the nulls by types:  categorical"
   ]
  },
  {
   "cell_type": "code",
   "execution_count": 30,
   "metadata": {},
   "outputs": [],
   "source": [
    "# Filter down to non-categorical columns\n",
    "df_org_cat = df_org.select_dtypes(include=['object'])"
   ]
  },
  {
   "cell_type": "code",
   "execution_count": 31,
   "metadata": {},
   "outputs": [
    {
     "name": "stdout",
     "output_type": "stream",
     "text": [
      "There are 43 columns of type object\n",
      "\n",
      "There are 16 non-categorical columns with nulls\n",
      "\n",
      "Here are the non-categorical columns with nulls:\n"
     ]
    },
    {
     "data": {
      "text/html": [
       "<div>\n",
       "<style scoped>\n",
       "    .dataframe tbody tr th:only-of-type {\n",
       "        vertical-align: middle;\n",
       "    }\n",
       "\n",
       "    .dataframe tbody tr th {\n",
       "        vertical-align: top;\n",
       "    }\n",
       "\n",
       "    .dataframe thead th {\n",
       "        text-align: right;\n",
       "    }\n",
       "</style>\n",
       "<table border=\"1\" class=\"dataframe\">\n",
       "  <thead>\n",
       "    <tr style=\"text-align: right;\">\n",
       "      <th></th>\n",
       "      <th>null_count</th>\n",
       "      <th>null_pct</th>\n",
       "    </tr>\n",
       "  </thead>\n",
       "  <tbody>\n",
       "    <tr>\n",
       "      <td>PoolQC</td>\n",
       "      <td>1453</td>\n",
       "      <td>99.52</td>\n",
       "    </tr>\n",
       "    <tr>\n",
       "      <td>MiscFeature</td>\n",
       "      <td>1406</td>\n",
       "      <td>96.30</td>\n",
       "    </tr>\n",
       "    <tr>\n",
       "      <td>Alley</td>\n",
       "      <td>1369</td>\n",
       "      <td>93.77</td>\n",
       "    </tr>\n",
       "    <tr>\n",
       "      <td>Fence</td>\n",
       "      <td>1179</td>\n",
       "      <td>80.75</td>\n",
       "    </tr>\n",
       "    <tr>\n",
       "      <td>FireplaceQu</td>\n",
       "      <td>690</td>\n",
       "      <td>47.26</td>\n",
       "    </tr>\n",
       "    <tr>\n",
       "      <td>GarageType</td>\n",
       "      <td>81</td>\n",
       "      <td>5.55</td>\n",
       "    </tr>\n",
       "    <tr>\n",
       "      <td>GarageCond</td>\n",
       "      <td>81</td>\n",
       "      <td>5.55</td>\n",
       "    </tr>\n",
       "    <tr>\n",
       "      <td>GarageQual</td>\n",
       "      <td>81</td>\n",
       "      <td>5.55</td>\n",
       "    </tr>\n",
       "    <tr>\n",
       "      <td>GarageFinish</td>\n",
       "      <td>81</td>\n",
       "      <td>5.55</td>\n",
       "    </tr>\n",
       "    <tr>\n",
       "      <td>BsmtFinType2</td>\n",
       "      <td>38</td>\n",
       "      <td>2.60</td>\n",
       "    </tr>\n",
       "    <tr>\n",
       "      <td>BsmtExposure</td>\n",
       "      <td>38</td>\n",
       "      <td>2.60</td>\n",
       "    </tr>\n",
       "    <tr>\n",
       "      <td>BsmtFinType1</td>\n",
       "      <td>37</td>\n",
       "      <td>2.53</td>\n",
       "    </tr>\n",
       "    <tr>\n",
       "      <td>BsmtQual</td>\n",
       "      <td>37</td>\n",
       "      <td>2.53</td>\n",
       "    </tr>\n",
       "    <tr>\n",
       "      <td>BsmtCond</td>\n",
       "      <td>37</td>\n",
       "      <td>2.53</td>\n",
       "    </tr>\n",
       "    <tr>\n",
       "      <td>MasVnrType</td>\n",
       "      <td>8</td>\n",
       "      <td>0.55</td>\n",
       "    </tr>\n",
       "    <tr>\n",
       "      <td>Electrical</td>\n",
       "      <td>1</td>\n",
       "      <td>0.07</td>\n",
       "    </tr>\n",
       "  </tbody>\n",
       "</table>\n",
       "</div>"
      ],
      "text/plain": [
       "              null_count  null_pct\n",
       "PoolQC              1453     99.52\n",
       "MiscFeature         1406     96.30\n",
       "Alley               1369     93.77\n",
       "Fence               1179     80.75\n",
       "FireplaceQu          690     47.26\n",
       "GarageType            81      5.55\n",
       "GarageCond            81      5.55\n",
       "GarageQual            81      5.55\n",
       "GarageFinish          81      5.55\n",
       "BsmtFinType2          38      2.60\n",
       "BsmtExposure          38      2.60\n",
       "BsmtFinType1          37      2.53\n",
       "BsmtQual              37      2.53\n",
       "BsmtCond              37      2.53\n",
       "MasVnrType             8      0.55\n",
       "Electrical             1      0.07"
      ]
     },
     "execution_count": 31,
     "metadata": {},
     "output_type": "execute_result"
    }
   ],
   "source": [
    "# Make a table with colums, count of nulls and percent of nulls\n",
    "df_org_cat_null = df_org_cat.isnull().sum()\n",
    "df_org_cat_null = pd.DataFrame(df_org_cat_null)\n",
    "df_org_cat_null.columns = ['null_count']\n",
    "df_org_cat_null['null_pct'] = np.round((df_org_cat_null.null_count / 1460) * 100, 2)\n",
    "df_org_cat_null.sort_values(by='null_pct', ascending=False, inplace=True)\n",
    "print('There are {} columns of type object'.format(len(df_org_cat_null)))\n",
    "df_org_cat_null_drop_zero = df_org_cat_null[df_org_cat_null.null_count > 0]\n",
    "print()\n",
    "print('There are {} non-categorical columns with nulls'.format(len(df_org_cat_null_drop_zero)))\n",
    "print()\n",
    "print('Here are the non-categorical columns with nulls:')\n",
    "df_org_cat_null_drop_zero"
   ]
  },
  {
   "cell_type": "markdown",
   "metadata": {},
   "source": [
    "Takeaways:\n",
    "\n",
    "* About 1/3rd of the non-categorical columns have nulls\n",
    "* A handful (aka, 5) of these columns have 'lots' of nulls - about 1/2 or more\n",
    "* About 10 of these columns are a 'few' nulls -- about less than 5%"
   ]
  },
  {
   "cell_type": "markdown",
   "metadata": {},
   "source": [
    "### What are the values of nulls types: categorical\n",
    "\n",
    "What does it look like null means in the categorical columns?\n",
    "Are there other values in non-categorical that represent nulls?  Aka, is there an additional category that means null?"
   ]
  },
  {
   "cell_type": "code",
   "execution_count": 32,
   "metadata": {},
   "outputs": [
    {
     "name": "stdout",
     "output_type": "stream",
     "text": [
      "PoolQC               Ex Fa Gd nan \n",
      "MiscFeature          Gar2 Othr Shed TenC nan \n",
      "Alley                Grvl Pave nan \n",
      "Fence                GdPrv GdWo MnPrv MnWw nan \n",
      "FireplaceQu          Ex Fa Gd Po TA nan \n",
      "GarageType           2Types Attchd Basment BuiltIn CarPort Detchd nan \n",
      "GarageCond           Ex Fa Gd Po TA nan \n",
      "GarageQual           Ex Fa Gd Po TA nan \n",
      "GarageFinish         Fin RFn Unf nan \n",
      "BsmtFinType2         ALQ BLQ GLQ LwQ Rec Unf nan \n",
      "BsmtExposure         Av Gd Mn No nan \n",
      "BsmtFinType1         ALQ BLQ GLQ LwQ Rec Unf nan \n",
      "BsmtQual             Ex Fa Gd TA nan \n",
      "BsmtCond             Fa Gd Po TA nan \n",
      "MasVnrType           BrkCmn BrkFace None Stone nan \n",
      "Electrical           FuseA FuseF FuseP Mix SBrkr nan \n"
     ]
    }
   ],
   "source": [
    "# Print out unqiue values in each categorical columns, in alphabetical order, with nan\n",
    "col_list = df_org_cat_null_drop_zero.index.tolist()\n",
    "for col in col_list:\n",
    "    values = df_org[col].unique().tolist()\n",
    "    # Needed to convert to string and sorts\n",
    "    values2 = []\n",
    "    for i in values:\n",
    "        values2.append(str(i))\n",
    "    values2.sort()\n",
    "    print('{:<20}'.format(col), end=' ')\n",
    "    for i in values2:\n",
    "        print('{}'.format(i), end=' ')\n",
    "    print()"
   ]
  },
  {
   "cell_type": "markdown",
   "metadata": {},
   "source": [
    "Analysis:\n",
    "\n",
    "* I'm looking for two things.\n",
    "* Was the author clear about what nan means?\n",
    "* Also, is there a category like nan?  (And the presence of nan + this other category might be odd)\n",
    "\n",
    "With these 14, nan has a valid meaning (and we'll keep as null)\n",
    "\n",
    "* PoolQC:  No other category.  nan has a meaning.  Means, no pool\n",
    "* MiscFeature: THis is OK.  Other is other feature.  Nan is no misc features\n",
    "* Alley: Same, no alley\n",
    "* Fence: Same, no fence\n",
    "* FireplaceQu:  Same, no fireplace\n",
    "* GarageType: Same, no garage\n",
    "* GarageCond:  Same\n",
    "* GarageQual:  Same\n",
    "* GarageFinish:  Same\n",
    "* BsmtFinType2:  Same, no basement\n",
    "* BsmtExposure:  This is OK.  No = no exposure.  Nan = no basement\n",
    "* BsmtFinType1:  Same\n",
    "* BsmtQual:  Same\n",
    "* BsmtCond: same\n",
    "\n",
    "\n",
    "With these 14, with will keep the null.  Aka, no cleaning required\n",
    "\n",
    "\n",
    "With two columns, the use of nan is different:\n",
    "\n",
    "* MasVnrType:  \n",
    "    * Here, there's a 'none' and a nan\n",
    "    * But there's only 8 nan\n",
    "    * My assumption is that these 8 nan should be done.\n",
    "    \n",
    "    \n",
    "* Electrical:  \n",
    "    * Here, nan has no meaning\n",
    "    * But there's only 1 nan\n",
    "    * For now, let's just take the most common value."
   ]
  },
  {
   "cell_type": "markdown",
   "metadata": {},
   "source": [
    "#### Clean last 2 non-categorical"
   ]
  },
  {
   "cell_type": "code",
   "execution_count": 33,
   "metadata": {},
   "outputs": [
    {
     "name": "stdout",
     "output_type": "stream",
     "text": [
      "235 nan None\n",
      "530 nan None\n",
      "651 nan None\n",
      "937 nan None\n",
      "974 nan None\n",
      "978 nan None\n",
      "1244 nan None\n",
      "1279 nan None\n"
     ]
    }
   ],
   "source": [
    "# Address MasVnrType\n",
    "\n",
    "# Get the list of values to be cleaned\n",
    "check_MasVnrType = df_org.MasVnrType[df_org.MasVnrType.isna()].index.tolist()\n",
    "\n",
    " # Fill with 'None'\n",
    "df_cln.MasVnrType = df_cln.MasVnrType.fillna('None')\n",
    "\n",
    "# Look at the values to confirm that cleaned\n",
    "# Adjust for difference between index in origianl and index in clean\n",
    "for index_org in check_MasVnrType:\n",
    "    index_cln = index_org + 1\n",
    "    print(index_cln,  df_org.MasVnrType[index_org], df_cln.MasVnrType[index_cln])"
   ]
  },
  {
   "cell_type": "code",
   "execution_count": 34,
   "metadata": {},
   "outputs": [
    {
     "data": {
      "text/plain": [
       "SBrkr    1334\n",
       "FuseA      94\n",
       "FuseF      27\n",
       "FuseP       3\n",
       "Mix         1\n",
       "Name: Electrical, dtype: int64"
      ]
     },
     "execution_count": 34,
     "metadata": {},
     "output_type": "execute_result"
    }
   ],
   "source": [
    "# Address Electrical\n",
    "\n",
    "# Look for most common values\n",
    "df_org.Electrical.value_counts()"
   ]
  },
  {
   "cell_type": "code",
   "execution_count": 35,
   "metadata": {},
   "outputs": [
    {
     "name": "stdout",
     "output_type": "stream",
     "text": [
      "1380 nan SBrkr\n"
     ]
    }
   ],
   "source": [
    "# Get the list of values to be cleaned\n",
    "check_Electrical = df_org.Electrical[df_org.Electrical.isna()].index.tolist()\n",
    "\n",
    " # Fill with 'None'\n",
    "df_cln.Electrical = df_cln.Electrical.fillna('SBrkr')\n",
    "\n",
    "# Check the values\n",
    "# Adjust for difference between index in origianl and index in clean\n",
    "for index_org in check_Electrical:\n",
    "    index_cln = index_org + 1\n",
    "    print(index_cln, df_org.Electrical[index_org], df_cln.Electrical[index_cln])"
   ]
  },
  {
   "cell_type": "markdown",
   "metadata": {},
   "source": [
    "## Conclusions"
   ]
  },
  {
   "cell_type": "markdown",
   "metadata": {},
   "source": [
    "Takeaways:\n",
    "\n",
    "* The data is very clean\n",
    "* There are well-formed column headings\n",
    "* The data set already is indexed--unique ID's for each observations\n",
    "* There is a mix of categorical and non-categorical variables\n",
    "* There are a few dates and years that can be converted over to datetimes.\n",
    "* There are some, but not too many, nulls\n",
    "* 'NA' is the character for null in raw data.  It's picked up a read_csv\n",
    "* The dependent variable is never null.\n",
    "* Most the nulls are correct.  With a meaning of 'None.'\n",
    "* A few need to be cleaned\n"
   ]
  },
  {
   "cell_type": "markdown",
   "metadata": {},
   "source": [
    "## Step:  Save the clean dataframe - v1"
   ]
  },
  {
   "cell_type": "code",
   "execution_count": 36,
   "metadata": {},
   "outputs": [],
   "source": [
    "# Save as a picked dataframe\n",
    "df_cln.to_pickle('data/df_cln_v1.pickle')"
   ]
  },
  {
   "cell_type": "code",
   "execution_count": 37,
   "metadata": {},
   "outputs": [],
   "source": [
    "# Save as csv\n",
    "df_cln.to_csv('data/df_cln_v1.csv')"
   ]
  },
  {
   "cell_type": "markdown",
   "metadata": {},
   "source": [
    "## Step:  Additional cleaning for stats analysis\n",
    "\n",
    "In the course of doing my statistical analysis, I realized that there's more cleaning to do.\n",
    "\n",
    "* I need nulls to show up as a category, like 'No' or 'None' or the value already used by the column to enumerate not applicable\n",
    "* I can process many categoricals as numerics if I convert ordinal categorical into ints\n",
    "\n",
    "\n",
    "* I found a good example of this cleaning in the following Kaggle Kernal:\n",
    "* 'A study on Regression applied to the Ames dataset' under the House Prices: Advanced Regression Techniques in Kaggle.\n",
    "* I'm liberally borrowing from the author's code to make these cleanings."
   ]
  },
  {
   "cell_type": "code",
   "execution_count": 38,
   "metadata": {},
   "outputs": [],
   "source": [
    "# Further clean up nulls where NaN is really a category\n",
    "\n",
    "# Alley : data description says NA means 'no alley access'\n",
    "df_cln.loc[:, 'Alley'] = df_cln.loc[:, 'Alley'].fillna('None')\n",
    "# BedroomAbvGr : NA most likely means 0\n",
    "df_cln.loc[:, 'BedroomAbvGr'] = df_cln.loc[:, 'BedroomAbvGr'].fillna(0)\n",
    "# BsmtQual etc : data description says NA for basement features is 'no basement'\n",
    "df_cln.loc[:, 'BsmtQual'] = df_cln.loc[:, 'BsmtQual'].fillna('No')\n",
    "df_cln.loc[:, 'BsmtCond'] = df_cln.loc[:, 'BsmtCond'].fillna('No')\n",
    "df_cln.loc[:, 'BsmtExposure'] = df_cln.loc[:, 'BsmtExposure'].fillna('No')\n",
    "df_cln.loc[:, 'BsmtFinType1'] = df_cln.loc[:, 'BsmtFinType1'].fillna('No')\n",
    "df_cln.loc[:, 'BsmtFinType2'] = df_cln.loc[:, 'BsmtFinType2'].fillna('No')\n",
    "df_cln.loc[:, 'BsmtFullBath'] = df_cln.loc[:, 'BsmtFullBath'].fillna(0)\n",
    "df_cln.loc[:, 'BsmtHalfBath'] = df_cln.loc[:, 'BsmtHalfBath'].fillna(0)\n",
    "df_cln.loc[:, 'BsmtUnfSF'] = df_cln.loc[:, 'BsmtUnfSF'].fillna(0)\n",
    "# CentralAir : NA most likely means No\n",
    "df_cln.loc[:, 'CentralAir'] = df_cln.loc[:, 'CentralAir'].fillna('N')\n",
    "# Condition : NA most likely means Normal\n",
    "df_cln.loc[:, 'Condition1'] = df_cln.loc[:, 'Condition1'].fillna('Norm')\n",
    "df_cln.loc[:, 'Condition2'] = df_cln.loc[:, 'Condition2'].fillna('Norm')\n",
    "# EnclosedPorch : NA most likely means no enclosed porch\n",
    "df_cln.loc[:, 'EnclosedPorch'] = df_cln.loc[:, 'EnclosedPorch'].fillna(0)\n",
    "# External stuff : NA most likely means average\n",
    "df_cln.loc[:, 'ExterCond'] = df_cln.loc[:, 'ExterCond'].fillna('TA')\n",
    "df_cln.loc[:, 'ExterQual'] = df_cln.loc[:, 'ExterQual'].fillna('TA')\n",
    "# Fence : data description says NA means 'no fence'\n",
    "df_cln.loc[:, 'Fence'] = df_cln.loc[:, 'Fence'].fillna('No')\n",
    "# FireplaceQu : data description says NA means 'no fireplace'\n",
    "df_cln.loc[:, 'FireplaceQu'] = df_cln.loc[:, 'FireplaceQu'].fillna('No')\n",
    "df_cln.loc[:, 'Fireplaces'] = df_cln.loc[:, 'Fireplaces'].fillna(0)\n",
    "# Functional : data description says NA means typical\n",
    "df_cln.loc[:, 'Functional'] = df_cln.loc[:, 'Functional'].fillna('Typ')\n",
    "# GarageType etc : data description says NA for garage features is 'no garage'\n",
    "df_cln.loc[:, 'GarageType'] = df_cln.loc[:, 'GarageType'].fillna('No')\n",
    "df_cln.loc[:, 'GarageFinish'] = df_cln.loc[:, 'GarageFinish'].fillna('No')\n",
    "df_cln.loc[:, 'GarageQual'] = df_cln.loc[:, 'GarageQual'].fillna('No')\n",
    "df_cln.loc[:, 'GarageCond'] = df_cln.loc[:, 'GarageCond'].fillna('No')\n",
    "df_cln.loc[:, 'GarageArea'] = df_cln.loc[:, 'GarageArea'].fillna(0)\n",
    "df_cln.loc[:, 'GarageCars'] = df_cln.loc[:, 'GarageCars'].fillna(0)\n",
    "# HalfBath : NA most likely means no half baths above grade\n",
    "df_cln.loc[:, 'HalfBath'] = df_cln.loc[:, 'HalfBath'].fillna(0)\n",
    "# HeatingQC : NA most likely means typical\n",
    "df_cln.loc[:, 'HeatingQC'] = df_cln.loc[:, 'HeatingQC'].fillna('TA')\n",
    "# KitchenAbvGr : NA most likely means 0\n",
    "df_cln.loc[:, 'KitchenAbvGr'] = df_cln.loc[:, 'KitchenAbvGr'].fillna(0)\n",
    "# KitchenQual : NA most likely means typical\n",
    "df_cln.loc[:, 'KitchenQual'] = df_cln.loc[:, 'KitchenQual'].fillna('TA')\n",
    "# LotFrontage : NA most likely means no lot frontage\n",
    "df_cln.loc[:, 'LotFrontage'] = df_cln.loc[:, 'LotFrontage'].fillna(0)\n",
    "# LotShape : NA most likely means regular\n",
    "df_cln.loc[:, 'LotShape'] = df_cln.loc[:, 'LotShape'].fillna('Reg')\n",
    "# MasVnrType : NA most likely means no veneer\n",
    "df_cln.loc[:, 'MasVnrType'] = df_cln.loc[:, 'MasVnrType'].fillna('None')\n",
    "df_cln.loc[:, 'MasVnrArea'] = df_cln.loc[:, 'MasVnrArea'].fillna(0)\n",
    "# MiscFeature : data description says NA means 'no misc feature'\n",
    "df_cln.loc[:, 'MiscFeature'] = df_cln.loc[:, 'MiscFeature'].fillna('No')\n",
    "df_cln.loc[:, 'MiscVal'] = df_cln.loc[:, 'MiscVal'].fillna(0)\n",
    "# OpenPorchSF : NA most likely means no open porch\n",
    "df_cln.loc[:, 'OpenPorchSF'] = df_cln.loc[:, 'OpenPorchSF'].fillna(0)\n",
    "# PavedDrive : NA most likely means not paved\n",
    "df_cln.loc[:, 'PavedDrive'] = df_cln.loc[:, 'PavedDrive'].fillna('N')\n",
    "# PoolQC : data description says NA means 'no pool'\n",
    "df_cln.loc[:, 'PoolQC'] = df_cln.loc[:, 'PoolQC'].fillna('No')\n",
    "df_cln.loc[:, 'PoolArea'] = df_cln.loc[:, 'PoolArea'].fillna(0)\n",
    "# SaleCondition : NA most likely means normal sale\n",
    "df_cln.loc[:, 'SaleCondition'] = df_cln.loc[:, 'SaleCondition'].fillna('Normal')\n",
    "# ScreenPorch : NA most likely means no screen porch\n",
    "df_cln.loc[:, 'ScreenPorch'] = df_cln.loc[:, 'ScreenPorch'].fillna(0)\n",
    "# TotRmsAbvGrd : NA most likely means 0\n",
    "df_cln.loc[:, 'TotRmsAbvGrd'] = df_cln.loc[:, 'TotRmsAbvGrd'].fillna(0)\n",
    "# Utilities : NA most likely means all public utilities\n",
    "df_cln.loc[:, 'Utilities'] = df_cln.loc[:, 'Utilities'].fillna('AllPub')\n",
    "# WoodDeckSF : NA most likely means no wood deck\n",
    "df_cln.loc[:, 'WoodDeckSF'] = df_cln.loc[:, 'WoodDeckSF'].fillna(0)"
   ]
  },
  {
   "cell_type": "code",
   "execution_count": 39,
   "metadata": {},
   "outputs": [
    {
     "name": "stdout",
     "output_type": "stream",
     "text": [
      "Before there were 1453 nulls\n",
      "After there were 0 nulls\n",
      "Before the values were:  [nan 'Ex' 'Fa' 'Gd']\n",
      "After the values were:   ['No' 'Ex' 'Fa' 'Gd']\n"
     ]
    }
   ],
   "source": [
    "# Check \n",
    "i = 'PoolQC'\n",
    "print('Before there were {} nulls'.format(df_org[i].isna().sum()))\n",
    "print('After there were {} nulls'.format(df_cln[i].isna().sum()))\n",
    "print('Before the values were: ', df_org[i].unique())\n",
    "print('After the values were:  ', df_cln[i].unique())"
   ]
  },
  {
   "cell_type": "code",
   "execution_count": 40,
   "metadata": {},
   "outputs": [],
   "source": [
    "# Convert categorial into ordinal where there's ordering\n",
    "# Aka, Likert scale\n",
    "# For example, where different quality levels\n",
    "\n",
    "df_cln = df_cln.replace({'BsmtCond' : {'No' : 0, 'Po' : 1, 'Fa' : 2, 'TA' : 3, 'Gd' : 4, 'Ex' : 5}})\n",
    "df_cln = df_cln.replace({'BsmtExposure' : {'No' : 0, 'Mn' : 1, 'Av': 2, 'Gd' : 3}})\n",
    "df_cln = df_cln.replace({'BsmtFinType1' : {'No' : 0, 'Unf' : 1, 'LwQ': 2, 'Rec' : 3, 'BLQ' : 4, 'ALQ' : 5, 'GLQ' : 6}})\n",
    "df_cln = df_cln.replace({'BsmtFinType2' : {'No' : 0, 'Unf' : 1, 'LwQ': 2, 'Rec' : 3, 'BLQ' : 4, 'ALQ' : 5, 'GLQ' : 6}})\n",
    "df_cln = df_cln.replace({'BsmtQual' : {'No' : 0, 'Po' : 1, 'Fa' : 2, 'TA': 3, 'Gd' : 4, 'Ex' : 5}})\n",
    "df_cln = df_cln.replace({'ExterCond' : {'Po' : 1, 'Fa' : 2, 'TA': 3, 'Gd': 4, 'Ex' : 5}})\n",
    "df_cln = df_cln.replace({'ExterQual' : {'Po' : 1, 'Fa' : 2, 'TA': 3, 'Gd': 4, 'Ex' : 5}})\n",
    "df_cln = df_cln.replace({'FireplaceQu' : {'No' : 0, 'Po' : 1, 'Fa' : 2, 'TA' : 3, 'Gd' : 4, 'Ex' : 5}})\n",
    "df_cln = df_cln.replace({'Functional' : {'Sal' : 1, 'Sev' : 2, 'Maj2' : 3, 'Maj1' : 4, 'Mod': 5, 'Min2' : 6, 'Min1' : 7, 'Typ' : 8}})\n",
    "df_cln = df_cln.replace({'GarageCond' : {'No' : 0, 'Po' : 1, 'Fa' : 2, 'TA' : 3, 'Gd' : 4, 'Ex' : 5}})\n",
    "df_cln = df_cln.replace({'GarageQual' : {'No' : 0, 'Po' : 1, 'Fa' : 2, 'TA' : 3, 'Gd' : 4, 'Ex' : 5}})\n",
    "df_cln = df_cln.replace({'HeatingQC' : {'Po' : 1, 'Fa' : 2, 'TA' : 3, 'Gd' : 4, 'Ex' : 5}})\n",
    "df_cln = df_cln.replace({'KitchenQual' : {'Po' : 1, 'Fa' : 2, 'TA' : 3, 'Gd' : 4, 'Ex' : 5}})\n",
    "df_cln = df_cln.replace({'LandSlope' : {'Sev' : 1, 'Mod' : 2, 'Gtl' : 3}})\n",
    "df_cln = df_cln.replace({'LotShape' : {'IR3' : 1, 'IR2' : 2, 'IR1' : 3, 'Reg' : 4}})\n",
    "df_cln = df_cln.replace({'PavedDrive' : {'N' : 0, 'P' : 1, 'Y' : 2}})\n",
    "df_cln = df_cln.replace({'PoolQC' : {'No' : 0, 'Fa' : 1, 'TA' : 2, 'Gd' : 3, 'Ex' : 4}})\n",
    "df_cln = df_cln.replace({'Street' : {'Grvl' : 1, 'Pave' : 2}})\n",
    "df_cln = df_cln.replace({'Utilities' : {'ELO' : 1, 'NoSeWa' : 2, 'NoSewr' : 3, 'AllPub' : 4}})"
   ]
  },
  {
   "cell_type": "code",
   "execution_count": 41,
   "metadata": {},
   "outputs": [
    {
     "name": "stdout",
     "output_type": "stream",
     "text": [
      "Before:  [nan 'Ex' 'Fa' 'Gd']\n",
      "After:   [0 4 1 3]\n"
     ]
    }
   ],
   "source": [
    "# Check \n",
    "i = 'PoolQC'\n",
    "print('Before: ', df_org[i].unique())\n",
    "print('After:  ', df_cln[i].unique())"
   ]
  },
  {
   "cell_type": "code",
   "execution_count": 42,
   "metadata": {},
   "outputs": [
    {
     "name": "stdout",
     "output_type": "stream",
     "text": [
      "Before:  ['Reg' 'IR1' 'IR2' 'IR3']\n",
      "After:   [4 3 2 1]\n"
     ]
    }
   ],
   "source": [
    "# Check \n",
    "i = 'LotShape'\n",
    "print('Before: ', df_org[i].unique())\n",
    "print('After:  ', df_cln[i].unique())"
   ]
  },
  {
   "cell_type": "markdown",
   "metadata": {},
   "source": [
    "## Step:  Save the clean dataframe as clean v2"
   ]
  },
  {
   "cell_type": "code",
   "execution_count": 43,
   "metadata": {},
   "outputs": [],
   "source": [
    "# Save as a picked dataframe\n",
    "df_cln.to_pickle('data/df_cln_v2.pickle')"
   ]
  },
  {
   "cell_type": "code",
   "execution_count": 44,
   "metadata": {},
   "outputs": [],
   "source": [
    "# Save as csv\n",
    "df_cln.to_csv('data/df_cln_v2.csv')"
   ]
  },
  {
   "cell_type": "markdown",
   "metadata": {},
   "source": [
    "## Step:  Additional cleaning for modeling"
   ]
  },
  {
   "cell_type": "code",
   "execution_count": 45,
   "metadata": {},
   "outputs": [
    {
     "data": {
      "text/plain": [
       "81"
      ]
     },
     "execution_count": 45,
     "metadata": {},
     "output_type": "execute_result"
    }
   ],
   "source": [
    "# Double check for any null\n",
    "\n",
    "df_cln.isnull().sum().sum()"
   ]
  },
  {
   "cell_type": "code",
   "execution_count": 46,
   "metadata": {},
   "outputs": [
    {
     "data": {
      "text/plain": [
       "81"
      ]
     },
     "execution_count": 46,
     "metadata": {},
     "output_type": "execute_result"
    }
   ],
   "source": [
    "# Confirm that last nulls are in GarageYrBlt\n",
    "\n",
    "df_cln['GarageYrBlt'].isnull().sum()"
   ]
  },
  {
   "cell_type": "code",
   "execution_count": 47,
   "metadata": {},
   "outputs": [
    {
     "data": {
      "text/plain": [
       "Int64Index([  40,   49,   79,   89,   90,  100,  109,  126,  128,  141,  149,\n",
       "             156,  164,  166,  199,  211,  242,  251,  288,  292,  308,  376,\n",
       "             387,  394,  432,  435,  442,  465,  496,  521,  529,  534,  536,\n",
       "             563,  583,  614,  615,  621,  636,  637,  639,  650,  706,  711,\n",
       "             739,  751,  785,  827,  844,  922,  943,  955,  961,  969,  971,\n",
       "             977, 1010, 1012, 1031, 1039, 1097, 1124, 1132, 1138, 1144, 1174,\n",
       "            1180, 1219, 1220, 1235, 1258, 1284, 1324, 1326, 1327, 1338, 1350,\n",
       "            1408, 1450, 1451, 1454],\n",
       "           dtype='int64', name='Id')"
      ]
     },
     "execution_count": 47,
     "metadata": {},
     "output_type": "execute_result"
    }
   ],
   "source": [
    "# Get the indicies of GarageYrBlt that are null \n",
    "\n",
    "df_cln[df_cln['GarageYrBlt'].isnull()].index"
   ]
  },
  {
   "cell_type": "code",
   "execution_count": 48,
   "metadata": {},
   "outputs": [],
   "source": [
    "df_cln.loc[:, 'GarageYrBlt'] = df_cln.loc[:, 'GarageYrBlt'].fillna(df_cln['YearBuilt'])"
   ]
  },
  {
   "cell_type": "code",
   "execution_count": 49,
   "metadata": {},
   "outputs": [
    {
     "name": "stdout",
     "output_type": "stream",
     "text": [
      "1965.0\n",
      "1963.0\n",
      "2007.0\n"
     ]
    }
   ],
   "source": [
    "# Check a few rows\n",
    "\n",
    "print(df_cln.iloc[40]['GarageYrBlt'])\n",
    "print(df_cln.iloc[615]['GarageYrBlt'])\n",
    "print(df_cln.iloc[1324]['GarageYrBlt'])"
   ]
  },
  {
   "cell_type": "markdown",
   "metadata": {},
   "source": [
    "## Step:  Save the clean dataframe as clean v3"
   ]
  },
  {
   "cell_type": "code",
   "execution_count": 50,
   "metadata": {},
   "outputs": [],
   "source": [
    "# Save as a picked dataframe\n",
    "df_cln.to_pickle('data/df_cln_v3.pickle')"
   ]
  },
  {
   "cell_type": "code",
   "execution_count": 51,
   "metadata": {},
   "outputs": [],
   "source": [
    "# Save as csv\n",
    "df_cln.to_csv('data/df_cln_v3.csv')"
   ]
  }
 ],
 "metadata": {
  "kernelspec": {
   "display_name": "Python 3",
   "language": "python",
   "name": "python3"
  },
  "language_info": {
   "codemirror_mode": {
    "name": "ipython",
    "version": 3
   },
   "file_extension": ".py",
   "mimetype": "text/x-python",
   "name": "python",
   "nbconvert_exporter": "python",
   "pygments_lexer": "ipython3",
   "version": "3.7.4"
  }
 },
 "nbformat": 4,
 "nbformat_minor": 2
}
