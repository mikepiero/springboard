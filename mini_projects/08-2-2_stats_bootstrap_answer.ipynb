{
 "cells": [
  {
   "cell_type": "markdown",
   "metadata": {},
   "source": [
    "# Mini project 8.2.2"
   ]
  },
  {
   "cell_type": "markdown",
   "metadata": {},
   "source": [
    "# Inferential statistics: Bootstrapping"
   ]
  },
  {
   "cell_type": "markdown",
   "metadata": {},
   "source": [
    "## Step: Set up"
   ]
  },
  {
   "cell_type": "code",
   "execution_count": 1,
   "metadata": {},
   "outputs": [],
   "source": [
    "# Import libraries\n",
    "import pandas as pd\n",
    "import numpy as np\n",
    "from numpy.random import seed\n",
    "import matplotlib.pyplot as plt\n",
    "import seaborn as sns"
   ]
  },
  {
   "cell_type": "code",
   "execution_count": 2,
   "metadata": {},
   "outputs": [],
   "source": [
    "# Set up default style for visualizations\n",
    "sns.set()\n",
    "sns.set_style({'axes.grid' : False})"
   ]
  },
  {
   "cell_type": "markdown",
   "metadata": {},
   "source": [
    "## Step:  Collect data"
   ]
  },
  {
   "cell_type": "code",
   "execution_count": 3,
   "metadata": {},
   "outputs": [],
   "source": [
    "med_charges = pd.read_csv('data/insurance2.csv')"
   ]
  },
  {
   "cell_type": "code",
   "execution_count": 4,
   "metadata": {},
   "outputs": [
    {
     "data": {
      "text/html": [
       "<div>\n",
       "<style scoped>\n",
       "    .dataframe tbody tr th:only-of-type {\n",
       "        vertical-align: middle;\n",
       "    }\n",
       "\n",
       "    .dataframe tbody tr th {\n",
       "        vertical-align: top;\n",
       "    }\n",
       "\n",
       "    .dataframe thead th {\n",
       "        text-align: right;\n",
       "    }\n",
       "</style>\n",
       "<table border=\"1\" class=\"dataframe\">\n",
       "  <thead>\n",
       "    <tr style=\"text-align: right;\">\n",
       "      <th></th>\n",
       "      <th>age</th>\n",
       "      <th>sex</th>\n",
       "      <th>bmi</th>\n",
       "      <th>children</th>\n",
       "      <th>smoker</th>\n",
       "      <th>region</th>\n",
       "      <th>charges</th>\n",
       "      <th>insuranceclaim</th>\n",
       "    </tr>\n",
       "  </thead>\n",
       "  <tbody>\n",
       "    <tr>\n",
       "      <td>0</td>\n",
       "      <td>19</td>\n",
       "      <td>0</td>\n",
       "      <td>27.900</td>\n",
       "      <td>0</td>\n",
       "      <td>1</td>\n",
       "      <td>3</td>\n",
       "      <td>16884.92400</td>\n",
       "      <td>1</td>\n",
       "    </tr>\n",
       "    <tr>\n",
       "      <td>1</td>\n",
       "      <td>18</td>\n",
       "      <td>1</td>\n",
       "      <td>33.770</td>\n",
       "      <td>1</td>\n",
       "      <td>0</td>\n",
       "      <td>2</td>\n",
       "      <td>1725.55230</td>\n",
       "      <td>1</td>\n",
       "    </tr>\n",
       "    <tr>\n",
       "      <td>2</td>\n",
       "      <td>28</td>\n",
       "      <td>1</td>\n",
       "      <td>33.000</td>\n",
       "      <td>3</td>\n",
       "      <td>0</td>\n",
       "      <td>2</td>\n",
       "      <td>4449.46200</td>\n",
       "      <td>0</td>\n",
       "    </tr>\n",
       "    <tr>\n",
       "      <td>3</td>\n",
       "      <td>33</td>\n",
       "      <td>1</td>\n",
       "      <td>22.705</td>\n",
       "      <td>0</td>\n",
       "      <td>0</td>\n",
       "      <td>1</td>\n",
       "      <td>21984.47061</td>\n",
       "      <td>0</td>\n",
       "    </tr>\n",
       "    <tr>\n",
       "      <td>4</td>\n",
       "      <td>32</td>\n",
       "      <td>1</td>\n",
       "      <td>28.880</td>\n",
       "      <td>0</td>\n",
       "      <td>0</td>\n",
       "      <td>1</td>\n",
       "      <td>3866.85520</td>\n",
       "      <td>1</td>\n",
       "    </tr>\n",
       "  </tbody>\n",
       "</table>\n",
       "</div>"
      ],
      "text/plain": [
       "   age  sex     bmi  children  smoker  region      charges  insuranceclaim\n",
       "0   19    0  27.900         0       1       3  16884.92400               1\n",
       "1   18    1  33.770         1       0       2   1725.55230               1\n",
       "2   28    1  33.000         3       0       2   4449.46200               0\n",
       "3   33    1  22.705         0       0       1  21984.47061               0\n",
       "4   32    1  28.880         0       0       1   3866.85520               1"
      ]
     },
     "execution_count": 4,
     "metadata": {},
     "output_type": "execute_result"
    }
   ],
   "source": [
    "med_charges.head()"
   ]
  },
  {
   "cell_type": "markdown",
   "metadata": {},
   "source": [
    "## Step: Questions and answers"
   ]
  },
  {
   "cell_type": "markdown",
   "metadata": {},
   "source": [
    "## Estimate confidence interval"
   ]
  },
  {
   "cell_type": "markdown",
   "metadata": {},
   "source": [
    "__Q:__ Use bootstrap sampling to estimate the same 95% confidence interval lower limit as before."
   ]
  },
  {
   "cell_type": "code",
   "execution_count": 5,
   "metadata": {},
   "outputs": [
    {
     "name": "stdout",
     "output_type": "stream",
     "text": [
      "The lower limit of the 95% confidence internal is 12724.467921704\n",
      "\n",
      "This is close to the provided answer of 12724\n"
     ]
    }
   ],
   "source": [
    "np.random.seed(47)\n",
    "N_rep = 10000\n",
    "N_charges = len(med_charges.charges)\n",
    "\n",
    "# Make empty np array\n",
    "boot_means = np.empty(N_rep)\n",
    "\n",
    "# Create bootstrap samples and take means\n",
    "for i in range(N_rep):\n",
    "    boot_sample = np.random.choice(med_charges.charges, size=N_charges)\n",
    "    boot_means[i] = boot_sample.mean()\n",
    "\n",
    "# Get lower limit of 95% confidence interval\n",
    "ci_lower = np.percentile(boot_means, [5])[0]\n",
    "print('The lower limit of the 95% confidence internal is {}'.format(ci_lower))\n",
    "print()\n",
    "print('This is close to the provided answer of 12724')\n"
   ]
  },
  {
   "cell_type": "markdown",
   "metadata": {},
   "source": [
    "__Q:__ Calculate the 95% confidence interval for the difference between the standard deviations of insurance and non-insurance claim charges (insured - non-insured). Calculate the differences over 10000 replicates. Plot the histogram of values and mark the locations of the percentiles. State the null and alternative hypothesis and comment on whether you would retain or reject the null hypothesis in this case and why."
   ]
  },
  {
   "cell_type": "code",
   "execution_count": 6,
   "metadata": {},
   "outputs": [],
   "source": [
    "# Separate actuals with insurnace from those without\n",
    "actual_insur_yes = np.array(med_charges[med_charges['insuranceclaim']==1].charges)\n",
    "actual_insur_no = np.array(med_charges[med_charges['insuranceclaim']==0].charges)\n",
    "actual_insur_yes_count = len(actual_insur_yes)\n",
    "actual_insur_no_count = len(actual_insur_yes)"
   ]
  },
  {
   "cell_type": "code",
   "execution_count": 7,
   "metadata": {},
   "outputs": [
    {
     "name": "stdout",
     "output_type": "stream",
     "text": [
      "The actual difference in standard deviation is 7596.256408655182\n"
     ]
    }
   ],
   "source": [
    "# Calc actual difference in standard devitation\n",
    "actual_std_diff = np.std(actual_insur_yes) - np.std(actual_insur_no)\n",
    "print('The actual difference in standard deviation is {}'.format(actual_std_diff))"
   ]
  },
  {
   "cell_type": "code",
   "execution_count": 8,
   "metadata": {},
   "outputs": [],
   "source": [
    "# Create bootstrap samples and take calc diff of standard deviations\n",
    "np.random.seed(47)\n",
    "boot_std_diff = np.empty(N_rep)\n",
    "for i in range(N_rep):\n",
    "    boot_sample_insur_yes = np.random.choice(actual_insur_yes, size=actual_insur_yes_count)\n",
    "    boot_sample_insur_no = np.random.choice(actual_insur_no, size=actual_insur_no_count)\n",
    "    boot_std_diff[i] = np.std(boot_sample_insur_yes) - np.std(boot_sample_insur_no)"
   ]
  },
  {
   "cell_type": "code",
   "execution_count": 9,
   "metadata": {},
   "outputs": [
    {
     "name": "stdout",
     "output_type": "stream",
     "text": [
      "The bootstrapped 95% confidenice interval is between 6741.464219133073 and 8452.031782107226\n"
     ]
    }
   ],
   "source": [
    "# Calc confidnence interval\n",
    "ci_lower_std_dif = np.percentile(boot_std_diff, [2.5])[0]\n",
    "ci_upper_std_dif = np.percentile(boot_std_diff, [97.5])[0]\n",
    "print('The bootstrapped 95% confidenice interval is between {} and {}'.format(ci_lower_std_dif, ci_upper_std_dif))"
   ]
  },
  {
   "cell_type": "code",
   "execution_count": 10,
   "metadata": {},
   "outputs": [
    {
     "data": {
      "image/png": "[encoded data removed]",
      "text/plain": [
       "<Figure size 432x288 with 1 Axes>"
      ]
     },
     "metadata": {},
     "output_type": "display_data"
    }
   ],
   "source": [
    "# Create histogram\n",
    "_ = plt.hist(boot_std_diff, bins=50)\n",
    "_ = plt.xlabel('Difference in standard deviation')\n",
    "_ = plt.ylabel('Count')\n",
    "_ = plt.title('Distribution of difference in standard deviation with 95% CI')\n",
    "_ = plt.axvline(ci_lower_std_dif, color='r', linestyle='--')\n",
    "_ = plt.axvline(ci_upper_std_dif, color='r', linestyle='--')"
   ]
  },
  {
   "cell_type": "markdown",
   "metadata": {},
   "source": [
    "The test is:\n",
    "\n",
    "* H0:  There is no difference in price between yes-insurance and no-insurance groups\n",
    "* H1:  There is a difference\n",
    "* The bootstrapping exercises gives us a 95% confidence interval between 6741 and 8452.  \n",
    "* That range does not include zero.\n",
    "* We cannot reject the null and accept the alternative.  "
   ]
  },
  {
   "cell_type": "markdown",
   "metadata": {},
   "source": [
    "## Estimate confidence interval and p-value"
   ]
  },
  {
   "cell_type": "markdown",
   "metadata": {},
   "source": [
    "__Q:__ Perform a bootstrapped hypothesis test at the 5% significance level ($\\alpha = 0.05$) to calculate the p-value of the observed difference between insurance and non-insurance charges, state your null and alternative hypotheses and whether you retain or reject the null hypothesis for the given significance level."
   ]
  },
  {
   "cell_type": "markdown",
   "metadata": {},
   "source": [
    "The test is:\n",
    "\n",
    "* H0:  There is no difference in means\n",
    "* H1:  There is a difference in means\n",
    "* All at a 5% significance level"
   ]
  },
  {
   "cell_type": "code",
   "execution_count": 11,
   "metadata": {},
   "outputs": [],
   "source": [
    "# Calc actual difference in means\n",
    "actual_mean_dif = np.mean(actual_insur_yes) - np.mean(actual_insur_no)"
   ]
  },
  {
   "cell_type": "code",
   "execution_count": 12,
   "metadata": {},
   "outputs": [],
   "source": [
    "# Shift the means\n",
    "np.random.seed(47)\n",
    "actual_insur_no_shifted = actual_insur_no - np.mean(actual_insur_no) + np.mean(actual_insur_yes)"
   ]
  },
  {
   "cell_type": "code",
   "execution_count": 13,
   "metadata": {},
   "outputs": [],
   "source": [
    "# Create a function to get samples\n",
    "def sample(data1, data2):\n",
    "    data = np.random.permutation( np.concatenate((data1, data2)) )\n",
    "    perm_sample_1 = data[:len(data1)]\n",
    "    perm_sample_2 = data[len(data1):]\n",
    "    return perm_sample_1, perm_sample_2"
   ]
  },
  {
   "cell_type": "code",
   "execution_count": 14,
   "metadata": {},
   "outputs": [],
   "source": [
    "# Create replicates\n",
    "sample_mean_replicates = np.empty(N_rep)\n",
    "\n",
    "for i in range(N_rep):\n",
    "    sample_insur_yes, sample_insur_no = sample(actual_insur_yes, actual_insur_no_shifted)\n",
    "    sample_mean_replicates[i] = np.mean(sample_insur_yes) - np.mean(sample_insur_no)"
   ]
  },
  {
   "cell_type": "code",
   "execution_count": 15,
   "metadata": {},
   "outputs": [
    {
     "name": "stdout",
     "output_type": "stream",
     "text": [
      "The p value is 0.0\n"
     ]
    }
   ],
   "source": [
    "p_val = np.sum(sample_mean_replicates >= actual_mean_dif)/len(sample_mean_replicates)\n",
    "print('The p value is {}'.format(p_val))"
   ]
  },
  {
   "cell_type": "markdown",
   "metadata": {},
   "source": [
    "* The p-value is zero or very, very close to zero\n",
    "* We reject the null and accept the alternative"
   ]
  },
  {
   "cell_type": "markdown",
   "metadata": {},
   "source": [
    "__Q__: To put the above result in perspective, plot the histogram of your bootstrapped differences along with lines marking the locations of the observed difference. (Why would we plot more than one line, given that we only have one observed difference?)"
   ]
  },
  {
   "cell_type": "code",
   "execution_count": 16,
   "metadata": {},
   "outputs": [
    {
     "data": {
      "image/png": "[encoded data removed]",
      "text/plain": [
       "<Figure size 432x288 with 1 Axes>"
      ]
     },
     "metadata": {},
     "output_type": "display_data"
    }
   ],
   "source": [
    "# Create histogram\n",
    "_ = plt.hist(sample_mean_replicates, bins=50)\n",
    "_ = plt.xlabel('Difference in means of replicated samples')\n",
    "_ = plt.ylabel('Count')\n",
    "_ = plt.title('Distribution of differences in means of replicated samples with observed difference')\n",
    "_ = plt.axvline(actual_mean_dif, color='r', linestyle='--')"
   ]
  },
  {
   "cell_type": "markdown",
   "metadata": {},
   "source": [
    "__Q:__ Compare your p-value above with that obtained using the _t_-test function in the previous assignment. Do you think you would want to try to perform enough bootstrap replicates to observe a random difference as large as that we did observe?"
   ]
  },
  {
   "cell_type": "markdown",
   "metadata": {},
   "source": [
    "* Both p values are practically zero. \n",
    "* More replicates are not likely to make a difference."
   ]
  },
  {
   "cell_type": "markdown",
   "metadata": {},
   "source": [
    "__Q:__ Consider the two variants of the _t_-test we performed in the previous assignment. Which one would you use now?"
   ]
  },
  {
   "cell_type": "markdown",
   "metadata": {},
   "source": [
    "* The question is whether our samples have the same variance.\n",
    "* I don't see a reason why we'd assume they would do so.\n",
    "* So, we might use the Welch's t-test, unless proved otherwise"
   ]
  },
  {
   "cell_type": "markdown",
   "metadata": {},
   "source": [
    "__Q:__ If, instead of being asked whether the means of two groups were different, you were working with an ad-recommender team who wanted to release a new recommendation algorithm, and you were looking at click-through rate both for the current algorithm (call it A) and from trials of their new algorithm (call it B), would you perform a two-sided test as above? What would be your null and alternative hypotheses and what would be the real-world consequence of rejecting the null hypothesis?"
   ]
  },
  {
   "cell_type": "markdown",
   "metadata": {},
   "source": [
    "* H0:  There is no improvement in the click-through rate of the new algorithm over the old\n",
    "* H1:  There is an improvement in the click-through rate of the new algorithm over the old\n",
    "* If you rejected the null and accepted the alternative, you'd adopt the new algorithm."
   ]
  }
 ],
 "metadata": {
  "kernelspec": {
   "display_name": "Python 3",
   "language": "python",
   "name": "python3"
  },
  "language_info": {
   "codemirror_mode": {
    "name": "ipython",
    "version": 3
   },
   "file_extension": ".py",
   "mimetype": "text/x-python",
   "name": "python",
   "nbconvert_exporter": "python",
   "pygments_lexer": "ipython3",
   "version": "3.7.4"
  }
 },
 "nbformat": 4,
 "nbformat_minor": 2
}
