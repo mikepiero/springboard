{
 "cells": [
  {
   "cell_type": "markdown",
   "metadata": {},
   "source": [
    "# Capstone 1:  Exercise 7.2.1:  v3 "
   ]
  },
  {
   "cell_type": "markdown",
   "metadata": {},
   "source": [
    "# Data story\n",
    "\n",
    "This notebook is an exploration of the Ames housing data, after I've first cleaned it.  \n",
    "\n",
    "In this notebook, I'm going to focus on the dependent variables--SalePrice.  \n",
    "\n",
    "I'm thinking about the following questions:\n",
    "\n",
    "* What's the distribution of SalePrice?\n",
    "* Are there outliers in SalePrice?\n",
    "* What's the count of sales by year?\n",
    "* Is there seasonality to sales?\n",
    "* What's the count of sales by month?\n",
    "* How are the prices of SalePrice changing by year?"
   ]
  },
  {
   "cell_type": "markdown",
   "metadata": {},
   "source": [
    "## History\n",
    "\n",
    "* v1:    First draft\n",
    "* v2.1:  Remove the statistical analysis\n",
    "* v2.2:  Added a summary.  Cleaned up a graph\n",
    "* v2.3:  Took the log of sales price.  No longer no on hypo tests\n",
    "* v3:    Cleaned up graphs for final reports"
   ]
  },
  {
   "cell_type": "markdown",
   "metadata": {},
   "source": [
    "## Set up"
   ]
  },
  {
   "cell_type": "code",
   "execution_count": 1,
   "metadata": {},
   "outputs": [],
   "source": [
    "# Import key libraries\n",
    "import numpy as np\n",
    "import pandas as pd\n",
    "import matplotlib.pyplot as plt\n",
    "import seaborn as sns"
   ]
  },
  {
   "cell_type": "code",
   "execution_count": 2,
   "metadata": {},
   "outputs": [],
   "source": [
    "# Set default seaborn style\n",
    "sns.set()\n",
    "\n",
    "# Set a default linewidth of 1\n",
    "LW = 1"
   ]
  },
  {
   "cell_type": "markdown",
   "metadata": {},
   "source": [
    "## Collect the cleaned data"
   ]
  },
  {
   "cell_type": "code",
   "execution_count": 3,
   "metadata": {},
   "outputs": [],
   "source": [
    "# Unpickle the dataframe \n",
    "df = pd.read_pickle('data/df_cln_v1.pickle')"
   ]
  },
  {
   "cell_type": "markdown",
   "metadata": {},
   "source": [
    "## Question 1:  What is the distribution of SalesPrice?"
   ]
  },
  {
   "cell_type": "code",
   "execution_count": 4,
   "metadata": {},
   "outputs": [
    {
     "data": {
      "text/plain": [
       "count      1460.000000\n",
       "mean     180921.195890\n",
       "std       79442.502883\n",
       "min       34900.000000\n",
       "25%      129975.000000\n",
       "50%      163000.000000\n",
       "75%      214000.000000\n",
       "max      755000.000000\n",
       "Name: SalePrice, dtype: float64"
      ]
     },
     "execution_count": 4,
     "metadata": {},
     "output_type": "execute_result"
    }
   ],
   "source": [
    "# Get summary stats\n",
    "df['SalePrice'].describe()"
   ]
  },
  {
   "cell_type": "markdown",
   "metadata": {},
   "source": [
    "Takeaway:\n",
    "\n",
    "* Mean sales price is about \\\\$180k\n",
    "* Median sales price is about \\$160k\n",
    "* Mean > median is hint at skew.\n",
    "* IQR is about \\\\$85k from \\\\$130 to \\\\$215\n",
    "* Min is about \\\\$35k and max is \\\\$750"
   ]
  },
  {
   "cell_type": "code",
   "execution_count": 5,
   "metadata": {},
   "outputs": [
    {
     "data": {
      "image/png": "[encoded data removed]",
      "text/plain": [
       "<Figure size 720x720 with 2 Axes>"
      ]
     },
     "metadata": {},
     "output_type": "display_data"
    }
   ],
   "source": [
    "# Look at the distribution - historgram and CDF\n",
    "_ = fig, axes = plt.subplots(nrows=2, ncols=1, figsize=(10,10))\n",
    "_ = df['SalePrice'].plot(ax=axes[0], kind='hist', bins=100)\n",
    "_ = axes[0].set_title('Histogram of SalePrice')\n",
    "_ = df['SalePrice'].plot(ax=axes[1], kind='hist', cumulative=True, density=True, bins=100)\n",
    "_ = axes[0].axvline(df['SalePrice'].mean(), color='r', linestyle='solid', linewidth=LW)\n",
    "_ = axes[0].axvline(df['SalePrice'].median(), color='r', linestyle='dotted', linewidth=LW)\n",
    "_ = axes[1].set_title('Cumulative distribution function of SalePrice')\n",
    "_ = plt.show()"
   ]
  },
  {
   "cell_type": "code",
   "execution_count": 6,
   "metadata": {},
   "outputs": [
    {
     "data": {
      "text/plain": [
       "Id\n",
       "1    208500\n",
       "2    181500\n",
       "3    223500\n",
       "4    140000\n",
       "5    250000\n",
       "Name: SalePrice, dtype: int64"
      ]
     },
     "execution_count": 6,
     "metadata": {},
     "output_type": "execute_result"
    }
   ],
   "source": [
    "df['SalePrice'].head()"
   ]
  },
  {
   "cell_type": "code",
   "execution_count": 7,
   "metadata": {},
   "outputs": [],
   "source": [
    "# ax1 = sns.subplots(nrows=2, ncols=1, figsize=(10,10))"
   ]
  },
  {
   "cell_type": "markdown",
   "metadata": {},
   "source": [
    "### Look at a log tranformed data set"
   ]
  },
  {
   "cell_type": "code",
   "execution_count": 8,
   "metadata": {},
   "outputs": [
    {
     "data": {
      "text/html": [
       "<div>\n",
       "<style scoped>\n",
       "    .dataframe tbody tr th:only-of-type {\n",
       "        vertical-align: middle;\n",
       "    }\n",
       "\n",
       "    .dataframe tbody tr th {\n",
       "        vertical-align: top;\n",
       "    }\n",
       "\n",
       "    .dataframe thead th {\n",
       "        text-align: right;\n",
       "    }\n",
       "</style>\n",
       "<table border=\"1\" class=\"dataframe\">\n",
       "  <thead>\n",
       "    <tr style=\"text-align: right;\">\n",
       "      <th></th>\n",
       "      <th>SalePrice</th>\n",
       "      <th>SalesPrice_log</th>\n",
       "      <th>SalesPrice_log10</th>\n",
       "    </tr>\n",
       "    <tr>\n",
       "      <th>Id</th>\n",
       "      <th></th>\n",
       "      <th></th>\n",
       "      <th></th>\n",
       "    </tr>\n",
       "  </thead>\n",
       "  <tbody>\n",
       "    <tr>\n",
       "      <td>1</td>\n",
       "      <td>208500</td>\n",
       "      <td>12.247694</td>\n",
       "      <td>5.319106</td>\n",
       "    </tr>\n",
       "    <tr>\n",
       "      <td>2</td>\n",
       "      <td>181500</td>\n",
       "      <td>12.109011</td>\n",
       "      <td>5.258877</td>\n",
       "    </tr>\n",
       "    <tr>\n",
       "      <td>3</td>\n",
       "      <td>223500</td>\n",
       "      <td>12.317167</td>\n",
       "      <td>5.349278</td>\n",
       "    </tr>\n",
       "    <tr>\n",
       "      <td>4</td>\n",
       "      <td>140000</td>\n",
       "      <td>11.849398</td>\n",
       "      <td>5.146128</td>\n",
       "    </tr>\n",
       "    <tr>\n",
       "      <td>5</td>\n",
       "      <td>250000</td>\n",
       "      <td>12.429216</td>\n",
       "      <td>5.397940</td>\n",
       "    </tr>\n",
       "  </tbody>\n",
       "</table>\n",
       "</div>"
      ],
      "text/plain": [
       "    SalePrice  SalesPrice_log  SalesPrice_log10\n",
       "Id                                             \n",
       "1      208500       12.247694          5.319106\n",
       "2      181500       12.109011          5.258877\n",
       "3      223500       12.317167          5.349278\n",
       "4      140000       11.849398          5.146128\n",
       "5      250000       12.429216          5.397940"
      ]
     },
     "execution_count": 8,
     "metadata": {},
     "output_type": "execute_result"
    }
   ],
   "source": [
    "# Make a table with logs of SalePrice \n",
    "\n",
    "df_log = pd.DataFrame(df['SalePrice'].copy())\n",
    "df_log['SalesPrice_log'] = np.log(df['SalePrice'])\n",
    "df_log['SalesPrice_log10'] = np.log10(df['SalePrice'])\n",
    "df_log.head()"
   ]
  },
  {
   "cell_type": "code",
   "execution_count": 9,
   "metadata": {},
   "outputs": [
    {
     "data": {
      "image/png": "[encoded data removed]",
      "text/plain": [
       "<Figure size 432x216 with 1 Axes>"
      ]
     },
     "metadata": {},
     "output_type": "display_data"
    },
    {
     "data": {
      "image/png": "[encoded data removed]",
      "text/plain": [
       "<Figure size 432x216 with 1 Axes>"
      ]
     },
     "metadata": {},
     "output_type": "display_data"
    },
    {
     "data": {
      "image/png": "[encoded data removed]",
      "text/plain": [
       "<Figure size 432x288 with 1 Axes>"
      ]
     },
     "metadata": {},
     "output_type": "display_data"
    }
   ],
   "source": [
    "# Graph all the distributins as KDE\n",
    "\n",
    "ax1 = plt.figure(figsize=(6, 3))\n",
    "ax1 = sns.distplot(df_log['SalePrice'])\n",
    "ax1 = plt.xlabel(\"Sale price\")\n",
    "ax1 = plt.xticks(rotation=90)\n",
    "ax1 = plt.ylabel('Percent of observations')\n",
    "ax1 = plt.title('Histogram and KDE of sales price')\n",
    "plt.show()\n",
    "\n",
    "ax2 = plt.figure(figsize=(6, 3))\n",
    "ax2 = sns.distplot(df_log['SalesPrice_log'])\n",
    "ax2 = plt.xlabel(\"log of sale price\")\n",
    "ax2 = plt.ylabel('Percent of observations')\n",
    "ax2 = plt.title('Histogram and KDE of the log of sales price')\n",
    "plt.show()\n",
    "\n",
    "ax3 = sns.distplot(df_log['SalesPrice_log10'])\n",
    "plt.show()"
   ]
  },
  {
   "cell_type": "markdown",
   "metadata": {},
   "source": [
    "Takeaways:\n",
    "\n",
    "* Histogram isn't normal\n",
    "* Right skew (aka, bulk on right).  Aka, Positive skew (aka, long tail of positive)\n",
    "* Outliers on the upper values\n",
    "* Two peaks--one around \\\\$150k, another around \\\\$200K\n",
    "* Maybe the values tend to 'clump' around specific sales prices\n",
    "* The log tranformed data set is more normal"
   ]
  },
  {
   "cell_type": "markdown",
   "metadata": {},
   "source": [
    "## Question 2:  Are there outliers in SalePrice?"
   ]
  },
  {
   "cell_type": "code",
   "execution_count": 10,
   "metadata": {},
   "outputs": [
    {
     "data": {
      "image/png": "[encoded data removed]",
      "text/plain": [
       "<Figure size 432x288 with 1 Axes>"
      ]
     },
     "metadata": {},
     "output_type": "display_data"
    }
   ],
   "source": [
    "# Look at a boxplot\n",
    "ax = sns.boxplot(y=df['SalePrice'], data=df)\n",
    "ax = plt.title(\"Box plot of SalesPrice\")"
   ]
  },
  {
   "cell_type": "code",
   "execution_count": 11,
   "metadata": {
    "scrolled": true
   },
   "outputs": [],
   "source": [
    "# Look at a boxplot - Try 1 - without seaborn\n",
    "# _ = plt.boxplot(df['SalePrice'])\n",
    "# _ = plt.title(\"Box plot of SalesPrice\")\n",
    "# _ = plt.show()"
   ]
  },
  {
   "cell_type": "code",
   "execution_count": 12,
   "metadata": {},
   "outputs": [
    {
     "name": "stdout",
     "output_type": "stream",
     "text": [
      "There are 0 outlier(s) at or below -57406.31275824897\n",
      "\n",
      "There are 22 outlier(s) at or above 419248.70453907084\n",
      "\n",
      "Here is the list:\n",
      "Id\n",
      "59      438780\n",
      "179     501837\n",
      "186     475000\n",
      "350     437154\n",
      "390     426000\n",
      "441     555000\n",
      "474     440000\n",
      "497     430000\n",
      "528     446261\n",
      "592     451950\n",
      "665     423000\n",
      "692     755000\n",
      "770     538000\n",
      "799     485000\n",
      "804     582933\n",
      "899     611657\n",
      "1047    556581\n",
      "1143    424870\n",
      "1170    625000\n",
      "1183    745000\n",
      "1244    465000\n",
      "1374    466500\n",
      "Name: SalePrice, dtype: int64\n"
     ]
    }
   ],
   "source": [
    "# List outliers - use basic definition of 3xd standard deviations from mean\n",
    "sales_price_std = df.SalePrice.std()\n",
    "sales_price_m = df.SalePrice.mean()\n",
    "multiple = 3\n",
    "outlier_lo = sales_price_m - (multiple * sales_price_std)\n",
    "outlier_hi = sales_price_m + (multiple * sales_price_std)\n",
    "# outlier_lo = 35000\n",
    "# outlier_hi = 750000\n",
    "# print(outlier_lo, outlier_hi)\n",
    "print('There are {} outlier(s) at or below {}'.format(df.SalePrice[df.SalePrice <= outlier_lo].count(), outlier_lo))\n",
    "print()\n",
    "print('There are {} outlier(s) at or above {}'.format(df.SalePrice[df.SalePrice >= outlier_hi].count(), outlier_hi))\n",
    "print()\n",
    "print('Here is the list:')\n",
    "print(df.SalePrice[(df.SalePrice <= outlier_lo) | (df.SalePrice >= outlier_hi)])\n",
    "\n",
    "# Save the values for later graph\n",
    "outlier_lo_3std = outlier_lo\n",
    "outlier_hi_3std = outlier_hi"
   ]
  },
  {
   "cell_type": "code",
   "execution_count": 13,
   "metadata": {},
   "outputs": [
    {
     "name": "stdout",
     "output_type": "stream",
     "text": [
      "There are 0 outlier(s) at or below -64987.5\n",
      "\n",
      "There are 8 outlier(s) at or above 535000.0\n",
      "\n",
      "Here is the list:\n",
      "      SalePrice\n",
      "Id             \n",
      "441      555000\n",
      "692      755000\n",
      "770      538000\n",
      "804      582933\n",
      "899      611657\n",
      "1047     556581\n",
      "1170     625000\n",
      "1183     745000\n"
     ]
    }
   ],
   "source": [
    "# Look at outliers - use Tukey's outlier definition of 1.5 IQR from quartile1 and quartile3\n",
    "sales_price_25ile = df.SalePrice.quantile(.25)\n",
    "sales_price_75ile = df.SalePrice.quantile(.75)\n",
    "multiple = 1.5\n",
    "outlier_lo = sales_price_25ile - (multiple * sales_price_25ile)\n",
    "outlier_hi = sales_price_75ile + (multiple * sales_price_75ile)\n",
    "print('There are {} outlier(s) at or below {}'.format(df.SalePrice[df.SalePrice <= outlier_lo].count(), outlier_lo))\n",
    "print()\n",
    "print('There are {} outlier(s) at or above {}'.format(df.SalePrice[df.SalePrice >= outlier_hi].count(), outlier_hi))\n",
    "print()\n",
    "print('Here is the list:')\n",
    "print(pd.DataFrame(df.SalePrice[(df.SalePrice <= outlier_lo) | (df.SalePrice >= outlier_hi)]))\n",
    "\n",
    "# Save the values for later graph\n",
    "outlier_lo_1halfIRQ = outlier_lo\n",
    "outlier_hi_1halfIRQ = outlier_hi"
   ]
  },
  {
   "cell_type": "code",
   "execution_count": 14,
   "metadata": {},
   "outputs": [
    {
     "name": "stdout",
     "output_type": "stream",
     "text": [
      "There are 0 outlier(s) at or below -259950.0\n",
      "\n",
      "There are 0 outlier(s) at or above 856000.0\n"
     ]
    }
   ],
   "source": [
    "# Look at outliers - use Tukey's 'far out' definition of 3 times the IQR\n",
    "sales_price_25ile = df.SalePrice.quantile(.25)\n",
    "sales_price_75ile = df.SalePrice.quantile(.75)\n",
    "multiple = 3\n",
    "outlier_lo = sales_price_25ile - (multiple * sales_price_25ile)\n",
    "outlier_hi = sales_price_75ile + (multiple * sales_price_75ile)\n",
    "print('There are {} outlier(s) at or below {}'.format(df.SalePrice[df.SalePrice <= outlier_lo].count(), outlier_lo))\n",
    "print()\n",
    "print('There are {} outlier(s) at or above {}'.format(df.SalePrice[df.SalePrice >= outlier_hi].count(), outlier_hi))\n",
    "\n",
    "\n",
    "# Save the values for later graph\n",
    "outlier_lo_3IRQ = outlier_lo\n",
    "outlier_hi_3IRQ = outlier_hi"
   ]
  },
  {
   "cell_type": "code",
   "execution_count": 15,
   "metadata": {},
   "outputs": [
    {
     "data": {
      "image/png": "[encoded data removed]",
      "text/plain": [
       "<Figure size 720x360 with 1 Axes>"
      ]
     },
     "metadata": {},
     "output_type": "display_data"
    }
   ],
   "source": [
    "# Look at the distribution - as historgram and as CDF\n",
    "\n",
    "_ = plt.figure(figsize=(10,5))\n",
    "_ = plt.hist(df['SalePrice'], bins=100)\n",
    "df['SalePrice']\n",
    "_ = plt.xlabel('Sales Price')\n",
    "_ = plt.ylabel('Count of sales')\n",
    "_ = plt.title('Distribution of SalePrice with various outlier cutoffs')\n",
    "\n",
    "# _ = plt.axvline(mean, color='r')\n",
    "LW = 1\n",
    "_ = plt.axvline(df['SalePrice'].mean(), color='r', linestyle='solid', linewidth=LW)\n",
    "_ = plt.axvline(outlier_lo_3std, color='r', linestyle='dotted', linewidth=LW)\n",
    "_ = plt.axvline(outlier_hi_3std, color='r', linestyle='dotted', linewidth=LW)\n",
    "_ = plt.axvline(outlier_lo_1halfIRQ, color='r', linestyle='dashed', linewidth=LW)\n",
    "_ = plt.axvline(outlier_hi_1halfIRQ, color='r', linestyle='dashed', linewidth=LW)\n",
    "_ = plt.axvline(outlier_lo_3IRQ, color='r', linestyle='dashdot', linewidth=LW)\n",
    "_ = plt.axvline(outlier_hi_3IRQ, color='r', linestyle='dashdot', linewidth=LW)"
   ]
  },
  {
   "cell_type": "markdown",
   "metadata": {},
   "source": [
    "## Question 3:  What's the timing of sales?\n",
    "\n",
    "That is, what's the count of sales by year?"
   ]
  },
  {
   "cell_type": "code",
   "execution_count": 16,
   "metadata": {},
   "outputs": [
    {
     "name": "stdout",
     "output_type": "stream",
     "text": [
      "The first sales was on 2006-01\n",
      "The last sale was on 2010-07\n"
     ]
    }
   ],
   "source": [
    "# What's the range?\n",
    "print('The first sales was on {}'.format(min(df.YrMoSold)))\n",
    "print('The last sale was on {}'.format(max(df.YrMoSold)))"
   ]
  },
  {
   "cell_type": "code",
   "execution_count": 17,
   "metadata": {},
   "outputs": [
    {
     "data": {
      "text/html": [
       "<div>\n",
       "<style scoped>\n",
       "    .dataframe tbody tr th:only-of-type {\n",
       "        vertical-align: middle;\n",
       "    }\n",
       "\n",
       "    .dataframe tbody tr th {\n",
       "        vertical-align: top;\n",
       "    }\n",
       "\n",
       "    .dataframe thead th {\n",
       "        text-align: right;\n",
       "    }\n",
       "</style>\n",
       "<table border=\"1\" class=\"dataframe\">\n",
       "  <thead>\n",
       "    <tr style=\"text-align: right;\">\n",
       "      <th></th>\n",
       "      <th>sales_count</th>\n",
       "    </tr>\n",
       "  </thead>\n",
       "  <tbody>\n",
       "    <tr>\n",
       "      <td>2006</td>\n",
       "      <td>314</td>\n",
       "    </tr>\n",
       "    <tr>\n",
       "      <td>2007</td>\n",
       "      <td>329</td>\n",
       "    </tr>\n",
       "    <tr>\n",
       "      <td>2008</td>\n",
       "      <td>304</td>\n",
       "    </tr>\n",
       "    <tr>\n",
       "      <td>2009</td>\n",
       "      <td>338</td>\n",
       "    </tr>\n",
       "    <tr>\n",
       "      <td>2010</td>\n",
       "      <td>175</td>\n",
       "    </tr>\n",
       "  </tbody>\n",
       "</table>\n",
       "</div>"
      ],
      "text/plain": [
       "      sales_count\n",
       "2006          314\n",
       "2007          329\n",
       "2008          304\n",
       "2009          338\n",
       "2010          175"
      ]
     },
     "execution_count": 17,
     "metadata": {},
     "output_type": "execute_result"
    }
   ],
   "source": [
    "# Make table of count of sales by year\n",
    "count_by_year = df.YrSold.value_counts().sort_index()\n",
    "count_by_year = pd.DataFrame(count_by_year)\n",
    "count_by_year.index.set_names = 'year'\n",
    "count_by_year.columns = ['sales_count']\n",
    "count_by_year"
   ]
  },
  {
   "cell_type": "code",
   "execution_count": 18,
   "metadata": {},
   "outputs": [
    {
     "data": {
      "text/html": [
       "<div>\n",
       "<style scoped>\n",
       "    .dataframe tbody tr th:only-of-type {\n",
       "        vertical-align: middle;\n",
       "    }\n",
       "\n",
       "    .dataframe tbody tr th {\n",
       "        vertical-align: top;\n",
       "    }\n",
       "\n",
       "    .dataframe thead th {\n",
       "        text-align: right;\n",
       "    }\n",
       "</style>\n",
       "<table border=\"1\" class=\"dataframe\">\n",
       "  <thead>\n",
       "    <tr style=\"text-align: right;\">\n",
       "      <th></th>\n",
       "      <th>sales_count</th>\n",
       "    </tr>\n",
       "  </thead>\n",
       "  <tbody>\n",
       "    <tr>\n",
       "      <td>count</td>\n",
       "      <td>5.000000</td>\n",
       "    </tr>\n",
       "    <tr>\n",
       "      <td>mean</td>\n",
       "      <td>292.000000</td>\n",
       "    </tr>\n",
       "    <tr>\n",
       "      <td>std</td>\n",
       "      <td>66.712068</td>\n",
       "    </tr>\n",
       "    <tr>\n",
       "      <td>min</td>\n",
       "      <td>175.000000</td>\n",
       "    </tr>\n",
       "    <tr>\n",
       "      <td>25%</td>\n",
       "      <td>304.000000</td>\n",
       "    </tr>\n",
       "    <tr>\n",
       "      <td>50%</td>\n",
       "      <td>314.000000</td>\n",
       "    </tr>\n",
       "    <tr>\n",
       "      <td>75%</td>\n",
       "      <td>329.000000</td>\n",
       "    </tr>\n",
       "    <tr>\n",
       "      <td>max</td>\n",
       "      <td>338.000000</td>\n",
       "    </tr>\n",
       "  </tbody>\n",
       "</table>\n",
       "</div>"
      ],
      "text/plain": [
       "       sales_count\n",
       "count     5.000000\n",
       "mean    292.000000\n",
       "std      66.712068\n",
       "min     175.000000\n",
       "25%     304.000000\n",
       "50%     314.000000\n",
       "75%     329.000000\n",
       "max     338.000000"
      ]
     },
     "execution_count": 18,
     "metadata": {},
     "output_type": "execute_result"
    }
   ],
   "source": [
    "# Get basic stat\n",
    "count_by_year.describe()"
   ]
  },
  {
   "cell_type": "markdown",
   "metadata": {},
   "source": [
    "Takeaway:\n",
    "    \n",
    "* Most years are about 315 (aka, median)\n",
    "* Not that much deviation between the years.  \n",
    "* But for 2010, which is about 1/2 that amount"
   ]
  },
  {
   "cell_type": "code",
   "execution_count": 19,
   "metadata": {
    "scrolled": false
   },
   "outputs": [
    {
     "data": {
      "image/png": "[encoded data removed]",
      "text/plain": [
       "<Figure size 432x288 with 1 Axes>"
      ]
     },
     "metadata": {},
     "output_type": "display_data"
    }
   ],
   "source": [
    "# Look at count of sales by year\n",
    "_ = count_by_year.plot.bar(legend=False)\n",
    "_ = plt.xlabel('Year')\n",
    "_ = plt.ylabel('Count of sales per year')\n",
    "_ = plt.title('Count of sales per year')"
   ]
  },
  {
   "cell_type": "code",
   "execution_count": 20,
   "metadata": {},
   "outputs": [
    {
     "data": {
      "text/html": [
       "<div>\n",
       "<style scoped>\n",
       "    .dataframe tbody tr th:only-of-type {\n",
       "        vertical-align: middle;\n",
       "    }\n",
       "\n",
       "    .dataframe tbody tr th {\n",
       "        vertical-align: top;\n",
       "    }\n",
       "\n",
       "    .dataframe thead th {\n",
       "        text-align: right;\n",
       "    }\n",
       "</style>\n",
       "<table border=\"1\" class=\"dataframe\">\n",
       "  <thead>\n",
       "    <tr style=\"text-align: right;\">\n",
       "      <th></th>\n",
       "      <th>MoSold</th>\n",
       "    </tr>\n",
       "  </thead>\n",
       "  <tbody>\n",
       "    <tr>\n",
       "      <td>1</td>\n",
       "      <td>10</td>\n",
       "    </tr>\n",
       "    <tr>\n",
       "      <td>2</td>\n",
       "      <td>15</td>\n",
       "    </tr>\n",
       "    <tr>\n",
       "      <td>3</td>\n",
       "      <td>21</td>\n",
       "    </tr>\n",
       "    <tr>\n",
       "      <td>4</td>\n",
       "      <td>39</td>\n",
       "    </tr>\n",
       "    <tr>\n",
       "      <td>5</td>\n",
       "      <td>48</td>\n",
       "    </tr>\n",
       "    <tr>\n",
       "      <td>6</td>\n",
       "      <td>36</td>\n",
       "    </tr>\n",
       "    <tr>\n",
       "      <td>7</td>\n",
       "      <td>6</td>\n",
       "    </tr>\n",
       "  </tbody>\n",
       "</table>\n",
       "</div>"
      ],
      "text/plain": [
       "   MoSold\n",
       "1      10\n",
       "2      15\n",
       "3      21\n",
       "4      39\n",
       "5      48\n",
       "6      36\n",
       "7       6"
      ]
     },
     "execution_count": 20,
     "metadata": {},
     "output_type": "execute_result"
    }
   ],
   "source": [
    "# Look at count of sales by month for 2010\n",
    "df_2010_by_mo = df[df.YrSold == 2010]\n",
    "pd.DataFrame(df_2010_by_mo.MoSold.value_counts().sort_index())"
   ]
  },
  {
   "cell_type": "markdown",
   "metadata": {},
   "source": [
    "Takeaways:\n",
    "\n",
    "* June 2010 looks like a 'full month'\n",
    "* But July 2010 looks like the cut off.  Aka, not at a clean month end"
   ]
  },
  {
   "cell_type": "code",
   "execution_count": 21,
   "metadata": {},
   "outputs": [
    {
     "data": {
      "text/html": [
       "<div>\n",
       "<style scoped>\n",
       "    .dataframe tbody tr th:only-of-type {\n",
       "        vertical-align: middle;\n",
       "    }\n",
       "\n",
       "    .dataframe tbody tr th {\n",
       "        vertical-align: top;\n",
       "    }\n",
       "\n",
       "    .dataframe thead th {\n",
       "        text-align: right;\n",
       "    }\n",
       "</style>\n",
       "<table border=\"1\" class=\"dataframe\">\n",
       "  <thead>\n",
       "    <tr style=\"text-align: right;\">\n",
       "      <th></th>\n",
       "      <th>sales_count</th>\n",
       "      <th>pct_of_median_year</th>\n",
       "    </tr>\n",
       "  </thead>\n",
       "  <tbody>\n",
       "    <tr>\n",
       "      <td>2006</td>\n",
       "      <td>314</td>\n",
       "      <td>1.000000</td>\n",
       "    </tr>\n",
       "    <tr>\n",
       "      <td>2007</td>\n",
       "      <td>329</td>\n",
       "      <td>1.047771</td>\n",
       "    </tr>\n",
       "    <tr>\n",
       "      <td>2008</td>\n",
       "      <td>304</td>\n",
       "      <td>0.968153</td>\n",
       "    </tr>\n",
       "    <tr>\n",
       "      <td>2009</td>\n",
       "      <td>338</td>\n",
       "      <td>1.076433</td>\n",
       "    </tr>\n",
       "    <tr>\n",
       "      <td>2010</td>\n",
       "      <td>175</td>\n",
       "      <td>0.557325</td>\n",
       "    </tr>\n",
       "  </tbody>\n",
       "</table>\n",
       "</div>"
      ],
      "text/plain": [
       "      sales_count  pct_of_median_year\n",
       "2006          314            1.000000\n",
       "2007          329            1.047771\n",
       "2008          304            0.968153\n",
       "2009          338            1.076433\n",
       "2010          175            0.557325"
      ]
     },
     "execution_count": 21,
     "metadata": {},
     "output_type": "execute_result"
    }
   ],
   "source": [
    "# Is the count of sales increasing earch year?\n",
    "mean = count_by_year['sales_count'].median()\n",
    "count_by_year['pct_of_median_year'] = count_by_year['sales_count'] / mean\n",
    "count_by_year"
   ]
  },
  {
   "cell_type": "markdown",
   "metadata": {},
   "source": [
    "Takeaway:\n",
    "    \n",
    "* We're got data for 5 years:  2006 to 2010\n",
    "* They look pretty much evenly distributed between the years\n",
    "* Except for 2010.  This is about 1/2 the sales and covers about 1/2 a year\n",
    "* No clear trend if number of sales in increasing"
   ]
  },
  {
   "cell_type": "markdown",
   "metadata": {},
   "source": [
    "## Question 4-a:  What is the count of sales by month?  Looking monthly across entire data set\n",
    "\n",
    "For example, looking at all at \"May\" sales, irrespective of year.  Mainly, a look at seasonality."
   ]
  },
  {
   "cell_type": "code",
   "execution_count": 22,
   "metadata": {},
   "outputs": [
    {
     "data": {
      "text/html": [
       "<div>\n",
       "<style scoped>\n",
       "    .dataframe tbody tr th:only-of-type {\n",
       "        vertical-align: middle;\n",
       "    }\n",
       "\n",
       "    .dataframe tbody tr th {\n",
       "        vertical-align: top;\n",
       "    }\n",
       "\n",
       "    .dataframe thead th {\n",
       "        text-align: right;\n",
       "    }\n",
       "</style>\n",
       "<table border=\"1\" class=\"dataframe\">\n",
       "  <thead>\n",
       "    <tr style=\"text-align: right;\">\n",
       "      <th></th>\n",
       "      <th>sales_count</th>\n",
       "    </tr>\n",
       "  </thead>\n",
       "  <tbody>\n",
       "    <tr>\n",
       "      <td>1</td>\n",
       "      <td>58</td>\n",
       "    </tr>\n",
       "    <tr>\n",
       "      <td>2</td>\n",
       "      <td>52</td>\n",
       "    </tr>\n",
       "    <tr>\n",
       "      <td>3</td>\n",
       "      <td>106</td>\n",
       "    </tr>\n",
       "    <tr>\n",
       "      <td>4</td>\n",
       "      <td>141</td>\n",
       "    </tr>\n",
       "    <tr>\n",
       "      <td>5</td>\n",
       "      <td>204</td>\n",
       "    </tr>\n",
       "    <tr>\n",
       "      <td>6</td>\n",
       "      <td>253</td>\n",
       "    </tr>\n",
       "    <tr>\n",
       "      <td>7</td>\n",
       "      <td>234</td>\n",
       "    </tr>\n",
       "    <tr>\n",
       "      <td>8</td>\n",
       "      <td>122</td>\n",
       "    </tr>\n",
       "    <tr>\n",
       "      <td>9</td>\n",
       "      <td>63</td>\n",
       "    </tr>\n",
       "    <tr>\n",
       "      <td>10</td>\n",
       "      <td>89</td>\n",
       "    </tr>\n",
       "    <tr>\n",
       "      <td>11</td>\n",
       "      <td>79</td>\n",
       "    </tr>\n",
       "    <tr>\n",
       "      <td>12</td>\n",
       "      <td>59</td>\n",
       "    </tr>\n",
       "  </tbody>\n",
       "</table>\n",
       "</div>"
      ],
      "text/plain": [
       "    sales_count\n",
       "1            58\n",
       "2            52\n",
       "3           106\n",
       "4           141\n",
       "5           204\n",
       "6           253\n",
       "7           234\n",
       "8           122\n",
       "9            63\n",
       "10           89\n",
       "11           79\n",
       "12           59"
      ]
     },
     "execution_count": 22,
     "metadata": {},
     "output_type": "execute_result"
    }
   ],
   "source": [
    "# Make a table\n",
    "count_by_month = df['MoSold'].value_counts().sort_index()\n",
    "count_by_month = pd.DataFrame(count_by_month)\n",
    "count_by_month.index.set_names = 'month'\n",
    "count_by_month.columns = ['sales_count']\n",
    "count_by_month"
   ]
  },
  {
   "cell_type": "code",
   "execution_count": 23,
   "metadata": {},
   "outputs": [
    {
     "data": {
      "text/html": [
       "<div>\n",
       "<style scoped>\n",
       "    .dataframe tbody tr th:only-of-type {\n",
       "        vertical-align: middle;\n",
       "    }\n",
       "\n",
       "    .dataframe tbody tr th {\n",
       "        vertical-align: top;\n",
       "    }\n",
       "\n",
       "    .dataframe thead th {\n",
       "        text-align: right;\n",
       "    }\n",
       "</style>\n",
       "<table border=\"1\" class=\"dataframe\">\n",
       "  <thead>\n",
       "    <tr style=\"text-align: right;\">\n",
       "      <th></th>\n",
       "      <th>sales_count</th>\n",
       "    </tr>\n",
       "  </thead>\n",
       "  <tbody>\n",
       "    <tr>\n",
       "      <td>count</td>\n",
       "      <td>12.000000</td>\n",
       "    </tr>\n",
       "    <tr>\n",
       "      <td>mean</td>\n",
       "      <td>121.666667</td>\n",
       "    </tr>\n",
       "    <tr>\n",
       "      <td>std</td>\n",
       "      <td>71.623172</td>\n",
       "    </tr>\n",
       "    <tr>\n",
       "      <td>min</td>\n",
       "      <td>52.000000</td>\n",
       "    </tr>\n",
       "    <tr>\n",
       "      <td>25%</td>\n",
       "      <td>62.000000</td>\n",
       "    </tr>\n",
       "    <tr>\n",
       "      <td>50%</td>\n",
       "      <td>97.500000</td>\n",
       "    </tr>\n",
       "    <tr>\n",
       "      <td>75%</td>\n",
       "      <td>156.750000</td>\n",
       "    </tr>\n",
       "    <tr>\n",
       "      <td>max</td>\n",
       "      <td>253.000000</td>\n",
       "    </tr>\n",
       "  </tbody>\n",
       "</table>\n",
       "</div>"
      ],
      "text/plain": [
       "       sales_count\n",
       "count    12.000000\n",
       "mean    121.666667\n",
       "std      71.623172\n",
       "min      52.000000\n",
       "25%      62.000000\n",
       "50%      97.500000\n",
       "75%     156.750000\n",
       "max     253.000000"
      ]
     },
     "execution_count": 23,
     "metadata": {},
     "output_type": "execute_result"
    }
   ],
   "source": [
    "# Look at summary stats\n",
    "count_by_month.describe()"
   ]
  },
  {
   "cell_type": "code",
   "execution_count": 24,
   "metadata": {},
   "outputs": [
    {
     "data": {
      "text/html": [
       "<div>\n",
       "<style scoped>\n",
       "    .dataframe tbody tr th:only-of-type {\n",
       "        vertical-align: middle;\n",
       "    }\n",
       "\n",
       "    .dataframe tbody tr th {\n",
       "        vertical-align: top;\n",
       "    }\n",
       "\n",
       "    .dataframe thead th {\n",
       "        text-align: right;\n",
       "    }\n",
       "</style>\n",
       "<table border=\"1\" class=\"dataframe\">\n",
       "  <thead>\n",
       "    <tr style=\"text-align: right;\">\n",
       "      <th></th>\n",
       "      <th>sales_count</th>\n",
       "      <th>pct_of_median_year</th>\n",
       "    </tr>\n",
       "  </thead>\n",
       "  <tbody>\n",
       "    <tr>\n",
       "      <td>1</td>\n",
       "      <td>58</td>\n",
       "      <td>0.594872</td>\n",
       "    </tr>\n",
       "    <tr>\n",
       "      <td>2</td>\n",
       "      <td>52</td>\n",
       "      <td>0.533333</td>\n",
       "    </tr>\n",
       "    <tr>\n",
       "      <td>3</td>\n",
       "      <td>106</td>\n",
       "      <td>1.087179</td>\n",
       "    </tr>\n",
       "    <tr>\n",
       "      <td>4</td>\n",
       "      <td>141</td>\n",
       "      <td>1.446154</td>\n",
       "    </tr>\n",
       "    <tr>\n",
       "      <td>5</td>\n",
       "      <td>204</td>\n",
       "      <td>2.092308</td>\n",
       "    </tr>\n",
       "    <tr>\n",
       "      <td>6</td>\n",
       "      <td>253</td>\n",
       "      <td>2.594872</td>\n",
       "    </tr>\n",
       "    <tr>\n",
       "      <td>7</td>\n",
       "      <td>234</td>\n",
       "      <td>2.400000</td>\n",
       "    </tr>\n",
       "    <tr>\n",
       "      <td>8</td>\n",
       "      <td>122</td>\n",
       "      <td>1.251282</td>\n",
       "    </tr>\n",
       "    <tr>\n",
       "      <td>9</td>\n",
       "      <td>63</td>\n",
       "      <td>0.646154</td>\n",
       "    </tr>\n",
       "    <tr>\n",
       "      <td>10</td>\n",
       "      <td>89</td>\n",
       "      <td>0.912821</td>\n",
       "    </tr>\n",
       "    <tr>\n",
       "      <td>11</td>\n",
       "      <td>79</td>\n",
       "      <td>0.810256</td>\n",
       "    </tr>\n",
       "    <tr>\n",
       "      <td>12</td>\n",
       "      <td>59</td>\n",
       "      <td>0.605128</td>\n",
       "    </tr>\n",
       "  </tbody>\n",
       "</table>\n",
       "</div>"
      ],
      "text/plain": [
       "    sales_count  pct_of_median_year\n",
       "1            58            0.594872\n",
       "2            52            0.533333\n",
       "3           106            1.087179\n",
       "4           141            1.446154\n",
       "5           204            2.092308\n",
       "6           253            2.594872\n",
       "7           234            2.400000\n",
       "8           122            1.251282\n",
       "9            63            0.646154\n",
       "10           89            0.912821\n",
       "11           79            0.810256\n",
       "12           59            0.605128"
      ]
     },
     "execution_count": 24,
     "metadata": {},
     "output_type": "execute_result"
    }
   ],
   "source": [
    "# Montly count as percent of monthly median?\n",
    "mean = count_by_month['sales_count'].median()\n",
    "count_by_month['pct_of_median_year'] = count_by_month['sales_count'] / mean\n",
    "count_by_month"
   ]
  },
  {
   "cell_type": "code",
   "execution_count": 25,
   "metadata": {},
   "outputs": [
    {
     "data": {
      "image/png": "[encoded data removed]",
      "text/plain": [
       "<Figure size 432x288 with 1 Axes>"
      ]
     },
     "metadata": {},
     "output_type": "display_data"
    }
   ],
   "source": [
    " # Look at graph\n",
    "_ = count_by_month.plot.bar(legend=False)\n",
    "_ = plt.xlabel('Month')\n",
    "_ = plt.ylabel('Count of sales')\n",
    "_ = plt.title('Count of sales across months - entire sample')"
   ]
  },
  {
   "cell_type": "markdown",
   "metadata": {},
   "source": [
    "Takeways:\n",
    "    \n",
    "* About 120 a month, mean\n",
    "* About 100 a month, median\n",
    "* But big variation by month--a standard deviation of 75 a month\n",
    "* Some of biggest months (May, June, July) are 4x to 5x the size of smallest months months (Dec and Jan)\n",
    "* Likely, seasonality:  You sell homes in the summer"
   ]
  },
  {
   "cell_type": "markdown",
   "metadata": {},
   "source": [
    "## Question 4-b:  What is the count of sales by month?  Looking monthly only a 'full years'\n",
    "\n",
    "\n",
    "Let's drop the \"partial\" year (2010) to get a better feel for seasonality."
   ]
  },
  {
   "cell_type": "code",
   "execution_count": 26,
   "metadata": {},
   "outputs": [
    {
     "data": {
      "text/html": [
       "<div>\n",
       "<style scoped>\n",
       "    .dataframe tbody tr th:only-of-type {\n",
       "        vertical-align: middle;\n",
       "    }\n",
       "\n",
       "    .dataframe tbody tr th {\n",
       "        vertical-align: top;\n",
       "    }\n",
       "\n",
       "    .dataframe thead th {\n",
       "        text-align: right;\n",
       "    }\n",
       "</style>\n",
       "<table border=\"1\" class=\"dataframe\">\n",
       "  <thead>\n",
       "    <tr style=\"text-align: right;\">\n",
       "      <th></th>\n",
       "      <th>sales_count</th>\n",
       "    </tr>\n",
       "  </thead>\n",
       "  <tbody>\n",
       "    <tr>\n",
       "      <td>1</td>\n",
       "      <td>48</td>\n",
       "    </tr>\n",
       "    <tr>\n",
       "      <td>2</td>\n",
       "      <td>37</td>\n",
       "    </tr>\n",
       "    <tr>\n",
       "      <td>3</td>\n",
       "      <td>85</td>\n",
       "    </tr>\n",
       "    <tr>\n",
       "      <td>4</td>\n",
       "      <td>102</td>\n",
       "    </tr>\n",
       "    <tr>\n",
       "      <td>5</td>\n",
       "      <td>156</td>\n",
       "    </tr>\n",
       "    <tr>\n",
       "      <td>6</td>\n",
       "      <td>217</td>\n",
       "    </tr>\n",
       "    <tr>\n",
       "      <td>7</td>\n",
       "      <td>228</td>\n",
       "    </tr>\n",
       "    <tr>\n",
       "      <td>8</td>\n",
       "      <td>122</td>\n",
       "    </tr>\n",
       "    <tr>\n",
       "      <td>9</td>\n",
       "      <td>63</td>\n",
       "    </tr>\n",
       "    <tr>\n",
       "      <td>10</td>\n",
       "      <td>89</td>\n",
       "    </tr>\n",
       "    <tr>\n",
       "      <td>11</td>\n",
       "      <td>79</td>\n",
       "    </tr>\n",
       "    <tr>\n",
       "      <td>12</td>\n",
       "      <td>59</td>\n",
       "    </tr>\n",
       "  </tbody>\n",
       "</table>\n",
       "</div>"
      ],
      "text/plain": [
       "    sales_count\n",
       "1            48\n",
       "2            37\n",
       "3            85\n",
       "4           102\n",
       "5           156\n",
       "6           217\n",
       "7           228\n",
       "8           122\n",
       "9            63\n",
       "10           89\n",
       "11           79\n",
       "12           59"
      ]
     },
     "execution_count": 26,
     "metadata": {},
     "output_type": "execute_result"
    }
   ],
   "source": [
    "# Make a table\n",
    "count_by_month_full_yrs = df[df['YrSold'] != 2010]\n",
    "count_by_month_full_yrs = count_by_month_full_yrs['MoSold'].value_counts().sort_index()\n",
    "count_by_month_full_yrs = pd.DataFrame(count_by_month_full_yrs)\n",
    "count_by_month_full_yrs.index.set_names = 'month'\n",
    "count_by_month_full_yrs.columns = ['sales_count']\n",
    "count_by_month_full_yrs"
   ]
  },
  {
   "cell_type": "code",
   "execution_count": 27,
   "metadata": {},
   "outputs": [
    {
     "data": {
      "text/html": [
       "<div>\n",
       "<style scoped>\n",
       "    .dataframe tbody tr th:only-of-type {\n",
       "        vertical-align: middle;\n",
       "    }\n",
       "\n",
       "    .dataframe tbody tr th {\n",
       "        vertical-align: top;\n",
       "    }\n",
       "\n",
       "    .dataframe thead th {\n",
       "        text-align: right;\n",
       "    }\n",
       "</style>\n",
       "<table border=\"1\" class=\"dataframe\">\n",
       "  <thead>\n",
       "    <tr style=\"text-align: right;\">\n",
       "      <th></th>\n",
       "      <th>sales_count</th>\n",
       "    </tr>\n",
       "  </thead>\n",
       "  <tbody>\n",
       "    <tr>\n",
       "      <td>count</td>\n",
       "      <td>12.000000</td>\n",
       "    </tr>\n",
       "    <tr>\n",
       "      <td>mean</td>\n",
       "      <td>107.083333</td>\n",
       "    </tr>\n",
       "    <tr>\n",
       "      <td>std</td>\n",
       "      <td>62.960967</td>\n",
       "    </tr>\n",
       "    <tr>\n",
       "      <td>min</td>\n",
       "      <td>37.000000</td>\n",
       "    </tr>\n",
       "    <tr>\n",
       "      <td>25%</td>\n",
       "      <td>62.000000</td>\n",
       "    </tr>\n",
       "    <tr>\n",
       "      <td>50%</td>\n",
       "      <td>87.000000</td>\n",
       "    </tr>\n",
       "    <tr>\n",
       "      <td>75%</td>\n",
       "      <td>130.500000</td>\n",
       "    </tr>\n",
       "    <tr>\n",
       "      <td>max</td>\n",
       "      <td>228.000000</td>\n",
       "    </tr>\n",
       "  </tbody>\n",
       "</table>\n",
       "</div>"
      ],
      "text/plain": [
       "       sales_count\n",
       "count    12.000000\n",
       "mean    107.083333\n",
       "std      62.960967\n",
       "min      37.000000\n",
       "25%      62.000000\n",
       "50%      87.000000\n",
       "75%     130.500000\n",
       "max     228.000000"
      ]
     },
     "execution_count": 27,
     "metadata": {},
     "output_type": "execute_result"
    }
   ],
   "source": [
    "# Get basic stats\n",
    "count_by_month_full_yrs.describe()"
   ]
  },
  {
   "cell_type": "code",
   "execution_count": 28,
   "metadata": {},
   "outputs": [
    {
     "data": {
      "text/html": [
       "<div>\n",
       "<style scoped>\n",
       "    .dataframe tbody tr th:only-of-type {\n",
       "        vertical-align: middle;\n",
       "    }\n",
       "\n",
       "    .dataframe tbody tr th {\n",
       "        vertical-align: top;\n",
       "    }\n",
       "\n",
       "    .dataframe thead th {\n",
       "        text-align: right;\n",
       "    }\n",
       "</style>\n",
       "<table border=\"1\" class=\"dataframe\">\n",
       "  <thead>\n",
       "    <tr style=\"text-align: right;\">\n",
       "      <th></th>\n",
       "      <th>sales_count</th>\n",
       "      <th>pct_of_median_year</th>\n",
       "    </tr>\n",
       "  </thead>\n",
       "  <tbody>\n",
       "    <tr>\n",
       "      <td>1</td>\n",
       "      <td>48</td>\n",
       "      <td>0.551724</td>\n",
       "    </tr>\n",
       "    <tr>\n",
       "      <td>2</td>\n",
       "      <td>37</td>\n",
       "      <td>0.425287</td>\n",
       "    </tr>\n",
       "    <tr>\n",
       "      <td>3</td>\n",
       "      <td>85</td>\n",
       "      <td>0.977011</td>\n",
       "    </tr>\n",
       "    <tr>\n",
       "      <td>4</td>\n",
       "      <td>102</td>\n",
       "      <td>1.172414</td>\n",
       "    </tr>\n",
       "    <tr>\n",
       "      <td>5</td>\n",
       "      <td>156</td>\n",
       "      <td>1.793103</td>\n",
       "    </tr>\n",
       "    <tr>\n",
       "      <td>6</td>\n",
       "      <td>217</td>\n",
       "      <td>2.494253</td>\n",
       "    </tr>\n",
       "    <tr>\n",
       "      <td>7</td>\n",
       "      <td>228</td>\n",
       "      <td>2.620690</td>\n",
       "    </tr>\n",
       "    <tr>\n",
       "      <td>8</td>\n",
       "      <td>122</td>\n",
       "      <td>1.402299</td>\n",
       "    </tr>\n",
       "    <tr>\n",
       "      <td>9</td>\n",
       "      <td>63</td>\n",
       "      <td>0.724138</td>\n",
       "    </tr>\n",
       "    <tr>\n",
       "      <td>10</td>\n",
       "      <td>89</td>\n",
       "      <td>1.022989</td>\n",
       "    </tr>\n",
       "    <tr>\n",
       "      <td>11</td>\n",
       "      <td>79</td>\n",
       "      <td>0.908046</td>\n",
       "    </tr>\n",
       "    <tr>\n",
       "      <td>12</td>\n",
       "      <td>59</td>\n",
       "      <td>0.678161</td>\n",
       "    </tr>\n",
       "  </tbody>\n",
       "</table>\n",
       "</div>"
      ],
      "text/plain": [
       "    sales_count  pct_of_median_year\n",
       "1            48            0.551724\n",
       "2            37            0.425287\n",
       "3            85            0.977011\n",
       "4           102            1.172414\n",
       "5           156            1.793103\n",
       "6           217            2.494253\n",
       "7           228            2.620690\n",
       "8           122            1.402299\n",
       "9            63            0.724138\n",
       "10           89            1.022989\n",
       "11           79            0.908046\n",
       "12           59            0.678161"
      ]
     },
     "execution_count": 28,
     "metadata": {},
     "output_type": "execute_result"
    }
   ],
   "source": [
    "# Montly count as percent of monthly median?\n",
    "mean = count_by_month_full_yrs['sales_count'].median()\n",
    "count_by_month_full_yrs['pct_of_median_year'] = count_by_month_full_yrs['sales_count'] / mean\n",
    "count_by_month_full_yrs"
   ]
  },
  {
   "cell_type": "code",
   "execution_count": 29,
   "metadata": {},
   "outputs": [
    {
     "data": {
      "image/png": "[encoded data removed]",
      "text/plain": [
       "<Figure size 432x288 with 1 Axes>"
      ]
     },
     "metadata": {},
     "output_type": "display_data"
    }
   ],
   "source": [
    " # Look at graph\n",
    "_ = count_by_month_full_yrs.plot.bar(legend=False)\n",
    "_ = plt.xlabel('Month')\n",
    "_ = plt.ylabel('Count of sales')\n",
    "_ = plt.title('Count of sales by month for the 4 full years')"
   ]
  },
  {
   "cell_type": "markdown",
   "metadata": {},
   "source": [
    "## Question 4-c:  What's the count by season?\n",
    "\n",
    "Aka, spring, summer, winter or fall."
   ]
  },
  {
   "cell_type": "code",
   "execution_count": 30,
   "metadata": {},
   "outputs": [
    {
     "data": {
      "text/html": [
       "<div>\n",
       "<style scoped>\n",
       "    .dataframe tbody tr th:only-of-type {\n",
       "        vertical-align: middle;\n",
       "    }\n",
       "\n",
       "    .dataframe tbody tr th {\n",
       "        vertical-align: top;\n",
       "    }\n",
       "\n",
       "    .dataframe thead th {\n",
       "        text-align: right;\n",
       "    }\n",
       "</style>\n",
       "<table border=\"1\" class=\"dataframe\">\n",
       "  <thead>\n",
       "    <tr style=\"text-align: right;\">\n",
       "      <th></th>\n",
       "      <th>sales_count</th>\n",
       "    </tr>\n",
       "    <tr>\n",
       "      <th>season</th>\n",
       "      <th></th>\n",
       "    </tr>\n",
       "  </thead>\n",
       "  <tbody>\n",
       "    <tr>\n",
       "      <td>Fall</td>\n",
       "      <td>231</td>\n",
       "    </tr>\n",
       "    <tr>\n",
       "      <td>Spring</td>\n",
       "      <td>343</td>\n",
       "    </tr>\n",
       "    <tr>\n",
       "      <td>Summer</td>\n",
       "      <td>567</td>\n",
       "    </tr>\n",
       "    <tr>\n",
       "      <td>Winter</td>\n",
       "      <td>144</td>\n",
       "    </tr>\n",
       "  </tbody>\n",
       "</table>\n",
       "</div>"
      ],
      "text/plain": [
       "        sales_count\n",
       "season             \n",
       "Fall            231\n",
       "Spring          343\n",
       "Summer          567\n",
       "Winter          144"
      ]
     },
     "execution_count": 30,
     "metadata": {},
     "output_type": "execute_result"
    }
   ],
   "source": [
    "# Turn momths into seasons\n",
    "\n",
    "# Add seasons to my table\n",
    "seasons = {1:'Winter', \n",
    "           2:'Winter',\n",
    "           3:'Spring',\n",
    "           4:'Spring', \n",
    "           5:'Spring', \n",
    "           6:'Summer', \n",
    "           7:'Summer', \n",
    "           8:'Summer', \n",
    "           9:'Fall', \n",
    "           10:'Fall', \n",
    "           11:'Fall', \n",
    "           12:'Winter'\n",
    "          }\n",
    "count_by_month_full_yrs['season'] = pd.Series(seasons)\n",
    "\n",
    "## Drop percent of year\n",
    "count_by_month_full_yrs.drop('pct_of_median_year', axis=1, inplace=True)\n",
    "count_by_month_full_yrs\n",
    "\n",
    "# Sum by seasons\n",
    "count_by_month_full_yrs_by_season = count_by_month_full_yrs.groupby(['season']).sum()\n",
    "count_by_month_full_yrs_by_season"
   ]
  },
  {
   "cell_type": "code",
   "execution_count": 31,
   "metadata": {},
   "outputs": [
    {
     "data": {
      "text/html": [
       "<div>\n",
       "<style scoped>\n",
       "    .dataframe tbody tr th:only-of-type {\n",
       "        vertical-align: middle;\n",
       "    }\n",
       "\n",
       "    .dataframe tbody tr th {\n",
       "        vertical-align: top;\n",
       "    }\n",
       "\n",
       "    .dataframe thead th {\n",
       "        text-align: right;\n",
       "    }\n",
       "</style>\n",
       "<table border=\"1\" class=\"dataframe\">\n",
       "  <thead>\n",
       "    <tr style=\"text-align: right;\">\n",
       "      <th></th>\n",
       "      <th>sales_count</th>\n",
       "    </tr>\n",
       "  </thead>\n",
       "  <tbody>\n",
       "    <tr>\n",
       "      <td>count</td>\n",
       "      <td>4.000000</td>\n",
       "    </tr>\n",
       "    <tr>\n",
       "      <td>mean</td>\n",
       "      <td>321.250000</td>\n",
       "    </tr>\n",
       "    <tr>\n",
       "      <td>std</td>\n",
       "      <td>182.965161</td>\n",
       "    </tr>\n",
       "    <tr>\n",
       "      <td>min</td>\n",
       "      <td>144.000000</td>\n",
       "    </tr>\n",
       "    <tr>\n",
       "      <td>25%</td>\n",
       "      <td>209.250000</td>\n",
       "    </tr>\n",
       "    <tr>\n",
       "      <td>50%</td>\n",
       "      <td>287.000000</td>\n",
       "    </tr>\n",
       "    <tr>\n",
       "      <td>75%</td>\n",
       "      <td>399.000000</td>\n",
       "    </tr>\n",
       "    <tr>\n",
       "      <td>max</td>\n",
       "      <td>567.000000</td>\n",
       "    </tr>\n",
       "  </tbody>\n",
       "</table>\n",
       "</div>"
      ],
      "text/plain": [
       "       sales_count\n",
       "count     4.000000\n",
       "mean    321.250000\n",
       "std     182.965161\n",
       "min     144.000000\n",
       "25%     209.250000\n",
       "50%     287.000000\n",
       "75%     399.000000\n",
       "max     567.000000"
      ]
     },
     "execution_count": 31,
     "metadata": {},
     "output_type": "execute_result"
    }
   ],
   "source": [
    "count_by_month_full_yrs_by_season.describe()"
   ]
  },
  {
   "cell_type": "code",
   "execution_count": 32,
   "metadata": {},
   "outputs": [
    {
     "data": {
      "image/png": "[encoded data removed]",
      "text/plain": [
       "<Figure size 432x288 with 1 Axes>"
      ]
     },
     "metadata": {},
     "output_type": "display_data"
    }
   ],
   "source": [
    "# Look at graph\n",
    "_ = count_by_month_full_yrs_by_season.plot.bar(legend=False)\n",
    "_ = plt.xlabel('Season')\n",
    "_ = plt.ylabel('Count of sales')\n",
    "_ = plt.title('Count of sales across seasons from 2006 through 2009')"
   ]
  },
  {
   "cell_type": "markdown",
   "metadata": {},
   "source": [
    "Takeaways:\n",
    "    \n",
    "* When looking at full years only (aka, dropping the partial year 2010)\n",
    "* The summer months are much higher\n",
    "* Summer is larger\n",
    "* Winter is smaller"
   ]
  },
  {
   "cell_type": "markdown",
   "metadata": {},
   "source": [
    "## Quesiton 5:  What is the count of sales by calendar month?\n",
    "\n",
    "Looking at sales in May 2007, for example."
   ]
  },
  {
   "cell_type": "code",
   "execution_count": 33,
   "metadata": {},
   "outputs": [],
   "source": [
    "## Make a table \n",
    "count_by_yr_mo = df['YrMoSold'].value_counts().sort_index()\n",
    "count_by_yr_mo = pd.DataFrame(count_by_yr_mo)\n",
    "count_by_yr_mo.index.set_names = 'month'\n",
    "count_by_yr_mo.columns = ['sales_count']"
   ]
  },
  {
   "cell_type": "code",
   "execution_count": 34,
   "metadata": {},
   "outputs": [
    {
     "data": {
      "text/html": [
       "<div>\n",
       "<style scoped>\n",
       "    .dataframe tbody tr th:only-of-type {\n",
       "        vertical-align: middle;\n",
       "    }\n",
       "\n",
       "    .dataframe tbody tr th {\n",
       "        vertical-align: top;\n",
       "    }\n",
       "\n",
       "    .dataframe thead th {\n",
       "        text-align: right;\n",
       "    }\n",
       "</style>\n",
       "<table border=\"1\" class=\"dataframe\">\n",
       "  <thead>\n",
       "    <tr style=\"text-align: right;\">\n",
       "      <th></th>\n",
       "      <th>sales_count</th>\n",
       "    </tr>\n",
       "  </thead>\n",
       "  <tbody>\n",
       "    <tr>\n",
       "      <td>count</td>\n",
       "      <td>55.000000</td>\n",
       "    </tr>\n",
       "    <tr>\n",
       "      <td>mean</td>\n",
       "      <td>26.545455</td>\n",
       "    </tr>\n",
       "    <tr>\n",
       "      <td>std</td>\n",
       "      <td>15.617913</td>\n",
       "    </tr>\n",
       "    <tr>\n",
       "      <td>min</td>\n",
       "      <td>6.000000</td>\n",
       "    </tr>\n",
       "    <tr>\n",
       "      <td>25%</td>\n",
       "      <td>15.000000</td>\n",
       "    </tr>\n",
       "    <tr>\n",
       "      <td>50%</td>\n",
       "      <td>23.000000</td>\n",
       "    </tr>\n",
       "    <tr>\n",
       "      <td>75%</td>\n",
       "      <td>37.500000</td>\n",
       "    </tr>\n",
       "    <tr>\n",
       "      <td>max</td>\n",
       "      <td>67.000000</td>\n",
       "    </tr>\n",
       "  </tbody>\n",
       "</table>\n",
       "</div>"
      ],
      "text/plain": [
       "       sales_count\n",
       "count    55.000000\n",
       "mean     26.545455\n",
       "std      15.617913\n",
       "min       6.000000\n",
       "25%      15.000000\n",
       "50%      23.000000\n",
       "75%      37.500000\n",
       "max      67.000000"
      ]
     },
     "execution_count": 34,
     "metadata": {},
     "output_type": "execute_result"
    }
   ],
   "source": [
    "# Look at summary stats\n",
    "count_by_yr_mo.describe()"
   ]
  },
  {
   "cell_type": "code",
   "execution_count": 35,
   "metadata": {},
   "outputs": [
    {
     "data": {
      "image/png": "[encoded data removed]",
      "text/plain": [
       "<Figure size 432x288 with 1 Axes>"
      ]
     },
     "metadata": {},
     "output_type": "display_data"
    }
   ],
   "source": [
    " # Look at graph\n",
    "_ = count_by_yr_mo.plot(kind='bar', legend=False)\n",
    "_ = plt.xticks([]) # Got rid of xticks as clutter\n",
    "_ = plt.xlabel('Calendar month')\n",
    "_ = plt.ylabel('Count of sales')\n",
    "_ = plt.title('Count of sales per calendar month')"
   ]
  },
  {
   "cell_type": "markdown",
   "metadata": {},
   "source": [
    "Takeaways:\n",
    "    \n",
    "* Typical month is about 25 sales (mean)\n",
    "* Strong variation by month--standard deviation of about 16\n",
    "* Clearly see the seasonality\n",
    "* Can't really see if count of sales is going up month over month"
   ]
  },
  {
   "cell_type": "markdown",
   "metadata": {},
   "source": [
    "## Question 6:  How are prices changing year over year?\n",
    "\n",
    "For example, prices in 2006 compared to those in 2008"
   ]
  },
  {
   "cell_type": "code",
   "execution_count": 36,
   "metadata": {},
   "outputs": [],
   "source": [
    "# Group by year\n",
    "df_by_yr = df.groupby('YrSold')"
   ]
  },
  {
   "cell_type": "code",
   "execution_count": 37,
   "metadata": {},
   "outputs": [
    {
     "data": {
      "text/html": [
       "<div>\n",
       "<style scoped>\n",
       "    .dataframe tbody tr th:only-of-type {\n",
       "        vertical-align: middle;\n",
       "    }\n",
       "\n",
       "    .dataframe tbody tr th {\n",
       "        vertical-align: top;\n",
       "    }\n",
       "\n",
       "    .dataframe thead th {\n",
       "        text-align: right;\n",
       "    }\n",
       "</style>\n",
       "<table border=\"1\" class=\"dataframe\">\n",
       "  <thead>\n",
       "    <tr style=\"text-align: right;\">\n",
       "      <th></th>\n",
       "      <th>count</th>\n",
       "      <th>mean</th>\n",
       "      <th>std</th>\n",
       "      <th>min</th>\n",
       "      <th>25%</th>\n",
       "      <th>50%</th>\n",
       "      <th>75%</th>\n",
       "      <th>max</th>\n",
       "    </tr>\n",
       "    <tr>\n",
       "      <th>YrSold</th>\n",
       "      <th></th>\n",
       "      <th></th>\n",
       "      <th></th>\n",
       "      <th></th>\n",
       "      <th></th>\n",
       "      <th></th>\n",
       "      <th></th>\n",
       "      <th></th>\n",
       "    </tr>\n",
       "  </thead>\n",
       "  <tbody>\n",
       "    <tr>\n",
       "      <td>2006</td>\n",
       "      <td>314.0</td>\n",
       "      <td>182549.458599</td>\n",
       "      <td>79426.838855</td>\n",
       "      <td>35311.0</td>\n",
       "      <td>131375.0</td>\n",
       "      <td>163995.0</td>\n",
       "      <td>218782.5</td>\n",
       "      <td>625000.0</td>\n",
       "    </tr>\n",
       "    <tr>\n",
       "      <td>2007</td>\n",
       "      <td>329.0</td>\n",
       "      <td>186063.151976</td>\n",
       "      <td>85768.171410</td>\n",
       "      <td>39300.0</td>\n",
       "      <td>129900.0</td>\n",
       "      <td>167000.0</td>\n",
       "      <td>219500.0</td>\n",
       "      <td>755000.0</td>\n",
       "    </tr>\n",
       "    <tr>\n",
       "      <td>2008</td>\n",
       "      <td>304.0</td>\n",
       "      <td>177360.838816</td>\n",
       "      <td>69735.610685</td>\n",
       "      <td>40000.0</td>\n",
       "      <td>131250.0</td>\n",
       "      <td>164000.0</td>\n",
       "      <td>207000.0</td>\n",
       "      <td>446261.0</td>\n",
       "    </tr>\n",
       "    <tr>\n",
       "      <td>2009</td>\n",
       "      <td>338.0</td>\n",
       "      <td>179432.103550</td>\n",
       "      <td>80879.237311</td>\n",
       "      <td>34900.0</td>\n",
       "      <td>125250.0</td>\n",
       "      <td>162000.0</td>\n",
       "      <td>212750.0</td>\n",
       "      <td>582933.0</td>\n",
       "    </tr>\n",
       "    <tr>\n",
       "      <td>2010</td>\n",
       "      <td>175.0</td>\n",
       "      <td>177393.674286</td>\n",
       "      <td>80451.280085</td>\n",
       "      <td>55000.0</td>\n",
       "      <td>128100.0</td>\n",
       "      <td>155000.0</td>\n",
       "      <td>213250.0</td>\n",
       "      <td>611657.0</td>\n",
       "    </tr>\n",
       "  </tbody>\n",
       "</table>\n",
       "</div>"
      ],
      "text/plain": [
       "        count           mean           std      min       25%       50%  \\\n",
       "YrSold                                                                    \n",
       "2006    314.0  182549.458599  79426.838855  35311.0  131375.0  163995.0   \n",
       "2007    329.0  186063.151976  85768.171410  39300.0  129900.0  167000.0   \n",
       "2008    304.0  177360.838816  69735.610685  40000.0  131250.0  164000.0   \n",
       "2009    338.0  179432.103550  80879.237311  34900.0  125250.0  162000.0   \n",
       "2010    175.0  177393.674286  80451.280085  55000.0  128100.0  155000.0   \n",
       "\n",
       "             75%       max  \n",
       "YrSold                      \n",
       "2006    218782.5  625000.0  \n",
       "2007    219500.0  755000.0  \n",
       "2008    207000.0  446261.0  \n",
       "2009    212750.0  582933.0  \n",
       "2010    213250.0  611657.0  "
      ]
     },
     "execution_count": 37,
     "metadata": {},
     "output_type": "execute_result"
    }
   ],
   "source": [
    "# Get basic stats on SalePrice by year\n",
    "df_by_year_sum = pd.DataFrame(df_by_yr.SalePrice.describe())\n",
    "df_by_year_sum"
   ]
  },
  {
   "cell_type": "code",
   "execution_count": 38,
   "metadata": {},
   "outputs": [
    {
     "data": {
      "text/plain": [
       "[Text(0, 0.5, 'SalePrice')]"
      ]
     },
     "execution_count": 38,
     "metadata": {},
     "output_type": "execute_result"
    },
    {
     "data": {
      "image/png": "[encoded data removed]",
      "text/plain": [
       "<Figure size 432x288 with 1 Axes>"
      ]
     },
     "metadata": {},
     "output_type": "display_data"
    }
   ],
   "source": [
    "# Graph mean and median SalePrice by year\n",
    "\n",
    "# Add year as column, not just as index (seems to be how seborn wants the data)\n",
    "temp = df_by_year_sum\n",
    "temp['YrSold'] = temp.index.astype('str').astype('int')\n",
    "\n",
    "# sns.lineplot(x=\"Datum\", y=\"Menge\", data=df)\n",
    "ax = sns.lineplot(x='YrSold', y='mean', data=temp, label='mean SalePrice', marker='o')\n",
    "ax = sns.lineplot(x='YrSold', y='50%', data=temp, label='median SalePrice', marker='o')\n",
    "ax.set(ylabel='SalePrice')"
   ]
  },
  {
   "cell_type": "code",
   "execution_count": 39,
   "metadata": {
    "scrolled": true
   },
   "outputs": [
    {
     "data": {
      "image/png": "[encoded data removed]",
      "text/plain": [
       "<Figure size 432x288 with 1 Axes>"
      ]
     },
     "metadata": {},
     "output_type": "display_data"
    }
   ],
   "source": [
    "# Look at boxplots by year\n",
    "g = sns.boxplot(x=df['YrSold'], y=df['SalePrice'], data=df)\n",
    "g = plt.xlabel('Year')\n",
    "g = plt.ylabel('SalePrice')\n",
    "g = plt.title('Box plot of sales price by year')\n",
    "# NOTE:  Seems easier in Seaborn"
   ]
  },
  {
   "cell_type": "code",
   "execution_count": 40,
   "metadata": {},
   "outputs": [
    {
     "data": {
      "image/png": "[encoded data removed]",
      "text/plain": [
       "<Figure size 432x288 with 1 Axes>"
      ]
     },
     "metadata": {},
     "output_type": "display_data"
    }
   ],
   "source": [
    "# Look at boxplots by year - without outliers\n",
    "ax = sns.boxplot(x=df['YrSold'], y=df['SalePrice'], data=df, showfliers=False)"
   ]
  },
  {
   "cell_type": "code",
   "execution_count": 41,
   "metadata": {},
   "outputs": [
    {
     "data": {
      "image/png": "[encoded data removed]",
      "text/plain": [
       "<Figure size 432x288 with 1 Axes>"
      ]
     },
     "metadata": {},
     "output_type": "display_data"
    }
   ],
   "source": [
    "# Look at swarm plots by year\n",
    "ax = sns.swarmplot(x=df['YrSold'], y=df['SalePrice'], data=df)"
   ]
  },
  {
   "cell_type": "code",
   "execution_count": 42,
   "metadata": {
    "scrolled": true
   },
   "outputs": [],
   "source": [
    "# Another try\n",
    "# ax = sns.barplot(x='YrSold', y='mean', data=temp)\n",
    "# ax = sns.barplot(x='YrSold', y='50%', data=temp)"
   ]
  },
  {
   "cell_type": "markdown",
   "metadata": {},
   "source": [
    "Takeaways:\n",
    "    \n",
    "* Don't see a big trend in prices year over year from swarm or boxplots\n",
    "* Maybe prices dropping - from mean and median graph\n",
    "* Maybe an increase in variability in later years\n",
    "* Wasn't this the time of the 'Great Recession'--end of housing bubble, bank troubles, etc."
   ]
  },
  {
   "cell_type": "markdown",
   "metadata": {},
   "source": [
    "## Summary"
   ]
  },
  {
   "cell_type": "markdown",
   "metadata": {},
   "source": [
    "My dependent variable is SalePrice, the sales price of residential homes.\n",
    "\n",
    "* The mean sales price is about \\\\$180k.  The media is about \\\\$160k.  \n",
    "* The min price is \\\\$35k and the max is a about \\\\$750\n",
    "* The distribution of Sales Price isn't normal  Rather, it's positively skewed.  With two peaks at human-readable levels of \\\\$150k and \\\\$200K\n",
    "\n",
    "There are outliers in Sales Price\n",
    "\n",
    "* All are on the 'upper' side of prices--aka, more expensive homes.\n",
    "* There are 22 outliers that are beyond three times the standard deviations\n",
    "* There are 8 outliers that are more than 1.5 IRQ above the 75th percentile.\n",
    "\n",
    "The data set covers 5 years, from 2006 to 2010.\n",
    "\n",
    "* There are about 300 sales a year\n",
    "* 2010 is a partial year\n",
    "* The typical month is about 25 sales (mean)\n",
    "* But there's strong variation by months\n",
    "\n",
    "Sales are highly seasonal\n",
    "\n",
    "* Some of biggest months (May, June, July) are 4x to 5x the size of smallest months months (Dec and Jan)\n",
    "* Summer has about 4x the sales of Winter.\n",
    "* Bottom line, more folks buy and sell homes in summer\n",
    "\n",
    "Sales prices are not increasing year over year\n",
    "\n",
    "* For this period, there isn't a trend in year over year prices.\n",
    "* In fact, prices might be dropping and price variability might be increasing.\n",
    "* It's worth noting that these prices coincide with the 'Great Recession' in the US (aka, the end of housing bubble, bank troubles caused by real estate derivatives, etc.)"
   ]
  },
  {
   "cell_type": "code",
   "execution_count": null,
   "metadata": {},
   "outputs": [],
   "source": []
  }
 ],
 "metadata": {
  "kernelspec": {
   "display_name": "Python 3",
   "language": "python",
   "name": "python3"
  },
  "language_info": {
   "codemirror_mode": {
    "name": "ipython",
    "version": 3
   },
   "file_extension": ".py",
   "mimetype": "text/x-python",
   "name": "python",
   "nbconvert_exporter": "python",
   "pygments_lexer": "ipython3",
   "version": "3.7.4"
  }
 },
 "nbformat": 4,
 "nbformat_minor": 2
}
