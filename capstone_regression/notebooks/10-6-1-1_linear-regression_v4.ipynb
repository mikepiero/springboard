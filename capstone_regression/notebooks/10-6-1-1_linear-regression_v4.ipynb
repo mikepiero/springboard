{
 "cells": [
  {
   "cell_type": "markdown",
   "metadata": {},
   "source": [
    "# Capstone 1: Exercise 10.6.1: Part I: v4"
   ]
  },
  {
   "cell_type": "markdown",
   "metadata": {},
   "source": [
    "# Regression on Ames Housing Data"
   ]
  },
  {
   "cell_type": "markdown",
   "metadata": {},
   "source": [
    "## Game plan"
   ]
  },
  {
   "cell_type": "markdown",
   "metadata": {},
   "source": [
    "I'm looking to predict the prices of residential sales in my Ames Housing Data set.  I've already cleaned the data and explored the data.  \n",
    "\n",
    "Now, I'm looking to model the data.  \n",
    "\n",
    "My game plan is to:\n",
    "\n",
    "* Set up\n",
    "* Load data\n",
    "* Build any oft-used functions\n",
    "* Define modeling approach\n",
    "* Select features\n",
    "* Prep data for modeling\n",
    "* Split data\n",
    "* Model by tuning, scoring off training and scoring off test\n",
    "\n",
    "In addition, I'd like to:\n",
    "\n",
    "* Run some additional models\n",
    "* Compare scores across models"
   ]
  },
  {
   "cell_type": "markdown",
   "metadata": {},
   "source": [
    "## History\n",
    "\n",
    "* v1: Wrote baseline notebook for data prep, linear, ridge and lasso\n",
    "* v2: Moved ridge and lasso off to appendix as not needed; evaluated overfitting of linear; evaluated overfitting across random picks of 75/25 split; examined normalized v. non-normalized linear; interpreted coefficients; interpreted prediction interval.\n",
    "* v3:  Added prediction interval off residuals; picked up results.\n",
    "* v4:  Exported more data for 10.6.1.2 notebook.  Cleaned up for final report."
   ]
  },
  {
   "cell_type": "markdown",
   "metadata": {},
   "source": [
    "## Set up"
   ]
  },
  {
   "cell_type": "code",
   "execution_count": 1,
   "metadata": {},
   "outputs": [],
   "source": [
    "# Import basic libraries, set some defaults\n",
    "\n",
    "import numpy as np\n",
    "from numpy.random import seed\n",
    "from numpy.random import randint\n",
    "\n",
    "import pandas as pd\n",
    "\n",
    "import matplotlib.pyplot as plt\n",
    "from matplotlib.pyplot import figure\n",
    "plt.style.use('ggplot')\n",
    "\n",
    "import seaborn as sns\n",
    "\n",
    "from scipy.stats import norm"
   ]
  },
  {
   "cell_type": "code",
   "execution_count": 2,
   "metadata": {},
   "outputs": [],
   "source": [
    "# Import scikit learn libraries\n",
    "\n",
    "from sklearn.model_selection import train_test_split\n",
    "from sklearn.model_selection import cross_val_score\n",
    "from sklearn.model_selection import GridSearchCV\n",
    "\n",
    "from sklearn.linear_model import LinearRegression\n",
    "from sklearn.linear_model import Ridge\n",
    "from sklearn.linear_model import Lasso\n",
    "\n",
    "from sklearn.metrics import r2_score\n",
    "from sklearn.metrics import explained_variance_score\n",
    "from sklearn.metrics import mean_squared_error\n",
    "from sklearn.metrics import mean_absolute_error\n",
    "from sklearn.metrics import accuracy_score"
   ]
  },
  {
   "cell_type": "markdown",
   "metadata": {},
   "source": [
    "## Load data"
   ]
  },
  {
   "cell_type": "code",
   "execution_count": 3,
   "metadata": {},
   "outputs": [],
   "source": [
    "# Load the dataframe from prior cleaning work\n",
    "df = pd.read_pickle(\"../sb_cap1_data/df_cln_v3.pickle\")"
   ]
  },
  {
   "cell_type": "markdown",
   "metadata": {},
   "source": [
    "## Define common functions"
   ]
  },
  {
   "cell_type": "code",
   "execution_count": 4,
   "metadata": {},
   "outputs": [],
   "source": [
    "# Define a function to calc MAPE\n",
    "# This isn't part of sklearn\n",
    "\n",
    "def mape(y_true, y_pred): \n",
    "    y_true, y_pred = np.array(y_true), np.array(y_pred)\n",
    "    return np.mean(np.abs((y_true - y_pred) / y_true))"
   ]
  },
  {
   "cell_type": "markdown",
   "metadata": {},
   "source": [
    "Takeaway:\n",
    "    \n",
    "* Boy, I felt like I was cutting and pasting the same block of code with minor tweaks to variable names\n",
    "* Clearly, theres an opportunity to think in terms of fucntions"
   ]
  },
  {
   "cell_type": "markdown",
   "metadata": {},
   "source": [
    "## Define modeling approach"
   ]
  },
  {
   "cell_type": "markdown",
   "metadata": {},
   "source": [
    "Here's how I'm looking at the data science problem:\n",
    "\n",
    "* It's a supervised learning problem as I've got dependent variable (sale price) for each observation.\n",
    "* It's a regression problem as:\n",
    "    * I'm doing prediction.  Of a continuous variable.  Mostly using non-categorical predictors\n",
    "    * I care about interpretability\n",
    "    * Plus, I'm happy with establishing a baseline against which I can compare other models\n",
    "\n",
    "Here's my approach to the regression problem:\n",
    "\n",
    "* I'll use linear regression\n",
    "    * univariate (as I have only one dependent variable)\n",
    "    * multiple regression (as I have many independent variables)\n",
    "* If I've got overfitting, I'll try to compensate with ridge and lasso regression.\n",
    "* I will measure performance with:\n",
    "    * r-squared\n",
    "    * RMSE\n",
    "    * MAPE"
   ]
  },
  {
   "cell_type": "markdown",
   "metadata": {},
   "source": [
    "## Identify features of interest\n",
    "\n",
    "I updated the work in my stats notebook to select key features.\n",
    "\n",
    "For non-categorical features, I:\n",
    "\n",
    "* Looked at individual feature's correlation with my target (i.e., persons r) as well as the respective p-values\n",
    "* Set a floor for r-squared at 30% and statistical significance\n",
    "* Looked at cross correlation between features\n",
    "* Set a ceiling for feature cross correlation at 50%\n",
    "* Got a list of 10 non-categorical variables\n",
    "\n",
    "For categorical features, I:\n",
    "\n",
    "* Looked at individual feature's correlation with my target (i.e., r-squared from a one-way ANOVA) as well as respective p-values\n",
    "* Set a floor for r-squared at 30% and statistical significance\n",
    "* Got a final list of 2 categorical variables\n",
    "\n",
    "This gave me a total of 12 features."
   ]
  },
  {
   "cell_type": "code",
   "execution_count": 5,
   "metadata": {},
   "outputs": [],
   "source": [
    "# Load the lists from prior cleaning work\n",
    "\n",
    "series_x_nocat = pd.read_pickle(\"../sb_cap1_data/list_targets_nocat.pickle\")\n",
    "series_x_cat = pd.read_pickle(\"../sb_cap1_data/list_targets_cat.pickle\")"
   ]
  },
  {
   "cell_type": "code",
   "execution_count": 6,
   "metadata": {},
   "outputs": [],
   "source": [
    "# Convert to lists\n",
    "\n",
    "target_x_noncat_list = series_x_nocat.to_list()\n",
    "target_x_cat_list = series_x_cat.to_list()\n",
    "target_x_list = target_x_noncat_list + target_x_cat_list\n",
    "\n",
    "# # Check\n",
    "# print('My prior stats work gave me {} top-mind features.'.format(len(target_x_list)))\n",
    "# print('')\n",
    "# print('They are:')\n",
    "# print('')\n",
    "# print(target_x_list)"
   ]
  },
  {
   "cell_type": "markdown",
   "metadata": {},
   "source": [
    "## Prepare data for ML"
   ]
  },
  {
   "cell_type": "markdown",
   "metadata": {},
   "source": [
    "### Confirm that there are no nulls the dataframe"
   ]
  },
  {
   "cell_type": "code",
   "execution_count": 7,
   "metadata": {},
   "outputs": [],
   "source": [
    "# # Chech\n",
    "# df.isnull().sum().sum()"
   ]
  },
  {
   "cell_type": "markdown",
   "metadata": {},
   "source": [
    "### Drop outliers from baseline dataframe"
   ]
  },
  {
   "cell_type": "code",
   "execution_count": 8,
   "metadata": {},
   "outputs": [],
   "source": [
    "# List the 8 outliers (1.5 IRQ above 75%ile) from my prior exploratory analysis\n",
    "outliers = [441, 692, 770, 804, 899, 1047, 1170, 1183]\n",
    "\n",
    "# Drop the outliers\n",
    "# Turn the ID (which are not zero based) into 0-based locations\n",
    "for index in outliers:\n",
    "    df.drop(index - 1, inplace=True)\n",
    "    \n",
    "# # Check:  How big is the data frame after the drop\n",
    "# print('After dropping {} outliers from a data frame with 1460 rows, I have {} rows'.format(len(outliers), len(df)))"
   ]
  },
  {
   "cell_type": "markdown",
   "metadata": {},
   "source": [
    "### Create dataframe of target variable - sale price"
   ]
  },
  {
   "cell_type": "code",
   "execution_count": 9,
   "metadata": {},
   "outputs": [],
   "source": [
    "# Make new data frame with my one target\n",
    "df_y = df[['SalePrice']].copy()\n",
    "\n",
    "# # Check\n",
    "# print(df_y.shape)"
   ]
  },
  {
   "cell_type": "markdown",
   "metadata": {},
   "source": [
    "### Normalize target variable via log transformation"
   ]
  },
  {
   "cell_type": "code",
   "execution_count": 10,
   "metadata": {},
   "outputs": [],
   "source": [
    "# Calc log of sales price\n",
    "df_y['SalePriceLog'] = np.log(df_y['SalePrice'])\n",
    "\n",
    "# # Check\n",
    "# print(df_y.head(3))\n",
    "\n",
    "# Drop SalePrice\n",
    "df_y.drop(['SalePrice'], axis=1, inplace=True)\n",
    "\n",
    "# # Check\n",
    "# print(df_y.head(3))"
   ]
  },
  {
   "cell_type": "markdown",
   "metadata": {},
   "source": [
    "### Create data frame of predictors of interest"
   ]
  },
  {
   "cell_type": "code",
   "execution_count": 11,
   "metadata": {},
   "outputs": [
    {
     "name": "stdout",
     "output_type": "stream",
     "text": [
      "(1452, 12)\n"
     ]
    }
   ],
   "source": [
    "# Copy a dataframe of only these columns\n",
    "df_x = df[target_x_list].copy()\n",
    "print(df_x.shape)"
   ]
  },
  {
   "cell_type": "markdown",
   "metadata": {},
   "source": [
    "### Convert categorical predictors via one hot encoding\n"
   ]
  },
  {
   "cell_type": "code",
   "execution_count": 12,
   "metadata": {},
   "outputs": [],
   "source": [
    "# # Check:  Observe how many columns in my dataframe\n",
    "# print('Initially, there are {} columns'.format(len(df_x.columns)))\n",
    "# print()\n",
    "# print('Of the two categoricals,')\n",
    "# print('One has {} unique values, and'.format(len(df_x['Neighborhood'].unique())))\n",
    "# print('Other has {} unique values.'.format(len(df_x['GarageFinish'].unique())))"
   ]
  },
  {
   "cell_type": "code",
   "execution_count": 13,
   "metadata": {},
   "outputs": [],
   "source": [
    "# One hot encode the categoricals\n",
    "df_onehot_neig = pd.get_dummies(df_x['Neighborhood'])\n",
    "df_onehot_garfin = pd.get_dummies(df_x['GarageFinish'])\n",
    "\n",
    "# Concat the now-encoded categoricals back into the dataframe\n",
    "df_x = pd.concat([df_x, df_onehot_neig, df_onehot_garfin], axis=1)\n",
    "\n",
    "# Drop the orignal columns\n",
    "df_x.drop(['Neighborhood', 'GarageFinish'], axis=1, inplace=True)"
   ]
  },
  {
   "cell_type": "code",
   "execution_count": 14,
   "metadata": {},
   "outputs": [
    {
     "data": {
      "text/plain": [
       "['Blmngtn',\n",
       " 'Blueste',\n",
       " 'BrDale',\n",
       " 'BrkSide',\n",
       " 'ClearCr',\n",
       " 'CollgCr',\n",
       " 'Crawfor',\n",
       " 'Edwards',\n",
       " 'Gilbert',\n",
       " 'IDOTRR',\n",
       " 'MeadowV',\n",
       " 'Mitchel',\n",
       " 'NAmes',\n",
       " 'NPkVill',\n",
       " 'NWAmes',\n",
       " 'NoRidge',\n",
       " 'NridgHt',\n",
       " 'OldTown',\n",
       " 'SWISU',\n",
       " 'Sawyer',\n",
       " 'SawyerW',\n",
       " 'Somerst',\n",
       " 'StoneBr',\n",
       " 'Timber',\n",
       " 'Veenker']"
      ]
     },
     "execution_count": 14,
     "metadata": {},
     "output_type": "execute_result"
    }
   ],
   "source": [
    "# List the values in Neighborhood\n",
    "neig_list = df_onehot_neig.columns.to_list()\n",
    "neig_list"
   ]
  },
  {
   "cell_type": "code",
   "execution_count": 15,
   "metadata": {},
   "outputs": [],
   "source": [
    "# Drop one factor from Neighborhood\n",
    "df_x.drop(['Veenker'], axis=1, inplace=True)"
   ]
  },
  {
   "cell_type": "code",
   "execution_count": 16,
   "metadata": {},
   "outputs": [
    {
     "data": {
      "text/plain": [
       "['Fin', 'No', 'RFn', 'Unf']"
      ]
     },
     "execution_count": 16,
     "metadata": {},
     "output_type": "execute_result"
    }
   ],
   "source": [
    "# List the values from GarageFinish\n",
    "garfin_list = df_onehot_garfin.columns.to_list()\n",
    "garfin_list"
   ]
  },
  {
   "cell_type": "code",
   "execution_count": 17,
   "metadata": {},
   "outputs": [],
   "source": [
    "# Drop one factor from GarageFinish\n",
    "df_x.drop(['Unf'], axis=1, inplace=True)"
   ]
  },
  {
   "cell_type": "markdown",
   "metadata": {},
   "source": [
    "Question:\n",
    "\n",
    "* I've got to drop one factor from each of my categoricals, right?\n",
    "* And I interpret the results as moving from the dropped value up to the enumerated value, right?"
   ]
  },
  {
   "cell_type": "code",
   "execution_count": 18,
   "metadata": {},
   "outputs": [],
   "source": [
    "# # Check:  Number of columns after\n",
    "# print('After, there are {} columns'.format(len(df_x.columns)))\n",
    "# print('MP by hand check:  12 + 25 + 4 - 2 (aka, original columns) - 2 (aka, one factor from each) = 37, yes')"
   ]
  },
  {
   "cell_type": "markdown",
   "metadata": {},
   "source": [
    "### Save data for modeling"
   ]
  },
  {
   "cell_type": "code",
   "execution_count": 19,
   "metadata": {},
   "outputs": [],
   "source": [
    "# Save as a picked dataframe\n",
    "df_x.to_pickle('data/df_X_prepped.pickle')"
   ]
  },
  {
   "cell_type": "code",
   "execution_count": 20,
   "metadata": {},
   "outputs": [],
   "source": [
    "# Save as a picked dataframe\n",
    "df_y.to_pickle('data/df_y_prepped.pickle')"
   ]
  },
  {
   "cell_type": "markdown",
   "metadata": {},
   "source": [
    "### Split data into train and test sets"
   ]
  },
  {
   "cell_type": "code",
   "execution_count": 21,
   "metadata": {},
   "outputs": [],
   "source": [
    "# Split into training and test sets\n",
    "X_train, X_test, y_train, y_test = train_test_split(df_x, df_y, test_size=0.25, random_state=42)"
   ]
  },
  {
   "cell_type": "code",
   "execution_count": 22,
   "metadata": {},
   "outputs": [],
   "source": [
    "# # Check\n",
    "# print('The size of the X training set is {}'.format(len(X_train)))\n",
    "# print('The size of the X test set is {}'.format(len(X_test)))\n",
    "# print()\n",
    "# print('The size of the y training set is {}'.format(len(y_train)))\n",
    "# print('The size of the y test set is {}'.format(len(y_test)))"
   ]
  },
  {
   "cell_type": "code",
   "execution_count": 23,
   "metadata": {},
   "outputs": [
    {
     "data": {
      "text/html": [
       "<div>\n",
       "<style scoped>\n",
       "    .dataframe tbody tr th:only-of-type {\n",
       "        vertical-align: middle;\n",
       "    }\n",
       "\n",
       "    .dataframe tbody tr th {\n",
       "        vertical-align: top;\n",
       "    }\n",
       "\n",
       "    .dataframe thead th {\n",
       "        text-align: right;\n",
       "    }\n",
       "</style>\n",
       "<table border=\"1\" class=\"dataframe\">\n",
       "  <thead>\n",
       "    <tr style=\"text-align: right;\">\n",
       "      <th></th>\n",
       "      <th>SalePriceLog</th>\n",
       "    </tr>\n",
       "    <tr>\n",
       "      <th>Id</th>\n",
       "      <th></th>\n",
       "    </tr>\n",
       "  </thead>\n",
       "  <tbody>\n",
       "    <tr>\n",
       "      <td>1042</td>\n",
       "      <td>12.061047</td>\n",
       "    </tr>\n",
       "    <tr>\n",
       "      <td>1131</td>\n",
       "      <td>11.813030</td>\n",
       "    </tr>\n",
       "    <tr>\n",
       "      <td>1003</td>\n",
       "      <td>12.354493</td>\n",
       "    </tr>\n",
       "    <tr>\n",
       "      <td>1325</td>\n",
       "      <td>11.898188</td>\n",
       "    </tr>\n",
       "    <tr>\n",
       "      <td>531</td>\n",
       "      <td>12.072541</td>\n",
       "    </tr>\n",
       "    <tr>\n",
       "      <td>...</td>\n",
       "      <td>...</td>\n",
       "    </tr>\n",
       "    <tr>\n",
       "      <td>516</td>\n",
       "      <td>12.906347</td>\n",
       "    </tr>\n",
       "    <tr>\n",
       "      <td>725</td>\n",
       "      <td>12.676076</td>\n",
       "    </tr>\n",
       "    <tr>\n",
       "      <td>846</td>\n",
       "      <td>12.049419</td>\n",
       "    </tr>\n",
       "    <tr>\n",
       "      <td>1086</td>\n",
       "      <td>11.898188</td>\n",
       "    </tr>\n",
       "    <tr>\n",
       "      <td>1386</td>\n",
       "      <td>11.740061</td>\n",
       "    </tr>\n",
       "  </tbody>\n",
       "</table>\n",
       "<p>363 rows × 1 columns</p>\n",
       "</div>"
      ],
      "text/plain": [
       "      SalePriceLog\n",
       "Id                \n",
       "1042     12.061047\n",
       "1131     11.813030\n",
       "1003     12.354493\n",
       "1325     11.898188\n",
       "531      12.072541\n",
       "...            ...\n",
       "516      12.906347\n",
       "725      12.676076\n",
       "846      12.049419\n",
       "1086     11.898188\n",
       "1386     11.740061\n",
       "\n",
       "[363 rows x 1 columns]"
      ]
     },
     "execution_count": 23,
     "metadata": {},
     "output_type": "execute_result"
    }
   ],
   "source": [
    "y_test"
   ]
  },
  {
   "cell_type": "markdown",
   "metadata": {},
   "source": [
    "## Model with linear regression"
   ]
  },
  {
   "cell_type": "markdown",
   "metadata": {},
   "source": [
    "### Tune model"
   ]
  },
  {
   "cell_type": "code",
   "execution_count": 24,
   "metadata": {},
   "outputs": [
    {
     "name": "stdout",
     "output_type": "stream",
     "text": [
      "The best parameters are {'copy_X': True, 'fit_intercept': True, 'normalize': False}\n",
      "The best score is 0.8317948230982942\n"
     ]
    },
    {
     "name": "stderr",
     "output_type": "stream",
     "text": [
      "/opt/anaconda3/lib/python3.7/site-packages/sklearn/model_selection/_search.py:814: DeprecationWarning: The default of the `iid` parameter will change from True to False in version 0.22 and will be removed in 0.24. This will change numeric results when test-set sizes are unequal.\n",
      "  DeprecationWarning)\n"
     ]
    }
   ],
   "source": [
    "# Instantiate a tuning model\n",
    "lin_tune = LinearRegression()\n",
    "\n",
    "# Set up the grid\n",
    "parameters = {'normalize':[True,False],\n",
    "              'fit_intercept':[True,False],\n",
    "              'copy_X':[True,False]}\n",
    "\n",
    "# Instantiate the gridsearch\n",
    "lin_cv = GridSearchCV(lin_tune, parameters, cv=5)\n",
    "\n",
    "# Fit the gridsearch to the test data\n",
    "lin_cv.fit(X_train, y_train)\n",
    "\n",
    "# Print results\n",
    "print('The best parameters are {}'.format(lin_cv.best_params_))\n",
    "print('The best score is {}'.format(lin_cv.best_score_))"
   ]
  },
  {
   "cell_type": "markdown",
   "metadata": {},
   "source": [
    "### Fit best model"
   ]
  },
  {
   "cell_type": "code",
   "execution_count": 25,
   "metadata": {},
   "outputs": [],
   "source": [
    "# Instantiate the model\n",
    "lin = LinearRegression(copy_X=True, fit_intercept=True, normalize=False)"
   ]
  },
  {
   "cell_type": "code",
   "execution_count": 26,
   "metadata": {},
   "outputs": [
    {
     "data": {
      "text/plain": [
       "LinearRegression(copy_X=True, fit_intercept=True, n_jobs=None, normalize=False)"
      ]
     },
     "execution_count": 26,
     "metadata": {},
     "output_type": "execute_result"
    }
   ],
   "source": [
    "# Fit the model \n",
    "lin.fit(X_train, y_train)"
   ]
  },
  {
   "cell_type": "markdown",
   "metadata": {},
   "source": [
    "### Score best model off the training set"
   ]
  },
  {
   "cell_type": "code",
   "execution_count": 27,
   "metadata": {},
   "outputs": [
    {
     "name": "stdout",
     "output_type": "stream",
     "text": [
      "For the training set:\n",
      "\n",
      "R-squared is 0.849440380000037\n",
      "MSE is 0.023954163766872233\n",
      "RMSE is 0.15477132734092652\n",
      "MAE is 0.1122386728548042\n"
     ]
    }
   ],
   "source": [
    "# Predict from x train\n",
    "lin_train_y_pred = lin.predict(X_train)\n",
    "\n",
    "# Format a bit\n",
    "print('For the training set:')\n",
    "print()\n",
    "\n",
    "# Calc r-squared\n",
    "lin_train_r2 = r2_score(y_train, lin_train_y_pred)\n",
    "print('R-squared is {}'.format(lin_train_r2))\n",
    "\n",
    "# # Calc exlained variance\n",
    "# lin_train_ev = explained_variance_score(y_train, lin_train_y_pred)\n",
    "# print('Explained variance is {}'.format(lin_train_ev))\n",
    "\n",
    "# Calc MSE\n",
    "lin_train_mse = mean_squared_error(y_train, lin_train_y_pred)\n",
    "print('MSE is {}'.format(lin_train_mse))\n",
    "\n",
    "# Calc RMSE\n",
    "lin_train_rmse = np.sqrt(lin_train_mse)\n",
    "print('RMSE is {}'.format(lin_train_rmse))\n",
    "\n",
    "# Calc MAE\n",
    "lin_train_mae = mean_absolute_error(y_train, lin_train_y_pred)\n",
    "print('MAE is {}'.format(lin_train_mae))"
   ]
  },
  {
   "cell_type": "markdown",
   "metadata": {},
   "source": [
    "### Evaluate best model on training model"
   ]
  },
  {
   "cell_type": "markdown",
   "metadata": {},
   "source": [
    "**Takeaways:**\n",
    "\n",
    "Here's a look at the results:\n",
    "\n",
    "RMSE seems pretty strong.\n",
    "\n",
    "* This is an absolute measure of fit (unlike r-squared which is relative)\n",
    "* Of the cuff, it seems reasonably accurate.\n",
    "* When converted back into dollars (aka, e^.15477), it is less than a dollar\n",
    "\n",
    "R-squared was higher than expected.\n",
    "\n",
    "* The highest r-squared of each variable alone, for example, was in the 70's, with most in the 60s.\n",
    "* R-square only increases with the additional variables, of course.  But still, this went up more than expected\n",
    "\n"
   ]
  },
  {
   "cell_type": "markdown",
   "metadata": {},
   "source": [
    "### Score best model off test set"
   ]
  },
  {
   "cell_type": "code",
   "execution_count": 28,
   "metadata": {},
   "outputs": [
    {
     "name": "stdout",
     "output_type": "stream",
     "text": [
      "For the test set:\n",
      "\n",
      "R-squared is 0.8578400767455302\n",
      "MSE is 0.022777103801750114\n",
      "RMSE is 0.15092085277306816\n",
      "MAE is 0.022777103801750114\n"
     ]
    }
   ],
   "source": [
    "# Predict from x test\n",
    "lin_test_y_pred = lin.predict(X_test)\n",
    "\n",
    "# Format a bit\n",
    "print('For the test set:')\n",
    "print()\n",
    "\n",
    "# Calc r-squared\n",
    "lin_test_r2 = r2_score(y_test, lin_test_y_pred)\n",
    "print('R-squared is {}'.format(lin_test_r2))\n",
    "\n",
    "# # Calc exlained variance\n",
    "# lin_test_ev = explained_variance_score(y_test, lin_test_y_pred)\n",
    "# print('Explained variance is {}'.format(lin_test_ev))\n",
    "\n",
    "# Calc MSE\n",
    "lin_test_mse = mean_squared_error(y_test, lin_test_y_pred)\n",
    "print('MSE is {}'.format(lin_test_mse))\n",
    "\n",
    "# Calc RMSE\n",
    "lin_test_rmse = np.sqrt(lin_test_mse)\n",
    "print('RMSE is {}'.format(lin_test_rmse))\n",
    "\n",
    "# # Calc MAPE\n",
    "# lin_test_mape = mape(y_test, lin_test_y_pred)\n",
    "# print('MAPE is {}'.format(lin_test_mape))\n",
    "\n",
    "# Calc \n",
    "lin_test_mae = mean_absolute_error(y_test, lin_test_y_pred)\n",
    "print('MAE is {}'.format(lin_test_mse))"
   ]
  },
  {
   "cell_type": "markdown",
   "metadata": {},
   "source": [
    "### Compare training and testing results"
   ]
  },
  {
   "cell_type": "code",
   "execution_count": 29,
   "metadata": {},
   "outputs": [
    {
     "data": {
      "text/html": [
       "<div>\n",
       "<style scoped>\n",
       "    .dataframe tbody tr th:only-of-type {\n",
       "        vertical-align: middle;\n",
       "    }\n",
       "\n",
       "    .dataframe tbody tr th {\n",
       "        vertical-align: top;\n",
       "    }\n",
       "\n",
       "    .dataframe thead th {\n",
       "        text-align: right;\n",
       "    }\n",
       "</style>\n",
       "<table border=\"1\" class=\"dataframe\">\n",
       "  <thead>\n",
       "    <tr style=\"text-align: right;\">\n",
       "      <th></th>\n",
       "      <th>set</th>\n",
       "      <th>root_mean_sqrd_error</th>\n",
       "      <th>mean_sqrd_error</th>\n",
       "      <th>mae</th>\n",
       "      <th>r_squared</th>\n",
       "    </tr>\n",
       "  </thead>\n",
       "  <tbody>\n",
       "    <tr>\n",
       "      <td>0</td>\n",
       "      <td>train</td>\n",
       "      <td>0.154771</td>\n",
       "      <td>0.023954</td>\n",
       "      <td>0.112239</td>\n",
       "      <td>0.84944</td>\n",
       "    </tr>\n",
       "    <tr>\n",
       "      <td>1</td>\n",
       "      <td>test</td>\n",
       "      <td>0.150921</td>\n",
       "      <td>0.022777</td>\n",
       "      <td>0.109485</td>\n",
       "      <td>0.85784</td>\n",
       "    </tr>\n",
       "  </tbody>\n",
       "</table>\n",
       "</div>"
      ],
      "text/plain": [
       "     set  root_mean_sqrd_error  mean_sqrd_error       mae  r_squared\n",
       "0  train              0.154771         0.023954  0.112239    0.84944\n",
       "1   test              0.150921         0.022777  0.109485    0.85784"
      ]
     },
     "execution_count": 29,
     "metadata": {},
     "output_type": "execute_result"
    }
   ],
   "source": [
    "results_dict_1 = {'set': ['train', 'test'],\n",
    "        'root_mean_sqrd_error': [lin_train_rmse, lin_test_rmse],\n",
    "        'mean_sqrd_error': [lin_train_mse, lin_test_mse],\n",
    "        'mae': [lin_train_mae, lin_test_mae],\n",
    "        'r_squared': [lin_train_r2, lin_test_r2]\n",
    "        }\n",
    "results_df_1 = pd.DataFrame(results_dict_1)\n",
    "\n",
    "# Sort dataframe\n",
    "results_df_1.sort_values(by='root_mean_sqrd_error', ascending=False, inplace=True)\n",
    "results_df_1"
   ]
  },
  {
   "cell_type": "code",
   "execution_count": 30,
   "metadata": {},
   "outputs": [
    {
     "name": "stdout",
     "output_type": "stream",
     "text": [
      "The difference in MSE between test and train is -0.0011770599651221188\n"
     ]
    }
   ],
   "source": [
    "print('The difference in MSE between test and train is {}'.format(lin_test_mse - lin_train_mse))"
   ]
  },
  {
   "cell_type": "markdown",
   "metadata": {},
   "source": [
    "### Conclude whether or not overfitting"
   ]
  },
  {
   "cell_type": "markdown",
   "metadata": {},
   "source": [
    "**Takeaways:**\n",
    "\n",
    "In this model, there doesn't appear to be overfitting.  \n",
    "\n",
    "* The training set performs slightly better, but not radically better than the test site.\n",
    "* The test set has a bit stronger explanatory power.\n",
    "* But those differences don't appear to be too large.\n",
    "\n"
   ]
  },
  {
   "cell_type": "markdown",
   "metadata": {},
   "source": [
    "### Compare key metric across different random draws of our 25/75 split\n",
    "\n",
    "If we want to eliminate the possibility that the different between test and training performance is a function of random draw of the specific split, we can compare key metrics across many draws of our split."
   ]
  },
  {
   "cell_type": "code",
   "execution_count": 31,
   "metadata": {},
   "outputs": [],
   "source": [
    "# keep lists for training accuracy, test accuracy, and the difference between the two\n",
    "train_MSE = []\n",
    "test_MSE = []\n",
    "difference = []\n",
    "\n",
    "# define number of trials\n",
    "n_splits = 1000\n",
    "\n",
    "for i in range(n_splits):\n",
    "\n",
    "    # Split into training and test sets\n",
    "    X_train_split, X_test_split, y_train_split, y_test_split = train_test_split(df_x, df_y, test_size=0.25, random_state=i)\n",
    "    \n",
    "    # Instantiate the model\n",
    "    lin2 = LinearRegression(copy_X=True, fit_intercept=True, normalize=False)\n",
    "\n",
    "    # Fit the model from training\n",
    "    lin2.fit(X_train_split, y_train_split)\n",
    "    \n",
    "    # Predict from x train\n",
    "    lin2_train_y_pred_split = lin2.predict(X_train_split)\n",
    "\n",
    "    # Calc MSE from train\n",
    "    lin2_train_mse = mean_squared_error(y_train_split, lin2_train_y_pred_split)\n",
    "    train_MSE.append(lin2_train_mse)\n",
    "\n",
    "    # Predict from x test\n",
    "    lin2_test_y_pred_split = lin2.predict(X_test_split)\n",
    "\n",
    "    # Calc MSE from test\n",
    "    lin2_test_mse = mean_squared_error(y_test_split, lin2_test_y_pred_split)\n",
    "    test_MSE.append(lin2_test_mse)\n",
    "    \n",
    "    # Calc differences\n",
    "    diff = lin2_test_mse - lin2_train_mse\n",
    "    difference.append(diff)"
   ]
  },
  {
   "cell_type": "code",
   "execution_count": 32,
   "metadata": {},
   "outputs": [
    {
     "data": {
      "image/png": "[encoded data removed]",
      "text/plain": [
       "<Figure size 432x288 with 1 Axes>"
      ]
     },
     "metadata": {
      "needs_background": "light"
     },
     "output_type": "display_data"
    }
   ],
   "source": [
    "# Plot the scores\n",
    "\n",
    "training_plot, = plt.plot(train_MSE, 'b')\n",
    "test_plot, = plt.plot(test_MSE, 'r', alpha = 0.35)\n",
    "plt.legend([training_plot, test_plot], ['Training Accuracy', 'Test Accuracy'])\n",
    "plt.ylabel('Training vs Test Accuracy')\n",
    "plt.show()"
   ]
  },
  {
   "cell_type": "code",
   "execution_count": 33,
   "metadata": {},
   "outputs": [
    {
     "data": {
      "image/png": "[encoded data removed]",
      "text/plain": [
       "<Figure size 432x288 with 1 Axes>"
      ]
     },
     "metadata": {
      "needs_background": "light"
     },
     "output_type": "display_data"
    }
   ],
   "source": [
    "# Plot the difference in scores\n",
    "\n",
    "diff_plot, = plt.plot(difference, 'y')\n",
    "plt.legend([diff_plot], ['Difference'])\n",
    "plt.ylabel('Test/Training Difference Accuracy')\n",
    "plt.show()"
   ]
  },
  {
   "cell_type": "code",
   "execution_count": 34,
   "metadata": {},
   "outputs": [
    {
     "data": {
      "text/plain": [
       "count    1000.000000\n",
       "mean        0.002550\n",
       "std         0.006085\n",
       "min        -0.009945\n",
       "25%        -0.001905\n",
       "50%         0.001048\n",
       "75%         0.005693\n",
       "max         0.025675\n",
       "dtype: float64"
      ]
     },
     "execution_count": 34,
     "metadata": {},
     "output_type": "execute_result"
    }
   ],
   "source": [
    "# Look at summary of the differences in scores\n",
    "difference_srs = pd.Series(difference)\n",
    "difference_srs.describe()"
   ]
  },
  {
   "cell_type": "code",
   "execution_count": 35,
   "metadata": {},
   "outputs": [
    {
     "data": {
      "image/png": "[encoded data removed]",
      "text/plain": [
       "<Figure size 432x288 with 1 Axes>"
      ]
     },
     "metadata": {
      "needs_background": "light"
     },
     "output_type": "display_data"
    }
   ],
   "source": [
    "# Plot a histogram of the difference in scores\n",
    "sns.distplot(difference_srs);"
   ]
  },
  {
   "cell_type": "markdown",
   "metadata": {},
   "source": [
    "**Takeways:**\n",
    "\n",
    "There is some variation in mse, depending on how we split the data.\n",
    "\n",
    "* But it doesn't seem way off, IMHO\n",
    "* Aka, our original train/test split is between the 25%ile and 50%ile.\n",
    "* This variation, I suspect, is because a few of the sales prices are quite large (even after having eliminated outliers) and depending on how they're distributed across train/test it can make a difference.\n"
   ]
  },
  {
   "cell_type": "markdown",
   "metadata": {},
   "source": [
    "### Look at whether adding normalization makes the model worse"
   ]
  },
  {
   "cell_type": "markdown",
   "metadata": {},
   "source": [
    "The best scoring model does not normalize the predictor variables.  \n",
    "\n",
    "However, adding normalization might give a better way of cross-comparing predictors (aka, all will be on the same scale of units) and might help with interpretability.  \n",
    "\n",
    "So, I'm wondering what's the cost to my score of turning normalization on in the model."
   ]
  },
  {
   "cell_type": "code",
   "execution_count": 36,
   "metadata": {},
   "outputs": [
    {
     "data": {
      "text/plain": [
       "LinearRegression(copy_X=True, fit_intercept=True, n_jobs=None, normalize=True)"
      ]
     },
     "execution_count": 36,
     "metadata": {},
     "output_type": "execute_result"
    }
   ],
   "source": [
    "# Split into training and test sets\n",
    "# SKIP:  I'm using our existing split\n",
    "\n",
    "# Instantiate model\n",
    "lin_norm = LinearRegression(copy_X=True, fit_intercept=True, normalize=True)\n",
    "\n",
    "# Fit the model \n",
    "lin_norm.fit(X_train, y_train)"
   ]
  },
  {
   "cell_type": "code",
   "execution_count": 37,
   "metadata": {},
   "outputs": [
    {
     "name": "stdout",
     "output_type": "stream",
     "text": [
      "For the training set:\n",
      "\n",
      "R-squared is 0.849440380000037\n",
      "MSE is 0.023954163766872233\n",
      "RMSE is 0.15477132734092652\n",
      "MAE is 0.11223867285480427\n"
     ]
    }
   ],
   "source": [
    "# Predict and score off train\n",
    "\n",
    "# Predict from x train\n",
    "lin_norm_train_y_pred = lin_norm.predict(X_train)\n",
    "\n",
    "# Format a bit\n",
    "print('For the training set:')\n",
    "print()\n",
    "\n",
    "# Calc r-squared\n",
    "lin_norm_train_r2 = r2_score(y_train, lin_norm_train_y_pred)\n",
    "print('R-squared is {}'.format(lin_norm_train_r2))\n",
    "\n",
    "# Calc MSE\n",
    "lin_norm_train_mse = mean_squared_error(y_train, lin_norm_train_y_pred)\n",
    "print('MSE is {}'.format(lin_norm_train_mse))\n",
    "\n",
    "# Calc RMSE\n",
    "lin_norm_train_rmse = np.sqrt(lin_norm_train_mse)\n",
    "print('RMSE is {}'.format(lin_norm_train_rmse))\n",
    "\n",
    "# Calc MAE\n",
    "lin_norm_train_mae = mean_absolute_error(y_train, lin_norm_train_y_pred)\n",
    "print('MAE is {}'.format(lin_norm_train_mae))"
   ]
  },
  {
   "cell_type": "code",
   "execution_count": 38,
   "metadata": {},
   "outputs": [
    {
     "name": "stdout",
     "output_type": "stream",
     "text": [
      "For the testing set:\n",
      "\n",
      "R-squared is 0.8578400767455304\n",
      "MSE is 0.02277710380175007\n",
      "RMSE is 0.15092085277306802\n",
      "MAE is 0.10948539788739521\n"
     ]
    }
   ],
   "source": [
    "# Predict and score off test\n",
    "\n",
    "# Predict from x test\n",
    "lin_norm_test_y_pred = lin_norm.predict(X_test)\n",
    "\n",
    "# Format a bit\n",
    "print('For the testing set:')\n",
    "print()\n",
    "\n",
    "# Calc r-squared\n",
    "lin_norm_test_r2 = r2_score(y_test, lin_norm_test_y_pred)\n",
    "print('R-squared is {}'.format(lin_norm_test_r2))\n",
    "\n",
    "# Calc MSE\n",
    "lin_norm_test_mse = mean_squared_error(y_test, lin_norm_test_y_pred)\n",
    "print('MSE is {}'.format(lin_norm_test_mse))\n",
    "\n",
    "# Calc RMSE\n",
    "lin_norm_test_rmse = np.sqrt(lin_norm_test_mse)\n",
    "print('RMSE is {}'.format(lin_norm_test_rmse))\n",
    "\n",
    "# Calc MAE\n",
    "lin_norm_test_mae = mean_absolute_error(y_test, lin_norm_test_y_pred)\n",
    "print('MAE is {}'.format(lin_norm_test_mae))"
   ]
  },
  {
   "cell_type": "markdown",
   "metadata": {},
   "source": [
    "**Takeaways:**\n",
    "\n",
    "* In evaluating the training results of a normalized linear model,\n",
    "* I see performance in line with the prior model"
   ]
  },
  {
   "cell_type": "code",
   "execution_count": 39,
   "metadata": {},
   "outputs": [
    {
     "data": {
      "text/html": [
       "<div>\n",
       "<style scoped>\n",
       "    .dataframe tbody tr th:only-of-type {\n",
       "        vertical-align: middle;\n",
       "    }\n",
       "\n",
       "    .dataframe tbody tr th {\n",
       "        vertical-align: top;\n",
       "    }\n",
       "\n",
       "    .dataframe thead th {\n",
       "        text-align: right;\n",
       "    }\n",
       "</style>\n",
       "<table border=\"1\" class=\"dataframe\">\n",
       "  <thead>\n",
       "    <tr style=\"text-align: right;\">\n",
       "      <th></th>\n",
       "      <th>set</th>\n",
       "      <th>root_mean_sqrd_error</th>\n",
       "      <th>mean_sqrd_error</th>\n",
       "      <th>r_squared</th>\n",
       "      <th>mae</th>\n",
       "    </tr>\n",
       "  </thead>\n",
       "  <tbody>\n",
       "    <tr>\n",
       "      <td>0</td>\n",
       "      <td>non_normalized</td>\n",
       "      <td>0.150921</td>\n",
       "      <td>0.022777</td>\n",
       "      <td>0.85784</td>\n",
       "      <td>0.109485</td>\n",
       "    </tr>\n",
       "    <tr>\n",
       "      <td>1</td>\n",
       "      <td>normalized</td>\n",
       "      <td>0.150921</td>\n",
       "      <td>0.022777</td>\n",
       "      <td>0.85784</td>\n",
       "      <td>0.109485</td>\n",
       "    </tr>\n",
       "  </tbody>\n",
       "</table>\n",
       "</div>"
      ],
      "text/plain": [
       "              set  root_mean_sqrd_error  mean_sqrd_error  r_squared       mae\n",
       "0  non_normalized              0.150921         0.022777    0.85784  0.109485\n",
       "1      normalized              0.150921         0.022777    0.85784  0.109485"
      ]
     },
     "execution_count": 39,
     "metadata": {},
     "output_type": "execute_result"
    }
   ],
   "source": [
    "# Compare test results of non-normalized v. normalized\n",
    "\n",
    "results_dict_1 = {'set': ['non_normalized', 'normalized'],\n",
    "        'root_mean_sqrd_error': [lin_test_rmse, lin_norm_test_rmse],\n",
    "        'mean_sqrd_error': [lin_test_mse, lin_norm_test_mse],\n",
    "        'r_squared': [lin_test_r2, lin_norm_test_r2],\n",
    "        'mae' : [lin_test_mae, lin_norm_test_mae]\n",
    "        }\n",
    "results_df_1 = pd.DataFrame(results_dict_1)\n",
    "\n",
    "# Sort dataframe\n",
    "results_df_1.sort_values(by='root_mean_sqrd_error', ascending=False, inplace=True)\n",
    "results_df_1"
   ]
  },
  {
   "cell_type": "markdown",
   "metadata": {},
   "source": [
    "**Takeaways:**\n",
    "\n",
    "* When looking for overfitting, I don't see any issues\n",
    "* When looking at model performance, I see similar performance\n",
    "* Bottom line, I happy to use the normalized model."
   ]
  },
  {
   "cell_type": "markdown",
   "metadata": {},
   "source": [
    "### Save data on final model to use for comparisons in next notebook"
   ]
  },
  {
   "cell_type": "code",
   "execution_count": 40,
   "metadata": {},
   "outputs": [
    {
     "data": {
      "text/html": [
       "<div>\n",
       "<style scoped>\n",
       "    .dataframe tbody tr th:only-of-type {\n",
       "        vertical-align: middle;\n",
       "    }\n",
       "\n",
       "    .dataframe tbody tr th {\n",
       "        vertical-align: top;\n",
       "    }\n",
       "\n",
       "    .dataframe thead th {\n",
       "        text-align: right;\n",
       "    }\n",
       "</style>\n",
       "<table border=\"1\" class=\"dataframe\">\n",
       "  <thead>\n",
       "    <tr style=\"text-align: right;\">\n",
       "      <th></th>\n",
       "      <th>model</th>\n",
       "      <th>y_set</th>\n",
       "      <th>r2</th>\n",
       "      <th>mse</th>\n",
       "      <th>rmse</th>\n",
       "      <th>mae</th>\n",
       "      <th>oob</th>\n",
       "    </tr>\n",
       "  </thead>\n",
       "  <tbody>\n",
       "    <tr>\n",
       "      <td>0</td>\n",
       "      <td>lin_norm_train</td>\n",
       "      <td>y_train</td>\n",
       "      <td>0.84944</td>\n",
       "      <td>0.023954</td>\n",
       "      <td>0.154771</td>\n",
       "      <td>0.112239</td>\n",
       "      <td>None</td>\n",
       "    </tr>\n",
       "    <tr>\n",
       "      <td>1</td>\n",
       "      <td>lin_norm_test</td>\n",
       "      <td>y_test</td>\n",
       "      <td>0.85784</td>\n",
       "      <td>0.022777</td>\n",
       "      <td>0.150921</td>\n",
       "      <td>0.109485</td>\n",
       "      <td>None</td>\n",
       "    </tr>\n",
       "  </tbody>\n",
       "</table>\n",
       "</div>"
      ],
      "text/plain": [
       "            model    y_set       r2       mse      rmse       mae   oob\n",
       "0  lin_norm_train  y_train  0.84944  0.023954  0.154771  0.112239  None\n",
       "1   lin_norm_test   y_test  0.85784  0.022777  0.150921  0.109485  None"
      ]
     },
     "execution_count": 40,
     "metadata": {},
     "output_type": "execute_result"
    }
   ],
   "source": [
    "# Create dataframe \n",
    "results_dict_2 = {'model': ['lin_norm_train', 'lin_norm_test'],\n",
    "                  'y_set': ['y_train', 'y_test'],\n",
    "                  'r2': [lin_norm_train_r2, lin_norm_test_r2],\n",
    "                  'mse' : [lin_norm_train_mse, lin_norm_test_mse],\n",
    "                  'rmse': [lin_norm_train_rmse, lin_norm_test_rmse],\n",
    "                  'mae': [lin_norm_train_mae, lin_norm_test_mae],\n",
    "                  'oob': ['None', 'None']\n",
    "                 }\n",
    "results_df_2 = pd.DataFrame(results_dict_2)\n",
    "\n",
    "# Check\n",
    "results_df_2"
   ]
  },
  {
   "cell_type": "code",
   "execution_count": 41,
   "metadata": {},
   "outputs": [],
   "source": [
    "# Write data\n",
    "results_df_2.to_pickle(\"../sb_cap1_data/results_lr.pickle\")"
   ]
  },
  {
   "cell_type": "markdown",
   "metadata": {},
   "source": [
    "## Interpret the linear model"
   ]
  },
  {
   "cell_type": "markdown",
   "metadata": {},
   "source": [
    "### Look at the coefficients"
   ]
  },
  {
   "cell_type": "markdown",
   "metadata": {},
   "source": [
    "One use of this model is to help homeowners understand what are the factors that drive home prices.  For this, our regression coefficients are useful.\n",
    "\n",
    "I will:  \n",
    "\n",
    "* List the coefficients of our fully normalized predictors (aka, subtracting the mean and dividing by the l2-norm)\n",
    "* By size"
   ]
  },
  {
   "cell_type": "code",
   "execution_count": 42,
   "metadata": {},
   "outputs": [
    {
     "data": {
      "text/html": [
       "<div>\n",
       "<style scoped>\n",
       "    .dataframe tbody tr th:only-of-type {\n",
       "        vertical-align: middle;\n",
       "    }\n",
       "\n",
       "    .dataframe tbody tr th {\n",
       "        vertical-align: top;\n",
       "    }\n",
       "\n",
       "    .dataframe thead th {\n",
       "        text-align: right;\n",
       "    }\n",
       "</style>\n",
       "<table border=\"1\" class=\"dataframe\">\n",
       "  <thead>\n",
       "    <tr style=\"text-align: right;\">\n",
       "      <th></th>\n",
       "      <th>feature</th>\n",
       "      <th>coefficient</th>\n",
       "      <th>feature_type</th>\n",
       "    </tr>\n",
       "    <tr>\n",
       "      <th>col_index</th>\n",
       "      <th></th>\n",
       "      <th></th>\n",
       "      <th></th>\n",
       "    </tr>\n",
       "  </thead>\n",
       "  <tbody>\n",
       "    <tr>\n",
       "      <td>25</td>\n",
       "      <td>NoRidge</td>\n",
       "      <td>0.0971</td>\n",
       "      <td>cat_neigborhood</td>\n",
       "    </tr>\n",
       "    <tr>\n",
       "      <td>0</td>\n",
       "      <td>OverallQual</td>\n",
       "      <td>0.0927</td>\n",
       "      <td>noncat</td>\n",
       "    </tr>\n",
       "    <tr>\n",
       "      <td>34</td>\n",
       "      <td>Fin</td>\n",
       "      <td>0.0604</td>\n",
       "      <td>cat_garage_finish</td>\n",
       "    </tr>\n",
       "    <tr>\n",
       "      <td>2</td>\n",
       "      <td>TotRmsAbvGrd</td>\n",
       "      <td>0.0486</td>\n",
       "      <td>noncat</td>\n",
       "    </tr>\n",
       "    <tr>\n",
       "      <td>36</td>\n",
       "      <td>RFn</td>\n",
       "      <td>0.0474</td>\n",
       "      <td>cat_garage_finish</td>\n",
       "    </tr>\n",
       "    <tr>\n",
       "      <td>32</td>\n",
       "      <td>StoneBr</td>\n",
       "      <td>0.0460</td>\n",
       "      <td>cat_neigborhood</td>\n",
       "    </tr>\n",
       "    <tr>\n",
       "      <td>5</td>\n",
       "      <td>HeatingQC</td>\n",
       "      <td>0.0352</td>\n",
       "      <td>noncat</td>\n",
       "    </tr>\n",
       "    <tr>\n",
       "      <td>7</td>\n",
       "      <td>BsmtExposure</td>\n",
       "      <td>0.0226</td>\n",
       "      <td>noncat</td>\n",
       "    </tr>\n",
       "    <tr>\n",
       "      <td>26</td>\n",
       "      <td>NridgHt</td>\n",
       "      <td>0.0209</td>\n",
       "      <td>cat_neigborhood</td>\n",
       "    </tr>\n",
       "    <tr>\n",
       "      <td>3</td>\n",
       "      <td>FireplaceQu</td>\n",
       "      <td>0.0182</td>\n",
       "      <td>noncat</td>\n",
       "    </tr>\n",
       "    <tr>\n",
       "      <td>14</td>\n",
       "      <td>ClearCr</td>\n",
       "      <td>0.0131</td>\n",
       "      <td>cat_neigborhood</td>\n",
       "    </tr>\n",
       "    <tr>\n",
       "      <td>31</td>\n",
       "      <td>Somerst</td>\n",
       "      <td>0.0099</td>\n",
       "      <td>cat_neigborhood</td>\n",
       "    </tr>\n",
       "    <tr>\n",
       "      <td>16</td>\n",
       "      <td>Crawfor</td>\n",
       "      <td>0.0061</td>\n",
       "      <td>cat_neigborhood</td>\n",
       "    </tr>\n",
       "    <tr>\n",
       "      <td>8</td>\n",
       "      <td>WoodDeckSF</td>\n",
       "      <td>0.0002</td>\n",
       "      <td>noncat</td>\n",
       "    </tr>\n",
       "    <tr>\n",
       "      <td>9</td>\n",
       "      <td>OpenPorchSF</td>\n",
       "      <td>0.0002</td>\n",
       "      <td>noncat</td>\n",
       "    </tr>\n",
       "    <tr>\n",
       "      <td>6</td>\n",
       "      <td>BsmtFinSF1</td>\n",
       "      <td>0.0001</td>\n",
       "      <td>noncat</td>\n",
       "    </tr>\n",
       "    <tr>\n",
       "      <td>1</td>\n",
       "      <td>1stFlrSF</td>\n",
       "      <td>0.0001</td>\n",
       "      <td>noncat</td>\n",
       "    </tr>\n",
       "    <tr>\n",
       "      <td>4</td>\n",
       "      <td>MasVnrArea</td>\n",
       "      <td>0.0000</td>\n",
       "      <td>noncat</td>\n",
       "    </tr>\n",
       "    <tr>\n",
       "      <td>33</td>\n",
       "      <td>Timber</td>\n",
       "      <td>-0.0477</td>\n",
       "      <td>cat_neigborhood</td>\n",
       "    </tr>\n",
       "    <tr>\n",
       "      <td>15</td>\n",
       "      <td>CollgCr</td>\n",
       "      <td>-0.0610</td>\n",
       "      <td>cat_neigborhood</td>\n",
       "    </tr>\n",
       "    <tr>\n",
       "      <td>24</td>\n",
       "      <td>NWAmes</td>\n",
       "      <td>-0.0868</td>\n",
       "      <td>cat_neigborhood</td>\n",
       "    </tr>\n",
       "    <tr>\n",
       "      <td>18</td>\n",
       "      <td>Gilbert</td>\n",
       "      <td>-0.0891</td>\n",
       "      <td>cat_neigborhood</td>\n",
       "    </tr>\n",
       "    <tr>\n",
       "      <td>21</td>\n",
       "      <td>Mitchel</td>\n",
       "      <td>-0.0951</td>\n",
       "      <td>cat_neigborhood</td>\n",
       "    </tr>\n",
       "    <tr>\n",
       "      <td>30</td>\n",
       "      <td>SawyerW</td>\n",
       "      <td>-0.1065</td>\n",
       "      <td>cat_neigborhood</td>\n",
       "    </tr>\n",
       "    <tr>\n",
       "      <td>35</td>\n",
       "      <td>No</td>\n",
       "      <td>-0.1518</td>\n",
       "      <td>cat_garage_finish</td>\n",
       "    </tr>\n",
       "    <tr>\n",
       "      <td>22</td>\n",
       "      <td>NAmes</td>\n",
       "      <td>-0.1532</td>\n",
       "      <td>cat_neigborhood</td>\n",
       "    </tr>\n",
       "    <tr>\n",
       "      <td>23</td>\n",
       "      <td>NPkVill</td>\n",
       "      <td>-0.1532</td>\n",
       "      <td>cat_neigborhood</td>\n",
       "    </tr>\n",
       "    <tr>\n",
       "      <td>13</td>\n",
       "      <td>BrkSide</td>\n",
       "      <td>-0.1655</td>\n",
       "      <td>cat_neigborhood</td>\n",
       "    </tr>\n",
       "    <tr>\n",
       "      <td>29</td>\n",
       "      <td>Sawyer</td>\n",
       "      <td>-0.1661</td>\n",
       "      <td>cat_neigborhood</td>\n",
       "    </tr>\n",
       "    <tr>\n",
       "      <td>10</td>\n",
       "      <td>Blmngtn</td>\n",
       "      <td>-0.1802</td>\n",
       "      <td>cat_neigborhood</td>\n",
       "    </tr>\n",
       "    <tr>\n",
       "      <td>28</td>\n",
       "      <td>SWISU</td>\n",
       "      <td>-0.1928</td>\n",
       "      <td>cat_neigborhood</td>\n",
       "    </tr>\n",
       "    <tr>\n",
       "      <td>27</td>\n",
       "      <td>OldTown</td>\n",
       "      <td>-0.2556</td>\n",
       "      <td>cat_neigborhood</td>\n",
       "    </tr>\n",
       "    <tr>\n",
       "      <td>17</td>\n",
       "      <td>Edwards</td>\n",
       "      <td>-0.2557</td>\n",
       "      <td>cat_neigborhood</td>\n",
       "    </tr>\n",
       "    <tr>\n",
       "      <td>11</td>\n",
       "      <td>Blueste</td>\n",
       "      <td>-0.2705</td>\n",
       "      <td>cat_neigborhood</td>\n",
       "    </tr>\n",
       "    <tr>\n",
       "      <td>20</td>\n",
       "      <td>MeadowV</td>\n",
       "      <td>-0.3313</td>\n",
       "      <td>cat_neigborhood</td>\n",
       "    </tr>\n",
       "    <tr>\n",
       "      <td>12</td>\n",
       "      <td>BrDale</td>\n",
       "      <td>-0.3405</td>\n",
       "      <td>cat_neigborhood</td>\n",
       "    </tr>\n",
       "    <tr>\n",
       "      <td>19</td>\n",
       "      <td>IDOTRR</td>\n",
       "      <td>-0.3504</td>\n",
       "      <td>cat_neigborhood</td>\n",
       "    </tr>\n",
       "  </tbody>\n",
       "</table>\n",
       "</div>"
      ],
      "text/plain": [
       "                feature  coefficient       feature_type\n",
       "col_index                                              \n",
       "25              NoRidge       0.0971    cat_neigborhood\n",
       "0           OverallQual       0.0927             noncat\n",
       "34                  Fin       0.0604  cat_garage_finish\n",
       "2          TotRmsAbvGrd       0.0486             noncat\n",
       "36                  RFn       0.0474  cat_garage_finish\n",
       "32              StoneBr       0.0460    cat_neigborhood\n",
       "5             HeatingQC       0.0352             noncat\n",
       "7          BsmtExposure       0.0226             noncat\n",
       "26              NridgHt       0.0209    cat_neigborhood\n",
       "3           FireplaceQu       0.0182             noncat\n",
       "14              ClearCr       0.0131    cat_neigborhood\n",
       "31              Somerst       0.0099    cat_neigborhood\n",
       "16              Crawfor       0.0061    cat_neigborhood\n",
       "8            WoodDeckSF       0.0002             noncat\n",
       "9           OpenPorchSF       0.0002             noncat\n",
       "6            BsmtFinSF1       0.0001             noncat\n",
       "1              1stFlrSF       0.0001             noncat\n",
       "4            MasVnrArea       0.0000             noncat\n",
       "33               Timber      -0.0477    cat_neigborhood\n",
       "15              CollgCr      -0.0610    cat_neigborhood\n",
       "24               NWAmes      -0.0868    cat_neigborhood\n",
       "18              Gilbert      -0.0891    cat_neigborhood\n",
       "21              Mitchel      -0.0951    cat_neigborhood\n",
       "30              SawyerW      -0.1065    cat_neigborhood\n",
       "35                   No      -0.1518  cat_garage_finish\n",
       "22                NAmes      -0.1532    cat_neigborhood\n",
       "23              NPkVill      -0.1532    cat_neigborhood\n",
       "13              BrkSide      -0.1655    cat_neigborhood\n",
       "29               Sawyer      -0.1661    cat_neigborhood\n",
       "10              Blmngtn      -0.1802    cat_neigborhood\n",
       "28                SWISU      -0.1928    cat_neigborhood\n",
       "27              OldTown      -0.2556    cat_neigborhood\n",
       "17              Edwards      -0.2557    cat_neigborhood\n",
       "11              Blueste      -0.2705    cat_neigborhood\n",
       "20              MeadowV      -0.3313    cat_neigborhood\n",
       "12               BrDale      -0.3405    cat_neigborhood\n",
       "19               IDOTRR      -0.3504    cat_neigborhood"
      ]
     },
     "execution_count": 42,
     "metadata": {},
     "output_type": "execute_result"
    }
   ],
   "source": [
    "# Build a sorted table of coefficients\n",
    "# With a bit of info on the type of feature\n",
    "\n",
    "lin_normal_cols = X_train.columns.to_list()\n",
    "lin_normal_ceof = [item for item in lin_norm.coef_.tolist()[0]]\n",
    "lin_norm_coef_dicts = {'feature': lin_normal_cols,\n",
    "                      'coefficient': lin_normal_ceof\n",
    "                      }\n",
    "lin_norm_coef_df = pd.DataFrame(lin_norm_coef_dicts)\n",
    "lin_norm_coef_df.index.name = 'col_index'\n",
    "lin_norm_coef_df['coefficient'] = lin_norm_coef_df['coefficient'].map(lambda x: '{:.4f}'.format(x))\n",
    "lin_norm_coef_df['feature_type'] = 'noncat'\n",
    "lin_norm_coef_df.loc[lin_norm_coef_df.feature.isin(garfin_list), 'feature_type'] = 'cat_garage_finish'\n",
    "lin_norm_coef_df.loc[lin_norm_coef_df.feature.isin(neig_list), 'feature_type'] = 'cat_neigborhood'\n",
    "lin_norm_coef_df['coefficient'] = lin_norm_coef_df['coefficient'].astype(float)\n",
    "lin_norm_coef_df.sort_values(by='coefficient', ascending=False, inplace=True)\n",
    "lin_norm_coef_df"
   ]
  },
  {
   "cell_type": "code",
   "execution_count": 43,
   "metadata": {},
   "outputs": [
    {
     "data": {
      "text/html": [
       "<div>\n",
       "<style scoped>\n",
       "    .dataframe tbody tr th:only-of-type {\n",
       "        vertical-align: middle;\n",
       "    }\n",
       "\n",
       "    .dataframe tbody tr th {\n",
       "        vertical-align: top;\n",
       "    }\n",
       "\n",
       "    .dataframe thead th {\n",
       "        text-align: right;\n",
       "    }\n",
       "</style>\n",
       "<table border=\"1\" class=\"dataframe\">\n",
       "  <thead>\n",
       "    <tr style=\"text-align: right;\">\n",
       "      <th></th>\n",
       "      <th>feature</th>\n",
       "      <th>coefficient</th>\n",
       "      <th>feature_type</th>\n",
       "    </tr>\n",
       "    <tr>\n",
       "      <th>col_index</th>\n",
       "      <th></th>\n",
       "      <th></th>\n",
       "      <th></th>\n",
       "    </tr>\n",
       "  </thead>\n",
       "  <tbody>\n",
       "    <tr>\n",
       "      <td>25</td>\n",
       "      <td>NoRidge</td>\n",
       "      <td>0.0971</td>\n",
       "      <td>cat_neigborhood</td>\n",
       "    </tr>\n",
       "    <tr>\n",
       "      <td>0</td>\n",
       "      <td>OverallQual</td>\n",
       "      <td>0.0927</td>\n",
       "      <td>noncat</td>\n",
       "    </tr>\n",
       "    <tr>\n",
       "      <td>34</td>\n",
       "      <td>Fin</td>\n",
       "      <td>0.0604</td>\n",
       "      <td>cat_garage_finish</td>\n",
       "    </tr>\n",
       "    <tr>\n",
       "      <td>2</td>\n",
       "      <td>TotRmsAbvGrd</td>\n",
       "      <td>0.0486</td>\n",
       "      <td>noncat</td>\n",
       "    </tr>\n",
       "    <tr>\n",
       "      <td>36</td>\n",
       "      <td>RFn</td>\n",
       "      <td>0.0474</td>\n",
       "      <td>cat_garage_finish</td>\n",
       "    </tr>\n",
       "  </tbody>\n",
       "</table>\n",
       "</div>"
      ],
      "text/plain": [
       "                feature  coefficient       feature_type\n",
       "col_index                                              \n",
       "25              NoRidge       0.0971    cat_neigborhood\n",
       "0           OverallQual       0.0927             noncat\n",
       "34                  Fin       0.0604  cat_garage_finish\n",
       "2          TotRmsAbvGrd       0.0486             noncat\n",
       "36                  RFn       0.0474  cat_garage_finish"
      ]
     },
     "execution_count": 43,
     "metadata": {},
     "output_type": "execute_result"
    }
   ],
   "source": [
    "lin_norm_coef_df.head()"
   ]
  },
  {
   "cell_type": "code",
   "execution_count": 44,
   "metadata": {},
   "outputs": [
    {
     "data": {
      "text/html": [
       "<div>\n",
       "<style scoped>\n",
       "    .dataframe tbody tr th:only-of-type {\n",
       "        vertical-align: middle;\n",
       "    }\n",
       "\n",
       "    .dataframe tbody tr th {\n",
       "        vertical-align: top;\n",
       "    }\n",
       "\n",
       "    .dataframe thead th {\n",
       "        text-align: right;\n",
       "    }\n",
       "</style>\n",
       "<table border=\"1\" class=\"dataframe\">\n",
       "  <thead>\n",
       "    <tr style=\"text-align: right;\">\n",
       "      <th></th>\n",
       "      <th>feature</th>\n",
       "      <th>coefficient</th>\n",
       "      <th>feature_type</th>\n",
       "    </tr>\n",
       "    <tr>\n",
       "      <th>col_index</th>\n",
       "      <th></th>\n",
       "      <th></th>\n",
       "      <th></th>\n",
       "    </tr>\n",
       "  </thead>\n",
       "  <tbody>\n",
       "    <tr>\n",
       "      <td>17</td>\n",
       "      <td>Edwards</td>\n",
       "      <td>-0.2557</td>\n",
       "      <td>cat_neigborhood</td>\n",
       "    </tr>\n",
       "    <tr>\n",
       "      <td>11</td>\n",
       "      <td>Blueste</td>\n",
       "      <td>-0.2705</td>\n",
       "      <td>cat_neigborhood</td>\n",
       "    </tr>\n",
       "    <tr>\n",
       "      <td>20</td>\n",
       "      <td>MeadowV</td>\n",
       "      <td>-0.3313</td>\n",
       "      <td>cat_neigborhood</td>\n",
       "    </tr>\n",
       "    <tr>\n",
       "      <td>12</td>\n",
       "      <td>BrDale</td>\n",
       "      <td>-0.3405</td>\n",
       "      <td>cat_neigborhood</td>\n",
       "    </tr>\n",
       "    <tr>\n",
       "      <td>19</td>\n",
       "      <td>IDOTRR</td>\n",
       "      <td>-0.3504</td>\n",
       "      <td>cat_neigborhood</td>\n",
       "    </tr>\n",
       "  </tbody>\n",
       "</table>\n",
       "</div>"
      ],
      "text/plain": [
       "           feature  coefficient     feature_type\n",
       "col_index                                       \n",
       "17         Edwards      -0.2557  cat_neigborhood\n",
       "11         Blueste      -0.2705  cat_neigborhood\n",
       "20         MeadowV      -0.3313  cat_neigborhood\n",
       "12          BrDale      -0.3405  cat_neigborhood\n",
       "19          IDOTRR      -0.3504  cat_neigborhood"
      ]
     },
     "execution_count": 44,
     "metadata": {},
     "output_type": "execute_result"
    }
   ],
   "source": [
    "lin_norm_coef_df.tail()"
   ]
  },
  {
   "cell_type": "markdown",
   "metadata": {},
   "source": [
    "**Takeaways:**\n",
    "\n",
    "This tells us how much an increase in one of the predictors impacts the log of the sales price.  \n",
    "\n",
    "* Plus, it's doing so in relative units.  \n",
    "* That is, it's telling us that the same relative improvement in overall quality will increase the value more than same relative improvement in total rooms above ground.  \n",
    "* Aka, it might be wiser to invest in overall quality rather than simply adding (low-quality) room.\n",
    "* But note that challenge is that it's hard to compare improving quality and adding a room.  \n",
    "* Really, the homeowner would like to measure \\\\$10000 dollars invested in one aspect of the home v. another.\n",
    "\n",
    "This also tells us the direction of changes.  \n",
    "\n",
    "* For example, moving from Veenker (the default location) to NoRidge really improves the value of the house.  \n",
    "* But moving from Veenker to Timber reduces the value of the home.\n",
    "* Of course, you can't really move homes.  So, that part doesn't make sense.\n",
    "* But the numbers could still help with understanding the relative contribution of the neighborhoods.\n",
    "\n",
    "One interesting example of positive and negative change is with garages finishes.\n",
    "\n",
    "* The default is an unfinished garage.\n",
    "* Adding a finish to the garage (aka, the highest quality) adds the most value\n",
    "* Adding a rough finish to the garage (aka, medium quality) adds some value but not as much\n",
    "* Having no garage (aka, eliminating the garage) destroys value.\n",
    "* All of which make intuitive sense."
   ]
  },
  {
   "cell_type": "markdown",
   "metadata": {},
   "source": [
    "### Help home owners understand predicted value"
   ]
  },
  {
   "cell_type": "markdown",
   "metadata": {},
   "source": [
    "One use of this model is to provide homeowners with predictions of the sales prices of individual homes.  \n",
    "\n",
    "To do this, I will want to:\n",
    "\n",
    "* Show an example prediction\n",
    "* Include a prediction interval"
   ]
  },
  {
   "cell_type": "markdown",
   "metadata": {},
   "source": [
    "#### To start:  get predicted price"
   ]
  },
  {
   "cell_type": "code",
   "execution_count": 45,
   "metadata": {},
   "outputs": [
    {
     "name": "stdout",
     "output_type": "stream",
     "text": [
      "I will be looking at the test observation indexed at 215\n"
     ]
    }
   ],
   "source": [
    "# Pull a random example from our test set of 363 observatons using numpy function\n",
    "seed(32)\n",
    "test_rand = randint(0, 363, 1)[0]\n",
    "print('I will be looking at the test observation indexed at {}'.format(test_rand))"
   ]
  },
  {
   "cell_type": "code",
   "execution_count": 46,
   "metadata": {},
   "outputs": [
    {
     "data": {
      "text/plain": [
       "OverallQual       5.0\n",
       "1stFlrSF        936.0\n",
       "TotRmsAbvGrd      4.0\n",
       "FireplaceQu       0.0\n",
       "MasVnrArea        0.0\n",
       "HeatingQC         5.0\n",
       "BsmtFinSF1      248.0\n",
       "BsmtExposure      0.0\n",
       "WoodDeckSF        0.0\n",
       "OpenPorchSF       0.0\n",
       "Blmngtn           0.0\n",
       "Blueste           0.0\n",
       "BrDale            0.0\n",
       "BrkSide           0.0\n",
       "ClearCr           0.0\n",
       "CollgCr           0.0\n",
       "Crawfor           0.0\n",
       "Edwards           0.0\n",
       "Gilbert           0.0\n",
       "IDOTRR            0.0\n",
       "MeadowV           0.0\n",
       "Mitchel           0.0\n",
       "NAmes             1.0\n",
       "NPkVill           0.0\n",
       "NWAmes            0.0\n",
       "NoRidge           0.0\n",
       "NridgHt           0.0\n",
       "OldTown           0.0\n",
       "SWISU             0.0\n",
       "Sawyer            0.0\n",
       "SawyerW           0.0\n",
       "Somerst           0.0\n",
       "StoneBr           0.0\n",
       "Timber            0.0\n",
       "Fin               1.0\n",
       "No                0.0\n",
       "RFn               0.0\n",
       "Name: 1095, dtype: float64"
      ]
     },
     "execution_count": 46,
     "metadata": {},
     "output_type": "execute_result"
    }
   ],
   "source": [
    "# Look at the details of the predictors\n",
    "X_test.iloc[test_rand]"
   ]
  },
  {
   "cell_type": "code",
   "execution_count": 47,
   "metadata": {},
   "outputs": [],
   "source": [
    "# Get our predicted price\n",
    "this_lin_norm_test_y_pred = lin_norm_test_y_pred[test_rand][0]\n",
    "\n",
    "# # Check\n",
    "# this_lin_norm_test_y_pred"
   ]
  },
  {
   "cell_type": "markdown",
   "metadata": {},
   "source": [
    "**Takeaway:**\n",
    "\n",
    "* Here, our example homeowners have a home of 4 rooms, with 936 square feet on the first floor, a quality index of 5, located in North Ames, with a finished garage, etc.\n",
    "* It's pretty average, maybe many rooms for a smaller home."
   ]
  },
  {
   "cell_type": "markdown",
   "metadata": {},
   "source": [
    "#### Approach 1:  Use the actual residual"
   ]
  },
  {
   "cell_type": "code",
   "execution_count": 48,
   "metadata": {},
   "outputs": [],
   "source": [
    "# Get residuals\n",
    "resid = lin_norm_test_y_pred - y_test\n",
    "\n",
    "# # Check\n",
    "# resid"
   ]
  },
  {
   "cell_type": "code",
   "execution_count": 49,
   "metadata": {},
   "outputs": [
    {
     "data": {
      "text/plain": [
       "SalePriceLog    11.767568\n",
       "Name: 1095, dtype: float64"
      ]
     },
     "execution_count": 49,
     "metadata": {},
     "output_type": "execute_result"
    }
   ],
   "source": [
    "# Get the actual sales price\n",
    "this_actual = y_test.iloc[test_rand]\n",
    "\n",
    "# Check\n",
    "this_actual"
   ]
  },
  {
   "cell_type": "code",
   "execution_count": 50,
   "metadata": {},
   "outputs": [],
   "source": [
    "# Get quantiles\n",
    "lower_ci = np.absolute(resid.SalePriceLog.quantile(0.025))\n",
    "upper_ci = np.absolute(resid.SalePriceLog.quantile(0.975))\n",
    "\n",
    "# # Check\n",
    "# print(lower_ci)\n",
    "# print(upper_ci)\n",
    "\n",
    "# Calc interval\n",
    "lower_a1 = this_lin_norm_test_y_pred - lower_ci\n",
    "upper_a1 = this_lin_norm_test_y_pred + upper_ci\n",
    "\n",
    "# # Check\n",
    "# print(lower_a1)\n",
    "# print(upper_a1)"
   ]
  },
  {
   "cell_type": "code",
   "execution_count": 51,
   "metadata": {},
   "outputs": [
    {
     "data": {
      "image/png": "[encoded data removed]",
      "text/plain": [
       "<Figure size 432x288 with 1 Axes>"
      ]
     },
     "metadata": {
      "needs_background": "light"
     },
     "output_type": "display_data"
    }
   ],
   "source": [
    "# Visualze the residual\n",
    "g = sns.distplot(resid)\n",
    "g = plt.axvline(-lower_ci, 0, color='black')\n",
    "g = plt.axvline(upper_ci, 0, color='black')\n",
    "# g = plt.ylabel('Regression coefficients from Lasso')\n",
    "g = plt.show()\n"
   ]
  },
  {
   "cell_type": "code",
   "execution_count": 52,
   "metadata": {},
   "outputs": [
    {
     "name": "stdout",
     "output_type": "stream",
     "text": [
      "The predicted price written as a natural log is 11.725\n",
      "With a 95% confidence interval between 11.467 and 12.039\n",
      "\n",
      "The predicted price in dollars is 123634.9034895987\n",
      "With a 95% confidence interval between 95482.580 and 169181.279\n"
     ]
    }
   ],
   "source": [
    "# Print values\n",
    "print('The predicted price written as a natural log is {:.3f}'.format(this_lin_norm_test_y_pred))\n",
    "print('With a 95% confidence interval between {:.3f} and {:.3f}'.format(lower_a1, upper_a1))\n",
    "print()\n",
    "print('The predicted price in dollars is {:}'.format(np.exp(this_lin_norm_test_y_pred)))\n",
    "print('With a 95% confidence interval between {:.3f} and {:.3f}'.format(np.exp(lower_a1), np.exp(upper_a1)))"
   ]
  },
  {
   "cell_type": "code",
   "execution_count": 53,
   "metadata": {},
   "outputs": [
    {
     "data": {
      "text/plain": [
       "[11.466699100776024,\n",
       " 11.725088174833527,\n",
       " 12.038726077356458,\n",
       " 95482.57993531984,\n",
       " 123634.9034895987,\n",
       " 169181.2792591447,\n",
       " 11.76756768334381,\n",
       " 129000.00000000006]"
      ]
     },
     "execution_count": 53,
     "metadata": {},
     "output_type": "execute_result"
    }
   ],
   "source": [
    "pred_ls = [lower_a1, this_lin_norm_test_y_pred, upper_a1, \n",
    "           np.exp(lower_a1), np.exp(this_lin_norm_test_y_pred), np.exp(upper_a1),\n",
    "           this_actual[0], np.exp(this_actual[0])]\n",
    "\n",
    "# Check\n",
    "pred_ls "
   ]
  },
  {
   "cell_type": "markdown",
   "metadata": {},
   "source": [
    "#### Save data on final model to use for comparisons in next notebook"
   ]
  },
  {
   "cell_type": "code",
   "execution_count": 54,
   "metadata": {},
   "outputs": [
    {
     "data": {
      "text/html": [
       "<div>\n",
       "<style scoped>\n",
       "    .dataframe tbody tr th:only-of-type {\n",
       "        vertical-align: middle;\n",
       "    }\n",
       "\n",
       "    .dataframe tbody tr th {\n",
       "        vertical-align: top;\n",
       "    }\n",
       "\n",
       "    .dataframe thead th {\n",
       "        text-align: right;\n",
       "    }\n",
       "</style>\n",
       "<table border=\"1\" class=\"dataframe\">\n",
       "  <thead>\n",
       "    <tr style=\"text-align: right;\">\n",
       "      <th></th>\n",
       "      <th>model</th>\n",
       "      <th>y_test_iloc</th>\n",
       "      <th>pred_log_lower_ci</th>\n",
       "      <th>pred_log</th>\n",
       "      <th>pred_log_upper_ci</th>\n",
       "      <th>pred_dollar_lower</th>\n",
       "      <th>pred_dollar</th>\n",
       "      <th>pred_dollar_upper</th>\n",
       "      <th>actual_log</th>\n",
       "      <th>actual_dollar</th>\n",
       "    </tr>\n",
       "  </thead>\n",
       "  <tbody>\n",
       "    <tr>\n",
       "      <td>0</td>\n",
       "      <td>lin_norm</td>\n",
       "      <td>215</td>\n",
       "      <td>11.466699</td>\n",
       "      <td>11.725088</td>\n",
       "      <td>12.038726</td>\n",
       "      <td>95482.579935</td>\n",
       "      <td>123634.90349</td>\n",
       "      <td>169181.279259</td>\n",
       "      <td>11.767568</td>\n",
       "      <td>129000.0</td>\n",
       "    </tr>\n",
       "  </tbody>\n",
       "</table>\n",
       "</div>"
      ],
      "text/plain": [
       "      model  y_test_iloc  pred_log_lower_ci   pred_log  pred_log_upper_ci  \\\n",
       "0  lin_norm          215          11.466699  11.725088          12.038726   \n",
       "\n",
       "   pred_dollar_lower   pred_dollar  pred_dollar_upper  actual_log  \\\n",
       "0       95482.579935  123634.90349      169181.279259   11.767568   \n",
       "\n",
       "   actual_dollar  \n",
       "0       129000.0  "
      ]
     },
     "execution_count": 54,
     "metadata": {},
     "output_type": "execute_result"
    }
   ],
   "source": [
    "# Create dataframe \n",
    "pred_example_lin_dict = {'model': ['lin_norm'],\n",
    "                  'y_test_iloc': [test_rand],\n",
    "                  'pred_log_lower_ci': [lower_a1],\n",
    "                  'pred_log': [this_lin_norm_test_y_pred],\n",
    "                  'pred_log_upper_ci': [upper_a1],\n",
    "                  'pred_dollar_lower': [np.exp(lower_a1)],\n",
    "                  'pred_dollar': [np.exp(this_lin_norm_test_y_pred)],\n",
    "                  'pred_dollar_upper': [np.exp(upper_a1)],\n",
    "                  'actual_log': [this_actual[0]],\n",
    "                  'actual_dollar': [np.exp(this_actual[0])]\n",
    "                 }\n",
    "pred_example_lin_df = pd.DataFrame(pred_example_lin_dict)\n",
    "\n",
    "# Check\n",
    "pred_example_lin_dict\n",
    "pred_example_lin_df"
   ]
  },
  {
   "cell_type": "code",
   "execution_count": 55,
   "metadata": {},
   "outputs": [],
   "source": [
    "# Write data\n",
    "pred_example_lin_df.to_pickle(\"../sb_cap1_data/pred_example_lin_df\")"
   ]
  },
  {
   "cell_type": "markdown",
   "metadata": {},
   "source": [
    "#### Approach 2:  Assume a normal distribution"
   ]
  },
  {
   "cell_type": "code",
   "execution_count": 56,
   "metadata": {},
   "outputs": [],
   "source": [
    "# Define a function to calc a prediction interval from linear regression\n",
    "\n",
    "def get_prediction_interval(prediction, y_test, test_predictions, pi=.95):\n",
    "    '''\n",
    "    Get a prediction interval for a linear regression.\n",
    "    \n",
    "    INPUTS: \n",
    "        - Single prediction, \n",
    "        - y_test\n",
    "        - All test set predictions,\n",
    "        - Prediction interval threshold (default = .95) \n",
    "    OUTPUT: \n",
    "        - Prediction interval for single prediction\n",
    "    '''\n",
    "    \n",
    "    #get standard deviation of y_test\n",
    "    sum_errs = np.sum((y_test - test_predictions)**2)\n",
    "    stdev = np.sqrt(1 / (len(y_test) - 2) * sum_errs)\n",
    "\n",
    "    #get interval from standard deviation\n",
    "    one_minus_pi = 1 - pi\n",
    "    ppf_lookup = 1 - (one_minus_pi / 2)\n",
    "    z_score = norm.ppf(ppf_lookup)\n",
    "    interval = z_score * stdev\n",
    "\n",
    "    #generate prediction interval lower and upper bound\n",
    "    lower, upper = prediction - interval, prediction + interval\n",
    "    return lower, prediction, upper\n",
    "\n",
    "# Sourced from stack overflow"
   ]
  },
  {
   "cell_type": "code",
   "execution_count": 57,
   "metadata": {},
   "outputs": [],
   "source": [
    "# Get our predicted price\n",
    "this_lin_norm_test_y_pred = lin_norm_test_y_pred[test_rand][0]\n",
    "lower, pred, upper = get_prediction_interval(this_lin_norm_test_y_pred, y_test, lin_norm_test_y_pred)"
   ]
  },
  {
   "cell_type": "code",
   "execution_count": 58,
   "metadata": {},
   "outputs": [
    {
     "name": "stdout",
     "output_type": "stream",
     "text": [
      "The predicted price written as a natural log is 11.725\n",
      "With a 95% confidence interval between 11.428 and 12.022\n",
      "\n",
      "The predicted price in dollars is 123634.9034895987\n",
      "With a 95% confidence interval between 91901.303 and 166326.145\n"
     ]
    }
   ],
   "source": [
    "# Print results\n",
    "print('The predicted price written as a natural log is {:.3f}'.format(pred))\n",
    "print('With a 95% confidence interval between {:.3f} and {:.3f}'.format(lower[0], upper[0]))\n",
    "print()\n",
    "print('The predicted price in dollars is {:}'.format((np.exp(pred))))\n",
    "print('With a 95% confidence interval between {:.3f} and {:.3f}'.format(np.exp(lower[0]), np.exp(upper[0])))"
   ]
  },
  {
   "cell_type": "markdown",
   "metadata": {},
   "source": [
    "**Takeaways:**\n",
    "\n",
    "* We randomly selected a house that we didn't train the model on.\n",
    "* In this case, it was a home with 936 square feet on first floor, 4 rooms, of mid-level quality (aka, index of 5), with a finished garage, located in North Ames, . . .\n",
    "\n",
    "* Our predicted selling price is \\\\$123,600\n",
    "\n",
    "* Plus, we're 95\\% confident that the home should sell for \n",
    "* no less than \\\\$91,900, which might be considered as a worst case for the homeowner\n",
    "* no more than \\\\$166,300, which might be considered as a best case for the homeowner"
   ]
  },
  {
   "cell_type": "markdown",
   "metadata": {},
   "source": [
    "# Appendix:  Modeling using Ridge and Lasso"
   ]
  },
  {
   "cell_type": "markdown",
   "metadata": {},
   "source": [
    "As noted above, there doesn't appear to be any overfitting with linear regression.  \n",
    "\n",
    "So, we don't need to use ridge or lasso to fix that problem.\n",
    "\n",
    "Still, I'd like to implement these models and compare the results to continue my learning."
   ]
  },
  {
   "cell_type": "markdown",
   "metadata": {},
   "source": [
    "## Modeling using Ridge"
   ]
  },
  {
   "cell_type": "markdown",
   "metadata": {},
   "source": [
    "### Tune the model"
   ]
  },
  {
   "cell_type": "code",
   "execution_count": 59,
   "metadata": {},
   "outputs": [
    {
     "name": "stdout",
     "output_type": "stream",
     "text": [
      "The best parameters are {'alpha': 0.1, 'fit_intercept': True, 'normalize': True}\n",
      "The best score is 0.8322081520384655\n"
     ]
    },
    {
     "name": "stderr",
     "output_type": "stream",
     "text": [
      "/opt/anaconda3/lib/python3.7/site-packages/sklearn/model_selection/_search.py:814: DeprecationWarning: The default of the `iid` parameter will change from True to False in version 0.22 and will be removed in 0.24. This will change numeric results when test-set sizes are unequal.\n",
      "  DeprecationWarning)\n"
     ]
    }
   ],
   "source": [
    "# Instantiate a tuning model\n",
    "ridg_tune = Ridge()\n",
    "\n",
    "# Set up the grid\n",
    "parameters = {'alpha':[0.001,0.005,0.01,0.1,0.5,1], \n",
    "              'normalize':[True,False],\n",
    "              'fit_intercept':[True,False]}\n",
    "\n",
    "# Instantiate the gridsearch\n",
    "ridg_cv = GridSearchCV(ridg_tune, parameters, cv=5)\n",
    "\n",
    "# Fit the gridsearch to the test data\n",
    "ridg_cv.fit(X_train, y_train)\n",
    "\n",
    "# Print results\n",
    "print('The best parameters are {}'.format(ridg_cv.best_params_))\n",
    "print('The best score is {}'.format(ridg_cv.best_score_))"
   ]
  },
  {
   "cell_type": "markdown",
   "metadata": {},
   "source": [
    "### Fit model"
   ]
  },
  {
   "cell_type": "code",
   "execution_count": 60,
   "metadata": {},
   "outputs": [
    {
     "data": {
      "text/plain": [
       "Ridge(alpha=0.1, copy_X=True, fit_intercept=True, max_iter=None, normalize=True,\n",
       "      random_state=None, solver='auto', tol=0.001)"
      ]
     },
     "execution_count": 60,
     "metadata": {},
     "output_type": "execute_result"
    }
   ],
   "source": [
    "# Instantiate a best model\n",
    "ridg = Ridge(alpha=0.1, fit_intercept=True, normalize=True)\n",
    "\n",
    "# Fit best model\n",
    "ridg.fit(X_train, y_train)"
   ]
  },
  {
   "cell_type": "markdown",
   "metadata": {},
   "source": [
    "### Score off training"
   ]
  },
  {
   "cell_type": "code",
   "execution_count": 61,
   "metadata": {},
   "outputs": [
    {
     "name": "stdout",
     "output_type": "stream",
     "text": [
      "For the training set:\n",
      "\n",
      "R-squared is 0.847506284691361\n",
      "MSE is 0.02426187997766483\n",
      "RMSE is 0.15576225466288304\n",
      "MAE is 0.02426187997766483\n"
     ]
    }
   ],
   "source": [
    "# Predict from x train and compare to y train\n",
    "ridg_train_y_pred = ridg.predict(X_train)\n",
    "\n",
    "# Format a bit\n",
    "print('For the training set:')\n",
    "print()\n",
    "\n",
    "# Calc r-squared\n",
    "ridg_train_r2 = r2_score(y_train, ridg_train_y_pred)\n",
    "print('R-squared is {}'.format(ridg_train_r2))\n",
    "\n",
    "# # Calc exlained variance\n",
    "# ridg_train_ev = explained_variance_score(y_train, ridg_train_y_pred)\n",
    "# print('Explained variance is {}'.format(ridg_train_ev))\n",
    "\n",
    "# Calc MSE\n",
    "ridg_train_mse = mean_squared_error(y_train, ridg_train_y_pred)\n",
    "print('MSE is {}'.format(ridg_train_mse))\n",
    "\n",
    "# Calc RMSE\n",
    "ridg_train_rmse = np.sqrt(ridg_train_mse)\n",
    "print('RMSE is {}'.format(ridg_train_rmse))\n",
    "\n",
    "# # Calc MAPE\n",
    "# ridg_train_mape = mape(y_train, ridg_train_y_pred)\n",
    "# print('MAPE is {}'.format(ridg_train_mape))\n",
    "\n",
    "# Calc MAE\n",
    "ridg_train_mae = mean_absolute_error(y_train, ridg_train_y_pred)\n",
    "print('MAE is {}'.format(ridg_train_mse))"
   ]
  },
  {
   "cell_type": "markdown",
   "metadata": {},
   "source": [
    "### Score off test"
   ]
  },
  {
   "cell_type": "code",
   "execution_count": 62,
   "metadata": {},
   "outputs": [
    {
     "name": "stdout",
     "output_type": "stream",
     "text": [
      "For the test set:\n",
      "\n",
      "R-squared is 0.8530460784091507\n",
      "MSE is 0.023545206338902402\n",
      "RMSE is 0.1534444731455076\n",
      "MAE is 0.023545206338902402\n"
     ]
    }
   ],
   "source": [
    "# Predict from x test and compare to y test\n",
    "ridg_test_y_pred = ridg.predict(X_test)\n",
    "\n",
    "# Format a bit\n",
    "print('For the test set:')\n",
    "print()\n",
    "\n",
    "# Calc r-squared\n",
    "ridg_test_r2 = r2_score(y_test, ridg_test_y_pred)\n",
    "print('R-squared is {}'.format(ridg_test_r2))\n",
    "\n",
    "# # Calc exlained variance\n",
    "# ridg_test_ev = explained_variance_score(y_test, ridg_test_y_pred)\n",
    "# print('Explained variance is {}'.format(ridg_test_ev))\n",
    "\n",
    "# Calc MSE\n",
    "ridg_test_mse = mean_squared_error(y_test, ridg_test_y_pred)\n",
    "print('MSE is {}'.format(ridg_test_mse))\n",
    "\n",
    "# Calc RMSE\n",
    "ridg_test_rmse = np.sqrt(ridg_test_mse)\n",
    "print('RMSE is {}'.format(ridg_test_rmse))\n",
    "\n",
    "# # Calc MAPE\n",
    "# ridg_test_mape = mape(y_test, ridg_test_y_pred)\n",
    "# print('MAPE is {}'.format(ridg_test_mape))\n",
    "\n",
    "# Calc MAE\n",
    "ridg_test_mae = mean_absolute_error(y_test, ridg_test_y_pred)\n",
    "print('MAE is {}'.format(ridg_test_mse))"
   ]
  },
  {
   "cell_type": "markdown",
   "metadata": {},
   "source": [
    "## Model using Lasso"
   ]
  },
  {
   "cell_type": "markdown",
   "metadata": {},
   "source": [
    "### Tune the model"
   ]
  },
  {
   "cell_type": "code",
   "execution_count": 63,
   "metadata": {
    "scrolled": true
   },
   "outputs": [
    {
     "name": "stdout",
     "output_type": "stream",
     "text": [
      "The best parameters are {'alpha': 0.001, 'copy_X': True, 'fit_intercept': True, 'normalize': False}\n",
      "The best score is 0.8236059171032614\n"
     ]
    },
    {
     "name": "stderr",
     "output_type": "stream",
     "text": [
      "/opt/anaconda3/lib/python3.7/site-packages/sklearn/model_selection/_search.py:814: DeprecationWarning: The default of the `iid` parameter will change from True to False in version 0.22 and will be removed in 0.24. This will change numeric results when test-set sizes are unequal.\n",
      "  DeprecationWarning)\n"
     ]
    }
   ],
   "source": [
    "# Instantiate a tuning model\n",
    "lass_tune = Lasso()\n",
    "\n",
    "# Set up the grid\n",
    "parameters = {'alpha':[0.001, 0.005, 0.075, 0.01, 0.1, 0.5, 0.75, 1], \n",
    "              'normalize':[True, False],\n",
    "              'fit_intercept':[True, False],\n",
    "              'copy_X':[True, False]}\n",
    "\n",
    "# Instantiate the gridsearch\n",
    "lass_cv = GridSearchCV(lass_tune, parameters, cv=5)\n",
    "\n",
    "# Fit the gridsearch to the test data\n",
    "lass_cv.fit(X_train, y_train)\n",
    "\n",
    "# Print results\n",
    "print('The best parameters are {}'.format(lass_cv.best_params_))\n",
    "print('The best score is {}'.format(lass_cv.best_score_))"
   ]
  },
  {
   "cell_type": "markdown",
   "metadata": {},
   "source": [
    "### Build model"
   ]
  },
  {
   "cell_type": "code",
   "execution_count": 64,
   "metadata": {},
   "outputs": [
    {
     "data": {
      "text/plain": [
       "Lasso(alpha=0.001, copy_X=True, fit_intercept=True, max_iter=1000,\n",
       "      normalize=False, positive=False, precompute=False, random_state=None,\n",
       "      selection='cyclic', tol=0.0001, warm_start=False)"
      ]
     },
     "execution_count": 64,
     "metadata": {},
     "output_type": "execute_result"
    }
   ],
   "source": [
    "# Instantiate the model\n",
    "lass = Lasso(alpha=0.001, copy_X=True, fit_intercept=True, normalize=False)\n",
    "\n",
    "# Fit the model \n",
    "lass.fit(X_train, y_train)"
   ]
  },
  {
   "cell_type": "markdown",
   "metadata": {},
   "source": [
    "### Aside:  Visualize the coefficients"
   ]
  },
  {
   "cell_type": "code",
   "execution_count": 65,
   "metadata": {},
   "outputs": [
    {
     "data": {
      "image/png": "[encoded data removed]",
      "text/plain": [
       "<Figure size 640x480 with 1 Axes>"
      ]
     },
     "metadata": {
      "needs_background": "light"
     },
     "output_type": "display_data"
    }
   ],
   "source": [
    "# Visualize the regression coefficients\n",
    "\n",
    "lass_names = df_x.columns\n",
    "lass_coef = lass.coef_\n",
    "_ = figure(num=None, figsize=(8, 6), dpi=80)\n",
    "_ = plt.plot(range(len(lass_names)), lass_coef)\n",
    "_ = plt.xticks(range(len(lass_names)), lass_names, rotation = 90)\n",
    "_ = plt.ylabel('Regression coefficients from Lasso')"
   ]
  },
  {
   "cell_type": "code",
   "execution_count": 66,
   "metadata": {},
   "outputs": [
    {
     "name": "stdout",
     "output_type": "stream",
     "text": [
      "Of the 37 predictors, 30 have coefficients more than zero.  They are:\n"
     ]
    },
    {
     "data": {
      "text/html": [
       "<div>\n",
       "<style scoped>\n",
       "    .dataframe tbody tr th:only-of-type {\n",
       "        vertical-align: middle;\n",
       "    }\n",
       "\n",
       "    .dataframe tbody tr th {\n",
       "        vertical-align: top;\n",
       "    }\n",
       "\n",
       "    .dataframe thead th {\n",
       "        text-align: right;\n",
       "    }\n",
       "</style>\n",
       "<table border=\"1\" class=\"dataframe\">\n",
       "  <thead>\n",
       "    <tr style=\"text-align: right;\">\n",
       "      <th></th>\n",
       "      <th>Predictor</th>\n",
       "      <th>Coef</th>\n",
       "    </tr>\n",
       "  </thead>\n",
       "  <tbody>\n",
       "    <tr>\n",
       "      <td>25</td>\n",
       "      <td>NoRidge</td>\n",
       "      <td>0.129796</td>\n",
       "    </tr>\n",
       "    <tr>\n",
       "      <td>0</td>\n",
       "      <td>OverallQual</td>\n",
       "      <td>0.106448</td>\n",
       "    </tr>\n",
       "    <tr>\n",
       "      <td>16</td>\n",
       "      <td>Crawfor</td>\n",
       "      <td>0.079814</td>\n",
       "    </tr>\n",
       "    <tr>\n",
       "      <td>31</td>\n",
       "      <td>Somerst</td>\n",
       "      <td>0.079429</td>\n",
       "    </tr>\n",
       "    <tr>\n",
       "      <td>14</td>\n",
       "      <td>ClearCr</td>\n",
       "      <td>0.072038</td>\n",
       "    </tr>\n",
       "    <tr>\n",
       "      <td>26</td>\n",
       "      <td>NridgHt</td>\n",
       "      <td>0.064413</td>\n",
       "    </tr>\n",
       "    <tr>\n",
       "      <td>34</td>\n",
       "      <td>Fin</td>\n",
       "      <td>0.061633</td>\n",
       "    </tr>\n",
       "    <tr>\n",
       "      <td>32</td>\n",
       "      <td>StoneBr</td>\n",
       "      <td>0.060667</td>\n",
       "    </tr>\n",
       "    <tr>\n",
       "      <td>36</td>\n",
       "      <td>RFn</td>\n",
       "      <td>0.056491</td>\n",
       "    </tr>\n",
       "    <tr>\n",
       "      <td>2</td>\n",
       "      <td>TotRmsAbvGrd</td>\n",
       "      <td>0.047412</td>\n",
       "    </tr>\n",
       "    <tr>\n",
       "      <td>5</td>\n",
       "      <td>HeatingQC</td>\n",
       "      <td>0.040280</td>\n",
       "    </tr>\n",
       "    <tr>\n",
       "      <td>7</td>\n",
       "      <td>BsmtExposure</td>\n",
       "      <td>0.023180</td>\n",
       "    </tr>\n",
       "    <tr>\n",
       "      <td>15</td>\n",
       "      <td>CollgCr</td>\n",
       "      <td>0.021908</td>\n",
       "    </tr>\n",
       "    <tr>\n",
       "      <td>3</td>\n",
       "      <td>FireplaceQu</td>\n",
       "      <td>0.019259</td>\n",
       "    </tr>\n",
       "    <tr>\n",
       "      <td>9</td>\n",
       "      <td>OpenPorchSF</td>\n",
       "      <td>0.000211</td>\n",
       "    </tr>\n",
       "    <tr>\n",
       "      <td>8</td>\n",
       "      <td>WoodDeckSF</td>\n",
       "      <td>0.000182</td>\n",
       "    </tr>\n",
       "    <tr>\n",
       "      <td>1</td>\n",
       "      <td>1stFlrSF</td>\n",
       "      <td>0.000101</td>\n",
       "    </tr>\n",
       "    <tr>\n",
       "      <td>6</td>\n",
       "      <td>BsmtFinSF1</td>\n",
       "      <td>0.000078</td>\n",
       "    </tr>\n",
       "    <tr>\n",
       "      <td>4</td>\n",
       "      <td>MasVnrArea</td>\n",
       "      <td>0.000043</td>\n",
       "    </tr>\n",
       "    <tr>\n",
       "      <td>10</td>\n",
       "      <td>Blmngtn</td>\n",
       "      <td>-0.000201</td>\n",
       "    </tr>\n",
       "    <tr>\n",
       "      <td>28</td>\n",
       "      <td>SWISU</td>\n",
       "      <td>-0.006830</td>\n",
       "    </tr>\n",
       "    <tr>\n",
       "      <td>13</td>\n",
       "      <td>BrkSide</td>\n",
       "      <td>-0.009903</td>\n",
       "    </tr>\n",
       "    <tr>\n",
       "      <td>29</td>\n",
       "      <td>Sawyer</td>\n",
       "      <td>-0.019287</td>\n",
       "    </tr>\n",
       "    <tr>\n",
       "      <td>22</td>\n",
       "      <td>NAmes</td>\n",
       "      <td>-0.027289</td>\n",
       "    </tr>\n",
       "    <tr>\n",
       "      <td>20</td>\n",
       "      <td>MeadowV</td>\n",
       "      <td>-0.097311</td>\n",
       "    </tr>\n",
       "    <tr>\n",
       "      <td>12</td>\n",
       "      <td>BrDale</td>\n",
       "      <td>-0.115406</td>\n",
       "    </tr>\n",
       "    <tr>\n",
       "      <td>27</td>\n",
       "      <td>OldTown</td>\n",
       "      <td>-0.116769</td>\n",
       "    </tr>\n",
       "    <tr>\n",
       "      <td>17</td>\n",
       "      <td>Edwards</td>\n",
       "      <td>-0.117192</td>\n",
       "    </tr>\n",
       "    <tr>\n",
       "      <td>35</td>\n",
       "      <td>No</td>\n",
       "      <td>-0.141335</td>\n",
       "    </tr>\n",
       "    <tr>\n",
       "      <td>19</td>\n",
       "      <td>IDOTRR</td>\n",
       "      <td>-0.177776</td>\n",
       "    </tr>\n",
       "  </tbody>\n",
       "</table>\n",
       "</div>"
      ],
      "text/plain": [
       "       Predictor      Coef\n",
       "25       NoRidge  0.129796\n",
       "0    OverallQual  0.106448\n",
       "16       Crawfor  0.079814\n",
       "31       Somerst  0.079429\n",
       "14       ClearCr  0.072038\n",
       "26       NridgHt  0.064413\n",
       "34           Fin  0.061633\n",
       "32       StoneBr  0.060667\n",
       "36           RFn  0.056491\n",
       "2   TotRmsAbvGrd  0.047412\n",
       "5      HeatingQC  0.040280\n",
       "7   BsmtExposure  0.023180\n",
       "15       CollgCr  0.021908\n",
       "3    FireplaceQu  0.019259\n",
       "9    OpenPorchSF  0.000211\n",
       "8     WoodDeckSF  0.000182\n",
       "1       1stFlrSF  0.000101\n",
       "6     BsmtFinSF1  0.000078\n",
       "4     MasVnrArea  0.000043\n",
       "10       Blmngtn -0.000201\n",
       "28         SWISU -0.006830\n",
       "13       BrkSide -0.009903\n",
       "29        Sawyer -0.019287\n",
       "22         NAmes -0.027289\n",
       "20       MeadowV -0.097311\n",
       "12        BrDale -0.115406\n",
       "27       OldTown -0.116769\n",
       "17       Edwards -0.117192\n",
       "35            No -0.141335\n",
       "19        IDOTRR -0.177776"
      ]
     },
     "execution_count": 66,
     "metadata": {},
     "output_type": "execute_result"
    }
   ],
   "source": [
    "# List the non-zero coefficients, in order of strength\n",
    "\n",
    "lass_train_coeff = pd.DataFrame(list(zip(lass_names, lass_coef)), columns = ['Predictor', 'Coef'])\n",
    "lass_train_coeff.sort_values(by='Coef', ascending=False, inplace=True)\n",
    "lass_train_coeff_gtr_zero = lass_train_coeff[lass_train_coeff['Coef'] != 0].copy()\n",
    "print('Of the {} predictors, {} have coefficients more than zero.  They are:'.format(len(lass_names), len(lass_train_coeff_gtr_zero)))\n",
    "lass_train_coeff_gtr_zero"
   ]
  },
  {
   "cell_type": "markdown",
   "metadata": {},
   "source": [
    "### Score off training"
   ]
  },
  {
   "cell_type": "code",
   "execution_count": 67,
   "metadata": {},
   "outputs": [
    {
     "name": "stdout",
     "output_type": "stream",
     "text": [
      "For the training set:\n",
      "\n",
      "R-squared is 0.8420193970635695\n",
      "MSE is 0.025134848472182655\n",
      "RMSE is 0.1585397378330829\n",
      "MAE is 0.025134848472182655\n"
     ]
    }
   ],
   "source": [
    "# Predict from x train and compare to y train\n",
    "lass_train_y_pred = lass.predict(X_train)\n",
    "\n",
    "# Format a bit\n",
    "print('For the training set:')\n",
    "print()\n",
    "\n",
    "# Calc r-squared\n",
    "lass_train_r2 = r2_score(y_train, lass_train_y_pred)\n",
    "print('R-squared is {}'.format(lass_train_r2))\n",
    "\n",
    "# # Calc exlained variance\n",
    "# lass_train_ev = explained_variance_score(y_train, lass_train_y_pred)\n",
    "# print('Explained variance is {}'.format(lass_train_ev))\n",
    "\n",
    "# Calc MSE\n",
    "lass_train_mse = mean_squared_error(y_train, lass_train_y_pred)\n",
    "print('MSE is {}'.format(lass_train_mse))\n",
    "\n",
    "# Calc RMSE\n",
    "lass_train_rmse = np.sqrt(lass_train_mse)\n",
    "print('RMSE is {}'.format(lass_train_rmse))\n",
    "\n",
    "# # Calc MAPE\n",
    "# lass_test_mape = mape(y_train, lass_train_y_pred)\n",
    "# print('MAPE is {}'.format(lass_test_mape))\n",
    "\n",
    "# Calc MAE\n",
    "lass_train_mae = mean_absolute_error(y_train, lass_train_y_pred)\n",
    "print('MAE is {}'.format(lass_train_mse))"
   ]
  },
  {
   "cell_type": "markdown",
   "metadata": {},
   "source": [
    "### Score off test"
   ]
  },
  {
   "cell_type": "code",
   "execution_count": 68,
   "metadata": {
    "scrolled": true
   },
   "outputs": [
    {
     "name": "stdout",
     "output_type": "stream",
     "text": [
      "For the test set:\n",
      "\n",
      "R-squared is 0.8542598853782352\n",
      "MSE is 0.023350728129452082\n",
      "RMSE is 0.15280945039313532\n",
      "MAE is 0.023350728129452082\n"
     ]
    }
   ],
   "source": [
    "# Predict from x test and compare to y test\n",
    "lass_test_y_pred = lass.predict(X_test)\n",
    "\n",
    "# Format a bit\n",
    "print('For the test set:')\n",
    "print()\n",
    "\n",
    "# Calc r-squared\n",
    "lass_test_r2 = r2_score(y_test, lass_test_y_pred)\n",
    "print('R-squared is {}'.format(lass_test_r2))\n",
    "\n",
    "# # Calc exlained variance\n",
    "# lass_test_ev = explained_variance_score(y_test, lass_test_y_pred)\n",
    "# print('Explained variance is {}'.format(lass_test_ev))\n",
    "\n",
    "# Calc MSE\n",
    "lass_test_mse = mean_squared_error(y_test, lass_test_y_pred)\n",
    "print('MSE is {}'.format(lass_test_mse))\n",
    "\n",
    "# Calc RMSE\n",
    "lass_test_rmse = np.sqrt(lass_test_mse)\n",
    "print('RMSE is {}'.format(lass_test_rmse))\n",
    "\n",
    "# # Calc MAPE\n",
    "# lass_test_mape = mape(y_test, lass_test_y_pred)\n",
    "# print('MAPE is {}'.format(lass_test_mape))\n",
    "\n",
    "# Calc \n",
    "lass_test_mae = mean_absolute_error(y_test, lass_test_y_pred)\n",
    "print('MAE is {}'.format(lass_test_mse))"
   ]
  },
  {
   "cell_type": "markdown",
   "metadata": {},
   "source": [
    "## Compare results of linear, ridge and lasso"
   ]
  },
  {
   "cell_type": "code",
   "execution_count": 69,
   "metadata": {},
   "outputs": [
    {
     "data": {
      "text/html": [
       "<div>\n",
       "<style scoped>\n",
       "    .dataframe tbody tr th:only-of-type {\n",
       "        vertical-align: middle;\n",
       "    }\n",
       "\n",
       "    .dataframe tbody tr th {\n",
       "        vertical-align: top;\n",
       "    }\n",
       "\n",
       "    .dataframe thead th {\n",
       "        text-align: right;\n",
       "    }\n",
       "</style>\n",
       "<table border=\"1\" class=\"dataframe\">\n",
       "  <thead>\n",
       "    <tr style=\"text-align: right;\">\n",
       "      <th></th>\n",
       "      <th>technique</th>\n",
       "      <th>r_squared</th>\n",
       "      <th>mean_sqrd_error</th>\n",
       "      <th>root_mean_sqrd_error</th>\n",
       "      <th>mae</th>\n",
       "    </tr>\n",
       "  </thead>\n",
       "  <tbody>\n",
       "    <tr>\n",
       "      <td>0</td>\n",
       "      <td>linear</td>\n",
       "      <td>0.857840</td>\n",
       "      <td>0.022777</td>\n",
       "      <td>0.150921</td>\n",
       "      <td>0.109485</td>\n",
       "    </tr>\n",
       "    <tr>\n",
       "      <td>2</td>\n",
       "      <td>lasso</td>\n",
       "      <td>0.854260</td>\n",
       "      <td>0.023351</td>\n",
       "      <td>0.152809</td>\n",
       "      <td>0.109819</td>\n",
       "    </tr>\n",
       "    <tr>\n",
       "      <td>1</td>\n",
       "      <td>ridge</td>\n",
       "      <td>0.853046</td>\n",
       "      <td>0.023545</td>\n",
       "      <td>0.153444</td>\n",
       "      <td>0.111241</td>\n",
       "    </tr>\n",
       "  </tbody>\n",
       "</table>\n",
       "</div>"
      ],
      "text/plain": [
       "  technique  r_squared  mean_sqrd_error  root_mean_sqrd_error       mae\n",
       "0    linear   0.857840         0.022777              0.150921  0.109485\n",
       "2     lasso   0.854260         0.023351              0.152809  0.109819\n",
       "1     ridge   0.853046         0.023545              0.153444  0.111241"
      ]
     },
     "execution_count": 69,
     "metadata": {},
     "output_type": "execute_result"
    }
   ],
   "source": [
    "# Make single dataframe of all results\n",
    "results_dict = {'technique': ['linear', 'ridge', 'lasso'],\n",
    "        'r_squared': [lin_test_r2, ridg_test_r2, lass_test_r2],\n",
    "        'mean_sqrd_error': [lin_test_mse, ridg_test_mse, lass_test_mse],\n",
    "        'root_mean_sqrd_error': [lin_test_rmse, ridg_test_rmse, lass_test_rmse],\n",
    "        'mae': [lin_test_mae, ridg_test_mae, lass_test_mae]}\n",
    "results_df = pd.DataFrame(results_dict)\n",
    "\n",
    "# Sort dataframe\n",
    "results_df.sort_values(by='r_squared', ascending=False, inplace=True)\n",
    "results_df"
   ]
  },
  {
   "cell_type": "markdown",
   "metadata": {},
   "source": [
    "**Takeaways:**\n",
    "\n",
    "All of my regression models give, pretty much, the same results.  \n",
    "\n",
    "* The linear model gives the best results, by a small margin.  \n",
    "* Followed by lasso.\n",
    "* Followed by ridge.\n",
    "\n",
    "And this is pretty much what's expected, given that we don't have the symptoms of overfitting, which is what ridge and lasso help fix."
   ]
  },
  {
   "cell_type": "code",
   "execution_count": null,
   "metadata": {},
   "outputs": [],
   "source": []
  }
 ],
 "metadata": {
  "kernelspec": {
   "display_name": "Python 3",
   "language": "python",
   "name": "python3"
  },
  "language_info": {
   "codemirror_mode": {
    "name": "ipython",
    "version": 3
   },
   "file_extension": ".py",
   "mimetype": "text/x-python",
   "name": "python",
   "nbconvert_exporter": "python",
   "pygments_lexer": "ipython3",
   "version": "3.7.4"
  }
 },
 "nbformat": 4,
 "nbformat_minor": 2
}
