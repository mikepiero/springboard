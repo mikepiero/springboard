{
 "cells": [
  {
   "cell_type": "markdown",
   "metadata": {},
   "source": [
    "# Forecast with ARIMA"
   ]
  },
  {
   "cell_type": "markdown",
   "metadata": {},
   "source": [
    "## Introduction"
   ]
  },
  {
   "cell_type": "markdown",
   "metadata": {},
   "source": [
    "In this notebook, I forecast using ARIMA-type approaches with the auto_arima package.\n",
    "\n",
    "I put my comments at the end of the notebook."
   ]
  },
  {
   "cell_type": "markdown",
   "metadata": {},
   "source": [
    "## Set up"
   ]
  },
  {
   "cell_type": "code",
   "execution_count": 1,
   "metadata": {},
   "outputs": [],
   "source": [
    "# Eliminate some warnings\n",
    "import warnings\n",
    "warnings.simplefilter(action='ignore', category=FutureWarning)"
   ]
  },
  {
   "cell_type": "code",
   "execution_count": 2,
   "metadata": {
    "scrolled": true
   },
   "outputs": [],
   "source": [
    "# Import key libraries and set some defaults\n",
    "\n",
    "import numpy as np\n",
    "import pandas as pd\n",
    "from pandas.plotting import lag_plot\n",
    "\n",
    "import matplotlib.pyplot as plt\n",
    "import matplotlib.style as style\n",
    "import matplotlib.gridspec as gridspec\n",
    "\n",
    "# Need converters for matplotlib to use dates in time plot\n",
    "from pandas.plotting import register_matplotlib_converters\n",
    "register_matplotlib_converters()\n",
    "\n",
    "import seaborn as sns\n",
    "\n",
    "from statsmodels.tsa.seasonal import seasonal_decompose\n",
    "from statsmodels.graphics.tsaplots import plot_acf\n",
    "from statsmodels.graphics.tsaplots import plot_pacf\n",
    "\n",
    "from statsmodels.tsa.stattools import adfuller\n",
    "from statsmodels.graphics.gofplots import qqplot\n",
    "\n",
    "from sklearn.metrics import mean_absolute_error\n",
    "from sklearn.metrics import mean_squared_error\n",
    "from sklearn.metrics import r2_score"
   ]
  },
  {
   "cell_type": "code",
   "execution_count": 3,
   "metadata": {
    "scrolled": true
   },
   "outputs": [],
   "source": [
    "# Set some Seaborn defaults\n",
    "sns.set_style('whitegrid')\n",
    "sns.set_context('paper')\n",
    "sns.set_palette('muted')"
   ]
  },
  {
   "cell_type": "code",
   "execution_count": 4,
   "metadata": {},
   "outputs": [],
   "source": [
    "# Add pmdarima auto_arima\n",
    "from pmdarima.arima import auto_arima\n",
    "\n",
    "# Note:  It doesn't import directly via Anaconda.  Need to $ pip install pmdarima.  \n",
    "# Note:  This updated all sorts of other packages.  Need to use enviroments next time."
   ]
  },
  {
   "cell_type": "code",
   "execution_count": 5,
   "metadata": {},
   "outputs": [],
   "source": [
    "import my_func"
   ]
  },
  {
   "cell_type": "markdown",
   "metadata": {},
   "source": [
    "## Load data"
   ]
  },
  {
   "cell_type": "code",
   "execution_count": 6,
   "metadata": {
    "scrolled": true
   },
   "outputs": [],
   "source": [
    "# Load already-split datasets\n",
    "test_sj = pd.read_pickle('../sb_cap2_nb-99_data/prep_test_sj.pickle')\n",
    "train_sj = pd.read_pickle('../sb_cap2_nb-99_data/prep_train_sj.pickle')\n",
    "test_iq = pd.read_pickle('../sb_cap2_nb-99_data/prep_test_iq.pickle')\n",
    "train_iq = pd.read_pickle('../sb_cap2_nb-99_data/prep_train_iq.pickle')\n",
    "\n",
    "# Load already split, log-transformed datasets\n",
    "log_train_sj = pd.read_pickle('../sb_cap2_nb-99_data/prep_log_train_sj.pickle')\n",
    "log_test_sj = pd.read_pickle('../sb_cap2_nb-99_data/prep_log_test_sj.pickle')\n",
    "log_train_iq = pd.read_pickle('../sb_cap2_nb-99_data/prep_log_train_iq.pickle')\n",
    "log_test_iq = pd.read_pickle('../sb_cap2_nb-99_data/prep_log_test_iq.pickle')\n",
    "\n",
    "\n",
    "# Load scores\n",
    "score_df = pd.read_pickle('../sb_cap2_nb-99_data/scores_after_nbk_5.pickle')"
   ]
  },
  {
   "cell_type": "markdown",
   "metadata": {},
   "source": [
    "## Define functions"
   ]
  },
  {
   "cell_type": "code",
   "execution_count": 7,
   "metadata": {},
   "outputs": [],
   "source": [
    "def graph_actual_and_forecast_from_test(df_original, city):\n",
    "    \n",
    "    # Clean up data frame\n",
    "    df = df_original.copy()\n",
    "    df.reset_index(inplace=True) # Reset the index for Seaborn\n",
    "    \n",
    "    # Create plot\n",
    "    g = plt.figure(figsize=(9, 3), dpi=100)\n",
    "    g = sns.lineplot(data=df, x='week_start_date', y='actual', label='actual')\n",
    "    g = sns.lineplot(data=df, x='week_start_date', y='forecast', label='forecast')\n",
    "    g = plt.xlabel('Date')\n",
    "    g = plt.ylabel('Cases per week')\n",
    "    g = plt.title('Actual and forecast values of test set for {}'.format(city))\n",
    "    g = plt.legend(loc=1, prop={'size': 8})\n",
    "    g = plt.box(on=None)"
   ]
  },
  {
   "cell_type": "markdown",
   "metadata": {},
   "source": [
    "## Model with auto_arima - San Juan"
   ]
  },
  {
   "cell_type": "code",
   "execution_count": 8,
   "metadata": {},
   "outputs": [
    {
     "name": "stdout",
     "output_type": "stream",
     "text": [
      "Performing stepwise search to minimize aic\n",
      "Fit ARIMA(2,1,2)x(1,0,1,52) [intercept=True]; AIC=5722.519, BIC=5758.939, Time=22.700 seconds\n",
      "Fit ARIMA(0,1,0)x(0,0,0,52) [intercept=True]; AIC=5745.129, BIC=5754.234, Time=0.016 seconds\n",
      "Fit ARIMA(1,1,0)x(1,0,0,52) [intercept=True]; AIC=5724.668, BIC=5742.878, Time=3.839 seconds\n",
      "Fit ARIMA(0,1,1)x(0,0,1,52) [intercept=True]; AIC=5728.262, BIC=5746.472, Time=3.632 seconds\n",
      "Fit ARIMA(0,1,0)x(0,0,0,52) [intercept=False]; AIC=5743.137, BIC=5747.690, Time=0.012 seconds\n",
      "Fit ARIMA(2,1,2)x(0,0,1,52) [intercept=True]; AIC=5722.229, BIC=5754.096, Time=13.286 seconds\n",
      "Fit ARIMA(2,1,2)x(0,0,0,52) [intercept=True]; AIC=5720.561, BIC=5747.876, Time=0.383 seconds\n",
      "Fit ARIMA(2,1,2)x(1,0,0,52) [intercept=True]; AIC=5722.190, BIC=5754.057, Time=14.193 seconds\n",
      "Fit ARIMA(1,1,2)x(0,0,0,52) [intercept=True]; AIC=5720.103, BIC=5742.866, Time=0.359 seconds\n",
      "Fit ARIMA(1,1,2)x(1,0,0,52) [intercept=True]; AIC=5721.733, BIC=5749.048, Time=13.169 seconds\n",
      "Fit ARIMA(1,1,2)x(0,0,1,52) [intercept=True]; AIC=5721.993, BIC=5749.308, Time=12.350 seconds\n",
      "Fit ARIMA(1,1,2)x(1,0,1,52) [intercept=True]; AIC=5721.901, BIC=5753.769, Time=21.341 seconds\n",
      "Near non-invertible roots for order (1, 1, 2)(1, 0, 1, 52); setting score to inf (at least one inverse root too close to the border of the unit circle: 0.993)\n",
      "Fit ARIMA(0,1,2)x(0,0,0,52) [intercept=True]; AIC=5721.442, BIC=5739.652, Time=0.094 seconds\n",
      "Fit ARIMA(1,1,1)x(0,0,0,52) [intercept=True]; AIC=5722.022, BIC=5740.232, Time=0.135 seconds\n",
      "Fit ARIMA(1,1,3)x(0,0,0,52) [intercept=True]; AIC=5724.247, BIC=5751.562, Time=0.381 seconds\n",
      "Fit ARIMA(0,1,1)x(0,0,0,52) [intercept=True]; AIC=5726.860, BIC=5740.517, Time=0.082 seconds\n",
      "Fit ARIMA(0,1,3)x(0,0,0,52) [intercept=True]; AIC=5721.695, BIC=5744.458, Time=0.148 seconds\n",
      "Fit ARIMA(2,1,1)x(0,0,0,52) [intercept=True]; AIC=5718.578, BIC=5741.341, Time=0.201 seconds\n",
      "Fit ARIMA(2,1,1)x(1,0,0,52) [intercept=True]; AIC=5720.204, BIC=5747.519, Time=9.877 seconds\n",
      "Fit ARIMA(2,1,1)x(0,0,1,52) [intercept=True]; AIC=5720.243, BIC=5747.559, Time=10.433 seconds\n",
      "Fit ARIMA(2,1,1)x(1,0,1,52) [intercept=True]; AIC=5720.523, BIC=5752.391, Time=18.084 seconds\n",
      "Near non-invertible roots for order (2, 1, 1)(1, 0, 1, 52); setting score to inf (at least one inverse root too close to the border of the unit circle: 0.993)\n",
      "Fit ARIMA(2,1,0)x(0,0,0,52) [intercept=True]; AIC=5722.271, BIC=5740.481, Time=0.095 seconds\n",
      "Fit ARIMA(3,1,1)x(0,0,0,52) [intercept=True]; AIC=5720.567, BIC=5747.882, Time=0.296 seconds\n",
      "Fit ARIMA(1,1,0)x(0,0,0,52) [intercept=True]; AIC=5723.318, BIC=5736.975, Time=0.062 seconds\n",
      "Fit ARIMA(3,1,0)x(0,0,0,52) [intercept=True]; AIC=5723.466, BIC=5746.228, Time=0.114 seconds\n",
      "Fit ARIMA(3,1,2)x(0,0,0,52) [intercept=True]; AIC=5707.598, BIC=5739.465, Time=0.721 seconds\n",
      "Near non-invertible roots for order (3, 1, 2)(0, 0, 0, 52); setting score to inf (at least one inverse root too close to the border of the unit circle: 0.997)\n",
      "Total fit time: 146.092 seconds\n"
     ]
    }
   ],
   "source": [
    "# Instantiate the model and grid search - San Juan\n",
    "aa_basic_sj = auto_arima(train_sj, m=52,\n",
    "                          trace=True, error_action='ignore', suppress_warnings=True)"
   ]
  },
  {
   "cell_type": "code",
   "execution_count": 9,
   "metadata": {},
   "outputs": [
    {
     "data": {
      "text/html": [
       "<table class=\"simpletable\">\n",
       "<caption>SARIMAX Results</caption>\n",
       "<tr>\n",
       "  <th>Dep. Variable:</th>           <td>y</td>        <th>  No. Observations:  </th>    <td>702</td>   \n",
       "</tr>\n",
       "<tr>\n",
       "  <th>Model:</th>           <td>SARIMAX(3, 1, 2)</td> <th>  Log Likelihood     </th> <td>-2846.799</td>\n",
       "</tr>\n",
       "<tr>\n",
       "  <th>Date:</th>            <td>Sun, 14 Jun 2020</td> <th>  AIC                </th> <td>5707.598</td> \n",
       "</tr>\n",
       "<tr>\n",
       "  <th>Time:</th>                <td>07:01:46</td>     <th>  BIC                </th> <td>5739.465</td> \n",
       "</tr>\n",
       "<tr>\n",
       "  <th>Sample:</th>                  <td>0</td>        <th>  HQIC               </th> <td>5719.916</td> \n",
       "</tr>\n",
       "<tr>\n",
       "  <th></th>                      <td> - 702</td>      <th>                     </th>     <td> </td>    \n",
       "</tr>\n",
       "<tr>\n",
       "  <th>Covariance Type:</th>        <td>opg</td>       <th>                     </th>     <td> </td>    \n",
       "</tr>\n",
       "</table>\n",
       "<table class=\"simpletable\">\n",
       "<tr>\n",
       "      <td></td>         <th>coef</th>     <th>std err</th>      <th>z</th>      <th>P>|z|</th>  <th>[0.025</th>    <th>0.975]</th>  \n",
       "</tr>\n",
       "<tr>\n",
       "  <th>intercept</th> <td>   -0.0022</td> <td>    0.010</td> <td>   -0.221</td> <td> 0.825</td> <td>   -0.022</td> <td>    0.017</td>\n",
       "</tr>\n",
       "<tr>\n",
       "  <th>ar.L1</th>     <td>    0.3684</td> <td>    0.068</td> <td>    5.407</td> <td> 0.000</td> <td>    0.235</td> <td>    0.502</td>\n",
       "</tr>\n",
       "<tr>\n",
       "  <th>ar.L2</th>     <td>    0.7946</td> <td>    0.073</td> <td>   10.901</td> <td> 0.000</td> <td>    0.652</td> <td>    0.938</td>\n",
       "</tr>\n",
       "<tr>\n",
       "  <th>ar.L3</th>     <td>   -0.2302</td> <td>    0.015</td> <td>  -15.555</td> <td> 0.000</td> <td>   -0.259</td> <td>   -0.201</td>\n",
       "</tr>\n",
       "<tr>\n",
       "  <th>ma.L1</th>     <td>   -0.1993</td> <td>    0.072</td> <td>   -2.780</td> <td> 0.005</td> <td>   -0.340</td> <td>   -0.059</td>\n",
       "</tr>\n",
       "<tr>\n",
       "  <th>ma.L2</th>     <td>   -0.7950</td> <td>    0.078</td> <td>  -10.212</td> <td> 0.000</td> <td>   -0.948</td> <td>   -0.642</td>\n",
       "</tr>\n",
       "<tr>\n",
       "  <th>sigma2</th>    <td>  196.8208</td> <td>    5.527</td> <td>   35.612</td> <td> 0.000</td> <td>  185.988</td> <td>  207.653</td>\n",
       "</tr>\n",
       "</table>\n",
       "<table class=\"simpletable\">\n",
       "<tr>\n",
       "  <th>Ljung-Box (Q):</th>          <td>57.71</td> <th>  Jarque-Bera (JB):  </th> <td>2669.63</td>\n",
       "</tr>\n",
       "<tr>\n",
       "  <th>Prob(Q):</th>                <td>0.03</td>  <th>  Prob(JB):          </th>  <td>0.00</td>  \n",
       "</tr>\n",
       "<tr>\n",
       "  <th>Heteroskedasticity (H):</th> <td>0.24</td>  <th>  Skew:              </th>  <td>0.23</td>  \n",
       "</tr>\n",
       "<tr>\n",
       "  <th>Prob(H) (two-sided):</th>    <td>0.00</td>  <th>  Kurtosis:          </th>  <td>12.55</td> \n",
       "</tr>\n",
       "</table><br/><br/>Warnings:<br/>[1] Covariance matrix calculated using the outer product of gradients (complex-step)."
      ],
      "text/plain": [
       "<class 'statsmodels.iolib.summary.Summary'>\n",
       "\"\"\"\n",
       "                               SARIMAX Results                                \n",
       "==============================================================================\n",
       "Dep. Variable:                      y   No. Observations:                  702\n",
       "Model:               SARIMAX(3, 1, 2)   Log Likelihood               -2846.799\n",
       "Date:                Sun, 14 Jun 2020   AIC                           5707.598\n",
       "Time:                        07:01:46   BIC                           5739.465\n",
       "Sample:                             0   HQIC                          5719.916\n",
       "                                - 702                                         \n",
       "Covariance Type:                  opg                                         \n",
       "==============================================================================\n",
       "                 coef    std err          z      P>|z|      [0.025      0.975]\n",
       "------------------------------------------------------------------------------\n",
       "intercept     -0.0022      0.010     -0.221      0.825      -0.022       0.017\n",
       "ar.L1          0.3684      0.068      5.407      0.000       0.235       0.502\n",
       "ar.L2          0.7946      0.073     10.901      0.000       0.652       0.938\n",
       "ar.L3         -0.2302      0.015    -15.555      0.000      -0.259      -0.201\n",
       "ma.L1         -0.1993      0.072     -2.780      0.005      -0.340      -0.059\n",
       "ma.L2         -0.7950      0.078    -10.212      0.000      -0.948      -0.642\n",
       "sigma2       196.8208      5.527     35.612      0.000     185.988     207.653\n",
       "===================================================================================\n",
       "Ljung-Box (Q):                       57.71   Jarque-Bera (JB):              2669.63\n",
       "Prob(Q):                              0.03   Prob(JB):                         0.00\n",
       "Heteroskedasticity (H):               0.24   Skew:                             0.23\n",
       "Prob(H) (two-sided):                  0.00   Kurtosis:                        12.55\n",
       "===================================================================================\n",
       "\n",
       "Warnings:\n",
       "[1] Covariance matrix calculated using the outer product of gradients (complex-step).\n",
       "\"\"\""
      ]
     },
     "execution_count": 9,
     "metadata": {},
     "output_type": "execute_result"
    }
   ],
   "source": [
    "# Summarize the selected model - San Juan\n",
    "aa_basic_sj.summary()"
   ]
  },
  {
   "cell_type": "code",
   "execution_count": 10,
   "metadata": {},
   "outputs": [
    {
     "data": {
      "text/plain": [
       "ARIMA(order=(3, 1, 2), seasonal_order=(0, 0, 0, 52), suppress_warnings=True)"
      ]
     },
     "execution_count": 10,
     "metadata": {},
     "output_type": "execute_result"
    }
   ],
   "source": [
    "# Fit the model - San Juan\n",
    "aa_basic_sj.fit(train_sj)"
   ]
  },
  {
   "cell_type": "code",
   "execution_count": 11,
   "metadata": {},
   "outputs": [],
   "source": [
    "# Forecast - San Juan\n",
    "forc_periods  = len(test_sj)\n",
    "aa_basic_sj_forc_array = aa_basic_sj.predict(n_periods=forc_periods)"
   ]
  },
  {
   "cell_type": "code",
   "execution_count": 12,
   "metadata": {
    "scrolled": true
   },
   "outputs": [],
   "source": [
    "# Create dataframe with actual and forecast - San Juan\n",
    "aa_basic_sj_forc_df = test_sj.copy()\n",
    "aa_basic_sj_forc_df['forecast'] = pd.to_numeric(aa_basic_sj_forc_array)\n",
    "aa_basic_sj_forc_df.columns = ['actual', 'forecast']\n",
    "\n",
    "# # test\n",
    "# aa_basic_sj_forc_df.head(50)"
   ]
  },
  {
   "cell_type": "code",
   "execution_count": 14,
   "metadata": {},
   "outputs": [],
   "source": [
    "# Score - San Juan\n",
    "my_func.score('ARIMA', 1, 'SARIMAX (3, 1, 2) x (0, 0, 0, 52)', 'san juan', 'test', 'none', \n",
    "              aa_basic_sj_forc_df['actual'], aa_basic_sj_forc_df['forecast'], score_df) "
   ]
  },
  {
   "cell_type": "code",
   "execution_count": 15,
   "metadata": {},
   "outputs": [
    {
     "data": {
      "text/html": [
       "<div>\n",
       "<style scoped>\n",
       "    .dataframe tbody tr th:only-of-type {\n",
       "        vertical-align: middle;\n",
       "    }\n",
       "\n",
       "    .dataframe tbody tr th {\n",
       "        vertical-align: top;\n",
       "    }\n",
       "\n",
       "    .dataframe thead th {\n",
       "        text-align: right;\n",
       "    }\n",
       "</style>\n",
       "<table border=\"1\" class=\"dataframe\">\n",
       "  <thead>\n",
       "    <tr style=\"text-align: right;\">\n",
       "      <th></th>\n",
       "      <th>approach</th>\n",
       "      <th>variation</th>\n",
       "      <th>summary</th>\n",
       "      <th>city</th>\n",
       "      <th>data</th>\n",
       "      <th>transform</th>\n",
       "      <th>rmse</th>\n",
       "      <th>mae</th>\n",
       "    </tr>\n",
       "  </thead>\n",
       "  <tbody>\n",
       "    <tr>\n",
       "      <td>12</td>\n",
       "      <td>ARIMA</td>\n",
       "      <td>1</td>\n",
       "      <td>SARMIA (3, 1, 2) x (0, 0, 0, 52)</td>\n",
       "      <td>san juan</td>\n",
       "      <td>test</td>\n",
       "      <td>none</td>\n",
       "      <td>29.482909</td>\n",
       "      <td>18.707521</td>\n",
       "    </tr>\n",
       "  </tbody>\n",
       "</table>\n",
       "</div>"
      ],
      "text/plain": [
       "   approach variation                           summary      city  data  \\\n",
       "12    ARIMA         1  SARMIA (3, 1, 2) x (0, 0, 0, 52)  san juan  test   \n",
       "\n",
       "   transform       rmse        mae  \n",
       "12      none  29.482909  18.707521  "
      ]
     },
     "execution_count": 15,
     "metadata": {},
     "output_type": "execute_result"
    }
   ],
   "source": [
    "# Review score \n",
    "score_df.tail(1)"
   ]
  },
  {
   "cell_type": "code",
   "execution_count": null,
   "metadata": {
    "scrolled": false
   },
   "outputs": [],
   "source": [
    "graph_actual_and_forecast_from_test(aa_basic_sj_forc_df, 'San Juan')"
   ]
  },
  {
   "cell_type": "markdown",
   "metadata": {},
   "source": [
    "## Model with auto_arima - log(x+1) data - San Juan"
   ]
  },
  {
   "cell_type": "code",
   "execution_count": 16,
   "metadata": {},
   "outputs": [
    {
     "name": "stdout",
     "output_type": "stream",
     "text": [
      "Performing stepwise search to minimize aic\n",
      "Fit ARIMA(2,1,2)x(1,0,1,52) [intercept=True]; AIC=565.436, BIC=601.856, Time=19.494 seconds\n",
      "Fit ARIMA(0,1,0)x(0,0,0,52) [intercept=True]; AIC=690.533, BIC=699.638, Time=0.052 seconds\n",
      "Fit ARIMA(1,1,0)x(1,0,0,52) [intercept=True]; AIC=628.519, BIC=646.729, Time=3.908 seconds\n",
      "Fit ARIMA(0,1,1)x(0,0,1,52) [intercept=True]; AIC=606.087, BIC=624.297, Time=3.510 seconds\n",
      "Fit ARIMA(0,1,0)x(0,0,0,52) [intercept=False]; AIC=688.573, BIC=693.125, Time=0.022 seconds\n",
      "Fit ARIMA(2,1,2)x(0,0,1,52) [intercept=True]; AIC=574.953, BIC=606.821, Time=23.101 seconds\n",
      "Fit ARIMA(2,1,2)x(1,0,0,52) [intercept=True]; AIC=574.853, BIC=606.721, Time=23.210 seconds\n",
      "Fit ARIMA(2,1,2)x(2,0,1,52) [intercept=True]; AIC=546.786, BIC=587.758, Time=136.026 seconds\n",
      "Near non-invertible roots for order (2, 1, 2)(2, 0, 1, 52); setting score to inf (at least one inverse root too close to the border of the unit circle: 0.998)\n",
      "Fit ARIMA(2,1,2)x(1,0,2,52) [intercept=True]; AIC=549.549, BIC=590.521, Time=121.143 seconds\n",
      "Near non-invertible roots for order (2, 1, 2)(1, 0, 2, 52); setting score to inf (at least one inverse root too close to the border of the unit circle: 0.998)\n",
      "Fit ARIMA(2,1,2)x(0,0,0,52) [intercept=True]; AIC=573.419, BIC=600.734, Time=0.543 seconds\n",
      "Fit ARIMA(2,1,2)x(0,0,2,52) [intercept=True]; AIC=570.279, BIC=606.699, Time=108.472 seconds\n",
      "Fit ARIMA(2,1,2)x(2,0,0,52) [intercept=True]; AIC=569.004, BIC=605.424, Time=114.826 seconds\n",
      "Fit ARIMA(2,1,2)x(2,0,2,52) [intercept=True]; AIC=559.521, BIC=605.046, Time=210.462 seconds\n",
      "Near non-invertible roots for order (2, 1, 2)(2, 0, 2, 52); setting score to inf (at least one inverse root too close to the border of the unit circle: 1.000)\n",
      "Fit ARIMA(1,1,2)x(1,0,1,52) [intercept=True]; AIC=569.920, BIC=601.787, Time=23.428 seconds\n",
      "Near non-invertible roots for order (1, 1, 2)(1, 0, 1, 52); setting score to inf (at least one inverse root too close to the border of the unit circle: 0.999)\n",
      "Fit ARIMA(2,1,1)x(1,0,1,52) [intercept=True]; AIC=565.346, BIC=597.214, Time=24.958 seconds\n",
      "Near non-invertible roots for order (2, 1, 1)(1, 0, 1, 52); setting score to inf (at least one inverse root too close to the border of the unit circle: 0.999)\n",
      "Fit ARIMA(3,1,2)x(1,0,1,52) [intercept=True]; AIC=566.912, BIC=607.885, Time=26.929 seconds\n",
      "Near non-invertible roots for order (3, 1, 2)(1, 0, 1, 52); setting score to inf (at least one inverse root too close to the border of the unit circle: 0.999)\n",
      "Fit ARIMA(2,1,3)x(1,0,1,52) [intercept=True]; AIC=562.356, BIC=603.328, Time=30.827 seconds\n",
      "Near non-invertible roots for order (2, 1, 3)(1, 0, 1, 52); setting score to inf (at least one inverse root too close to the border of the unit circle: 0.997)\n",
      "Fit ARIMA(1,1,1)x(1,0,1,52) [intercept=True]; AIC=567.419, BIC=594.735, Time=22.136 seconds\n",
      "Near non-invertible roots for order (1, 1, 1)(1, 0, 1, 52); setting score to inf (at least one inverse root too close to the border of the unit circle: 0.999)\n",
      "Fit ARIMA(1,1,3)x(1,0,1,52) [intercept=True]; AIC=562.904, BIC=599.324, Time=29.953 seconds\n",
      "Near non-invertible roots for order (1, 1, 3)(1, 0, 1, 52); setting score to inf (at least one inverse root too close to the border of the unit circle: 0.997)\n",
      "Fit ARIMA(3,1,1)x(1,0,1,52) [intercept=True]; AIC=567.989, BIC=604.409, Time=25.420 seconds\n",
      "Near non-invertible roots for order (3, 1, 1)(1, 0, 1, 52); setting score to inf (at least one inverse root too close to the border of the unit circle: 0.999)\n",
      "Fit ARIMA(3,1,3)x(1,0,1,52) [intercept=True]; AIC=564.499, BIC=610.024, Time=37.422 seconds\n",
      "Near non-invertible roots for order (3, 1, 3)(1, 0, 1, 52); setting score to inf (at least one inverse root too close to the border of the unit circle: 0.997)\n",
      "Total fit time: 985.928 seconds\n"
     ]
    }
   ],
   "source": [
    "# Instantiate the model and grid search\n",
    "aa_basic_sj_log = auto_arima(log_train_sj, m=52, \n",
    "                             trace=True, error_action='ignore', suppress_warnings=True)"
   ]
  },
  {
   "cell_type": "code",
   "execution_count": 17,
   "metadata": {},
   "outputs": [
    {
     "data": {
      "text/html": [
       "<table class=\"simpletable\">\n",
       "<caption>SARIMAX Results</caption>\n",
       "<tr>\n",
       "  <th>Dep. Variable:</th>                   <td>y</td>                <th>  No. Observations:  </th>    <td>702</td>  \n",
       "</tr>\n",
       "<tr>\n",
       "  <th>Model:</th>           <td>SARIMAX(2, 1, 2)x(2, 0, [1], 52)</td> <th>  Log Likelihood     </th> <td>-264.393</td>\n",
       "</tr>\n",
       "<tr>\n",
       "  <th>Date:</th>                    <td>Sun, 14 Jun 2020</td>         <th>  AIC                </th>  <td>546.786</td>\n",
       "</tr>\n",
       "<tr>\n",
       "  <th>Time:</th>                        <td>07:20:03</td>             <th>  BIC                </th>  <td>587.758</td>\n",
       "</tr>\n",
       "<tr>\n",
       "  <th>Sample:</th>                          <td>0</td>                <th>  HQIC               </th>  <td>562.623</td>\n",
       "</tr>\n",
       "<tr>\n",
       "  <th></th>                              <td> - 702</td>              <th>                     </th>     <td> </td>   \n",
       "</tr>\n",
       "<tr>\n",
       "  <th>Covariance Type:</th>                <td>opg</td>               <th>                     </th>     <td> </td>   \n",
       "</tr>\n",
       "</table>\n",
       "<table class=\"simpletable\">\n",
       "<tr>\n",
       "      <td></td>         <th>coef</th>     <th>std err</th>      <th>z</th>      <th>P>|z|</th>  <th>[0.025</th>    <th>0.975]</th>  \n",
       "</tr>\n",
       "<tr>\n",
       "  <th>intercept</th> <td>-8.575e-07</td> <td> 6.85e-05</td> <td>   -0.013</td> <td> 0.990</td> <td>   -0.000</td> <td>    0.000</td>\n",
       "</tr>\n",
       "<tr>\n",
       "  <th>ar.L1</th>     <td>    1.1415</td> <td>    0.072</td> <td>   15.847</td> <td> 0.000</td> <td>    1.000</td> <td>    1.283</td>\n",
       "</tr>\n",
       "<tr>\n",
       "  <th>ar.L2</th>     <td>   -0.3416</td> <td>    0.059</td> <td>   -5.752</td> <td> 0.000</td> <td>   -0.458</td> <td>   -0.225</td>\n",
       "</tr>\n",
       "<tr>\n",
       "  <th>ma.L1</th>     <td>   -1.5833</td> <td>    0.058</td> <td>  -27.460</td> <td> 0.000</td> <td>   -1.696</td> <td>   -1.470</td>\n",
       "</tr>\n",
       "<tr>\n",
       "  <th>ma.L2</th>     <td>    0.7352</td> <td>    0.046</td> <td>   15.822</td> <td> 0.000</td> <td>    0.644</td> <td>    0.826</td>\n",
       "</tr>\n",
       "<tr>\n",
       "  <th>ar.S.L52</th>  <td>    0.8857</td> <td>    0.076</td> <td>   11.697</td> <td> 0.000</td> <td>    0.737</td> <td>    1.034</td>\n",
       "</tr>\n",
       "<tr>\n",
       "  <th>ar.S.L104</th> <td>    0.0953</td> <td>    0.045</td> <td>    2.129</td> <td> 0.033</td> <td>    0.008</td> <td>    0.183</td>\n",
       "</tr>\n",
       "<tr>\n",
       "  <th>ma.S.L52</th>  <td>   -0.9176</td> <td>    0.105</td> <td>   -8.720</td> <td> 0.000</td> <td>   -1.124</td> <td>   -0.711</td>\n",
       "</tr>\n",
       "<tr>\n",
       "  <th>sigma2</th>    <td>    0.1195</td> <td>    0.007</td> <td>   16.988</td> <td> 0.000</td> <td>    0.106</td> <td>    0.133</td>\n",
       "</tr>\n",
       "</table>\n",
       "<table class=\"simpletable\">\n",
       "<tr>\n",
       "  <th>Ljung-Box (Q):</th>          <td>57.35</td> <th>  Jarque-Bera (JB):  </th> <td>55.21</td>\n",
       "</tr>\n",
       "<tr>\n",
       "  <th>Prob(Q):</th>                <td>0.04</td>  <th>  Prob(JB):          </th> <td>0.00</td> \n",
       "</tr>\n",
       "<tr>\n",
       "  <th>Heteroskedasticity (H):</th> <td>2.07</td>  <th>  Skew:              </th> <td>0.09</td> \n",
       "</tr>\n",
       "<tr>\n",
       "  <th>Prob(H) (two-sided):</th>    <td>0.00</td>  <th>  Kurtosis:          </th> <td>4.36</td> \n",
       "</tr>\n",
       "</table><br/><br/>Warnings:<br/>[1] Covariance matrix calculated using the outer product of gradients (complex-step)."
      ],
      "text/plain": [
       "<class 'statsmodels.iolib.summary.Summary'>\n",
       "\"\"\"\n",
       "                                      SARIMAX Results                                       \n",
       "============================================================================================\n",
       "Dep. Variable:                                    y   No. Observations:                  702\n",
       "Model:             SARIMAX(2, 1, 2)x(2, 0, [1], 52)   Log Likelihood                -264.393\n",
       "Date:                              Sun, 14 Jun 2020   AIC                            546.786\n",
       "Time:                                      07:20:03   BIC                            587.758\n",
       "Sample:                                           0   HQIC                           562.623\n",
       "                                              - 702                                         \n",
       "Covariance Type:                                opg                                         \n",
       "==============================================================================\n",
       "                 coef    std err          z      P>|z|      [0.025      0.975]\n",
       "------------------------------------------------------------------------------\n",
       "intercept  -8.575e-07   6.85e-05     -0.013      0.990      -0.000       0.000\n",
       "ar.L1          1.1415      0.072     15.847      0.000       1.000       1.283\n",
       "ar.L2         -0.3416      0.059     -5.752      0.000      -0.458      -0.225\n",
       "ma.L1         -1.5833      0.058    -27.460      0.000      -1.696      -1.470\n",
       "ma.L2          0.7352      0.046     15.822      0.000       0.644       0.826\n",
       "ar.S.L52       0.8857      0.076     11.697      0.000       0.737       1.034\n",
       "ar.S.L104      0.0953      0.045      2.129      0.033       0.008       0.183\n",
       "ma.S.L52      -0.9176      0.105     -8.720      0.000      -1.124      -0.711\n",
       "sigma2         0.1195      0.007     16.988      0.000       0.106       0.133\n",
       "===================================================================================\n",
       "Ljung-Box (Q):                       57.35   Jarque-Bera (JB):                55.21\n",
       "Prob(Q):                              0.04   Prob(JB):                         0.00\n",
       "Heteroskedasticity (H):               2.07   Skew:                             0.09\n",
       "Prob(H) (two-sided):                  0.00   Kurtosis:                         4.36\n",
       "===================================================================================\n",
       "\n",
       "Warnings:\n",
       "[1] Covariance matrix calculated using the outer product of gradients (complex-step).\n",
       "\"\"\""
      ]
     },
     "execution_count": 17,
     "metadata": {},
     "output_type": "execute_result"
    }
   ],
   "source": [
    "# Summarize the selected model\n",
    "aa_basic_sj_log.summary()"
   ]
  },
  {
   "cell_type": "code",
   "execution_count": 18,
   "metadata": {},
   "outputs": [
    {
     "data": {
      "text/plain": [
       "ARIMA(order=(2, 1, 2), seasonal_order=(2, 0, 1, 52), suppress_warnings=True)"
      ]
     },
     "execution_count": 18,
     "metadata": {},
     "output_type": "execute_result"
    }
   ],
   "source": [
    "# Fit the model\n",
    "aa_basic_sj_log.fit(log_train_sj)"
   ]
  },
  {
   "cell_type": "code",
   "execution_count": 19,
   "metadata": {},
   "outputs": [],
   "source": [
    "# Forecast\n",
    "forc_periods  = len(log_test_sj)\n",
    "aa_basic_sj_log_forc_array_log = aa_basic_sj_log.predict(n_periods=forc_periods)"
   ]
  },
  {
   "cell_type": "code",
   "execution_count": 20,
   "metadata": {},
   "outputs": [],
   "source": [
    "# Tranform back the log data\n",
    "aa_basic_sj_log_forc_array = np.expm1(aa_basic_sj_log_forc_array_log)"
   ]
  },
  {
   "cell_type": "code",
   "execution_count": 21,
   "metadata": {
    "scrolled": true
   },
   "outputs": [],
   "source": [
    "# Create dataframe with actual and forecast\n",
    "aa_basic_sj_log_forc_df = test_sj.copy()\n",
    "aa_basic_sj_log_forc_df['forecast'] = pd.to_numeric(aa_basic_sj_log_forc_array)\n",
    "aa_basic_sj_log_forc_df.columns = ['actual', 'forecast']"
   ]
  },
  {
   "cell_type": "code",
   "execution_count": 22,
   "metadata": {},
   "outputs": [],
   "source": [
    "# Score\n",
    "my_func.score('ARIMA', 2, 'SARIMAX (2, 1, 2) x (2, 0, 1, 52)', 'san juan', 'test', 'log(x+1)', \n",
    "              aa_basic_sj_log_forc_df['actual'], aa_basic_sj_log_forc_df['forecast'], score_df) "
   ]
  },
  {
   "cell_type": "code",
   "execution_count": 23,
   "metadata": {},
   "outputs": [
    {
     "data": {
      "text/html": [
       "<div>\n",
       "<style scoped>\n",
       "    .dataframe tbody tr th:only-of-type {\n",
       "        vertical-align: middle;\n",
       "    }\n",
       "\n",
       "    .dataframe tbody tr th {\n",
       "        vertical-align: top;\n",
       "    }\n",
       "\n",
       "    .dataframe thead th {\n",
       "        text-align: right;\n",
       "    }\n",
       "</style>\n",
       "<table border=\"1\" class=\"dataframe\">\n",
       "  <thead>\n",
       "    <tr style=\"text-align: right;\">\n",
       "      <th></th>\n",
       "      <th>approach</th>\n",
       "      <th>variation</th>\n",
       "      <th>summary</th>\n",
       "      <th>city</th>\n",
       "      <th>data</th>\n",
       "      <th>transform</th>\n",
       "      <th>rmse</th>\n",
       "      <th>mae</th>\n",
       "    </tr>\n",
       "  </thead>\n",
       "  <tbody>\n",
       "    <tr>\n",
       "      <td>13</td>\n",
       "      <td>ARIMA</td>\n",
       "      <td>2</td>\n",
       "      <td>SARIMAX (2, 1, 2) x (2, 0, 1, 52)</td>\n",
       "      <td>san juan</td>\n",
       "      <td>test</td>\n",
       "      <td>log(x+1)</td>\n",
       "      <td>26.606072</td>\n",
       "      <td>15.849436</td>\n",
       "    </tr>\n",
       "  </tbody>\n",
       "</table>\n",
       "</div>"
      ],
      "text/plain": [
       "   approach variation                            summary      city  data  \\\n",
       "13    ARIMA         2  SARIMAX (2, 1, 2) x (2, 0, 1, 52)  san juan  test   \n",
       "\n",
       "   transform       rmse        mae  \n",
       "13  log(x+1)  26.606072  15.849436  "
      ]
     },
     "execution_count": 23,
     "metadata": {},
     "output_type": "execute_result"
    }
   ],
   "source": [
    "# Review score \n",
    "score_df.tail(1)"
   ]
  },
  {
   "cell_type": "code",
   "execution_count": 24,
   "metadata": {
    "scrolled": false
   },
   "outputs": [
    {
     "data": {
      "image/png": "[encoded data removed]",
      "text/plain": [
       "<Figure size 900x300 with 1 Axes>"
      ]
     },
     "metadata": {},
     "output_type": "display_data"
    }
   ],
   "source": [
    "graph_actual_and_forecast_from_test(aa_basic_sj_log_forc_df, 'San Juan')"
   ]
  },
  {
   "cell_type": "markdown",
   "metadata": {},
   "source": [
    "## Model with auto_arima - Iquitos"
   ]
  },
  {
   "cell_type": "code",
   "execution_count": 25,
   "metadata": {},
   "outputs": [
    {
     "name": "stdout",
     "output_type": "stream",
     "text": [
      "Performing stepwise search to minimize aic\n",
      "Fit ARIMA(2,0,2)x(1,0,1,52) [intercept=True]; AIC=2319.659, BIC=2350.076, Time=13.577 seconds\n",
      "Fit ARIMA(0,0,0)x(0,0,0,52) [intercept=True]; AIC=2539.381, BIC=2546.985, Time=0.014 seconds\n",
      "Fit ARIMA(1,0,0)x(1,0,0,52) [intercept=True]; AIC=2336.655, BIC=2351.863, Time=2.471 seconds\n",
      "Fit ARIMA(0,0,1)x(0,0,1,52) [intercept=True]; AIC=2387.287, BIC=2402.496, Time=1.938 seconds\n",
      "Fit ARIMA(0,0,0)x(0,0,0,52) [intercept=False]; AIC=2698.498, BIC=2702.300, Time=0.006 seconds\n",
      "Fit ARIMA(2,0,2)x(0,0,1,52) [intercept=True]; AIC=2324.454, BIC=2351.068, Time=5.983 seconds\n",
      "Fit ARIMA(2,0,2)x(1,0,0,52) [intercept=True]; AIC=2324.183, BIC=2350.798, Time=6.308 seconds\n",
      "Fit ARIMA(2,0,2)x(2,0,1,52) [intercept=True]; AIC=2319.319, BIC=2353.538, Time=41.356 seconds\n",
      "Fit ARIMA(2,0,2)x(2,0,0,52) [intercept=True]; AIC=2318.322, BIC=2348.739, Time=26.697 seconds\n",
      "Fit ARIMA(1,0,2)x(2,0,0,52) [intercept=True]; AIC=2317.390, BIC=2344.005, Time=17.667 seconds\n",
      "Fit ARIMA(1,0,2)x(1,0,0,52) [intercept=True]; AIC=2323.134, BIC=2345.947, Time=3.671 seconds\n",
      "Fit ARIMA(1,0,2)x(2,0,1,52) [intercept=True]; AIC=2318.462, BIC=2348.879, Time=31.676 seconds\n",
      "Fit ARIMA(1,0,2)x(1,0,1,52) [intercept=True]; AIC=2318.795, BIC=2345.410, Time=11.867 seconds\n",
      "Near non-invertible roots for order (1, 0, 2)(1, 0, 1, 52); setting score to inf (at least one inverse root too close to the border of the unit circle: 0.997)\n",
      "Fit ARIMA(0,0,2)x(2,0,0,52) [intercept=True]; AIC=2354.900, BIC=2377.713, Time=14.767 seconds\n",
      "Fit ARIMA(1,0,1)x(2,0,0,52) [intercept=True]; AIC=2332.448, BIC=2355.261, Time=14.432 seconds\n",
      "Fit ARIMA(1,0,3)x(2,0,0,52) [intercept=True]; AIC=2316.768, BIC=2347.185, Time=20.934 seconds\n",
      "Fit ARIMA(1,0,3)x(1,0,0,52) [intercept=True]; AIC=2322.648, BIC=2349.263, Time=4.356 seconds\n",
      "Fit ARIMA(1,0,3)x(2,0,1,52) [intercept=True]; AIC=2317.598, BIC=2351.817, Time=44.121 seconds\n",
      "Fit ARIMA(1,0,3)x(1,0,1,52) [intercept=True]; AIC=2317.855, BIC=2348.272, Time=13.949 seconds\n",
      "Near non-invertible roots for order (1, 0, 3)(1, 0, 1, 52); setting score to inf (at least one inverse root too close to the border of the unit circle: 0.998)\n",
      "Fit ARIMA(0,0,3)x(2,0,0,52) [intercept=True]; AIC=2351.656, BIC=2378.271, Time=16.708 seconds\n",
      "Fit ARIMA(2,0,3)x(2,0,0,52) [intercept=True]; AIC=2316.928, BIC=2351.147, Time=34.920 seconds\n",
      "Fit ARIMA(1,0,4)x(2,0,0,52) [intercept=True]; AIC=2313.397, BIC=2347.616, Time=27.025 seconds\n",
      "Fit ARIMA(1,0,4)x(1,0,0,52) [intercept=True]; AIC=2318.315, BIC=2348.732, Time=6.690 seconds\n",
      "Fit ARIMA(1,0,4)x(2,0,1,52) [intercept=True]; AIC=2314.348, BIC=2352.369, Time=56.839 seconds\n",
      "Fit ARIMA(1,0,4)x(1,0,1,52) [intercept=True]; AIC=2314.212, BIC=2348.431, Time=16.868 seconds\n",
      "Near non-invertible roots for order (1, 0, 4)(1, 0, 1, 52); setting score to inf (at least one inverse root too close to the border of the unit circle: 0.998)\n",
      "Fit ARIMA(0,0,4)x(2,0,0,52) [intercept=True]; AIC=2329.629, BIC=2360.046, Time=19.605 seconds\n",
      "Fit ARIMA(2,0,4)x(2,0,0,52) [intercept=True]; AIC=2315.270, BIC=2353.291, Time=38.159 seconds\n",
      "Fit ARIMA(1,0,5)x(2,0,0,52) [intercept=True]; AIC=2315.007, BIC=2353.028, Time=36.318 seconds\n",
      "Fit ARIMA(0,0,5)x(2,0,0,52) [intercept=True]; AIC=2316.894, BIC=2351.113, Time=21.577 seconds\n",
      "Fit ARIMA(2,0,5)x(2,0,0,52) [intercept=True]; AIC=2315.392, BIC=2357.215, Time=65.942 seconds\n",
      "Total fit time: 616.616 seconds\n"
     ]
    }
   ],
   "source": [
    "# Instantiate the model and grid search\n",
    "aa_basic_iq = auto_arima(train_iq, m=52, \n",
    "                         trace=True, error_action='ignore', suppress_warnings=True)"
   ]
  },
  {
   "cell_type": "code",
   "execution_count": 26,
   "metadata": {},
   "outputs": [
    {
     "data": {
      "text/html": [
       "<table class=\"simpletable\">\n",
       "<caption>SARIMAX Results</caption>\n",
       "<tr>\n",
       "  <th>Dep. Variable:</th>                  <td>y</td>                <th>  No. Observations:  </th>    <td>331</td>   \n",
       "</tr>\n",
       "<tr>\n",
       "  <th>Model:</th>           <td>SARIMAX(1, 0, 4)x(2, 0, [], 52)</td> <th>  Log Likelihood     </th> <td>-1147.698</td>\n",
       "</tr>\n",
       "<tr>\n",
       "  <th>Date:</th>                   <td>Sun, 14 Jun 2020</td>         <th>  AIC                </th> <td>2313.397</td> \n",
       "</tr>\n",
       "<tr>\n",
       "  <th>Time:</th>                       <td>07:33:21</td>             <th>  BIC                </th> <td>2347.616</td> \n",
       "</tr>\n",
       "<tr>\n",
       "  <th>Sample:</th>                         <td>0</td>                <th>  HQIC               </th> <td>2327.045</td> \n",
       "</tr>\n",
       "<tr>\n",
       "  <th></th>                             <td> - 331</td>              <th>                     </th>     <td> </td>    \n",
       "</tr>\n",
       "<tr>\n",
       "  <th>Covariance Type:</th>               <td>opg</td>               <th>                     </th>     <td> </td>    \n",
       "</tr>\n",
       "</table>\n",
       "<table class=\"simpletable\">\n",
       "<tr>\n",
       "      <td></td>         <th>coef</th>     <th>std err</th>      <th>z</th>      <th>P>|z|</th>  <th>[0.025</th>    <th>0.975]</th>  \n",
       "</tr>\n",
       "<tr>\n",
       "  <th>intercept</th> <td>    1.7842</td> <td>    1.174</td> <td>    1.520</td> <td> 0.129</td> <td>   -0.517</td> <td>    4.085</td>\n",
       "</tr>\n",
       "<tr>\n",
       "  <th>ar.L1</th>     <td>    0.7450</td> <td>    0.105</td> <td>    7.098</td> <td> 0.000</td> <td>    0.539</td> <td>    0.951</td>\n",
       "</tr>\n",
       "<tr>\n",
       "  <th>ma.L1</th>     <td>   -0.0926</td> <td>    0.107</td> <td>   -0.867</td> <td> 0.386</td> <td>   -0.302</td> <td>    0.117</td>\n",
       "</tr>\n",
       "<tr>\n",
       "  <th>ma.L2</th>     <td>   -0.1801</td> <td>    0.084</td> <td>   -2.141</td> <td> 0.032</td> <td>   -0.345</td> <td>   -0.015</td>\n",
       "</tr>\n",
       "<tr>\n",
       "  <th>ma.L3</th>     <td>    0.0850</td> <td>    0.051</td> <td>    1.665</td> <td> 0.096</td> <td>   -0.015</td> <td>    0.185</td>\n",
       "</tr>\n",
       "<tr>\n",
       "  <th>ma.L4</th>     <td>    0.1621</td> <td>    0.064</td> <td>    2.538</td> <td> 0.011</td> <td>    0.037</td> <td>    0.287</td>\n",
       "</tr>\n",
       "<tr>\n",
       "  <th>ar.S.L52</th>  <td>    0.0466</td> <td>    0.102</td> <td>    0.459</td> <td> 0.646</td> <td>   -0.152</td> <td>    0.246</td>\n",
       "</tr>\n",
       "<tr>\n",
       "  <th>ar.S.L104</th> <td>    0.1481</td> <td>    0.043</td> <td>    3.466</td> <td> 0.001</td> <td>    0.064</td> <td>    0.232</td>\n",
       "</tr>\n",
       "<tr>\n",
       "  <th>sigma2</th>    <td>   59.5570</td> <td>    2.227</td> <td>   26.747</td> <td> 0.000</td> <td>   55.193</td> <td>   63.921</td>\n",
       "</tr>\n",
       "</table>\n",
       "<table class=\"simpletable\">\n",
       "<tr>\n",
       "  <th>Ljung-Box (Q):</th>          <td>12.17</td> <th>  Jarque-Bera (JB):  </th> <td>5989.81</td>\n",
       "</tr>\n",
       "<tr>\n",
       "  <th>Prob(Q):</th>                <td>1.00</td>  <th>  Prob(JB):          </th>  <td>0.00</td>  \n",
       "</tr>\n",
       "<tr>\n",
       "  <th>Heteroskedasticity (H):</th> <td>1.30</td>  <th>  Skew:              </th>  <td>2.46</td>  \n",
       "</tr>\n",
       "<tr>\n",
       "  <th>Prob(H) (two-sided):</th>    <td>0.17</td>  <th>  Kurtosis:          </th>  <td>23.25</td> \n",
       "</tr>\n",
       "</table><br/><br/>Warnings:<br/>[1] Covariance matrix calculated using the outer product of gradients (complex-step)."
      ],
      "text/plain": [
       "<class 'statsmodels.iolib.summary.Summary'>\n",
       "\"\"\"\n",
       "                                      SARIMAX Results                                      \n",
       "===========================================================================================\n",
       "Dep. Variable:                                   y   No. Observations:                  331\n",
       "Model:             SARIMAX(1, 0, 4)x(2, 0, [], 52)   Log Likelihood               -1147.698\n",
       "Date:                             Sun, 14 Jun 2020   AIC                           2313.397\n",
       "Time:                                     07:33:21   BIC                           2347.616\n",
       "Sample:                                          0   HQIC                          2327.045\n",
       "                                             - 331                                         \n",
       "Covariance Type:                               opg                                         \n",
       "==============================================================================\n",
       "                 coef    std err          z      P>|z|      [0.025      0.975]\n",
       "------------------------------------------------------------------------------\n",
       "intercept      1.7842      1.174      1.520      0.129      -0.517       4.085\n",
       "ar.L1          0.7450      0.105      7.098      0.000       0.539       0.951\n",
       "ma.L1         -0.0926      0.107     -0.867      0.386      -0.302       0.117\n",
       "ma.L2         -0.1801      0.084     -2.141      0.032      -0.345      -0.015\n",
       "ma.L3          0.0850      0.051      1.665      0.096      -0.015       0.185\n",
       "ma.L4          0.1621      0.064      2.538      0.011       0.037       0.287\n",
       "ar.S.L52       0.0466      0.102      0.459      0.646      -0.152       0.246\n",
       "ar.S.L104      0.1481      0.043      3.466      0.001       0.064       0.232\n",
       "sigma2        59.5570      2.227     26.747      0.000      55.193      63.921\n",
       "===================================================================================\n",
       "Ljung-Box (Q):                       12.17   Jarque-Bera (JB):              5989.81\n",
       "Prob(Q):                              1.00   Prob(JB):                         0.00\n",
       "Heteroskedasticity (H):               1.30   Skew:                             2.46\n",
       "Prob(H) (two-sided):                  0.17   Kurtosis:                        23.25\n",
       "===================================================================================\n",
       "\n",
       "Warnings:\n",
       "[1] Covariance matrix calculated using the outer product of gradients (complex-step).\n",
       "\"\"\""
      ]
     },
     "execution_count": 26,
     "metadata": {},
     "output_type": "execute_result"
    }
   ],
   "source": [
    "# Summarize the selected model\n",
    "aa_basic_iq.summary()"
   ]
  },
  {
   "cell_type": "code",
   "execution_count": 27,
   "metadata": {},
   "outputs": [
    {
     "data": {
      "text/plain": [
       "ARIMA(order=(1, 0, 4), seasonal_order=(2, 0, 0, 52), suppress_warnings=True)"
      ]
     },
     "execution_count": 27,
     "metadata": {},
     "output_type": "execute_result"
    }
   ],
   "source": [
    "# Fit the model\n",
    "aa_basic_iq.fit(train_iq)"
   ]
  },
  {
   "cell_type": "code",
   "execution_count": 28,
   "metadata": {},
   "outputs": [],
   "source": [
    "# Forecast \n",
    "forc_periods  = len(test_iq)\n",
    "aa_basic_iq_forc_array = aa_basic_iq.predict(n_periods=forc_periods)"
   ]
  },
  {
   "cell_type": "code",
   "execution_count": 29,
   "metadata": {
    "scrolled": true
   },
   "outputs": [],
   "source": [
    "# Create dataframe with actual and forecast - Iquitos\n",
    "aa_basic_iq_forc_df = test_iq.copy()\n",
    "aa_basic_iq_forc_df['forecast'] = pd.to_numeric(aa_basic_iq_forc_array)\n",
    "aa_basic_iq_forc_df.columns = ['actual', 'forecast']"
   ]
  },
  {
   "cell_type": "code",
   "execution_count": 30,
   "metadata": {},
   "outputs": [],
   "source": [
    "# Score\n",
    "my_func.score('ARIMA', 3, 'SARIMAX (1, 0, 4) x (2, 0, 0, 52)', 'iquitos', 'test', 'none', \n",
    "              aa_basic_iq_forc_df['actual'], aa_basic_iq_forc_df['forecast'], score_df) "
   ]
  },
  {
   "cell_type": "code",
   "execution_count": 31,
   "metadata": {},
   "outputs": [
    {
     "data": {
      "text/html": [
       "<div>\n",
       "<style scoped>\n",
       "    .dataframe tbody tr th:only-of-type {\n",
       "        vertical-align: middle;\n",
       "    }\n",
       "\n",
       "    .dataframe tbody tr th {\n",
       "        vertical-align: top;\n",
       "    }\n",
       "\n",
       "    .dataframe thead th {\n",
       "        text-align: right;\n",
       "    }\n",
       "</style>\n",
       "<table border=\"1\" class=\"dataframe\">\n",
       "  <thead>\n",
       "    <tr style=\"text-align: right;\">\n",
       "      <th></th>\n",
       "      <th>approach</th>\n",
       "      <th>variation</th>\n",
       "      <th>summary</th>\n",
       "      <th>city</th>\n",
       "      <th>data</th>\n",
       "      <th>transform</th>\n",
       "      <th>rmse</th>\n",
       "      <th>mae</th>\n",
       "    </tr>\n",
       "  </thead>\n",
       "  <tbody>\n",
       "    <tr>\n",
       "      <td>14</td>\n",
       "      <td>ARIMA</td>\n",
       "      <td>3</td>\n",
       "      <td>SARMIAX (1, 0, 4) x (2, 0, 0, 52)</td>\n",
       "      <td>iquitos</td>\n",
       "      <td>test</td>\n",
       "      <td>none</td>\n",
       "      <td>11.023207</td>\n",
       "      <td>7.021882</td>\n",
       "    </tr>\n",
       "  </tbody>\n",
       "</table>\n",
       "</div>"
      ],
      "text/plain": [
       "   approach variation                            summary     city  data  \\\n",
       "14    ARIMA         3  SARMIAX (1, 0, 4) x (2, 0, 0, 52)  iquitos  test   \n",
       "\n",
       "   transform       rmse       mae  \n",
       "14      none  11.023207  7.021882  "
      ]
     },
     "execution_count": 31,
     "metadata": {},
     "output_type": "execute_result"
    }
   ],
   "source": [
    "# Review score \n",
    "score_df.tail(1)"
   ]
  },
  {
   "cell_type": "code",
   "execution_count": 32,
   "metadata": {
    "scrolled": true
   },
   "outputs": [
    {
     "data": {
      "image/png": "[encoded data removed]",
      "text/plain": [
       "<Figure size 900x300 with 1 Axes>"
      ]
     },
     "metadata": {},
     "output_type": "display_data"
    }
   ],
   "source": [
    "graph_actual_and_forecast_from_test(aa_basic_iq_forc_df, 'Iquitos')"
   ]
  },
  {
   "cell_type": "code",
   "execution_count": 33,
   "metadata": {},
   "outputs": [
    {
     "data": {
      "text/plain": [
       "count    111.000000\n",
       "mean       8.392399\n",
       "std        1.763245\n",
       "min        3.068160\n",
       "25%        7.598354\n",
       "50%        8.162489\n",
       "75%        8.755584\n",
       "max       16.134277\n",
       "Name: forecast, dtype: float64"
      ]
     },
     "execution_count": 33,
     "metadata": {},
     "output_type": "execute_result"
    }
   ],
   "source": [
    "aa_basic_iq_forc_df['forecast'].describe()"
   ]
  },
  {
   "cell_type": "markdown",
   "metadata": {},
   "source": [
    "## Model with auto_arima - log(x+1) data - Iquitos"
   ]
  },
  {
   "cell_type": "code",
   "execution_count": 34,
   "metadata": {},
   "outputs": [
    {
     "name": "stdout",
     "output_type": "stream",
     "text": [
      "Performing stepwise search to minimize aic\n",
      "Fit ARIMA(2,0,2)x(1,0,1,52) [intercept=True]; AIC=593.591, BIC=624.008, Time=13.375 seconds\n",
      "Fit ARIMA(0,0,0)x(0,0,0,52) [intercept=True]; AIC=872.213, BIC=879.817, Time=0.037 seconds\n",
      "Fit ARIMA(1,0,0)x(1,0,0,52) [intercept=True]; AIC=631.926, BIC=647.134, Time=3.387 seconds\n",
      "Fit ARIMA(0,0,1)x(0,0,1,52) [intercept=True]; AIC=748.546, BIC=763.754, Time=1.351 seconds\n",
      "Fit ARIMA(0,0,0)x(0,0,0,52) [intercept=False]; AIC=1427.555, BIC=1431.357, Time=0.006 seconds\n",
      "Fit ARIMA(2,0,2)x(0,0,1,52) [intercept=True]; AIC=593.846, BIC=620.461, Time=8.466 seconds\n",
      "Fit ARIMA(2,0,2)x(1,0,0,52) [intercept=True]; AIC=593.594, BIC=620.209, Time=11.070 seconds\n",
      "Fit ARIMA(2,0,2)x(2,0,1,52) [intercept=True]; AIC=595.649, BIC=629.868, Time=55.620 seconds\n",
      "Near non-invertible roots for order (2, 0, 2)(2, 0, 1, 52); setting score to inf (at least one inverse root too close to the border of the unit circle: 0.995)\n",
      "Fit ARIMA(2,0,2)x(1,0,2,52) [intercept=True]; AIC=593.851, BIC=628.070, Time=46.565 seconds\n",
      "Fit ARIMA(2,0,2)x(0,0,0,52) [intercept=True]; AIC=592.408, BIC=615.221, Time=0.371 seconds\n",
      "Fit ARIMA(1,0,2)x(0,0,0,52) [intercept=True]; AIC=591.477, BIC=610.488, Time=0.096 seconds\n",
      "Fit ARIMA(1,0,2)x(1,0,0,52) [intercept=True]; AIC=591.857, BIC=614.670, Time=5.885 seconds\n",
      "Fit ARIMA(1,0,2)x(0,0,1,52) [intercept=True]; AIC=592.144, BIC=614.957, Time=3.989 seconds\n",
      "Fit ARIMA(1,0,2)x(1,0,1,52) [intercept=True]; AIC=591.617, BIC=618.232, Time=12.846 seconds\n",
      "Near non-invertible roots for order (1, 0, 2)(1, 0, 1, 52); setting score to inf (at least one inverse root too close to the border of the unit circle: 0.993)\n",
      "Fit ARIMA(0,0,2)x(0,0,0,52) [intercept=True]; AIC=683.372, BIC=698.580, Time=0.060 seconds\n",
      "Fit ARIMA(1,0,1)x(0,0,0,52) [intercept=True]; AIC=590.776, BIC=605.985, Time=0.078 seconds\n",
      "Fit ARIMA(1,0,1)x(1,0,0,52) [intercept=True]; AIC=591.549, BIC=610.559, Time=4.728 seconds\n",
      "Fit ARIMA(1,0,1)x(0,0,1,52) [intercept=True]; AIC=591.766, BIC=610.777, Time=2.804 seconds\n",
      "Fit ARIMA(1,0,1)x(1,0,1,52) [intercept=True]; AIC=591.421, BIC=614.234, Time=7.455 seconds\n",
      "Near non-invertible roots for order (1, 0, 1)(1, 0, 1, 52); setting score to inf (at least one inverse root too close to the border of the unit circle: 0.994)\n",
      "Fit ARIMA(0,0,1)x(0,0,0,52) [intercept=True]; AIC=747.633, BIC=759.039, Time=0.035 seconds\n",
      "Fit ARIMA(1,0,0)x(0,0,0,52) [intercept=True]; AIC=630.053, BIC=641.459, Time=0.035 seconds\n",
      "Fit ARIMA(2,0,1)x(0,0,0,52) [intercept=True]; AIC=591.577, BIC=610.587, Time=0.171 seconds\n",
      "Fit ARIMA(2,0,0)x(0,0,0,52) [intercept=True]; AIC=594.161, BIC=609.370, Time=0.053 seconds\n",
      "Total fit time: 178.532 seconds\n"
     ]
    }
   ],
   "source": [
    "# Instantiate the model and grid search\n",
    "aa_basic_iq_log = auto_arima(log_train_iq, m=52,\n",
    "                             trace=True, error_action='ignore', suppress_warnings=True)"
   ]
  },
  {
   "cell_type": "code",
   "execution_count": 35,
   "metadata": {},
   "outputs": [
    {
     "data": {
      "text/html": [
       "<table class=\"simpletable\">\n",
       "<caption>SARIMAX Results</caption>\n",
       "<tr>\n",
       "  <th>Dep. Variable:</th>           <td>y</td>        <th>  No. Observations:  </th>    <td>331</td>  \n",
       "</tr>\n",
       "<tr>\n",
       "  <th>Model:</th>           <td>SARIMAX(1, 0, 1)</td> <th>  Log Likelihood     </th> <td>-291.388</td>\n",
       "</tr>\n",
       "<tr>\n",
       "  <th>Date:</th>            <td>Sun, 14 Jun 2020</td> <th>  AIC                </th>  <td>590.776</td>\n",
       "</tr>\n",
       "<tr>\n",
       "  <th>Time:</th>                <td>07:40:07</td>     <th>  BIC                </th>  <td>605.985</td>\n",
       "</tr>\n",
       "<tr>\n",
       "  <th>Sample:</th>                  <td>0</td>        <th>  HQIC               </th>  <td>596.842</td>\n",
       "</tr>\n",
       "<tr>\n",
       "  <th></th>                      <td> - 331</td>      <th>                     </th>     <td> </td>   \n",
       "</tr>\n",
       "<tr>\n",
       "  <th>Covariance Type:</th>        <td>opg</td>       <th>                     </th>     <td> </td>   \n",
       "</tr>\n",
       "</table>\n",
       "<table class=\"simpletable\">\n",
       "<tr>\n",
       "      <td></td>         <th>coef</th>     <th>std err</th>      <th>z</th>      <th>P>|z|</th>  <th>[0.025</th>    <th>0.975]</th>  \n",
       "</tr>\n",
       "<tr>\n",
       "  <th>intercept</th> <td>    0.1556</td> <td>    0.055</td> <td>    2.807</td> <td> 0.005</td> <td>    0.047</td> <td>    0.264</td>\n",
       "</tr>\n",
       "<tr>\n",
       "  <th>ar.L1</th>     <td>    0.9161</td> <td>    0.027</td> <td>   33.441</td> <td> 0.000</td> <td>    0.862</td> <td>    0.970</td>\n",
       "</tr>\n",
       "<tr>\n",
       "  <th>ma.L1</th>     <td>   -0.4466</td> <td>    0.062</td> <td>   -7.165</td> <td> 0.000</td> <td>   -0.569</td> <td>   -0.324</td>\n",
       "</tr>\n",
       "<tr>\n",
       "  <th>sigma2</th>    <td>    0.3395</td> <td>    0.025</td> <td>   13.444</td> <td> 0.000</td> <td>    0.290</td> <td>    0.389</td>\n",
       "</tr>\n",
       "</table>\n",
       "<table class=\"simpletable\">\n",
       "<tr>\n",
       "  <th>Ljung-Box (Q):</th>          <td>32.35</td> <th>  Jarque-Bera (JB):  </th> <td>1.62</td> \n",
       "</tr>\n",
       "<tr>\n",
       "  <th>Prob(Q):</th>                <td>0.80</td>  <th>  Prob(JB):          </th> <td>0.45</td> \n",
       "</tr>\n",
       "<tr>\n",
       "  <th>Heteroskedasticity (H):</th> <td>1.34</td>  <th>  Skew:              </th> <td>-0.12</td>\n",
       "</tr>\n",
       "<tr>\n",
       "  <th>Prob(H) (two-sided):</th>    <td>0.13</td>  <th>  Kurtosis:          </th> <td>3.25</td> \n",
       "</tr>\n",
       "</table><br/><br/>Warnings:<br/>[1] Covariance matrix calculated using the outer product of gradients (complex-step)."
      ],
      "text/plain": [
       "<class 'statsmodels.iolib.summary.Summary'>\n",
       "\"\"\"\n",
       "                               SARIMAX Results                                \n",
       "==============================================================================\n",
       "Dep. Variable:                      y   No. Observations:                  331\n",
       "Model:               SARIMAX(1, 0, 1)   Log Likelihood                -291.388\n",
       "Date:                Sun, 14 Jun 2020   AIC                            590.776\n",
       "Time:                        07:40:07   BIC                            605.985\n",
       "Sample:                             0   HQIC                           596.842\n",
       "                                - 331                                         \n",
       "Covariance Type:                  opg                                         \n",
       "==============================================================================\n",
       "                 coef    std err          z      P>|z|      [0.025      0.975]\n",
       "------------------------------------------------------------------------------\n",
       "intercept      0.1556      0.055      2.807      0.005       0.047       0.264\n",
       "ar.L1          0.9161      0.027     33.441      0.000       0.862       0.970\n",
       "ma.L1         -0.4466      0.062     -7.165      0.000      -0.569      -0.324\n",
       "sigma2         0.3395      0.025     13.444      0.000       0.290       0.389\n",
       "===================================================================================\n",
       "Ljung-Box (Q):                       32.35   Jarque-Bera (JB):                 1.62\n",
       "Prob(Q):                              0.80   Prob(JB):                         0.45\n",
       "Heteroskedasticity (H):               1.34   Skew:                            -0.12\n",
       "Prob(H) (two-sided):                  0.13   Kurtosis:                         3.25\n",
       "===================================================================================\n",
       "\n",
       "Warnings:\n",
       "[1] Covariance matrix calculated using the outer product of gradients (complex-step).\n",
       "\"\"\""
      ]
     },
     "execution_count": 35,
     "metadata": {},
     "output_type": "execute_result"
    }
   ],
   "source": [
    "# Summarize the selected model\n",
    "aa_basic_iq_log.summary()"
   ]
  },
  {
   "cell_type": "code",
   "execution_count": 36,
   "metadata": {},
   "outputs": [
    {
     "data": {
      "text/plain": [
       "ARIMA(order=(1, 0, 1), seasonal_order=(0, 0, 0, 52), suppress_warnings=True)"
      ]
     },
     "execution_count": 36,
     "metadata": {},
     "output_type": "execute_result"
    }
   ],
   "source": [
    "# Fit the model\n",
    "aa_basic_iq_log.fit(log_train_iq)"
   ]
  },
  {
   "cell_type": "code",
   "execution_count": 37,
   "metadata": {},
   "outputs": [],
   "source": [
    "# Forecast\n",
    "forc_periods  = len(log_test_iq)\n",
    "aa_basic_iq_log_forc_array_log = aa_basic_iq_log.predict(n_periods=forc_periods)"
   ]
  },
  {
   "cell_type": "code",
   "execution_count": 38,
   "metadata": {},
   "outputs": [],
   "source": [
    "# Tranform back the log data\n",
    "aa_basic_iq_log_forc_array = np.expm1(aa_basic_iq_log_forc_array_log)"
   ]
  },
  {
   "cell_type": "code",
   "execution_count": 45,
   "metadata": {
    "scrolled": true
   },
   "outputs": [],
   "source": [
    "# Create dataframe with actual and forecast - San Juan\n",
    "aa_basic_iq_log_forc_df = test_iq.copy()\n",
    "aa_basic_iq_log_forc_df['forecast'] = pd.to_numeric(aa_basic_iq_log_forc_array)\n",
    "aa_basic_iq_log_forc_df.columns = ['actual', 'forecast']"
   ]
  },
  {
   "cell_type": "code",
   "execution_count": 46,
   "metadata": {},
   "outputs": [],
   "source": [
    "# # Score\n",
    "# my_func.score('arima_auto', 'SARIMAX(2, 1, 2)x(2, 0, 1, 52), log', 'iquitos', 'test', \n",
    "#       aa_basic_iq_log_forc_df['actual'], aa_basic_iq_log_forc_df['forecast'], score_df) "
   ]
  },
  {
   "cell_type": "code",
   "execution_count": 56,
   "metadata": {},
   "outputs": [],
   "source": [
    "# Score\n",
    "my_func.score('ARIMA', 4, 'SARIMAX (1, 0, 1) x (0, 0, 0, 52)', 'iquitos', 'test', 'log(x+1)', \n",
    "              aa_basic_iq_log_forc_df['actual'], aa_basic_iq_log_forc_df['forecast'], score_df) "
   ]
  },
  {
   "cell_type": "code",
   "execution_count": 57,
   "metadata": {},
   "outputs": [
    {
     "data": {
      "text/html": [
       "<div>\n",
       "<style scoped>\n",
       "    .dataframe tbody tr th:only-of-type {\n",
       "        vertical-align: middle;\n",
       "    }\n",
       "\n",
       "    .dataframe tbody tr th {\n",
       "        vertical-align: top;\n",
       "    }\n",
       "\n",
       "    .dataframe thead th {\n",
       "        text-align: right;\n",
       "    }\n",
       "</style>\n",
       "<table border=\"1\" class=\"dataframe\">\n",
       "  <thead>\n",
       "    <tr style=\"text-align: right;\">\n",
       "      <th></th>\n",
       "      <th>approach</th>\n",
       "      <th>variation</th>\n",
       "      <th>summary</th>\n",
       "      <th>city</th>\n",
       "      <th>data</th>\n",
       "      <th>transform</th>\n",
       "      <th>rmse</th>\n",
       "      <th>mae</th>\n",
       "    </tr>\n",
       "  </thead>\n",
       "  <tbody>\n",
       "    <tr>\n",
       "      <td>15</td>\n",
       "      <td>ARIMA</td>\n",
       "      <td>4</td>\n",
       "      <td>SARMIAX (1, 0, 1) x (0, 0, 0, 52)</td>\n",
       "      <td>iquitos</td>\n",
       "      <td>test</td>\n",
       "      <td>log(x+1)</td>\n",
       "      <td>11.954236</td>\n",
       "      <td>6.764148</td>\n",
       "    </tr>\n",
       "  </tbody>\n",
       "</table>\n",
       "</div>"
      ],
      "text/plain": [
       "   approach variation                            summary     city  data  \\\n",
       "15    ARIMA         4  SARMIAX (1, 0, 1) x (0, 0, 0, 52)  iquitos  test   \n",
       "\n",
       "   transform       rmse       mae  \n",
       "15  log(x+1)  11.954236  6.764148  "
      ]
     },
     "execution_count": 57,
     "metadata": {},
     "output_type": "execute_result"
    }
   ],
   "source": [
    "# Review score \n",
    "score_df.tail(1)"
   ]
  },
  {
   "cell_type": "code",
   "execution_count": 58,
   "metadata": {
    "scrolled": false
   },
   "outputs": [
    {
     "data": {
      "image/png": "[encoded data removed]",
      "text/plain": [
       "<Figure size 900x300 with 1 Axes>"
      ]
     },
     "metadata": {},
     "output_type": "display_data"
    }
   ],
   "source": [
    "graph_actual_and_forecast_from_test(aa_basic_iq_log_forc_df, 'Iquitos')"
   ]
  },
  {
   "cell_type": "markdown",
   "metadata": {},
   "source": [
    "## Summarize scores"
   ]
  },
  {
   "cell_type": "code",
   "execution_count": 59,
   "metadata": {},
   "outputs": [
    {
     "data": {
      "text/html": [
       "<div>\n",
       "<style scoped>\n",
       "    .dataframe tbody tr th:only-of-type {\n",
       "        vertical-align: middle;\n",
       "    }\n",
       "\n",
       "    .dataframe tbody tr th {\n",
       "        vertical-align: top;\n",
       "    }\n",
       "\n",
       "    .dataframe thead th {\n",
       "        text-align: right;\n",
       "    }\n",
       "</style>\n",
       "<table border=\"1\" class=\"dataframe\">\n",
       "  <thead>\n",
       "    <tr style=\"text-align: right;\">\n",
       "      <th></th>\n",
       "      <th>approach</th>\n",
       "      <th>variation</th>\n",
       "      <th>summary</th>\n",
       "      <th>city</th>\n",
       "      <th>data</th>\n",
       "      <th>transform</th>\n",
       "      <th>rmse</th>\n",
       "      <th>mae</th>\n",
       "    </tr>\n",
       "  </thead>\n",
       "  <tbody>\n",
       "    <tr>\n",
       "      <td>13</td>\n",
       "      <td>ARIMA</td>\n",
       "      <td>2</td>\n",
       "      <td>SARIMAX (2, 1, 2) x (2, 0, 1, 52)</td>\n",
       "      <td>san juan</td>\n",
       "      <td>test</td>\n",
       "      <td>log(x+1)</td>\n",
       "      <td>26.606072</td>\n",
       "      <td>15.849436</td>\n",
       "    </tr>\n",
       "    <tr>\n",
       "      <td>12</td>\n",
       "      <td>ARIMA</td>\n",
       "      <td>1</td>\n",
       "      <td>SARMIA (3, 1, 2) x (0, 0, 0, 52)</td>\n",
       "      <td>san juan</td>\n",
       "      <td>test</td>\n",
       "      <td>none</td>\n",
       "      <td>29.482909</td>\n",
       "      <td>18.707521</td>\n",
       "    </tr>\n",
       "    <tr>\n",
       "      <td>4</td>\n",
       "      <td>naive</td>\n",
       "      <td>3</td>\n",
       "      <td>seasonal naive method</td>\n",
       "      <td>san juan</td>\n",
       "      <td>test</td>\n",
       "      <td>none</td>\n",
       "      <td>35.954565</td>\n",
       "      <td>21.337607</td>\n",
       "    </tr>\n",
       "    <tr>\n",
       "      <td>0</td>\n",
       "      <td>naive</td>\n",
       "      <td>1</td>\n",
       "      <td>average method</td>\n",
       "      <td>san juan</td>\n",
       "      <td>test</td>\n",
       "      <td>none</td>\n",
       "      <td>32.393166</td>\n",
       "      <td>28.027285</td>\n",
       "    </tr>\n",
       "    <tr>\n",
       "      <td>2</td>\n",
       "      <td>naive</td>\n",
       "      <td>2</td>\n",
       "      <td>naive method</td>\n",
       "      <td>san juan</td>\n",
       "      <td>test</td>\n",
       "      <td>none</td>\n",
       "      <td>32.873430</td>\n",
       "      <td>28.713675</td>\n",
       "    </tr>\n",
       "    <tr>\n",
       "      <td>3</td>\n",
       "      <td>naive</td>\n",
       "      <td>2</td>\n",
       "      <td>naive method</td>\n",
       "      <td>san juan</td>\n",
       "      <td>train</td>\n",
       "      <td>none</td>\n",
       "      <td>14.527214</td>\n",
       "      <td>8.495007</td>\n",
       "    </tr>\n",
       "    <tr>\n",
       "      <td>1</td>\n",
       "      <td>naive</td>\n",
       "      <td>1</td>\n",
       "      <td>average method</td>\n",
       "      <td>san juan</td>\n",
       "      <td>train</td>\n",
       "      <td>none</td>\n",
       "      <td>56.612447</td>\n",
       "      <td>33.000524</td>\n",
       "    </tr>\n",
       "    <tr>\n",
       "      <td>5</td>\n",
       "      <td>naive</td>\n",
       "      <td>3</td>\n",
       "      <td>seasonal naive method</td>\n",
       "      <td>san juan</td>\n",
       "      <td>train</td>\n",
       "      <td>none</td>\n",
       "      <td>81.504167</td>\n",
       "      <td>42.003077</td>\n",
       "    </tr>\n",
       "    <tr>\n",
       "      <td>15</td>\n",
       "      <td>ARIMA</td>\n",
       "      <td>4</td>\n",
       "      <td>SARMIAX (1, 0, 1) x (0, 0, 0, 52)</td>\n",
       "      <td>iquitos</td>\n",
       "      <td>test</td>\n",
       "      <td>log(x+1)</td>\n",
       "      <td>11.954236</td>\n",
       "      <td>6.764148</td>\n",
       "    </tr>\n",
       "    <tr>\n",
       "      <td>14</td>\n",
       "      <td>ARIMA</td>\n",
       "      <td>3</td>\n",
       "      <td>SARMIAX (1, 0, 4) x (2, 0, 0, 52)</td>\n",
       "      <td>iquitos</td>\n",
       "      <td>test</td>\n",
       "      <td>none</td>\n",
       "      <td>11.023207</td>\n",
       "      <td>7.021882</td>\n",
       "    </tr>\n",
       "    <tr>\n",
       "      <td>6</td>\n",
       "      <td>naive</td>\n",
       "      <td>4</td>\n",
       "      <td>average method</td>\n",
       "      <td>iquitos</td>\n",
       "      <td>test</td>\n",
       "      <td>none</td>\n",
       "      <td>11.261033</td>\n",
       "      <td>7.647914</td>\n",
       "    </tr>\n",
       "    <tr>\n",
       "      <td>8</td>\n",
       "      <td>naive</td>\n",
       "      <td>5</td>\n",
       "      <td>naive method</td>\n",
       "      <td>iquitos</td>\n",
       "      <td>test</td>\n",
       "      <td>none</td>\n",
       "      <td>13.791890</td>\n",
       "      <td>8.162162</td>\n",
       "    </tr>\n",
       "    <tr>\n",
       "      <td>10</td>\n",
       "      <td>naive</td>\n",
       "      <td>6</td>\n",
       "      <td>seasonal naive method</td>\n",
       "      <td>iquitos</td>\n",
       "      <td>test</td>\n",
       "      <td>none</td>\n",
       "      <td>16.476847</td>\n",
       "      <td>9.918919</td>\n",
       "    </tr>\n",
       "    <tr>\n",
       "      <td>9</td>\n",
       "      <td>naive</td>\n",
       "      <td>5</td>\n",
       "      <td>naive method</td>\n",
       "      <td>iquitos</td>\n",
       "      <td>train</td>\n",
       "      <td>none</td>\n",
       "      <td>8.913558</td>\n",
       "      <td>4.803030</td>\n",
       "    </tr>\n",
       "    <tr>\n",
       "      <td>7</td>\n",
       "      <td>naive</td>\n",
       "      <td>4</td>\n",
       "      <td>average method</td>\n",
       "      <td>iquitos</td>\n",
       "      <td>train</td>\n",
       "      <td>none</td>\n",
       "      <td>11.219506</td>\n",
       "      <td>6.831527</td>\n",
       "    </tr>\n",
       "    <tr>\n",
       "      <td>11</td>\n",
       "      <td>naive</td>\n",
       "      <td>6</td>\n",
       "      <td>seasonal naive method</td>\n",
       "      <td>iquitos</td>\n",
       "      <td>train</td>\n",
       "      <td>none</td>\n",
       "      <td>16.092809</td>\n",
       "      <td>9.372760</td>\n",
       "    </tr>\n",
       "  </tbody>\n",
       "</table>\n",
       "</div>"
      ],
      "text/plain": [
       "   approach variation                            summary      city   data  \\\n",
       "13    ARIMA         2  SARIMAX (2, 1, 2) x (2, 0, 1, 52)  san juan   test   \n",
       "12    ARIMA         1   SARMIA (3, 1, 2) x (0, 0, 0, 52)  san juan   test   \n",
       "4     naive         3              seasonal naive method  san juan   test   \n",
       "0     naive         1                     average method  san juan   test   \n",
       "2     naive         2                       naive method  san juan   test   \n",
       "3     naive         2                       naive method  san juan  train   \n",
       "1     naive         1                     average method  san juan  train   \n",
       "5     naive         3              seasonal naive method  san juan  train   \n",
       "15    ARIMA         4  SARMIAX (1, 0, 1) x (0, 0, 0, 52)   iquitos   test   \n",
       "14    ARIMA         3  SARMIAX (1, 0, 4) x (2, 0, 0, 52)   iquitos   test   \n",
       "6     naive         4                     average method   iquitos   test   \n",
       "8     naive         5                       naive method   iquitos   test   \n",
       "10    naive         6              seasonal naive method   iquitos   test   \n",
       "9     naive         5                       naive method   iquitos  train   \n",
       "7     naive         4                     average method   iquitos  train   \n",
       "11    naive         6              seasonal naive method   iquitos  train   \n",
       "\n",
       "   transform       rmse        mae  \n",
       "13  log(x+1)  26.606072  15.849436  \n",
       "12      none  29.482909  18.707521  \n",
       "4       none  35.954565  21.337607  \n",
       "0       none  32.393166  28.027285  \n",
       "2       none  32.873430  28.713675  \n",
       "3       none  14.527214   8.495007  \n",
       "1       none  56.612447  33.000524  \n",
       "5       none  81.504167  42.003077  \n",
       "15  log(x+1)  11.954236   6.764148  \n",
       "14      none  11.023207   7.021882  \n",
       "6       none  11.261033   7.647914  \n",
       "8       none  13.791890   8.162162  \n",
       "10      none  16.476847   9.918919  \n",
       "9       none   8.913558   4.803030  \n",
       "7       none  11.219506   6.831527  \n",
       "11      none  16.092809   9.372760  "
      ]
     },
     "execution_count": 59,
     "metadata": {},
     "output_type": "execute_result"
    }
   ],
   "source": [
    "score_df.sort_values(by=['data', 'mae'], ascending=True).sort_values(by=['city'], ascending=False)"
   ]
  },
  {
   "cell_type": "markdown",
   "metadata": {},
   "source": [
    "## Save scores"
   ]
  },
  {
   "cell_type": "code",
   "execution_count": 60,
   "metadata": {},
   "outputs": [],
   "source": [
    "score_df.to_pickle('../sb_cap2_nb-99_data/scores_after_nbk_6.pickle')"
   ]
  },
  {
   "cell_type": "markdown",
   "metadata": {},
   "source": [
    "## Commentary"
   ]
  },
  {
   "cell_type": "markdown",
   "metadata": {},
   "source": [
    "I start my time series forecasting with the Pyramid auto_arima module.  This module is based on the well-known R function, auto.arima.  The module fits both ARIMA-type and seasonal ARIMA (aka, SARIMA-type) models.  It works by conducting a grid-search across key ARIMA parameters and minimizing AIC.  These parameters are notated as MODEL_TYPE (p, d, q) x (P, D, Q, m) where:\n",
    "\n",
    "* p and seasonal P represent the autoregressive terms (aka, the lags of the series once made stationary),\n",
    "* d and seasonal D represent the differencing that must be done to make the series stationary,\n",
    "* q and seasonal Q represent the number of moving average terms (aka, the lags of the forecast errors), and\n",
    "* m represents the length of the season.\n",
    "\n",
    "First, I model the San Juan training data:\n",
    "\n",
    "* I provide one parameter--the fact that we're working with weekly data (aka, a seasonality of 52).  \n",
    "* The selected model off non-transformed data is SARIMA(3,1,2)x(0,0,0,52).  What I find interesting is the lack of P, D and Q in the seasonal parameters.\n",
    "* In looking of the graph of the actual and forecast data, I find the lack of variability in the forecast--the fact that it's a flat curve--is surprising.  \n",
    "* The MAE and RMSE of the auto_arima model outperform the all of the earlier simple models.\n",
    "* When I provide the model with log-tranformed data, a different model is selected:  SARIMAX(2, 1, 2)x(2, 0, 1, 52)\n",
    "* And that model performs even better.\n",
    "\n",
    "Next, I model the Iquitos data.\n",
    "\n",
    "* I give the model the weekly seasonality (aka, m=52).\n",
    "* The selected model of non-transformed data is SARIMAX(1, 0, 4)x(2, 0, 0, 52).  The key differences between the models are Iquitos has a 1-lag autoregressive term and a 2-lag seasonal autoregressive term.  There is no differencing done to make the data stationary.  There are 4-moving average terms.\n",
    "* Graphically, the model has a bit more variability than the San Juan model.\n",
    "* When provided log-transformed data, a different model is selected, and that model performs even better."
   ]
  },
  {
   "cell_type": "code",
   "execution_count": null,
   "metadata": {},
   "outputs": [],
   "source": []
  }
 ],
 "metadata": {
  "kernelspec": {
   "display_name": "Python 3",
   "language": "python",
   "name": "python3"
  },
  "language_info": {
   "codemirror_mode": {
    "name": "ipython",
    "version": 3
   },
   "file_extension": ".py",
   "mimetype": "text/x-python",
   "name": "python",
   "nbconvert_exporter": "python",
   "pygments_lexer": "ipython3",
   "version": "3.7.4"
  }
 },
 "nbformat": 4,
 "nbformat_minor": 2
}
