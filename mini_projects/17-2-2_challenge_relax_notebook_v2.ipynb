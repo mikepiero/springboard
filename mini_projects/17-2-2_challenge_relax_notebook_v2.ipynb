{
 "cells": [
  {
   "cell_type": "markdown",
   "metadata": {},
   "source": [
    "# Data science takehome for Relax, Inc."
   ]
  },
  {
   "cell_type": "markdown",
   "metadata": {},
   "source": [
    "This notebook supports a Springboard practice takehome from a hypothetical company, Relax, Inc.  The takehome has two tasks:  \n",
    "\n",
    "* Calculating 'adopted users' and \n",
    "* Evaluating what features predicted user adoption"
   ]
  },
  {
   "cell_type": "markdown",
   "metadata": {},
   "source": [
    "# Set up"
   ]
  },
  {
   "cell_type": "code",
   "execution_count": 1,
   "metadata": {},
   "outputs": [],
   "source": [
    "# Import key libraries\n",
    "import numpy as np\n",
    "import pandas as pd\n",
    "\n",
    "## Import other libraries\n",
    "import datetime\n",
    "import chardet\n",
    "\n",
    "# Import graphing libraries\n",
    "import matplotlib.pyplot as plt\n",
    "import seaborn as sns\n",
    "\n",
    "# Set some defaults for Seaborn\n",
    "sns.set_style('whitegrid')\n",
    "sns.set_context('paper')\n",
    "sns.set_palette('muted')\n",
    "\n",
    "# Import sklearn modules\n",
    "from sklearn.model_selection import train_test_split\n",
    "from sklearn.linear_model import LogisticRegression\n",
    "from sklearn import metrics\n",
    "from sklearn.metrics import classification_report\n",
    "from sklearn.preprocessing import StandardScaler\n",
    "from sklearn.preprocessing import MinMaxScaler\n",
    "from sklearn.ensemble import RandomForestClassifier"
   ]
  },
  {
   "cell_type": "markdown",
   "metadata": {},
   "source": [
    "# 1.  Calc adopted users"
   ]
  },
  {
   "cell_type": "markdown",
   "metadata": {},
   "source": [
    "## Load"
   ]
  },
  {
   "cell_type": "code",
   "execution_count": 2,
   "metadata": {},
   "outputs": [],
   "source": [
    "user_engagement_raw = pd.read_csv('data_raw_takehome_user_engagement.csv')"
   ]
  },
  {
   "cell_type": "markdown",
   "metadata": {},
   "source": [
    "## Assess"
   ]
  },
  {
   "cell_type": "code",
   "execution_count": 3,
   "metadata": {},
   "outputs": [
    {
     "data": {
      "text/plain": [
       "(207917, 3)"
      ]
     },
     "execution_count": 3,
     "metadata": {},
     "output_type": "execute_result"
    }
   ],
   "source": [
    "user_engagement_raw.shape"
   ]
  },
  {
   "cell_type": "code",
   "execution_count": 4,
   "metadata": {},
   "outputs": [
    {
     "data": {
      "text/html": [
       "<div>\n",
       "<style scoped>\n",
       "    .dataframe tbody tr th:only-of-type {\n",
       "        vertical-align: middle;\n",
       "    }\n",
       "\n",
       "    .dataframe tbody tr th {\n",
       "        vertical-align: top;\n",
       "    }\n",
       "\n",
       "    .dataframe thead th {\n",
       "        text-align: right;\n",
       "    }\n",
       "</style>\n",
       "<table border=\"1\" class=\"dataframe\">\n",
       "  <thead>\n",
       "    <tr style=\"text-align: right;\">\n",
       "      <th></th>\n",
       "      <th>time_stamp</th>\n",
       "      <th>user_id</th>\n",
       "      <th>visited</th>\n",
       "    </tr>\n",
       "  </thead>\n",
       "  <tbody>\n",
       "    <tr>\n",
       "      <td>0</td>\n",
       "      <td>2014-04-22 03:53:30</td>\n",
       "      <td>1</td>\n",
       "      <td>1</td>\n",
       "    </tr>\n",
       "    <tr>\n",
       "      <td>1</td>\n",
       "      <td>2013-11-15 03:45:04</td>\n",
       "      <td>2</td>\n",
       "      <td>1</td>\n",
       "    </tr>\n",
       "    <tr>\n",
       "      <td>2</td>\n",
       "      <td>2013-11-29 03:45:04</td>\n",
       "      <td>2</td>\n",
       "      <td>1</td>\n",
       "    </tr>\n",
       "    <tr>\n",
       "      <td>3</td>\n",
       "      <td>2013-12-09 03:45:04</td>\n",
       "      <td>2</td>\n",
       "      <td>1</td>\n",
       "    </tr>\n",
       "    <tr>\n",
       "      <td>4</td>\n",
       "      <td>2013-12-25 03:45:04</td>\n",
       "      <td>2</td>\n",
       "      <td>1</td>\n",
       "    </tr>\n",
       "  </tbody>\n",
       "</table>\n",
       "</div>"
      ],
      "text/plain": [
       "            time_stamp  user_id  visited\n",
       "0  2014-04-22 03:53:30        1        1\n",
       "1  2013-11-15 03:45:04        2        1\n",
       "2  2013-11-29 03:45:04        2        1\n",
       "3  2013-12-09 03:45:04        2        1\n",
       "4  2013-12-25 03:45:04        2        1"
      ]
     },
     "execution_count": 4,
     "metadata": {},
     "output_type": "execute_result"
    }
   ],
   "source": [
    "user_engagement_raw.head()"
   ]
  },
  {
   "cell_type": "code",
   "execution_count": 5,
   "metadata": {
    "scrolled": true
   },
   "outputs": [
    {
     "name": "stdout",
     "output_type": "stream",
     "text": [
      "<class 'pandas.core.frame.DataFrame'>\n",
      "RangeIndex: 207917 entries, 0 to 207916\n",
      "Data columns (total 3 columns):\n",
      "time_stamp    207917 non-null object\n",
      "user_id       207917 non-null int64\n",
      "visited       207917 non-null int64\n",
      "dtypes: int64(2), object(1)\n",
      "memory usage: 4.8+ MB\n"
     ]
    }
   ],
   "source": [
    "user_engagement_raw.info()"
   ]
  },
  {
   "cell_type": "code",
   "execution_count": 6,
   "metadata": {
    "scrolled": false
   },
   "outputs": [
    {
     "data": {
      "text/html": [
       "<div>\n",
       "<style scoped>\n",
       "    .dataframe tbody tr th:only-of-type {\n",
       "        vertical-align: middle;\n",
       "    }\n",
       "\n",
       "    .dataframe tbody tr th {\n",
       "        vertical-align: top;\n",
       "    }\n",
       "\n",
       "    .dataframe thead th {\n",
       "        text-align: right;\n",
       "    }\n",
       "</style>\n",
       "<table border=\"1\" class=\"dataframe\">\n",
       "  <thead>\n",
       "    <tr style=\"text-align: right;\">\n",
       "      <th></th>\n",
       "      <th>user_id</th>\n",
       "      <th>visited</th>\n",
       "    </tr>\n",
       "  </thead>\n",
       "  <tbody>\n",
       "    <tr>\n",
       "      <td>count</td>\n",
       "      <td>207917.000000</td>\n",
       "      <td>207917.0</td>\n",
       "    </tr>\n",
       "    <tr>\n",
       "      <td>mean</td>\n",
       "      <td>5913.314197</td>\n",
       "      <td>1.0</td>\n",
       "    </tr>\n",
       "    <tr>\n",
       "      <td>std</td>\n",
       "      <td>3394.941674</td>\n",
       "      <td>0.0</td>\n",
       "    </tr>\n",
       "    <tr>\n",
       "      <td>min</td>\n",
       "      <td>1.000000</td>\n",
       "      <td>1.0</td>\n",
       "    </tr>\n",
       "    <tr>\n",
       "      <td>25%</td>\n",
       "      <td>3087.000000</td>\n",
       "      <td>1.0</td>\n",
       "    </tr>\n",
       "    <tr>\n",
       "      <td>50%</td>\n",
       "      <td>5682.000000</td>\n",
       "      <td>1.0</td>\n",
       "    </tr>\n",
       "    <tr>\n",
       "      <td>75%</td>\n",
       "      <td>8944.000000</td>\n",
       "      <td>1.0</td>\n",
       "    </tr>\n",
       "    <tr>\n",
       "      <td>max</td>\n",
       "      <td>12000.000000</td>\n",
       "      <td>1.0</td>\n",
       "    </tr>\n",
       "  </tbody>\n",
       "</table>\n",
       "</div>"
      ],
      "text/plain": [
       "             user_id   visited\n",
       "count  207917.000000  207917.0\n",
       "mean     5913.314197       1.0\n",
       "std      3394.941674       0.0\n",
       "min         1.000000       1.0\n",
       "25%      3087.000000       1.0\n",
       "50%      5682.000000       1.0\n",
       "75%      8944.000000       1.0\n",
       "max     12000.000000       1.0"
      ]
     },
     "execution_count": 6,
     "metadata": {},
     "output_type": "execute_result"
    }
   ],
   "source": [
    "user_engagement_raw.describe()"
   ]
  },
  {
   "cell_type": "markdown",
   "metadata": {},
   "source": [
    "## Explore"
   ]
  },
  {
   "cell_type": "code",
   "execution_count": 7,
   "metadata": {},
   "outputs": [
    {
     "name": "stdout",
     "output_type": "stream",
     "text": [
      "There are 8823 unique users who visited\n",
      "The first visit by any users is on 2012-05-31 08:20:06\n",
      "The last visit by any users is on 2014-06-06 14:58:50\n"
     ]
    }
   ],
   "source": [
    "# Get some basic points of reference\n",
    "print('There are {} unique users who visited'.format(len(user_engagement_raw.user_id.unique())))\n",
    "print('The first visit by any users is on {}'.format(user_engagement_raw.time_stamp.min()))\n",
    "print('The last visit by any users is on {}'.format(user_engagement_raw.time_stamp.max()))"
   ]
  },
  {
   "cell_type": "code",
   "execution_count": 8,
   "metadata": {},
   "outputs": [
    {
     "data": {
      "image/png": "[encoded data removed]",
      "text/plain": [
       "<Figure size 500x500 with 1 Axes>"
      ]
     },
     "metadata": {
      "needs_background": "light"
     },
     "output_type": "display_data"
    }
   ],
   "source": [
    "# Look at the distribution of visits per user\n",
    "user_by_vists = user_engagement_raw.groupby('user_id')['visited'].sum()\n",
    "g = plt.figure(figsize=(5, 5), dpi=100)\n",
    "g = sns.distplot(user_by_vists)"
   ]
  },
  {
   "cell_type": "markdown",
   "metadata": {},
   "source": [
    "## Calculate adopted user"
   ]
  },
  {
   "cell_type": "markdown",
   "metadata": {},
   "source": [
    "My game plan is to:\n",
    "\n",
    "* Build a data frame lists the visits of each user\n",
    "* Loop through that data frame by user and calc whether the user was adopted (3 in 7 days)\n",
    "* Make sure to add back in all the users who never visited"
   ]
  },
  {
   "cell_type": "code",
   "execution_count": 9,
   "metadata": {},
   "outputs": [],
   "source": [
    "# Create new table\n",
    "user_adop_temp = user_engagement_raw.copy()\n",
    "user_adop_temp.drop(['visited'], axis=1, inplace=True)\n",
    "\n",
    "# Create a column with 'visit_no' to make the pivot a bit easier\n",
    "user_adop_temp['visit_order'] = user_adop_temp['time_stamp'].rank(method='dense') # Getting a numeric to rank within groupby\n",
    "user_adop_temp.sort_values(by='time_stamp')\n",
    "user_adop_temp['visit_no'] = user_adop_temp.groupby('user_id')['visit_order'].rank(method='dense')\n",
    "user_adop_temp.drop(['visit_order'], axis=1, inplace=True)\n",
    "\n",
    "# Creating a table of visit by user\n",
    "visit_by_user = user_adop_temp.pivot(index='visit_no', columns='user_id', values='time_stamp')"
   ]
  },
  {
   "cell_type": "code",
   "execution_count": 10,
   "metadata": {},
   "outputs": [
    {
     "data": {
      "text/html": [
       "<div>\n",
       "<style scoped>\n",
       "    .dataframe tbody tr th:only-of-type {\n",
       "        vertical-align: middle;\n",
       "    }\n",
       "\n",
       "    .dataframe tbody tr th {\n",
       "        vertical-align: top;\n",
       "    }\n",
       "\n",
       "    .dataframe thead th {\n",
       "        text-align: right;\n",
       "    }\n",
       "</style>\n",
       "<table border=\"1\" class=\"dataframe\">\n",
       "  <thead>\n",
       "    <tr style=\"text-align: right;\">\n",
       "      <th>user_id</th>\n",
       "      <th>1</th>\n",
       "      <th>2</th>\n",
       "      <th>3</th>\n",
       "      <th>4</th>\n",
       "      <th>5</th>\n",
       "      <th>6</th>\n",
       "      <th>7</th>\n",
       "      <th>10</th>\n",
       "      <th>11</th>\n",
       "      <th>13</th>\n",
       "      <th>...</th>\n",
       "      <th>11989</th>\n",
       "      <th>11990</th>\n",
       "      <th>11991</th>\n",
       "      <th>11992</th>\n",
       "      <th>11995</th>\n",
       "      <th>11996</th>\n",
       "      <th>11997</th>\n",
       "      <th>11998</th>\n",
       "      <th>11999</th>\n",
       "      <th>12000</th>\n",
       "    </tr>\n",
       "    <tr>\n",
       "      <th>visit_no</th>\n",
       "      <th></th>\n",
       "      <th></th>\n",
       "      <th></th>\n",
       "      <th></th>\n",
       "      <th></th>\n",
       "      <th></th>\n",
       "      <th></th>\n",
       "      <th></th>\n",
       "      <th></th>\n",
       "      <th></th>\n",
       "      <th></th>\n",
       "      <th></th>\n",
       "      <th></th>\n",
       "      <th></th>\n",
       "      <th></th>\n",
       "      <th></th>\n",
       "      <th></th>\n",
       "      <th></th>\n",
       "      <th></th>\n",
       "      <th></th>\n",
       "      <th></th>\n",
       "    </tr>\n",
       "  </thead>\n",
       "  <tbody>\n",
       "    <tr>\n",
       "      <td>1.0</td>\n",
       "      <td>2014-04-22 03:53:30</td>\n",
       "      <td>2013-11-15 03:45:04</td>\n",
       "      <td>2013-03-19 23:14:52</td>\n",
       "      <td>2013-05-22 08:09:28</td>\n",
       "      <td>2013-01-22 10:14:20</td>\n",
       "      <td>2013-12-19 03:37:06</td>\n",
       "      <td>2012-12-20 13:24:32</td>\n",
       "      <td>2013-01-16 22:08:03</td>\n",
       "      <td>2013-12-27 03:55:54</td>\n",
       "      <td>2014-03-30 16:19:38</td>\n",
       "      <td>...</td>\n",
       "      <td>2013-09-07 11:24:33</td>\n",
       "      <td>2013-07-06 21:00:48</td>\n",
       "      <td>2014-04-20 14:22:45</td>\n",
       "      <td>2014-04-11 19:39:56</td>\n",
       "      <td>2013-10-22 13:33:17</td>\n",
       "      <td>2013-09-06 06:14:15</td>\n",
       "      <td>2013-01-15 18:28:37</td>\n",
       "      <td>2014-04-27 12:45:16</td>\n",
       "      <td>2012-06-02 11:55:59</td>\n",
       "      <td>2014-01-26 08:57:12</td>\n",
       "    </tr>\n",
       "    <tr>\n",
       "      <td>2.0</td>\n",
       "      <td>NaN</td>\n",
       "      <td>2013-11-29 03:45:04</td>\n",
       "      <td>NaN</td>\n",
       "      <td>NaN</td>\n",
       "      <td>NaN</td>\n",
       "      <td>NaN</td>\n",
       "      <td>NaN</td>\n",
       "      <td>2013-01-22 22:08:03</td>\n",
       "      <td>NaN</td>\n",
       "      <td>NaN</td>\n",
       "      <td>...</td>\n",
       "      <td>NaN</td>\n",
       "      <td>NaN</td>\n",
       "      <td>2014-04-25 14:22:45</td>\n",
       "      <td>NaN</td>\n",
       "      <td>NaN</td>\n",
       "      <td>NaN</td>\n",
       "      <td>NaN</td>\n",
       "      <td>NaN</td>\n",
       "      <td>NaN</td>\n",
       "      <td>NaN</td>\n",
       "    </tr>\n",
       "    <tr>\n",
       "      <td>3.0</td>\n",
       "      <td>NaN</td>\n",
       "      <td>2013-12-09 03:45:04</td>\n",
       "      <td>NaN</td>\n",
       "      <td>NaN</td>\n",
       "      <td>NaN</td>\n",
       "      <td>NaN</td>\n",
       "      <td>NaN</td>\n",
       "      <td>2013-01-30 22:08:03</td>\n",
       "      <td>NaN</td>\n",
       "      <td>NaN</td>\n",
       "      <td>...</td>\n",
       "      <td>NaN</td>\n",
       "      <td>NaN</td>\n",
       "      <td>2014-04-28 14:22:45</td>\n",
       "      <td>NaN</td>\n",
       "      <td>NaN</td>\n",
       "      <td>NaN</td>\n",
       "      <td>NaN</td>\n",
       "      <td>NaN</td>\n",
       "      <td>NaN</td>\n",
       "      <td>NaN</td>\n",
       "    </tr>\n",
       "  </tbody>\n",
       "</table>\n",
       "<p>3 rows × 8823 columns</p>\n",
       "</div>"
      ],
      "text/plain": [
       "user_id                 1                    2                    3      \\\n",
       "visit_no                                                                  \n",
       "1.0       2014-04-22 03:53:30  2013-11-15 03:45:04  2013-03-19 23:14:52   \n",
       "2.0                       NaN  2013-11-29 03:45:04                  NaN   \n",
       "3.0                       NaN  2013-12-09 03:45:04                  NaN   \n",
       "\n",
       "user_id                 4                    5                    6      \\\n",
       "visit_no                                                                  \n",
       "1.0       2013-05-22 08:09:28  2013-01-22 10:14:20  2013-12-19 03:37:06   \n",
       "2.0                       NaN                  NaN                  NaN   \n",
       "3.0                       NaN                  NaN                  NaN   \n",
       "\n",
       "user_id                 7                    10                   11     \\\n",
       "visit_no                                                                  \n",
       "1.0       2012-12-20 13:24:32  2013-01-16 22:08:03  2013-12-27 03:55:54   \n",
       "2.0                       NaN  2013-01-22 22:08:03                  NaN   \n",
       "3.0                       NaN  2013-01-30 22:08:03                  NaN   \n",
       "\n",
       "user_id                 13     ...                11989                11990  \\\n",
       "visit_no                       ...                                             \n",
       "1.0       2014-03-30 16:19:38  ...  2013-09-07 11:24:33  2013-07-06 21:00:48   \n",
       "2.0                       NaN  ...                  NaN                  NaN   \n",
       "3.0                       NaN  ...                  NaN                  NaN   \n",
       "\n",
       "user_id                 11991                11992                11995  \\\n",
       "visit_no                                                                  \n",
       "1.0       2014-04-20 14:22:45  2014-04-11 19:39:56  2013-10-22 13:33:17   \n",
       "2.0       2014-04-25 14:22:45                  NaN                  NaN   \n",
       "3.0       2014-04-28 14:22:45                  NaN                  NaN   \n",
       "\n",
       "user_id                 11996                11997                11998  \\\n",
       "visit_no                                                                  \n",
       "1.0       2013-09-06 06:14:15  2013-01-15 18:28:37  2014-04-27 12:45:16   \n",
       "2.0                       NaN                  NaN                  NaN   \n",
       "3.0                       NaN                  NaN                  NaN   \n",
       "\n",
       "user_id                 11999                12000  \n",
       "visit_no                                            \n",
       "1.0       2012-06-02 11:55:59  2014-01-26 08:57:12  \n",
       "2.0                       NaN                  NaN  \n",
       "3.0                       NaN                  NaN  \n",
       "\n",
       "[3 rows x 8823 columns]"
      ]
     },
     "execution_count": 10,
     "metadata": {},
     "output_type": "execute_result"
    }
   ],
   "source": [
    "visit_by_user.head(3)"
   ]
  },
  {
   "cell_type": "code",
   "execution_count": 11,
   "metadata": {},
   "outputs": [],
   "source": [
    "# Set up some variables to be used in the loops\n",
    "visits_max = visit_by_user.shape[0]\n",
    "users_max = visit_by_user.shape[1]\n",
    "adop_window = datetime.timedelta(days=7)\n",
    "user_adop_ls = []\n",
    "\n",
    "# Loop thru the dataframe\n",
    "for user_no in range(users_max):\n",
    "    is_adopted = False\n",
    "    for visit_no in range(2, visits_max):\n",
    "        current_visit = visit_by_user.iloc[visit_no, user_no]\n",
    "        prior_visit = visit_by_user.iloc[(visit_no - 2), user_no]  \n",
    "        if pd.isnull(current_visit):\n",
    "            break\n",
    "        diff = (pd.to_datetime(current_visit) - pd.to_datetime(prior_visit))\n",
    "        if diff <= adop_window:\n",
    "            is_adopted = True\n",
    "            break\n",
    "    user_adop_ls.append(is_adopted)\n",
    "    \n",
    "# Created a dataframe of adopted users from the resulting lists\n",
    "adopted_user_partial = pd.DataFrame()\n",
    "adopted_user_partial['user_id'] = visit_by_user.columns.tolist()\n",
    "adopted_user_partial['adopted_user'] = user_adop_ls\n",
    "\n",
    "# Set 'user_id' as index\n",
    "adopted_user_partial = adopted_user_partial.set_index('user_id')"
   ]
  },
  {
   "cell_type": "code",
   "execution_count": 12,
   "metadata": {},
   "outputs": [],
   "source": [
    "# Add in users who have id, who never visited and who, accordingly, can't be aopted users\n",
    "# NOTE:  Use 'user_id' as index, not 0 based index\n",
    "\n",
    "# List user_id that are missing from the raw user engagement file \n",
    "temp_ls_user_adopted = adopted_user_partial.index.tolist()\n",
    "temp_ls_user_all = list(range(1, 12001))\n",
    "temp_ls_user_missing = list(set(temp_ls_user_all) - set(temp_ls_user_adopted))\n",
    "\n",
    "# Create a temp dataframe of missing user_id with false adopted values\n",
    "temp = pd.DataFrame()\n",
    "temp['user_id'] = temp_ls_user_missing\n",
    "temp['adopted_user'] = False\n",
    "temp = temp.set_index('user_id')\n",
    "\n",
    "# Append the temp dataframe to adopted_user and sort it\n",
    "adopted_user = adopted_user_partial.append(temp)\n",
    "adopted_user.sort_index(axis = 0, inplace=True)\n",
    "\n",
    "# Check:  Did I create any more adopted users?  I shouldn't have\n",
    "assert adopted_user_partial['adopted_user'].sum()== adopted_user['adopted_user'].sum()"
   ]
  },
  {
   "cell_type": "code",
   "execution_count": 13,
   "metadata": {
    "scrolled": true
   },
   "outputs": [
    {
     "name": "stdout",
     "output_type": "stream",
     "text": [
      "About 13.8% of all with user ID are adopted\n"
     ]
    }
   ],
   "source": [
    "print('About {}% of all with user ID are adopted'.format((adopted_user['adopted_user'].sum() / adopted_user.shape[0]) * 100) )"
   ]
  },
  {
   "cell_type": "code",
   "execution_count": 14,
   "metadata": {},
   "outputs": [
    {
     "data": {
      "text/plain": [
       "False    10344\n",
       "True      1656\n",
       "Name: adopted_user, dtype: int64"
      ]
     },
     "execution_count": 14,
     "metadata": {},
     "output_type": "execute_result"
    }
   ],
   "source": [
    "adopted_user['adopted_user'].value_counts()"
   ]
  },
  {
   "cell_type": "code",
   "execution_count": 15,
   "metadata": {},
   "outputs": [
    {
     "data": {
      "image/png": "[encoded data removed]",
      "text/plain": [
       "<Figure size 400x400 with 1 Axes>"
      ]
     },
     "metadata": {
      "needs_background": "light"
     },
     "output_type": "display_data"
    }
   ],
   "source": [
    "g = plt.figure(figsize=(4, 4), dpi=100)\n",
    "g = sns.countplot(y='adopted_user', data=adopted_user)"
   ]
  },
  {
   "cell_type": "markdown",
   "metadata": {},
   "source": [
    "# 2.  Examine predictive features"
   ]
  },
  {
   "cell_type": "markdown",
   "metadata": {},
   "source": [
    "## Load"
   ]
  },
  {
   "cell_type": "code",
   "execution_count": 16,
   "metadata": {},
   "outputs": [
    {
     "name": "stdout",
     "output_type": "stream",
     "text": [
      "{'encoding': 'ISO-8859-1', 'confidence': 0.73, 'language': ''}\n"
     ]
    }
   ],
   "source": [
    "# Determine unicode after getting UnicodeDecodeError assuming the default of  UTF-8\n",
    "with open('data_raw_takehome_users.csv', 'rb') as rawdata:\n",
    "    result = chardet.detect(rawdata.read(10000))\n",
    "print(result)"
   ]
  },
  {
   "cell_type": "code",
   "execution_count": 17,
   "metadata": {},
   "outputs": [],
   "source": [
    "# Read data\n",
    "user_raw = pd.read_csv('data_raw_takehome_users.csv', encoding='ISO-8859-1')"
   ]
  },
  {
   "cell_type": "markdown",
   "metadata": {},
   "source": [
    "## Assess"
   ]
  },
  {
   "cell_type": "code",
   "execution_count": 18,
   "metadata": {},
   "outputs": [
    {
     "data": {
      "text/plain": [
       "(12000, 10)"
      ]
     },
     "execution_count": 18,
     "metadata": {},
     "output_type": "execute_result"
    }
   ],
   "source": [
    "user_raw.shape"
   ]
  },
  {
   "cell_type": "code",
   "execution_count": 19,
   "metadata": {},
   "outputs": [
    {
     "data": {
      "text/html": [
       "<div>\n",
       "<style scoped>\n",
       "    .dataframe tbody tr th:only-of-type {\n",
       "        vertical-align: middle;\n",
       "    }\n",
       "\n",
       "    .dataframe tbody tr th {\n",
       "        vertical-align: top;\n",
       "    }\n",
       "\n",
       "    .dataframe thead th {\n",
       "        text-align: right;\n",
       "    }\n",
       "</style>\n",
       "<table border=\"1\" class=\"dataframe\">\n",
       "  <thead>\n",
       "    <tr style=\"text-align: right;\">\n",
       "      <th></th>\n",
       "      <th>object_id</th>\n",
       "      <th>creation_time</th>\n",
       "      <th>name</th>\n",
       "      <th>email</th>\n",
       "      <th>creation_source</th>\n",
       "      <th>last_session_creation_time</th>\n",
       "      <th>opted_in_to_mailing_list</th>\n",
       "      <th>enabled_for_marketing_drip</th>\n",
       "      <th>org_id</th>\n",
       "      <th>invited_by_user_id</th>\n",
       "    </tr>\n",
       "  </thead>\n",
       "  <tbody>\n",
       "    <tr>\n",
       "      <td>0</td>\n",
       "      <td>1</td>\n",
       "      <td>2014-04-22 03:53:30</td>\n",
       "      <td>Clausen August</td>\n",
       "      <td>AugustCClausen@yahoo.com</td>\n",
       "      <td>GUEST_INVITE</td>\n",
       "      <td>1.398139e+09</td>\n",
       "      <td>1</td>\n",
       "      <td>0</td>\n",
       "      <td>11</td>\n",
       "      <td>10803.0</td>\n",
       "    </tr>\n",
       "    <tr>\n",
       "      <td>1</td>\n",
       "      <td>2</td>\n",
       "      <td>2013-11-15 03:45:04</td>\n",
       "      <td>Poole Matthew</td>\n",
       "      <td>MatthewPoole@gustr.com</td>\n",
       "      <td>ORG_INVITE</td>\n",
       "      <td>1.396238e+09</td>\n",
       "      <td>0</td>\n",
       "      <td>0</td>\n",
       "      <td>1</td>\n",
       "      <td>316.0</td>\n",
       "    </tr>\n",
       "    <tr>\n",
       "      <td>2</td>\n",
       "      <td>3</td>\n",
       "      <td>2013-03-19 23:14:52</td>\n",
       "      <td>Bottrill Mitchell</td>\n",
       "      <td>MitchellBottrill@gustr.com</td>\n",
       "      <td>ORG_INVITE</td>\n",
       "      <td>1.363735e+09</td>\n",
       "      <td>0</td>\n",
       "      <td>0</td>\n",
       "      <td>94</td>\n",
       "      <td>1525.0</td>\n",
       "    </tr>\n",
       "    <tr>\n",
       "      <td>3</td>\n",
       "      <td>4</td>\n",
       "      <td>2013-05-21 08:09:28</td>\n",
       "      <td>Clausen Nicklas</td>\n",
       "      <td>NicklasSClausen@yahoo.com</td>\n",
       "      <td>GUEST_INVITE</td>\n",
       "      <td>1.369210e+09</td>\n",
       "      <td>0</td>\n",
       "      <td>0</td>\n",
       "      <td>1</td>\n",
       "      <td>5151.0</td>\n",
       "    </tr>\n",
       "    <tr>\n",
       "      <td>4</td>\n",
       "      <td>5</td>\n",
       "      <td>2013-01-17 10:14:20</td>\n",
       "      <td>Raw Grace</td>\n",
       "      <td>GraceRaw@yahoo.com</td>\n",
       "      <td>GUEST_INVITE</td>\n",
       "      <td>1.358850e+09</td>\n",
       "      <td>0</td>\n",
       "      <td>0</td>\n",
       "      <td>193</td>\n",
       "      <td>5240.0</td>\n",
       "    </tr>\n",
       "  </tbody>\n",
       "</table>\n",
       "</div>"
      ],
      "text/plain": [
       "   object_id        creation_time               name  \\\n",
       "0          1  2014-04-22 03:53:30     Clausen August   \n",
       "1          2  2013-11-15 03:45:04      Poole Matthew   \n",
       "2          3  2013-03-19 23:14:52  Bottrill Mitchell   \n",
       "3          4  2013-05-21 08:09:28    Clausen Nicklas   \n",
       "4          5  2013-01-17 10:14:20          Raw Grace   \n",
       "\n",
       "                        email creation_source  last_session_creation_time  \\\n",
       "0    AugustCClausen@yahoo.com    GUEST_INVITE                1.398139e+09   \n",
       "1      MatthewPoole@gustr.com      ORG_INVITE                1.396238e+09   \n",
       "2  MitchellBottrill@gustr.com      ORG_INVITE                1.363735e+09   \n",
       "3   NicklasSClausen@yahoo.com    GUEST_INVITE                1.369210e+09   \n",
       "4          GraceRaw@yahoo.com    GUEST_INVITE                1.358850e+09   \n",
       "\n",
       "   opted_in_to_mailing_list  enabled_for_marketing_drip  org_id  \\\n",
       "0                         1                           0      11   \n",
       "1                         0                           0       1   \n",
       "2                         0                           0      94   \n",
       "3                         0                           0       1   \n",
       "4                         0                           0     193   \n",
       "\n",
       "   invited_by_user_id  \n",
       "0             10803.0  \n",
       "1               316.0  \n",
       "2              1525.0  \n",
       "3              5151.0  \n",
       "4              5240.0  "
      ]
     },
     "execution_count": 19,
     "metadata": {},
     "output_type": "execute_result"
    }
   ],
   "source": [
    "user_raw.head(5)"
   ]
  },
  {
   "cell_type": "code",
   "execution_count": 20,
   "metadata": {},
   "outputs": [
    {
     "name": "stdout",
     "output_type": "stream",
     "text": [
      "<class 'pandas.core.frame.DataFrame'>\n",
      "RangeIndex: 12000 entries, 0 to 11999\n",
      "Data columns (total 10 columns):\n",
      "object_id                     12000 non-null int64\n",
      "creation_time                 12000 non-null object\n",
      "name                          12000 non-null object\n",
      "email                         12000 non-null object\n",
      "creation_source               12000 non-null object\n",
      "last_session_creation_time    8823 non-null float64\n",
      "opted_in_to_mailing_list      12000 non-null int64\n",
      "enabled_for_marketing_drip    12000 non-null int64\n",
      "org_id                        12000 non-null int64\n",
      "invited_by_user_id            6417 non-null float64\n",
      "dtypes: float64(2), int64(4), object(4)\n",
      "memory usage: 937.6+ KB\n"
     ]
    }
   ],
   "source": [
    "user_raw.info()"
   ]
  },
  {
   "cell_type": "markdown",
   "metadata": {},
   "source": [
    "## Explore"
   ]
  },
  {
   "cell_type": "code",
   "execution_count": 21,
   "metadata": {},
   "outputs": [
    {
     "data": {
      "text/plain": [
       "array(['GUEST_INVITE', 'ORG_INVITE', 'SIGNUP', 'PERSONAL_PROJECTS',\n",
       "       'SIGNUP_GOOGLE_AUTH'], dtype=object)"
      ]
     },
     "execution_count": 21,
     "metadata": {},
     "output_type": "execute_result"
    }
   ],
   "source": [
    "# Examine values for 'creation_source'\n",
    "user_raw['creation_source'].unique()"
   ]
  },
  {
   "cell_type": "code",
   "execution_count": 22,
   "metadata": {},
   "outputs": [
    {
     "data": {
      "text/plain": [
       "ORG_INVITE            4254\n",
       "GUEST_INVITE          2163\n",
       "PERSONAL_PROJECTS     2111\n",
       "SIGNUP                2087\n",
       "SIGNUP_GOOGLE_AUTH    1385\n",
       "Name: creation_source, dtype: int64"
      ]
     },
     "execution_count": 22,
     "metadata": {},
     "output_type": "execute_result"
    }
   ],
   "source": [
    "# Count values for 'creation_source'\n",
    "user_raw['creation_source'].value_counts() "
   ]
  },
  {
   "cell_type": "code",
   "execution_count": 23,
   "metadata": {},
   "outputs": [
    {
     "data": {
      "text/plain": [
       "org_id\n",
       "0      319\n",
       "1      233\n",
       "2      201\n",
       "3      168\n",
       "4      159\n",
       "      ... \n",
       "412     17\n",
       "413     16\n",
       "414     20\n",
       "415     16\n",
       "416      2\n",
       "Name: object_id, Length: 417, dtype: int64"
      ]
     },
     "execution_count": 23,
     "metadata": {},
     "output_type": "execute_result"
    }
   ],
   "source": [
    "# Count values for 'org_id'\n",
    "user_raw.groupby('org_id')['object_id'].nunique()"
   ]
  },
  {
   "cell_type": "code",
   "execution_count": 24,
   "metadata": {},
   "outputs": [
    {
     "name": "stdout",
     "output_type": "stream",
     "text": [
      "The percent of users invited is 53.474999999999994\n"
     ]
    }
   ],
   "source": [
    "# Calc percent of users who were invited\n",
    "temp = user_raw['invited_by_user_id'].notnull().sum() / len(user_raw['invited_by_user_id'])\n",
    "print('The percent of users invited is {}'.format(temp * 100))"
   ]
  },
  {
   "cell_type": "markdown",
   "metadata": {},
   "source": [
    "## Prepare"
   ]
  },
  {
   "cell_type": "markdown",
   "metadata": {},
   "source": [
    "Here, I clean up the user data and so some simple feature engineering."
   ]
  },
  {
   "cell_type": "code",
   "execution_count": 25,
   "metadata": {},
   "outputs": [],
   "source": [
    "user = user_raw.copy()"
   ]
  },
  {
   "cell_type": "code",
   "execution_count": 26,
   "metadata": {},
   "outputs": [],
   "source": [
    "# Rename to 'user_id'\n",
    "user = user.rename(columns={'object_id': 'user_id'})\n",
    "\n",
    "# Set 'user_id' as index\n",
    "user = user.set_index('user_id')"
   ]
  },
  {
   "cell_type": "code",
   "execution_count": 27,
   "metadata": {},
   "outputs": [],
   "source": [
    "# Turn 'creation_time' into 'months_since_creation'\n",
    "# Note:  Assume today's date is 7/1/2014, a few weeks after the last login\n",
    "user['creation_time'] = pd.to_datetime(user['creation_time'])\n",
    "NOW = pd.datetime(2014, 7, 1)\n",
    "user['months_since_creation'] = (NOW - user['creation_time']) / np.timedelta64(1,'M')\n",
    "\n",
    "# NOTE:  Drop original column of 'creation_time' after it's used in a later function"
   ]
  },
  {
   "cell_type": "code",
   "execution_count": 28,
   "metadata": {},
   "outputs": [],
   "source": [
    "# Dummy encode creation source and adding columns back into table\n",
    "# Note:  I will drop one category right before doing the logistic regression\n",
    "user['creation_source'] = user['creation_source'].str.lower() \n",
    "dummies = pd.get_dummies(user['creation_source'],prefix='source', drop_first=False)\n",
    "user = user.merge(dummies, left_index=True, right_index=True)\n",
    "\n",
    "# Drop original column of 'creation_time'\n",
    "user.drop(['creation_source'], axis=1, inplace=True)"
   ]
  },
  {
   "cell_type": "code",
   "execution_count": 29,
   "metadata": {},
   "outputs": [],
   "source": [
    "# Drop orignal colum of 'name'\n",
    "user.drop(['name'], axis=1, inplace=True)"
   ]
  },
  {
   "cell_type": "code",
   "execution_count": 30,
   "metadata": {},
   "outputs": [],
   "source": [
    "# Turn 'email' into 'top_level_domain_category' to indicate .com or .de\n",
    "\n",
    "# Extract top-level domain\n",
    "tld = user['email'].str.split('@').str[1].str.split('.').str[1]\n",
    "user['top_level_domain'] = tld \n",
    "\n",
    "# Categorize top-level domain\n",
    "def categorize_tld(value_top_level_domain):\n",
    "    tld_category = 0\n",
    "    if value_top_level_domain == 'de':\n",
    "        tld_category = 1\n",
    "    return tld_category\n",
    "\n",
    "# Create new column with the function\n",
    "user['top_level_domain_category'] = user.apply(lambda x: categorize_tld(x['top_level_domain']), axis=1)"
   ]
  },
  {
   "cell_type": "code",
   "execution_count": 31,
   "metadata": {},
   "outputs": [],
   "source": [
    "# Turn 'email' into 'second_level_domain_category' to indicate if sld is personal email provider (like gmail)\n",
    "\n",
    "# Extract second-level domain\n",
    "sld = user['email'].str.split('@').str[1].str.split('.').str[0]\n",
    "user['second_level_domain'] = sld\n",
    "\n",
    "# Categorize second-level domain\n",
    "def categorize_sld(value_second_level_domain):\n",
    "    major_personal_email_ls = ['gmail', 'yahoo', 'jourrapide', 'cuvox', 'gustr', 'hotmail']\n",
    "    sld_category = 0\n",
    "    if value_second_level_domain not in major_personal_email_ls:\n",
    "        sld_category = 1\n",
    "    return sld_category\n",
    "\n",
    "# Create new column with the function\n",
    "user['second_level_domain_category'] = user.apply(lambda x: categorize_sld(x['second_level_domain']), axis=1)\n",
    "\n",
    "# Drop orignal columns and temp columns\n",
    "user.drop(['email', 'top_level_domain', 'second_level_domain'], axis=1, inplace=True)"
   ]
  },
  {
   "cell_type": "code",
   "execution_count": 32,
   "metadata": {},
   "outputs": [],
   "source": [
    "# Turn 'last_session_creation_time' into 'months_since_last_session'\n",
    "\n",
    "# Convert last session from unix epoc time to datetime\n",
    "user['last_session_creation_time'] = pd.to_datetime(user['last_session_creation_time'], unit = \"s\") \n",
    "\n",
    "# Define function to calc months_since_last_sessoin\n",
    "def calc_mo_since_last_session(value_last_session_creation_time, value_creation_time):\n",
    "    NOW = pd.datetime(2014, 7, 1)\n",
    "    if pd.isnull(value_last_session_creation_time):\n",
    "        months_since_last_session = 100\n",
    "    else:\n",
    "        months_since_last_session = (NOW - value_last_session_creation_time) / np.timedelta64(1,'M')\n",
    "    return months_since_last_session\n",
    "\n",
    "# Create new column with the function\n",
    "user['months_since_last_session'] = user.apply(lambda x: calc_mo_since_last_session(x['last_session_creation_time'], \n",
    "                                                                 x['creation_time']), axis=1)\n",
    "# Drop original columns\n",
    "user.drop(['creation_time'], axis=1, inplace=True)\n",
    "user.drop(['last_session_creation_time'], axis=1, inplace=True)\n",
    "\n",
    "# NOTE:  How best to encode, User never accessed?  I will use a fixed value of 100"
   ]
  },
  {
   "cell_type": "code",
   "execution_count": 33,
   "metadata": {},
   "outputs": [],
   "source": [
    "# Convert 'org_id' into 'member_of_an_org'\n",
    "# Assumes org_id of 0 means no org and all other values are specific orgs\n",
    "\n",
    "# Define function to calc if member of an org\n",
    "def calc_member_of_org(value_org_id):\n",
    "    is_member = 1\n",
    "    if value_org_id == 0:\n",
    "        is_member = 0\n",
    "    return is_member\n",
    "\n",
    "# Create new column with the function\n",
    "user['member_of_an_org'] = user.apply(lambda x: calc_member_of_org(x['org_id']), axis=1)\n",
    "\n",
    "# Drop orignal column\n",
    "user.drop(['org_id'], axis=1, inplace=True)"
   ]
  },
  {
   "cell_type": "code",
   "execution_count": 34,
   "metadata": {},
   "outputs": [],
   "source": [
    "# Convert 'invited_by_user_id' into 'invited'\n",
    "\n",
    "# Define function to calc yes invited if there's invited_by_user_id\n",
    "def invited(value_of_invited_by_user_id):\n",
    "    is_invited = 1\n",
    "    if pd.isnull(value_of_invited_by_user_id):\n",
    "        is_invited = 0\n",
    "    return is_invited\n",
    "\n",
    "# Create new column with the function\n",
    "user['invited'] = user.apply(lambda x: invited(x['invited_by_user_id']), axis=1)\n",
    "\n",
    "# Drop orignal column \n",
    "user.drop(['invited_by_user_id'], axis=1, inplace=True)\n",
    "\n",
    "# Check \n",
    "assert user_raw['invited_by_user_id'].count() == user['invited'].sum()"
   ]
  },
  {
   "cell_type": "code",
   "execution_count": 35,
   "metadata": {},
   "outputs": [],
   "source": [
    "# Add a column of random 1's and 0's as a point of comparison\n",
    "user['random'] = np.random.randint(low=0, high=2, size=user.shape[0])"
   ]
  },
  {
   "cell_type": "markdown",
   "metadata": {},
   "source": [
    "## Further explore"
   ]
  },
  {
   "cell_type": "code",
   "execution_count": 36,
   "metadata": {},
   "outputs": [
    {
     "data": {
      "image/png": "[encoded data removed]",
      "text/plain": [
       "<Figure size 700x700 with 2 Axes>"
      ]
     },
     "metadata": {
      "needs_background": "light"
     },
     "output_type": "display_data"
    }
   ],
   "source": [
    "# Look at correlation between new features\n",
    "corr = user.corr()\n",
    "fig = plt.figure(figsize=(7, 7), dpi=100)\n",
    "ax = fig.add_subplot(111)\n",
    "cax = ax.matshow(corr,cmap='coolwarm', vmin=-1, vmax=1)\n",
    "fig.colorbar(cax)\n",
    "ticks = np.arange(0,len(user.columns),1)\n",
    "ax.set_xticks(ticks)\n",
    "plt.xticks(rotation=90)\n",
    "ax.set_yticks(ticks)\n",
    "ax.set_xticklabels(user.columns)\n",
    "ax.set_yticklabels(user.columns)\n",
    "plt.show()"
   ]
  },
  {
   "cell_type": "markdown",
   "metadata": {},
   "source": [
    "## Model adopted users with random forest"
   ]
  },
  {
   "cell_type": "code",
   "execution_count": 37,
   "metadata": {},
   "outputs": [],
   "source": [
    "# Assign\n",
    "y = adopted_user\n",
    "X = user"
   ]
  },
  {
   "cell_type": "code",
   "execution_count": 38,
   "metadata": {},
   "outputs": [],
   "source": [
    "# Split\n",
    "X_train, X_test, y_train, y_test = train_test_split(X, y, test_size=0.25, random_state=42)"
   ]
  },
  {
   "cell_type": "code",
   "execution_count": 39,
   "metadata": {},
   "outputs": [],
   "source": [
    "# Instantiate\n",
    "rf_baseline=RandomForestClassifier(n_estimators=100, oob_score = True)"
   ]
  },
  {
   "cell_type": "code",
   "execution_count": 40,
   "metadata": {},
   "outputs": [
    {
     "name": "stderr",
     "output_type": "stream",
     "text": [
      "/opt/anaconda3/lib/python3.7/site-packages/ipykernel_launcher.py:2: DataConversionWarning: A column-vector y was passed when a 1d array was expected. Please change the shape of y to (n_samples,), for example using ravel().\n",
      "  \n"
     ]
    },
    {
     "data": {
      "text/plain": [
       "RandomForestClassifier(oob_score=True)"
      ]
     },
     "execution_count": 40,
     "metadata": {},
     "output_type": "execute_result"
    }
   ],
   "source": [
    "# Fit\n",
    "rf_baseline.fit(X_train, y_train)"
   ]
  },
  {
   "cell_type": "code",
   "execution_count": 41,
   "metadata": {},
   "outputs": [
    {
     "data": {
      "text/plain": [
       "{'bootstrap': True,\n",
       " 'ccp_alpha': 0.0,\n",
       " 'class_weight': None,\n",
       " 'criterion': 'gini',\n",
       " 'max_depth': None,\n",
       " 'max_features': 'auto',\n",
       " 'max_leaf_nodes': None,\n",
       " 'max_samples': None,\n",
       " 'min_impurity_decrease': 0.0,\n",
       " 'min_impurity_split': None,\n",
       " 'min_samples_leaf': 1,\n",
       " 'min_samples_split': 2,\n",
       " 'min_weight_fraction_leaf': 0.0,\n",
       " 'n_estimators': 100,\n",
       " 'n_jobs': None,\n",
       " 'oob_score': True,\n",
       " 'random_state': None,\n",
       " 'verbose': 0,\n",
       " 'warm_start': False}"
      ]
     },
     "execution_count": 41,
     "metadata": {},
     "output_type": "execute_result"
    }
   ],
   "source": [
    "# Summarize\n",
    "rf_baseline.get_params()"
   ]
  },
  {
   "cell_type": "code",
   "execution_count": 42,
   "metadata": {},
   "outputs": [],
   "source": [
    "# Predict\n",
    "y_pred = rf_baseline.predict(X_test)"
   ]
  },
  {
   "cell_type": "code",
   "execution_count": 43,
   "metadata": {},
   "outputs": [
    {
     "name": "stdout",
     "output_type": "stream",
     "text": [
      "The accuracy score is 0.962\n",
      "The oob score 0.9628888888888889\n"
     ]
    }
   ],
   "source": [
    "# Score\n",
    "print('The accuracy score is {}'.format(metrics.accuracy_score(y_test, y_pred)))\n",
    "print('The oob score {}'.format(rf_baseline.oob_score_))"
   ]
  },
  {
   "cell_type": "code",
   "execution_count": 44,
   "metadata": {},
   "outputs": [
    {
     "name": "stdout",
     "output_type": "stream",
     "text": [
      "[[2555   25]\n",
      " [  89  331]]\n"
     ]
    }
   ],
   "source": [
    "# Exmaine confusion matrix\n",
    "print(metrics.confusion_matrix(y_test, y_pred))"
   ]
  },
  {
   "cell_type": "code",
   "execution_count": 45,
   "metadata": {},
   "outputs": [
    {
     "name": "stdout",
     "output_type": "stream",
     "text": [
      "              precision    recall  f1-score   support\n",
      "\n",
      "       False       0.97      0.99      0.98      2580\n",
      "        True       0.93      0.79      0.85       420\n",
      "\n",
      "    accuracy                           0.96      3000\n",
      "   macro avg       0.95      0.89      0.92      3000\n",
      "weighted avg       0.96      0.96      0.96      3000\n",
      "\n"
     ]
    }
   ],
   "source": [
    "# Examine precision, recall and F1\n",
    "print(classification_report(y_test, y_pred))"
   ]
  },
  {
   "cell_type": "code",
   "execution_count": 46,
   "metadata": {},
   "outputs": [
    {
     "name": "stderr",
     "output_type": "stream",
     "text": [
      "No handles with labels found to put in legend.\n"
     ]
    },
    {
     "data": {
      "image/png": "[encoded data removed]",
      "text/plain": [
       "<Figure size 500x500 with 1 Axes>"
      ]
     },
     "metadata": {
      "needs_background": "light"
     },
     "output_type": "display_data"
    }
   ],
   "source": [
    "# Visualize feature importance\n",
    "feature_imp = pd.Series(rf_baseline.feature_importances_,index=user.columns.tolist()).sort_values(ascending=False)\n",
    "g = plt.figure(figsize=(5, 5), dpi=100)\n",
    "g = sns.barplot(x=feature_imp, y=feature_imp.index)\n",
    "g = plt.xlabel('Feature Importance')\n",
    "g = plt.ylabel('Feature')\n",
    "g = plt.title(\"Bar plot of features by importance\")\n",
    "g = plt.legend()"
   ]
  },
  {
   "cell_type": "code",
   "execution_count": 47,
   "metadata": {},
   "outputs": [],
   "source": [
    "# Create summary table\n",
    "rf_coeff = pd.DataFrame()\n",
    "rf_coeff['features'] = X_train.columns\n",
    "rf_coeff['rf_importance'] = rf_baseline.feature_importances_.round(4)\n",
    "rf_coeff['rf_rank'] = rf_coeff['rf_importance'].rank(method='dense', ascending=False).astype('int32')\n",
    "\n",
    "# Call out the magnitude of the feature's importance to the rf model\n",
    "def calc_rf_magnitude(value_rf_importance):\n",
    "    if value_rf_importance >= 0.25:\n",
    "        size = 'high'\n",
    "    elif value_rf_importance > .003 and value_rf_importance < 0.25:\n",
    "        size = 'med'\n",
    "    else:\n",
    "        size = 'low'\n",
    "    return size\n",
    "\n",
    "# Create new column with the function\n",
    "rf_coeff['rf_magnitude'] = rf_coeff.apply(lambda x: calc_rf_magnitude(x['rf_importance']), axis=1)\n",
    "\n",
    "# rf_coeff.sort_values(by='rf_coeff', ascending=True)"
   ]
  },
  {
   "cell_type": "markdown",
   "metadata": {},
   "source": [
    "## Model adopted users with logistic regression"
   ]
  },
  {
   "cell_type": "markdown",
   "metadata": {},
   "source": [
    "### Further prep"
   ]
  },
  {
   "cell_type": "code",
   "execution_count": 48,
   "metadata": {},
   "outputs": [],
   "source": [
    "# Scale two columns\n",
    "user_scaled_temp = user.copy()\n",
    "user_scaled_col = ['months_since_creation', 'months_since_last_session']\n",
    "user_scaled_features = user_scaled_temp[user_scaled_col]\n",
    "scaler = StandardScaler().fit(user_scaled_features.values)\n",
    "user_scaled_features = scaler.transform(user_scaled_features.values)\n",
    "user_scaled_temp[user_scaled_col] = user_scaled_features\n",
    "user_scaled_2 = pd.DataFrame(data=user_scaled_temp, columns=user.columns.tolist(), index=user.index.values)"
   ]
  },
  {
   "cell_type": "code",
   "execution_count": 49,
   "metadata": {},
   "outputs": [],
   "source": [
    "# Drop most common 'source' dummy variable (i.e, 'org_invite') for logistic regresson\n",
    "user_scaled_2.drop(['source_org_invite'], axis=1, inplace=True)"
   ]
  },
  {
   "cell_type": "markdown",
   "metadata": {},
   "source": [
    "### Model"
   ]
  },
  {
   "cell_type": "code",
   "execution_count": 50,
   "metadata": {},
   "outputs": [],
   "source": [
    "# Assign\n",
    "y = adopted_user\n",
    "X = user_scaled_2"
   ]
  },
  {
   "cell_type": "code",
   "execution_count": 51,
   "metadata": {},
   "outputs": [],
   "source": [
    "# Split\n",
    "X_train, X_test, y_train, y_test = train_test_split(X, y, test_size=0.25, random_state=42)"
   ]
  },
  {
   "cell_type": "code",
   "execution_count": 52,
   "metadata": {},
   "outputs": [],
   "source": [
    "# Instantiate\n",
    "logit = LogisticRegression(fit_intercept = False)"
   ]
  },
  {
   "cell_type": "code",
   "execution_count": 53,
   "metadata": {},
   "outputs": [
    {
     "name": "stderr",
     "output_type": "stream",
     "text": [
      "/opt/anaconda3/lib/python3.7/site-packages/sklearn/utils/validation.py:73: DataConversionWarning: A column-vector y was passed when a 1d array was expected. Please change the shape of y to (n_samples, ), for example using ravel().\n",
      "  return f(**kwargs)\n"
     ]
    },
    {
     "data": {
      "text/plain": [
       "LogisticRegression(fit_intercept=False)"
      ]
     },
     "execution_count": 53,
     "metadata": {},
     "output_type": "execute_result"
    }
   ],
   "source": [
    "# Fit\n",
    "logit.fit(X_train, y_train)"
   ]
  },
  {
   "cell_type": "code",
   "execution_count": 54,
   "metadata": {},
   "outputs": [
    {
     "data": {
      "text/plain": [
       "{'C': 1.0,\n",
       " 'class_weight': None,\n",
       " 'dual': False,\n",
       " 'fit_intercept': False,\n",
       " 'intercept_scaling': 1,\n",
       " 'l1_ratio': None,\n",
       " 'max_iter': 100,\n",
       " 'multi_class': 'auto',\n",
       " 'n_jobs': None,\n",
       " 'penalty': 'l2',\n",
       " 'random_state': None,\n",
       " 'solver': 'lbfgs',\n",
       " 'tol': 0.0001,\n",
       " 'verbose': 0,\n",
       " 'warm_start': False}"
      ]
     },
     "execution_count": 54,
     "metadata": {},
     "output_type": "execute_result"
    }
   ],
   "source": [
    "# Summarize\n",
    "logit.get_params()"
   ]
  },
  {
   "cell_type": "code",
   "execution_count": 55,
   "metadata": {},
   "outputs": [],
   "source": [
    "# Predict \n",
    "y_pred = logit.predict(X_test)"
   ]
  },
  {
   "cell_type": "code",
   "execution_count": 56,
   "metadata": {},
   "outputs": [
    {
     "name": "stdout",
     "output_type": "stream",
     "text": [
      "The accuracy score is 0.9473333333333334\n"
     ]
    }
   ],
   "source": [
    "# Score\n",
    "print('The accuracy score is {}'.format(metrics.accuracy_score(y_test, y_pred)))"
   ]
  },
  {
   "cell_type": "code",
   "execution_count": 57,
   "metadata": {},
   "outputs": [
    {
     "name": "stdout",
     "output_type": "stream",
     "text": [
      "[[2580    0]\n",
      " [ 158  262]]\n"
     ]
    }
   ],
   "source": [
    "# Examine confusion matrix\n",
    "print(metrics.confusion_matrix(y_test, y_pred))"
   ]
  },
  {
   "cell_type": "code",
   "execution_count": 58,
   "metadata": {},
   "outputs": [
    {
     "name": "stdout",
     "output_type": "stream",
     "text": [
      "              precision    recall  f1-score   support\n",
      "\n",
      "       False       0.94      1.00      0.97      2580\n",
      "        True       1.00      0.62      0.77       420\n",
      "\n",
      "    accuracy                           0.95      3000\n",
      "   macro avg       0.97      0.81      0.87      3000\n",
      "weighted avg       0.95      0.95      0.94      3000\n",
      "\n"
     ]
    }
   ],
   "source": [
    "# Examine precision, recall and F1\n",
    "print(classification_report(y_test, y_pred))"
   ]
  },
  {
   "cell_type": "code",
   "execution_count": 59,
   "metadata": {},
   "outputs": [],
   "source": [
    "# Create summary table\n",
    "logit_coeff = pd.DataFrame()\n",
    "logit_coeff['features'] = X_train.columns\n",
    "logit_coeff['logit_coeff'] = logit.coef_[0].round(3)\n",
    "logit_coeff['logit_coeff_abs'] = pd.Series(logit.coef_[0]).abs().round(3)\n",
    "logit_coeff['logit_rank'] = logit_coeff['logit_coeff_abs'].rank(method='dense', ascending=False).astype('int32')\n",
    "\n",
    "# Call out the direction of the change in the logit coefficient\n",
    "def calc_logit_direction(value_logit_coeff):\n",
    "    direction = 'positive' \n",
    "    if value_logit_coeff < 0:\n",
    "        direction = 'negative'\n",
    "    return direction\n",
    "\n",
    "# Create new column with the function\n",
    "logit_coeff['logit_direction'] = logit_coeff.apply(lambda x: calc_logit_direction(x['logit_coeff']), axis=1)\n",
    "\n",
    "# Call out the magnitude of logit coefficient\n",
    "def calc_logit_magnitude(logit_coeff_abs):\n",
    "    if logit_coeff_abs >= 5:\n",
    "        size = 'high'\n",
    "    elif logit_coeff_abs > 1 and logit_coeff_abs < 5:\n",
    "        size = 'med'\n",
    "    else:\n",
    "        size = 'low'\n",
    "    return size\n",
    "\n",
    "# Create new column with the function\n",
    "logit_coeff['logit_magnitude'] = logit_coeff.apply(lambda x: calc_logit_magnitude(x['logit_coeff_abs']), axis=1)\n",
    "\n",
    "# Drop temp colum\n",
    "logit_coeff.drop(['logit_coeff_abs'], axis=1, inplace=True)"
   ]
  },
  {
   "cell_type": "code",
   "execution_count": 60,
   "metadata": {},
   "outputs": [
    {
     "data": {
      "text/html": [
       "<div>\n",
       "<style scoped>\n",
       "    .dataframe tbody tr th:only-of-type {\n",
       "        vertical-align: middle;\n",
       "    }\n",
       "\n",
       "    .dataframe tbody tr th {\n",
       "        vertical-align: top;\n",
       "    }\n",
       "\n",
       "    .dataframe thead th {\n",
       "        text-align: right;\n",
       "    }\n",
       "</style>\n",
       "<table border=\"1\" class=\"dataframe\">\n",
       "  <thead>\n",
       "    <tr style=\"text-align: right;\">\n",
       "      <th></th>\n",
       "      <th>features</th>\n",
       "      <th>rf_importance</th>\n",
       "      <th>rf_rank</th>\n",
       "      <th>rf_magnitude</th>\n",
       "      <th>logit_coeff</th>\n",
       "      <th>logit_rank</th>\n",
       "      <th>logit_direction</th>\n",
       "      <th>logit_magnitude</th>\n",
       "    </tr>\n",
       "  </thead>\n",
       "  <tbody>\n",
       "    <tr>\n",
       "      <td>10</td>\n",
       "      <td>months_since_last_session</td>\n",
       "      <td>0.6901</td>\n",
       "      <td>1</td>\n",
       "      <td>high</td>\n",
       "      <td>-16.971</td>\n",
       "      <td>1.0</td>\n",
       "      <td>negative</td>\n",
       "      <td>high</td>\n",
       "    </tr>\n",
       "    <tr>\n",
       "      <td>2</td>\n",
       "      <td>months_since_creation</td>\n",
       "      <td>0.2744</td>\n",
       "      <td>2</td>\n",
       "      <td>high</td>\n",
       "      <td>2.777</td>\n",
       "      <td>6.0</td>\n",
       "      <td>positive</td>\n",
       "      <td>med</td>\n",
       "    </tr>\n",
       "    <tr>\n",
       "      <td>13</td>\n",
       "      <td>random</td>\n",
       "      <td>0.0064</td>\n",
       "      <td>3</td>\n",
       "      <td>med</td>\n",
       "      <td>-0.122</td>\n",
       "      <td>9.0</td>\n",
       "      <td>negative</td>\n",
       "      <td>low</td>\n",
       "    </tr>\n",
       "    <tr>\n",
       "      <td>0</td>\n",
       "      <td>opted_in_to_mailing_list</td>\n",
       "      <td>0.0047</td>\n",
       "      <td>4</td>\n",
       "      <td>med</td>\n",
       "      <td>-0.041</td>\n",
       "      <td>10.0</td>\n",
       "      <td>negative</td>\n",
       "      <td>low</td>\n",
       "    </tr>\n",
       "    <tr>\n",
       "      <td>1</td>\n",
       "      <td>enabled_for_marketing_drip</td>\n",
       "      <td>0.0047</td>\n",
       "      <td>4</td>\n",
       "      <td>med</td>\n",
       "      <td>-0.011</td>\n",
       "      <td>13.0</td>\n",
       "      <td>negative</td>\n",
       "      <td>low</td>\n",
       "    </tr>\n",
       "    <tr>\n",
       "      <td>9</td>\n",
       "      <td>second_level_domain_category</td>\n",
       "      <td>0.0035</td>\n",
       "      <td>5</td>\n",
       "      <td>med</td>\n",
       "      <td>-0.027</td>\n",
       "      <td>12.0</td>\n",
       "      <td>negative</td>\n",
       "      <td>low</td>\n",
       "    </tr>\n",
       "    <tr>\n",
       "      <td>5</td>\n",
       "      <td>source_personal_projects</td>\n",
       "      <td>0.0034</td>\n",
       "      <td>6</td>\n",
       "      <td>med</td>\n",
       "      <td>-10.014</td>\n",
       "      <td>5.0</td>\n",
       "      <td>negative</td>\n",
       "      <td>high</td>\n",
       "    </tr>\n",
       "    <tr>\n",
       "      <td>8</td>\n",
       "      <td>top_level_domain_category</td>\n",
       "      <td>0.0030</td>\n",
       "      <td>7</td>\n",
       "      <td>low</td>\n",
       "      <td>-0.040</td>\n",
       "      <td>11.0</td>\n",
       "      <td>negative</td>\n",
       "      <td>low</td>\n",
       "    </tr>\n",
       "    <tr>\n",
       "      <td>11</td>\n",
       "      <td>member_of_an_org</td>\n",
       "      <td>0.0020</td>\n",
       "      <td>8</td>\n",
       "      <td>low</td>\n",
       "      <td>-1.307</td>\n",
       "      <td>7.0</td>\n",
       "      <td>negative</td>\n",
       "      <td>med</td>\n",
       "    </tr>\n",
       "    <tr>\n",
       "      <td>3</td>\n",
       "      <td>source_guest_invite</td>\n",
       "      <td>0.0019</td>\n",
       "      <td>9</td>\n",
       "      <td>low</td>\n",
       "      <td>0.209</td>\n",
       "      <td>8.0</td>\n",
       "      <td>positive</td>\n",
       "      <td>low</td>\n",
       "    </tr>\n",
       "    <tr>\n",
       "      <td>4</td>\n",
       "      <td>source_org_invite</td>\n",
       "      <td>0.0016</td>\n",
       "      <td>10</td>\n",
       "      <td>low</td>\n",
       "      <td>NaN</td>\n",
       "      <td>NaN</td>\n",
       "      <td>NaN</td>\n",
       "      <td>NaN</td>\n",
       "    </tr>\n",
       "    <tr>\n",
       "      <td>6</td>\n",
       "      <td>source_signup</td>\n",
       "      <td>0.0015</td>\n",
       "      <td>11</td>\n",
       "      <td>low</td>\n",
       "      <td>-10.423</td>\n",
       "      <td>2.0</td>\n",
       "      <td>negative</td>\n",
       "      <td>high</td>\n",
       "    </tr>\n",
       "    <tr>\n",
       "      <td>7</td>\n",
       "      <td>source_signup_google_auth</td>\n",
       "      <td>0.0015</td>\n",
       "      <td>11</td>\n",
       "      <td>low</td>\n",
       "      <td>-10.391</td>\n",
       "      <td>3.0</td>\n",
       "      <td>negative</td>\n",
       "      <td>high</td>\n",
       "    </tr>\n",
       "    <tr>\n",
       "      <td>12</td>\n",
       "      <td>invited</td>\n",
       "      <td>0.0013</td>\n",
       "      <td>12</td>\n",
       "      <td>low</td>\n",
       "      <td>-10.379</td>\n",
       "      <td>4.0</td>\n",
       "      <td>negative</td>\n",
       "      <td>high</td>\n",
       "    </tr>\n",
       "  </tbody>\n",
       "</table>\n",
       "</div>"
      ],
      "text/plain": [
       "                        features  rf_importance  rf_rank rf_magnitude  \\\n",
       "10     months_since_last_session         0.6901        1         high   \n",
       "2          months_since_creation         0.2744        2         high   \n",
       "13                        random         0.0064        3          med   \n",
       "0       opted_in_to_mailing_list         0.0047        4          med   \n",
       "1     enabled_for_marketing_drip         0.0047        4          med   \n",
       "9   second_level_domain_category         0.0035        5          med   \n",
       "5       source_personal_projects         0.0034        6          med   \n",
       "8      top_level_domain_category         0.0030        7          low   \n",
       "11              member_of_an_org         0.0020        8          low   \n",
       "3            source_guest_invite         0.0019        9          low   \n",
       "4              source_org_invite         0.0016       10          low   \n",
       "6                  source_signup         0.0015       11          low   \n",
       "7      source_signup_google_auth         0.0015       11          low   \n",
       "12                       invited         0.0013       12          low   \n",
       "\n",
       "    logit_coeff  logit_rank logit_direction logit_magnitude  \n",
       "10      -16.971         1.0        negative            high  \n",
       "2         2.777         6.0        positive             med  \n",
       "13       -0.122         9.0        negative             low  \n",
       "0        -0.041        10.0        negative             low  \n",
       "1        -0.011        13.0        negative             low  \n",
       "9        -0.027        12.0        negative             low  \n",
       "5       -10.014         5.0        negative            high  \n",
       "8        -0.040        11.0        negative             low  \n",
       "11       -1.307         7.0        negative             med  \n",
       "3         0.209         8.0        positive             low  \n",
       "4           NaN         NaN             NaN             NaN  \n",
       "6       -10.423         2.0        negative            high  \n",
       "7       -10.391         3.0        negative            high  \n",
       "12      -10.379         4.0        negative            high  "
      ]
     },
     "execution_count": 60,
     "metadata": {},
     "output_type": "execute_result"
    }
   ],
   "source": [
    "# Combine rf and logit summaries into single table\n",
    "final_coeff = pd.merge(rf_coeff, logit_coeff, on='features', how='outer')\n",
    "final_coeff.sort_values(by='rf_rank')"
   ]
  },
  {
   "cell_type": "code",
   "execution_count": null,
   "metadata": {},
   "outputs": [],
   "source": []
  }
 ],
 "metadata": {
  "kernelspec": {
   "display_name": "Python 3",
   "language": "python",
   "name": "python3"
  },
  "language_info": {
   "codemirror_mode": {
    "name": "ipython",
    "version": 3
   },
   "file_extension": ".py",
   "mimetype": "text/x-python",
   "name": "python",
   "nbconvert_exporter": "python",
   "pygments_lexer": "ipython3",
   "version": "3.7.4"
  }
 },
 "nbformat": 4,
 "nbformat_minor": 2
}
