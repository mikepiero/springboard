{
 "cells": [
  {
   "cell_type": "markdown",
   "metadata": {},
   "source": [
    "# Mini project 8.1.3:  Part 1a"
   ]
  },
  {
   "cell_type": "markdown",
   "metadata": {},
   "source": [
    "# Inferential Statistics:  Frequentism"
   ]
  },
  {
   "cell_type": "markdown",
   "metadata": {},
   "source": [
    "## Step:  Set up"
   ]
  },
  {
   "cell_type": "code",
   "execution_count": 1,
   "metadata": {},
   "outputs": [],
   "source": [
    "from scipy.stats import norm\n",
    "from scipy.stats import t\n",
    "import numpy as np\n",
    "import pandas as pd\n",
    "from numpy.random import seed\n",
    "import matplotlib.pyplot as plt"
   ]
  },
  {
   "cell_type": "markdown",
   "metadata": {},
   "source": [
    "## Part I:  Sampling from the normal distribution"
   ]
  },
  {
   "cell_type": "markdown",
   "metadata": {},
   "source": [
    "**Q:** Call up the documentation for the norm function imported above. What is the second listed method?"
   ]
  },
  {
   "cell_type": "markdown",
   "metadata": {},
   "source": [
    "* The docs are located at:  https://docs.scipy.org/doc/scipy/reference/generated/scipy.stats.norm.html\n",
    "* The second listed method is the probability density function"
   ]
  },
  {
   "cell_type": "markdown",
   "metadata": {},
   "source": [
    "__Q:__ Use the method that generates random variates to draw five samples from the standard normal distribution."
   ]
  },
  {
   "cell_type": "code",
   "execution_count": 2,
   "metadata": {},
   "outputs": [
    {
     "name": "stdout",
     "output_type": "stream",
     "text": [
      "Here are some samples:  [-0.84800948  1.30590636  0.92420797  0.6404118  -1.05473698]\n"
     ]
    }
   ],
   "source": [
    "# Draw five samples\n",
    "seed(47)\n",
    "samples = norm.rvs(size=5)\n",
    "print('Here are some samples:  {}'.format(samples))"
   ]
  },
  {
   "cell_type": "markdown",
   "metadata": {},
   "source": [
    "__Q:__ What is the mean of this sample? Is it exactly equal to the value you expected? Hint: the sample was drawn from the standard normal distribution."
   ]
  },
  {
   "cell_type": "code",
   "execution_count": 3,
   "metadata": {},
   "outputs": [
    {
     "name": "stdout",
     "output_type": "stream",
     "text": [
      "The mean is 0.19355593334131074\n"
     ]
    }
   ],
   "source": [
    "# Calc mean\n",
    "sample_mean = np.mean(samples)\n",
    "print('The mean is {}'.format(sample_mean))"
   ]
  },
  {
   "cell_type": "markdown",
   "metadata": {},
   "source": [
    "Takeaways:\n",
    "\n",
    "* Sure, that's close to what is expected.  \n",
    "* The sample mean is close to the populations means, which is 0\n",
    "* The sample mean is within 1 standard devision of the population mean, which is more likely than not."
   ]
  },
  {
   "cell_type": "markdown",
   "metadata": {},
   "source": [
    "__Q:__ What is the standard deviation of these numbers?"
   ]
  },
  {
   "cell_type": "code",
   "execution_count": 4,
   "metadata": {},
   "outputs": [
    {
     "name": "stdout",
     "output_type": "stream",
     "text": [
      "The standard deviation of the sample is 0.9606195639478641\n"
     ]
    }
   ],
   "source": [
    "# Calc the standard deviation by hand\n",
    "std = np.sqrt((np.sum((samples - sample_mean)**2))/len(samples))\n",
    "print('The standard deviation of the sample is {}'.format(std))"
   ]
  },
  {
   "cell_type": "markdown",
   "metadata": {},
   "source": [
    "__Q:__ If all we had to go on was our five samples, what would be our best estimate of the population standard deviation? Use Bessel's correction ($n-1$ in the denominator)."
   ]
  },
  {
   "cell_type": "code",
   "execution_count": 5,
   "metadata": {},
   "outputs": [
    {
     "name": "stdout",
     "output_type": "stream",
     "text": [
      "The standard deviation of the population is 1.0740053227518152\n"
     ]
    }
   ],
   "source": [
    "# Use the sample to estimate the population mean\n",
    "# That is, correct using n-1 otherwise you overestimate\n",
    "std_pop = np.sqrt((np.sum((samples - sample_mean)**2))/(len(samples)-1))\n",
    "print('The standard deviation of the population is {}'.format(std_pop))"
   ]
  },
  {
   "cell_type": "markdown",
   "metadata": {},
   "source": [
    "__Q:__ Now use numpy's std function to calculate the standard deviation of our random samples. Which of the above standard deviations did it return?"
   ]
  },
  {
   "cell_type": "code",
   "execution_count": 6,
   "metadata": {},
   "outputs": [
    {
     "name": "stdout",
     "output_type": "stream",
     "text": [
      "The standard deviation calc from numpy is 0.9606195639478641\n",
      "\n",
      "Nuympy's standard deviation calc for a population from a sample is 1.0740053227518152\n"
     ]
    }
   ],
   "source": [
    "# Compare to numpy's calc\n",
    "print('The standard deviation calc from numpy is {}'.format(np.std(samples)))\n",
    "print()\n",
    "print(\"Nuympy's standard deviation calc for a population from a sample is {}\".format(np.std(samples, ddof=1)))"
   ]
  },
  {
   "cell_type": "markdown",
   "metadata": {},
   "source": [
    "Takeaways:\n",
    "    \n",
    "* Numpy does a straight calculation of standard devisions\n",
    "* Here's the docs:  https://docs.scipy.org/doc/numpy/reference/generated/numpy.std.html\n",
    "* To account for the fact you're workign with a sample, you use the parapmeter, ddof=1\n",
    "* There are two terms\n",
    "    * sample standard deviation:  Aka, using n-1, a calc of the population parameter.\n",
    "    * standard deviation of the sample:  Aka, using n"
   ]
  },
  {
   "cell_type": "markdown",
   "metadata": {},
   "source": [
    "## Part II:  Sampling distributions"
   ]
  },
  {
   "cell_type": "code",
   "execution_count": 7,
   "metadata": {},
   "outputs": [],
   "source": [
    "seed(47)\n",
    "pop_heights = norm.rvs(172, 5, size=50000)"
   ]
  },
  {
   "cell_type": "code",
   "execution_count": 8,
   "metadata": {},
   "outputs": [
    {
     "data": {
      "image/png": "[encoded data removed]",
      "text/plain": [
       "<Figure size 432x288 with 1 Axes>"
      ]
     },
     "metadata": {
      "needs_background": "light"
     },
     "output_type": "display_data"
    }
   ],
   "source": [
    "_ = plt.hist(pop_heights, bins=30)\n",
    "_ = plt.xlabel('height (cm)')\n",
    "_ = plt.ylabel('number of people')\n",
    "_ = plt.title('Distribution of heights in entire town population')\n",
    "_ = plt.axvline(172, color='r')\n",
    "_ = plt.axvline(172+5, color='r', linestyle='--')\n",
    "_ = plt.axvline(172-5, color='r', linestyle='--')\n",
    "_ = plt.axvline(172+10, color='r', linestyle='-.')\n",
    "_ = plt.axvline(172-10, color='r', linestyle='-.')"
   ]
  },
  {
   "cell_type": "code",
   "execution_count": 9,
   "metadata": {},
   "outputs": [],
   "source": [
    "def townsfolk_sampler(n):\n",
    "    return np.random.choice(pop_heights, n)"
   ]
  },
  {
   "cell_type": "markdown",
   "metadata": {},
   "source": [
    "__Q:__ Simulate performing this random trial every day for a year, calculating the mean of each daily sample of 10, and plot the resultant sampling distribution of the mean."
   ]
  },
  {
   "cell_type": "code",
   "execution_count": 10,
   "metadata": {},
   "outputs": [
    {
     "data": {
      "image/png": "[encoded data removed]",
      "text/plain": [
       "<Figure size 432x288 with 1 Axes>"
      ]
     },
     "metadata": {
      "needs_background": "light"
     },
     "output_type": "display_data"
    }
   ],
   "source": [
    "# Collect 365 samples\n",
    "seed(47)\n",
    "daily_sample_mean = []\n",
    "for i in range(365):\n",
    "    daily_sample = townsfolk_sampler(10)\n",
    "    daily_sample_mean.append(np.mean(daily_sample))\n",
    "daily_sample_mean = np.asarray(daily_sample_mean)\n",
    "\n",
    "# Graph them\n",
    "_ = plt.hist(daily_sample_mean, bins=20)\n",
    "_ = plt.xlabel('Height (cm)')\n",
    "_ = plt.ylabel('Number of people')\n",
    "_ = plt.title('Distribution of heights in sample size 365')"
   ]
  },
  {
   "cell_type": "markdown",
   "metadata": {},
   "source": [
    "__Q:__ Verify the following results from the CLT.  The above is the distribution of the means of samples of size 10 taken from our population. The Central Limit Theorem tells us the expected mean of this distribution will be equal to the population mean, and standard deviation will be  𝜎/𝑛⎯⎯√ , which, in this case, should be approximately 1.58."
   ]
  },
  {
   "cell_type": "code",
   "execution_count": 11,
   "metadata": {},
   "outputs": [
    {
     "name": "stdout",
     "output_type": "stream",
     "text": [
      "The means of the population is 172\n",
      "The mean of my samples is 171.8660049358649\n",
      "The standard deviation of the population is 5\n",
      "The sample standard deviation is 1.5756704135286475\n",
      "The expected value for standard deviation of samples (aka, sigma / root n) is 1.5811388300841895\n"
     ]
    }
   ],
   "source": [
    "print('The means of the population is 172')\n",
    "print('The mean of my samples is {}'.format(daily_sample_mean.mean()))\n",
    "print('The standard deviation of the population is 5')\n",
    "print('The sample standard deviation is {}'.format(daily_sample_mean.std()))\n",
    "print('The expected value for standard deviation of samples (aka, sigma / root n) is {}'.format(5/(10**.5)))"
   ]
  },
  {
   "cell_type": "markdown",
   "metadata": {},
   "source": [
    "__Q:__ Repeat the above year's worth of samples but for a sample size of 50"
   ]
  },
  {
   "cell_type": "code",
   "execution_count": 12,
   "metadata": {},
   "outputs": [
    {
     "name": "stdout",
     "output_type": "stream",
     "text": [
      "The mean of my samples is 171.94366080916114\n",
      "The sample standard deviation is 0.6736107539771146\n"
     ]
    },
    {
     "data": {
      "image/png": "[encoded data removed]",
      "text/plain": [
       "<Figure size 432x288 with 1 Axes>"
      ]
     },
     "metadata": {
      "needs_background": "light"
     },
     "output_type": "display_data"
    }
   ],
   "source": [
    "# Calculate daily means from the larger sample size here\n",
    "# Collect 365 samples\n",
    "size = 50\n",
    "seed(47)\n",
    "daily_sample_mean = []\n",
    "for i in range(365):\n",
    "    daily_sample = townsfolk_sampler(size)\n",
    "    daily_sample_mean.append(np.mean(daily_sample))\n",
    "daily_sample_mean = np.asarray(daily_sample_mean)\n",
    "\n",
    "# Graph them\n",
    "_ = plt.hist(daily_sample_mean, bins=20)\n",
    "_ = plt.xlabel('Height (cm)')\n",
    "_ = plt.ylabel('Number of people')\n",
    "_ = plt.title('Distribution of heights in sample size 365')\n",
    "\n",
    "\n",
    "# Give calcs\n",
    "print('The mean of my samples is {}'.format(daily_sample_mean.mean()))\n",
    "print('The sample standard deviation is {}'.format(daily_sample_mean.std()))"
   ]
  },
  {
   "cell_type": "markdown",
   "metadata": {},
   "source": [
    "__Q:__ Would you expect your distribution of sample means to be wider (more variable) or narrower (more consistent)? Compare your resultant summary statistics to those predicted by the CLT."
   ]
  },
  {
   "cell_type": "markdown",
   "metadata": {},
   "source": [
    "Takeaways:\n",
    "    \n",
    "* I would expect the same number of larger samples to be narrower (aka, truer to the population mean)\n",
    "* I would expect the estimated parameters to be closer to the true population parameter\n",
    "* And they are!"
   ]
  },
  {
   "cell_type": "markdown",
   "metadata": {},
   "source": [
    "## Part III:  Normally testing times!"
   ]
  },
  {
   "cell_type": "markdown",
   "metadata": {},
   "source": [
    "__Q:__ Using this fact, calculate the probability of observing the value 1 or less in a single observation from the standard normal distribution. Hint: you may find it helpful to sketch the standard normal distribution (the familiar bell shape) and mark the number of standard deviations from the mean on the x-axis and shade the regions of the curve that contain certain percentages of the population."
   ]
  },
  {
   "cell_type": "markdown",
   "metadata": {},
   "source": [
    "The basic rule of thumb is 65-95-99.7.  That is,\n",
    "\n",
    "* The probability of an observation being \n",
    "* within 1, 2 and 3 standard deviations from the mean\n",
    "* on a normal distribution is \n",
    "* 68.27%, 95.45% and 99.73%"
   ]
  },
  {
   "cell_type": "markdown",
   "metadata": {},
   "source": [
    "Here, we're asking what's the probability of observing the value of 1 or less.\n",
    "\n",
    "* There's 68.27% in the main body.  \n",
    "* And 31.73% in the upper and lower tails, combined\n",
    "* And 15.864 in each tail\n",
    "* Here, we're asking about the probability of everything that's not in the upper tail (aka, greater than 1), which is:\n",
    "* 84.135"
   ]
  },
  {
   "cell_type": "code",
   "execution_count": 13,
   "metadata": {},
   "outputs": [
    {
     "data": {
      "image/png": "[encoded data removed]",
      "text/plain": [
       "<Figure size 432x288 with 1 Axes>"
      ]
     },
     "metadata": {
      "needs_background": "light"
     },
     "output_type": "display_data"
    }
   ],
   "source": [
    "# Show this visually\n",
    "seed(47)\n",
    "pop = norm.rvs(0, 1, size=1000000)\n",
    "_ = plt.hist(pop, bins=100)\n",
    "_ = plt.xlabel('value (cm)')\n",
    "_ = plt.ylabel('number of observations')\n",
    "_ = plt.title('Distribution of standard normal values')\n",
    "_ = plt.axvline(1, color='r', linestyle='--')\n",
    "_ = plt.axvline(-1, color='r', linestyle='--')"
   ]
  },
  {
   "cell_type": "markdown",
   "metadata": {},
   "source": [
    "__Q:__ Use the cdf() function to answer the question above again and verify you get the same answer."
   ]
  },
  {
   "cell_type": "code",
   "execution_count": 14,
   "metadata": {},
   "outputs": [
    {
     "name": "stdout",
     "output_type": "stream",
     "text": [
      "The probability of getting a 1 or less in a standard normal distro is 0.8413447460685429\n"
     ]
    }
   ],
   "source": [
    "# Calc using scipy's norm.cdf()\n",
    "print('The probability of getting a 1 or less in a standard normal distro is {}'.format(norm.cdf(1)))"
   ]
  },
  {
   "cell_type": "markdown",
   "metadata": {},
   "source": [
    "__Q:__ Using our knowledge of the population parameters for our townsfolk's heights, what is the probability of selecting one person at random and their height being 177 cm or less? Calculate this using both of the approaches given above."
   ]
  },
  {
   "cell_type": "code",
   "execution_count": 15,
   "metadata": {},
   "outputs": [
    {
     "data": {
      "image/png": "[encoded data removed]",
      "text/plain": [
       "<Figure size 432x288 with 1 Axes>"
      ]
     },
     "metadata": {
      "needs_background": "light"
     },
     "output_type": "display_data"
    }
   ],
   "source": [
    "# Approach 1:  Visual inspection\n",
    "_ = plt.hist(pop_heights, bins=30)\n",
    "_ = plt.xlabel('height (cm)')\n",
    "_ = plt.ylabel('number of people')\n",
    "_ = plt.title('Distribution of heights in entire town population')\n",
    "_ = plt.axvline(172, color='r')\n",
    "_ = plt.axvline(172+5, color='r', linestyle='--')\n",
    "_ = plt.axvline(172-5, color='r', linestyle='--')\n",
    "_ = plt.axvline(172+10, color='r', linestyle='-.')\n",
    "_ = plt.axvline(172-10, color='r', linestyle='-.')\n",
    "_ = plt.axvline(172+15, color='r', linestyle='-.')\n",
    "_ = plt.axvline(172-15, color='r', linestyle='-.')"
   ]
  },
  {
   "cell_type": "markdown",
   "metadata": {},
   "source": [
    "Takeaway:\n",
    "    \n",
    "* 177 is at 1 standard deviation (aka, 172 + 5)\n",
    "* Aka, same answer as above"
   ]
  },
  {
   "cell_type": "code",
   "execution_count": 16,
   "metadata": {},
   "outputs": [
    {
     "name": "stdout",
     "output_type": "stream",
     "text": [
      "0.8413447460685429\n"
     ]
    }
   ],
   "source": [
    "# Approach 2:  Calc via cdf\n",
    "prob = norm.cdf(x=177, loc=172, scale=5)\n",
    "print(prob)"
   ]
  },
  {
   "cell_type": "markdown",
   "metadata": {},
   "source": [
    "__Q:__ Turning this question around. Let's say we randomly pick one person and measure their height and find they are 2.00 m tall? How surprised should we be at this result, given what we know about the population distribution? In other words, how likely would it be to obtain a value at least as extreme as this? Express this as a probability."
   ]
  },
  {
   "cell_type": "markdown",
   "metadata": {},
   "source": [
    "Via visual inspection, it's clear than 200 is very much an outlier.  Aka, it's more than 3 standard devisions from the mean.  It's very unlikely."
   ]
  },
  {
   "cell_type": "code",
   "execution_count": 17,
   "metadata": {},
   "outputs": [
    {
     "name": "stdout",
     "output_type": "stream",
     "text": [
      "0.9999999892824097\n"
     ]
    }
   ],
   "source": [
    "# Approach 1:  Calc via cdf\n",
    "prob = norm.cdf(x=200, loc=172, scale=5)\n",
    "print(prob)"
   ]
  },
  {
   "cell_type": "markdown",
   "metadata": {},
   "source": [
    "__Q:__ Let's now start from the position of knowing nothing about the heights of people in our town.\n",
    "* Use our favorite random seed of 47, to randomly sample the heights of 50 townsfolk\n",
    "* Estimate the population mean using np.mean\n",
    "* Estimate the population standard deviation using np.std (remember which denominator to use!)\n",
    "* Calculate the (95%) [margin of error](https://www.statisticshowto.datasciencecentral.com/probability-and-statistics/hypothesis-testing/margin-of-error/#WhatMofE) (use the exact critial z value to 2 decimal places - [look this up](https://www.statisticshowto.datasciencecentral.com/probability-and-statistics/find-critical-values/) or use norm.ppf())\n",
    "* Calculate the 95% Confidence Interval of the mean\n",
    "* Does this interval include the true population mean?"
   ]
  },
  {
   "cell_type": "code",
   "execution_count": 18,
   "metadata": {},
   "outputs": [
    {
     "name": "stdout",
     "output_type": "stream",
     "text": [
      "The pop mean estimated from this sample is 172.7815108576788\n",
      "The pop std estimated from this sample is 4.195424364433547\n"
     ]
    }
   ],
   "source": [
    "seed(47)\n",
    "# take your sample now\n",
    "sample3_size = 50\n",
    "sample3 = townsfolk_sampler(sample3_size)\n",
    "sample3_mean = np.mean(sample3)\n",
    "sample3_std = np.std(sample3, ddof=1)\n",
    "print('The pop mean estimated from this sample is {}'.format(sample3_mean))\n",
    "print('The pop std estimated from this sample is {}'.format(sample3_std))"
   ]
  },
  {
   "cell_type": "code",
   "execution_count": 23,
   "metadata": {},
   "outputs": [
    {
     "name": "stdout",
     "output_type": "stream",
     "text": [
      "The margin of error is 0.14715511542988677\n"
     ]
    }
   ],
   "source": [
    "# Conduct a two tailed test at 95% with 2.5% in each tail\n",
    "crit_value = norm.pdf(.975)\n",
    "standard_error = sample3_std / np.sqrt(sample3_size)\n",
    "margin_of_error = crit_value * standard_error\n",
    "print('The margin of error is {}'.format(margin_of_error))"
   ]
  },
  {
   "cell_type": "code",
   "execution_count": 20,
   "metadata": {},
   "outputs": [
    {
     "name": "stdout",
     "output_type": "stream",
     "text": [
      "The lower limit of the confidence interval is 172.6343557422489\n",
      "The upper limit of the confidence interval is 172.92866597310868\n"
     ]
    }
   ],
   "source": [
    "ci_lower = sample3_mean - margin_of_error\n",
    "ci_upper = sample3_mean + margin_of_error\n",
    "print('The lower limit of the confidence interval is {}'.format(ci_lower))\n",
    "print('The upper limit of the confidence interval is {}'.format(ci_upper))"
   ]
  },
  {
   "cell_type": "markdown",
   "metadata": {},
   "source": [
    "Takeaways:\n",
    "\n",
    "* Yes, this interval does include the population parameters"
   ]
  },
  {
   "cell_type": "markdown",
   "metadata": {},
   "source": [
    "__Q:__ Above we calculated the confidence interval using the critical z value. What is the problem with this? What requirement, or requirements, are we (strictly) failing?"
   ]
  },
  {
   "cell_type": "markdown",
   "metadata": {},
   "source": [
    "When the standard deviation of the population isn't know, we should use a t-test."
   ]
  },
  {
   "cell_type": "markdown",
   "metadata": {},
   "source": [
    "__Q:__ Calculate the 95% confidence interval for the mean using the _t_ distribution. Is this wider or narrower than that based on the normal distribution above? If you're unsure, you may find this [resource](https://www.statisticshowto.datasciencecentral.com/probability-and-statistics/confidence-interval/) useful. For calculating the critical value, remember how you could calculate this for the normal distribution using norm.ppf()."
   ]
  },
  {
   "cell_type": "code",
   "execution_count": 21,
   "metadata": {},
   "outputs": [
    {
     "name": "stdout",
     "output_type": "stream",
     "text": [
      "The 95% margin of error is 1.1923264102757953\n"
     ]
    }
   ],
   "source": [
    "crit_value2 = t.ppf(0.975, size-1)\n",
    "margin_of_error2 = crit_value2 * standard_error\n",
    "print('The 95% margin of error is {}'.format(margin_of_error2))"
   ]
  },
  {
   "cell_type": "code",
   "execution_count": 22,
   "metadata": {},
   "outputs": [
    {
     "name": "stdout",
     "output_type": "stream",
     "text": [
      "The lower limit of the confidence interval is 171.589184447403\n",
      "The upper limit of the confidence interval is 173.9738372679546\n"
     ]
    }
   ],
   "source": [
    "ci_lower2 = sample3_mean - margin_of_error2\n",
    "ci_upper2 = sample3_mean + margin_of_error2\n",
    "print('The lower limit of the confidence interval is {}'.format(ci_lower2))\n",
    "print('The upper limit of the confidence interval is {}'.format(ci_upper2))"
   ]
  },
  {
   "cell_type": "markdown",
   "metadata": {},
   "source": [
    "Takeaways:\n",
    "\n",
    "* Yes, this interval does include the population parameters"
   ]
  }
 ],
 "metadata": {
  "kernelspec": {
   "display_name": "Python 3",
   "language": "python",
   "name": "python3"
  },
  "language_info": {
   "codemirror_mode": {
    "name": "ipython",
    "version": 3
   },
   "file_extension": ".py",
   "mimetype": "text/x-python",
   "name": "python",
   "nbconvert_exporter": "python",
   "pygments_lexer": "ipython3",
   "version": "3.7.4"
  }
 },
 "nbformat": 4,
 "nbformat_minor": 2
}
