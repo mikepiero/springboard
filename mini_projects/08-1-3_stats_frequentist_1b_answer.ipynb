{
 "cells": [
  {
   "cell_type": "markdown",
   "metadata": {},
   "source": [
    "# Mini project 8.1.3:  Part 1b"
   ]
  },
  {
   "cell_type": "markdown",
   "metadata": {},
   "source": [
    "# Inferential Statistics:  Frequentism"
   ]
  },
  {
   "cell_type": "markdown",
   "metadata": {},
   "source": [
    "### Step:  Set up"
   ]
  },
  {
   "cell_type": "code",
   "execution_count": 1,
   "metadata": {},
   "outputs": [],
   "source": [
    "# Load modules\n",
    "import pandas as pd\n",
    "import numpy as np\n",
    "import matplotlib.pyplot as plt\n",
    "from scipy.stats import t, ttest_ind_from_stats\n",
    "from numpy.random import seed\n",
    "import seaborn as sns"
   ]
  },
  {
   "cell_type": "code",
   "execution_count": 2,
   "metadata": {},
   "outputs": [],
   "source": [
    "# Set up some defaults\n",
    "sns.set()\n",
    "sns.set_style({'axes.grid' : False})"
   ]
  },
  {
   "cell_type": "markdown",
   "metadata": {},
   "source": [
    "### Step:  Collect data"
   ]
  },
  {
   "cell_type": "code",
   "execution_count": 3,
   "metadata": {},
   "outputs": [],
   "source": [
    "medical = pd.read_csv('data/insurance2.csv')"
   ]
  },
  {
   "cell_type": "markdown",
   "metadata": {},
   "source": [
    "### Step:  Assess data"
   ]
  },
  {
   "cell_type": "code",
   "execution_count": 4,
   "metadata": {},
   "outputs": [
    {
     "data": {
      "text/plain": [
       "(1338, 8)"
      ]
     },
     "execution_count": 4,
     "metadata": {},
     "output_type": "execute_result"
    }
   ],
   "source": [
    "medical.shape"
   ]
  },
  {
   "cell_type": "code",
   "execution_count": 5,
   "metadata": {},
   "outputs": [
    {
     "data": {
      "text/plain": [
       "Index(['age', 'sex', 'bmi', 'children', 'smoker', 'region', 'charges',\n",
       "       'insuranceclaim'],\n",
       "      dtype='object')"
      ]
     },
     "execution_count": 5,
     "metadata": {},
     "output_type": "execute_result"
    }
   ],
   "source": [
    "medical.columns"
   ]
  },
  {
   "cell_type": "code",
   "execution_count": 6,
   "metadata": {},
   "outputs": [
    {
     "data": {
      "text/html": [
       "<div>\n",
       "<style scoped>\n",
       "    .dataframe tbody tr th:only-of-type {\n",
       "        vertical-align: middle;\n",
       "    }\n",
       "\n",
       "    .dataframe tbody tr th {\n",
       "        vertical-align: top;\n",
       "    }\n",
       "\n",
       "    .dataframe thead th {\n",
       "        text-align: right;\n",
       "    }\n",
       "</style>\n",
       "<table border=\"1\" class=\"dataframe\">\n",
       "  <thead>\n",
       "    <tr style=\"text-align: right;\">\n",
       "      <th></th>\n",
       "      <th>age</th>\n",
       "      <th>sex</th>\n",
       "      <th>bmi</th>\n",
       "      <th>children</th>\n",
       "      <th>smoker</th>\n",
       "      <th>region</th>\n",
       "      <th>charges</th>\n",
       "      <th>insuranceclaim</th>\n",
       "    </tr>\n",
       "  </thead>\n",
       "  <tbody>\n",
       "    <tr>\n",
       "      <td>0</td>\n",
       "      <td>19</td>\n",
       "      <td>0</td>\n",
       "      <td>27.900</td>\n",
       "      <td>0</td>\n",
       "      <td>1</td>\n",
       "      <td>3</td>\n",
       "      <td>16884.92400</td>\n",
       "      <td>1</td>\n",
       "    </tr>\n",
       "    <tr>\n",
       "      <td>1</td>\n",
       "      <td>18</td>\n",
       "      <td>1</td>\n",
       "      <td>33.770</td>\n",
       "      <td>1</td>\n",
       "      <td>0</td>\n",
       "      <td>2</td>\n",
       "      <td>1725.55230</td>\n",
       "      <td>1</td>\n",
       "    </tr>\n",
       "    <tr>\n",
       "      <td>2</td>\n",
       "      <td>28</td>\n",
       "      <td>1</td>\n",
       "      <td>33.000</td>\n",
       "      <td>3</td>\n",
       "      <td>0</td>\n",
       "      <td>2</td>\n",
       "      <td>4449.46200</td>\n",
       "      <td>0</td>\n",
       "    </tr>\n",
       "    <tr>\n",
       "      <td>3</td>\n",
       "      <td>33</td>\n",
       "      <td>1</td>\n",
       "      <td>22.705</td>\n",
       "      <td>0</td>\n",
       "      <td>0</td>\n",
       "      <td>1</td>\n",
       "      <td>21984.47061</td>\n",
       "      <td>0</td>\n",
       "    </tr>\n",
       "    <tr>\n",
       "      <td>4</td>\n",
       "      <td>32</td>\n",
       "      <td>1</td>\n",
       "      <td>28.880</td>\n",
       "      <td>0</td>\n",
       "      <td>0</td>\n",
       "      <td>1</td>\n",
       "      <td>3866.85520</td>\n",
       "      <td>1</td>\n",
       "    </tr>\n",
       "  </tbody>\n",
       "</table>\n",
       "</div>"
      ],
      "text/plain": [
       "   age  sex     bmi  children  smoker  region      charges  insuranceclaim\n",
       "0   19    0  27.900         0       1       3  16884.92400               1\n",
       "1   18    1  33.770         1       0       2   1725.55230               1\n",
       "2   28    1  33.000         3       0       2   4449.46200               0\n",
       "3   33    1  22.705         0       0       1  21984.47061               0\n",
       "4   32    1  28.880         0       0       1   3866.85520               1"
      ]
     },
     "execution_count": 6,
     "metadata": {},
     "output_type": "execute_result"
    }
   ],
   "source": [
    "medical.head()"
   ]
  },
  {
   "cell_type": "markdown",
   "metadata": {},
   "source": [
    "### Step:  Explore data"
   ]
  },
  {
   "cell_type": "markdown",
   "metadata": {},
   "source": [
    "__Q:__ Plot the histogram of charges."
   ]
  },
  {
   "cell_type": "code",
   "execution_count": 7,
   "metadata": {},
   "outputs": [
    {
     "data": {
      "image/png": "[encoded data removed]",
      "text/plain": [
       "<Figure size 432x288 with 1 Axes>"
      ]
     },
     "metadata": {},
     "output_type": "display_data"
    }
   ],
   "source": [
    "_ = plt.hist(medical.charges, bins=50)\n",
    "_ = plt.xlabel(\"Charge\")\n",
    "_ = plt.ylabel(\"Count\")\n",
    "_ = plt.title(\"Distribution of charges\")"
   ]
  },
  {
   "cell_type": "markdown",
   "metadata": {},
   "source": [
    "__Q:__ Calculate the mean and standard deviation."
   ]
  },
  {
   "cell_type": "code",
   "execution_count": 8,
   "metadata": {},
   "outputs": [
    {
     "name": "stdout",
     "output_type": "stream",
     "text": [
      "The sample mean is 13270.422265141257\n",
      "The standard deviation of the sample (aka, with n) 12105.484975561605\n",
      "The sample standard deviation (aka, with n-1) is 12110.011236693994\n",
      "The count is 1338\n"
     ]
    }
   ],
   "source": [
    "sample_mean = np.mean(medical.charges)\n",
    "print('The sample mean is {}'.format(sample_mean))\n",
    "sample_std = np.std(medical.charges)\n",
    "print('The standard deviation of the sample (aka, with n) {}'.format(sample_std))\n",
    "sample_std_pop = np.std(medical.charges, ddof=1)\n",
    "print('The sample standard deviation (aka, with n-1) is {}'.format(sample_std_pop))\n",
    "sample_count =  medical.charges.count()\n",
    "print('The count is {}'.format(sample_count))"
   ]
  },
  {
   "cell_type": "code",
   "execution_count": 18,
   "metadata": {},
   "outputs": [
    {
     "data": {
      "text/plain": [
       "count     1338.000000\n",
       "mean     13270.422265\n",
       "std      12110.011237\n",
       "min       1121.873900\n",
       "25%       4740.287150\n",
       "50%       9382.033000\n",
       "75%      16639.912515\n",
       "max      63770.428010\n",
       "Name: charges, dtype: float64"
      ]
     },
     "execution_count": 18,
     "metadata": {},
     "output_type": "execute_result"
    }
   ],
   "source": [
    "# Compare to describe()\n",
    "medical.charges.describe()"
   ]
  },
  {
   "cell_type": "markdown",
   "metadata": {},
   "source": [
    "__Q:__ Comment on the appropriateness of these statistics for the data."
   ]
  },
  {
   "cell_type": "markdown",
   "metadata": {},
   "source": [
    "Takeaways:\n",
    "\n",
    "* This data seems appropriate.\n",
    "* I'm not sure if 1,300 medical bills is the population or just a sample\n",
    "* I assume it's just a sample.\n",
    "* I assume it's a random sample.\n",
    "* But the sample, most certainly, isn't normally distributed.\n",
    "* And there might be some outliers above 50,000 dollars."
   ]
  },
  {
   "cell_type": "markdown",
   "metadata": {},
   "source": [
    "__Q:__ The administrator is concerned that the actual average charge has fallen below 12000, threatening the hospital's operational model. On the assumption that these data represent a random sample of charges, how would you justify that these data allow you to answer that question? And what would be the most appropriate frequentist test, of the ones discussed so far, to apply?"
   ]
  },
  {
   "cell_type": "markdown",
   "metadata": {},
   "source": [
    "* The sample mean is above 12,000.\n",
    "* This data could speak to the population if:\n",
    "    * the sample was random (yes)\n",
    "    * the sample was large enough (yes)\n",
    "    * the sampled events are independent (most likely))\n",
    "* A valid test would be to construct a confidence interval"
   ]
  },
  {
   "cell_type": "markdown",
   "metadata": {},
   "source": [
    "__Q:__ Given the nature of the administrator's concern, what is the appropriate confidence interval in this case? A one-sided or two-sided interval?"
   ]
  },
  {
   "cell_type": "markdown",
   "metadata": {},
   "source": [
    "* The question is about values that are less than a given value.  \n",
    "* This is a one-sided test\n",
    "* A t-stat is appropriate"
   ]
  },
  {
   "cell_type": "markdown",
   "metadata": {},
   "source": [
    "__Q:__ Calculate the critical value"
   ]
  },
  {
   "cell_type": "code",
   "execution_count": 10,
   "metadata": {},
   "outputs": [
    {
     "name": "stdout",
     "output_type": "stream",
     "text": [
      "The critical value is -1.6459941145571324\n"
     ]
    }
   ],
   "source": [
    "p = 0.05\n",
    "size = medical.charges.count()\n",
    "df = size - 1\n",
    "crit_value = t.ppf(p, df)\n",
    "print('The critical value is {}'.format(crit_value))"
   ]
  },
  {
   "cell_type": "markdown",
   "metadata": {},
   "source": [
    "__Q:__  Calculate the relevant 95% confidence interval for the mean"
   ]
  },
  {
   "cell_type": "code",
   "execution_count": 11,
   "metadata": {},
   "outputs": [
    {
     "name": "stdout",
     "output_type": "stream",
     "text": [
      "The margin of error is: -544.9350813250253\n"
     ]
    }
   ],
   "source": [
    "# Note:  I'm using the n-1\n",
    "standard_error = sample_std_pop / np.sqrt(size)\n",
    "margin_of_error = crit_value * standard_error\n",
    "print('The margin of error is: {}'.format(margin_of_error))"
   ]
  },
  {
   "cell_type": "code",
   "execution_count": 12,
   "metadata": {},
   "outputs": [
    {
     "name": "stdout",
     "output_type": "stream",
     "text": [
      "The lower limit of the confidence interval is 13815.357346466282\n",
      "The upper limit of the confidence interval is 12725.48718381623\n",
      "Our calculated value is 13270.422265141257\n"
     ]
    }
   ],
   "source": [
    "ci_lower = sample_mean - margin_of_error\n",
    "ci_upper = sample_mean + margin_of_error\n",
    "print('The lower limit of the confidence interval is {}'.format(ci_lower))\n",
    "print('The upper limit of the confidence interval is {}'.format(ci_upper))\n",
    "print('Our calculated value is {}'.format(sample_mean))"
   ]
  },
  {
   "cell_type": "markdown",
   "metadata": {},
   "source": [
    "__Q:__  Comment on whether the administrator should be concerned?"
   ]
  },
  {
   "cell_type": "markdown",
   "metadata": {},
   "source": [
    "* The sample mean is not below the target value of 12,000\n",
    "* The sample mean is within the 95% confidence interval"
   ]
  },
  {
   "cell_type": "markdown",
   "metadata": {},
   "source": [
    "__Q:__ State the null and alternative hypothesis here."
   ]
  },
  {
   "cell_type": "markdown",
   "metadata": {},
   "source": [
    "The hypothesis is:\n",
    "    \n",
    "* H0: The mean of the sample with insurance is the same as the mean of the sample without insurance (aka, there is no difference)\n",
    "* H1: The mean of the sample with insurance is NOT the same as the mean of the sample without insurance (aka, there is a difference)\n",
    "\n",
    "Also, we're:\n",
    "\n",
    "* using t-test\n",
    "* assuming that the sample and pop have similar variances"
   ]
  },
  {
   "cell_type": "markdown",
   "metadata": {},
   "source": [
    "__Q:__ Perform this hypothesis test both manually"
   ]
  },
  {
   "cell_type": "code",
   "execution_count": 13,
   "metadata": {},
   "outputs": [],
   "source": [
    "# Separate insured from un-insured\n",
    "sample_ins_y = medical[medical.insuranceclaim == 1]\n",
    "sample_ins_n = medical[medical.insuranceclaim != 1]"
   ]
  },
  {
   "cell_type": "code",
   "execution_count": 19,
   "metadata": {},
   "outputs": [
    {
     "name": "stdout",
     "output_type": "stream",
     "text": [
      "For yes insurance, the sample mean is 16423.928276537663\n",
      "For yes insurance, the sample standard deviation (aka, with n-1) is 14045.928418802127\n",
      "For yes insurance, the count is 783\n",
      "\n",
      "For no insurance, the sample mean is 8821.421892306294\n",
      "For no insurance, the sample standard deviation (aka, with n-1) is 6446.510126811736\n",
      "For yes insurance, the count is 555\n"
     ]
    }
   ],
   "source": [
    "# Calc mean, standard deviation and count for each\n",
    "\n",
    "sample_ins_y_mean = np.mean(sample_ins_y.charges)\n",
    "print('For yes insurance, the sample mean is {}'.format(sample_ins_y_mean))\n",
    "sample_ins_y_std_pop = np.std(sample_ins_y.charges, ddof=1)\n",
    "print('For yes insurance, the sample standard deviation (aka, with n-1) is {}'.format(sample_ins_y_std_pop))\n",
    "sample_ins_y_count = sample_ins_y.charges.count()\n",
    "print('For yes insurance, the count is {}'.format(sample_ins_y_count))\n",
    "\n",
    "sample_ins_n_mean = np.mean(sample_ins_n.charges)\n",
    "print()\n",
    "print('For no insurance, the sample mean is {}'.format(sample_ins_n_mean))\n",
    "sample_ins_n_std_pop = np.std(sample_ins_n.charges, ddof=1)\n",
    "print('For no insurance, the sample standard deviation (aka, with n-1) is {}'.format(sample_ins_n_std_pop))\n",
    "sample_ins_n_count = sample_ins_n.charges.count()\n",
    "print('For yes insurance, the count is {}'.format(sample_ins_n_count))"
   ]
  },
  {
   "cell_type": "code",
   "execution_count": 20,
   "metadata": {},
   "outputs": [
    {
     "name": "stdout",
     "output_type": "stream",
     "text": [
      "When calculated by hand:\n",
      "The pooled standard deviation is 11520.034268775256\n",
      "The pooled t-stat is 11.89329903087671\n"
     ]
    }
   ],
   "source": [
    "# Calc pooled standard deviation - manually\n",
    "n0 = sample_ins_y_count\n",
    "n1 = sample_ins_n_count\n",
    "x0 = sample_ins_y_mean\n",
    "x1 = sample_ins_n_mean\n",
    "s0 = sample_ins_y_std_pop\n",
    "s1 = sample_ins_n_std_pop\n",
    "pool_std = np.sqrt(((n0-1) * (s0 ** 2) + (n1-1) * (s1 ** 2)) / (n0 + n1 - 2))\n",
    "pool_t_stat = (x0 - x1) / ((pool_std) * np.sqrt((1/n0) + (1/n1)))\n",
    "\n",
    "print('When calculated by hand:')\n",
    "print('The pooled standard deviation is {}'.format(pool_std))\n",
    "print('The pooled t-stat is {}'.format(pool_t_stat))"
   ]
  },
  {
   "cell_type": "markdown",
   "metadata": {},
   "source": [
    "__Q:__ Perform this hypothesis test using the appropriate function from scipy"
   ]
  },
  {
   "cell_type": "code",
   "execution_count": 21,
   "metadata": {},
   "outputs": [
    {
     "name": "stdout",
     "output_type": "stream",
     "text": [
      "When calculated via scipy:\n",
      "The t test is 11.893299030876712\n",
      "The pooled t-stat is 4.461230231620717e-31\n"
     ]
    }
   ],
   "source": [
    "# Calcs from scipy\n",
    "t_test, p_val = ttest_ind_from_stats(x0, s0, n0, x1, s1, n1)\n",
    "print('When calculated via scipy:')\n",
    "print('The t test is {}'.format(t_test))\n",
    "print('The pooled t-stat is {}'.format(p_val))"
   ]
  },
  {
   "cell_type": "markdown",
   "metadata": {},
   "source": [
    "__Q:__ In the above calculations, we assumed the sample variances were equal. We may well suspect they are not (we'll explore this in another assignment). The calculation becomes a little more complicated to do by hand in this case, but we now know of a helpful function. Check the documentation for the function to tell it not to assume equal variances and perform the test again."
   ]
  },
  {
   "cell_type": "code",
   "execution_count": 17,
   "metadata": {},
   "outputs": [
    {
     "name": "stdout",
     "output_type": "stream",
     "text": [
      "When calculated via scipy and assuming un-equalvariance: \n",
      "The t test is 13.298031957975647\n",
      "The pooled t-stat is 1.1105103216309438e-37\n"
     ]
    }
   ],
   "source": [
    "# Cacl using Welch's t-test\n",
    "t_test_w, p_val_w = ttest_ind_from_stats(x0, s0, n0, x1, s1, n1, equal_var=False)\n",
    "print('When calculated via scipy and assuming un-equalvariance: ')\n",
    "print('The t test is {}'.format(t_test_w))\n",
    "print('The pooled t-stat is {}'.format(p_val_w))"
   ]
  },
  {
   "cell_type": "markdown",
   "metadata": {},
   "source": [
    "__Q:__ Conceptual question: look through the documentation for statistical test functions in scipy.stats. You'll see the above _t_-test for a sample, but can you see an equivalent one for performing a *z*-test from a sample? Comment on your answer."
   ]
  },
  {
   "cell_type": "markdown",
   "metadata": {},
   "source": [
    "* scipy.stats.zscore allows you to compute the z score of each value in the sample, relative to the sample mean and standard deviation."
   ]
  }
 ],
 "metadata": {
  "kernelspec": {
   "display_name": "Python 3",
   "language": "python",
   "name": "python3"
  },
  "language_info": {
   "codemirror_mode": {
    "name": "ipython",
    "version": 3
   },
   "file_extension": ".py",
   "mimetype": "text/x-python",
   "name": "python",
   "nbconvert_exporter": "python",
   "pygments_lexer": "ipython3",
   "version": "3.7.4"
  }
 },
 "nbformat": 4,
 "nbformat_minor": 2
}
